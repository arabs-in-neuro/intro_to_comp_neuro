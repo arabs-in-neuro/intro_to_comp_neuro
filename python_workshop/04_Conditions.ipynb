{
  "cells": [
    {
      "cell_type": "markdown",
      "metadata": {
        "colab_type": "text",
        "id": "view-in-github"
      },
      "source": [
        "<a href=\"https://colab.research.google.com/github/arabs-in-neuro/intro_to_comp_neuro/blob/main/python_workshop/04_Conditions.ipynb\" target=\"_parent\"><img src=\"https://colab.research.google.com/assets/colab-badge.svg\" alt=\"Open In Colab\"/></a>"
      ]
    },
    {
      "cell_type": "code",
      "execution_count": null,
      "metadata": {
        "id": "PIJuz18J0Ws8"
      },
      "outputs": [],
      "source": []
    },
    {
      "cell_type": "markdown",
      "metadata": {
        "id": "DPIsaWLT2eN0"
      },
      "source": [
        "# Conditions and Decision Control"
      ]
    },
    {
      "cell_type": "markdown",
      "metadata": {
        "id": "Qa-of1II2kCs"
      },
      "source": [
        "# Conditions"
      ]
    },
    {
      "cell_type": "code",
      "execution_count": null,
      "metadata": {
        "colab": {
          "base_uri": "https://localhost:8080/",
          "height": 51
        },
        "id": "Z-HUYFyX2jHw",
        "outputId": "579f65ee-7d3b-4033-9204-1de778abab02"
      },
      "outputs": [
        {
          "name": "stdout",
          "output_type": "stream",
          "text": [
            "<class 'bool'>\n",
            "<class 'bool'> None\n"
          ]
        }
      ],
      "source": [
        "#recall\n",
        "print(type(True),print(type(False)))"
      ]
    },
    {
      "cell_type": "markdown",
      "metadata": {
        "id": "PonFkM0s2s7O"
      },
      "source": [
        "### Logical Operators"
      ]
    },
    {
      "cell_type": "code",
      "execution_count": null,
      "metadata": {
        "colab": {
          "base_uri": "https://localhost:8080/",
          "height": 86
        },
        "id": "UIq_Hr2N2qbV",
        "outputId": "777aa898-c5d5-438a-c8e2-830439beb37c"
      },
      "outputs": [
        {
          "name": "stdout",
          "output_type": "stream",
          "text": [
            "True\n",
            "False\n",
            "False\n",
            "False\n"
          ]
        }
      ],
      "source": [
        "# and\n",
        "print(True and True) #True\n",
        "print(True and False)\n",
        "print(False and True)\n",
        "print(False and False)"
      ]
    },
    {
      "cell_type": "code",
      "execution_count": null,
      "metadata": {
        "colab": {
          "base_uri": "https://localhost:8080/",
          "height": 86
        },
        "id": "lB21IU1k249U",
        "outputId": "d04b64b0-b54e-4eaf-9c38-a64e7b33f78e"
      },
      "outputs": [
        {
          "name": "stdout",
          "output_type": "stream",
          "text": [
            "True\n",
            "False\n",
            "False\n",
            "False\n"
          ]
        }
      ],
      "source": [
        "#or\n",
        "print(True and True)\n",
        "print(True and False)\n",
        "print(False and True)\n",
        "print(False and False) # False"
      ]
    },
    {
      "cell_type": "code",
      "execution_count": null,
      "metadata": {
        "colab": {
          "base_uri": "https://localhost:8080/",
          "height": 51
        },
        "id": "xYOXKsvW3Cyu",
        "outputId": "a340f4de-eb65-43e0-8181-9b2a9ed6e465"
      },
      "outputs": [
        {
          "name": "stdout",
          "output_type": "stream",
          "text": [
            "False\n",
            "True\n"
          ]
        }
      ],
      "source": [
        "# not\n",
        "print(not True)\n",
        "print(not False)"
      ]
    },
    {
      "cell_type": "markdown",
      "metadata": {
        "id": "u1JcspZh3IyV"
      },
      "source": [
        "### Comparison Operators"
      ]
    },
    {
      "cell_type": "code",
      "execution_count": null,
      "metadata": {
        "colab": {
          "base_uri": "https://localhost:8080/",
          "height": 34
        },
        "id": "fqQ_9Z_z3GqX",
        "outputId": "6de4e8f1-2897-4d95-a656-f2bc56bc5d2f"
      },
      "outputs": [
        {
          "name": "stdout",
          "output_type": "stream",
          "text": [
            "False\n"
          ]
        }
      ],
      "source": [
        "#equality ==\n",
        "print(1==5)"
      ]
    },
    {
      "cell_type": "code",
      "execution_count": null,
      "metadata": {
        "colab": {
          "base_uri": "https://localhost:8080/",
          "height": 34
        },
        "id": "2K5WBFRU3PLj",
        "outputId": "ef125491-33c5-4782-ea86-ce488d5370e5"
      },
      "outputs": [
        {
          "name": "stdout",
          "output_type": "stream",
          "text": [
            "False\n"
          ]
        }
      ],
      "source": [
        "animal1=\"cat\"\n",
        "animal2=\"dog\"\n",
        "print(animal1==animal2)"
      ]
    },
    {
      "cell_type": "code",
      "execution_count": null,
      "metadata": {
        "colab": {
          "base_uri": "https://localhost:8080/",
          "height": 34
        },
        "id": "AO2KluoL3WgJ",
        "outputId": "fa7b4227-08e1-453a-cbac-47192e57604a"
      },
      "outputs": [
        {
          "name": "stdout",
          "output_type": "stream",
          "text": [
            "True\n"
          ]
        }
      ],
      "source": [
        "#not equal !=\n",
        "print(animal1 != animal2)"
      ]
    },
    {
      "cell_type": "code",
      "execution_count": null,
      "metadata": {
        "colab": {
          "base_uri": "https://localhost:8080/",
          "height": 51
        },
        "id": "I7Et1EXi3eX5",
        "outputId": "055d9251-d64c-4208-c229-97811bcda2e4"
      },
      "outputs": [
        {
          "name": "stdout",
          "output_type": "stream",
          "text": [
            "True\n",
            "False\n"
          ]
        }
      ],
      "source": [
        "# greater/less than > <\n",
        "print(12 > 4)\n",
        "print(12<4)"
      ]
    },
    {
      "cell_type": "code",
      "execution_count": null,
      "metadata": {
        "colab": {
          "base_uri": "https://localhost:8080/",
          "height": 34
        },
        "id": "ny2vuiM83mlL",
        "outputId": "7f114392-9180-4170-da5c-107acad5ac41"
      },
      "outputs": [
        {
          "name": "stdout",
          "output_type": "stream",
          "text": [
            "True\n"
          ]
        }
      ],
      "source": [
        "print(12 != 4)"
      ]
    },
    {
      "cell_type": "code",
      "execution_count": null,
      "metadata": {
        "colab": {
          "base_uri": "https://localhost:8080/",
          "height": 34
        },
        "id": "KuhtVuOS3pto",
        "outputId": "6f2a3314-10b3-4bed-a13a-42082297aad4"
      },
      "outputs": [
        {
          "name": "stdout",
          "output_type": "stream",
          "text": [
            "True\n"
          ]
        }
      ],
      "source": [
        "#greater/less than or equal  >= <=\n",
        "print(1>=1.0)"
      ]
    },
    {
      "cell_type": "code",
      "execution_count": null,
      "metadata": {
        "colab": {
          "base_uri": "https://localhost:8080/",
          "height": 34
        },
        "id": "dfL9Y6tD3x4L",
        "outputId": "ac6c034d-1bca-46d6-ea7c-0a9112d6f609"
      },
      "outputs": [
        {
          "name": "stdout",
          "output_type": "stream",
          "text": [
            "True\n"
          ]
        }
      ],
      "source": [
        "print(\"0\"<\"1\")"
      ]
    },
    {
      "cell_type": "code",
      "execution_count": null,
      "metadata": {
        "colab": {
          "base_uri": "https://localhost:8080/",
          "height": 34
        },
        "id": "_hxu2ZTY3049",
        "outputId": "7fa62375-4c12-4394-dc27-7312d69d826e"
      },
      "outputs": [
        {
          "name": "stdout",
          "output_type": "stream",
          "text": [
            "False\n"
          ]
        }
      ],
      "source": [
        "print(\"A\">\"a\") #??"
      ]
    },
    {
      "cell_type": "code",
      "execution_count": null,
      "metadata": {
        "id": "CYrJDbUf34Ze"
      },
      "outputs": [],
      "source": []
    },
    {
      "cell_type": "markdown",
      "metadata": {
        "id": "7lHPmvQU36Ku"
      },
      "source": [
        "order (from smallest) in strings\n",
        "\n",
        "1. \"0\" < \"1\" < ..\n",
        "2. \"A\" < \"B\" < ... \"Z\"\n",
        "3. \"a\" < \"b\" < ... \"z\""
      ]
    },
    {
      "cell_type": "code",
      "execution_count": null,
      "metadata": {
        "colab": {
          "base_uri": "https://localhost:8080/",
          "height": 34
        },
        "id": "qI4rgcer4IJx",
        "outputId": "a189fd7a-52cb-4065-923c-8ee242d4dbdf"
      },
      "outputs": [
        {
          "name": "stdout",
          "output_type": "stream",
          "text": [
            "True\n"
          ]
        }
      ],
      "source": [
        "print(True >= False) #? remember true is 1\n"
      ]
    },
    {
      "cell_type": "code",
      "execution_count": null,
      "metadata": {
        "id": "Rw6FcfZ34NuY"
      },
      "outputs": [],
      "source": [
        "# because true > false (1>0)"
      ]
    },
    {
      "cell_type": "markdown",
      "metadata": {
        "id": "7ZGeIIcI4TX3"
      },
      "source": [
        "### Membership Operators"
      ]
    },
    {
      "cell_type": "code",
      "execution_count": null,
      "metadata": {
        "id": "kldCgDzo4SBi"
      },
      "outputs": [],
      "source": [
        "review1=\"I like the X product\"\n",
        "review2=\"this product is SO GOOD\"\n",
        "review3=\"I recomment the product\""
      ]
    },
    {
      "cell_type": "code",
      "execution_count": null,
      "metadata": {
        "colab": {
          "base_uri": "https://localhost:8080/",
          "height": 34
        },
        "id": "YZ8rfVji4hDD",
        "outputId": "2f80a356-bbf0-4371-cfdf-7da57d88e2f1"
      },
      "outputs": [
        {
          "name": "stdout",
          "output_type": "stream",
          "text": [
            "True\n"
          ]
        }
      ],
      "source": [
        "#in\n",
        "print(\"like\" in review1)"
      ]
    },
    {
      "cell_type": "code",
      "execution_count": null,
      "metadata": {
        "colab": {
          "base_uri": "https://localhost:8080/",
          "height": 34
        },
        "id": "4wZkpzOk4mIF",
        "outputId": "3a50db45-b6b8-44ca-d6e3-51d76c5d6cf2"
      },
      "outputs": [
        {
          "name": "stdout",
          "output_type": "stream",
          "text": [
            "False\n"
          ]
        }
      ],
      "source": [
        "print('good' in review2)"
      ]
    },
    {
      "cell_type": "code",
      "execution_count": null,
      "metadata": {
        "colab": {
          "base_uri": "https://localhost:8080/",
          "height": 51
        },
        "id": "05liOOlq4q-U",
        "outputId": "c81e943c-8123-4a10-e262-c06f147f3ea5"
      },
      "outputs": [
        {
          "name": "stdout",
          "output_type": "stream",
          "text": [
            "this product is SO GOOD\n",
            "this product is so good\n"
          ]
        }
      ],
      "source": [
        "print(review2)\n",
        "print(review2.lower())"
      ]
    },
    {
      "cell_type": "code",
      "execution_count": null,
      "metadata": {
        "colab": {
          "base_uri": "https://localhost:8080/",
          "height": 34
        },
        "id": "EKc2TwoV4wit",
        "outputId": "25426f10-86e9-421d-e8c9-c5fde2e318ac"
      },
      "outputs": [
        {
          "name": "stdout",
          "output_type": "stream",
          "text": [
            "True\n"
          ]
        }
      ],
      "source": [
        "print('good' in review2.lower())"
      ]
    },
    {
      "cell_type": "code",
      "execution_count": null,
      "metadata": {
        "colab": {
          "base_uri": "https://localhost:8080/",
          "height": 34
        },
        "id": "8mBIdRUh4zbo",
        "outputId": "9b814c24-dd0c-4d33-93c8-e012cf0741b6"
      },
      "outputs": [
        {
          "name": "stdout",
          "output_type": "stream",
          "text": [
            "True\n"
          ]
        }
      ],
      "source": [
        "print('good'.upper() in review2)"
      ]
    },
    {
      "cell_type": "code",
      "execution_count": null,
      "metadata": {
        "colab": {
          "base_uri": "https://localhost:8080/",
          "height": 34
        },
        "id": "oGyDbyP645QP",
        "outputId": "dc9ec886-f3a0-4f9e-e845-33153614a3f0"
      },
      "outputs": [
        {
          "name": "stdout",
          "output_type": "stream",
          "text": [
            "True\n"
          ]
        }
      ],
      "source": [
        "# not in\n",
        "print('s' not in \"home\")"
      ]
    },
    {
      "cell_type": "code",
      "execution_count": null,
      "metadata": {
        "colab": {
          "base_uri": "https://localhost:8080/",
          "height": 34
        },
        "id": "dFJcfjK15A2O",
        "outputId": "c7e262e8-f0b0-4d50-80a1-d43660348b0a"
      },
      "outputs": [
        {
          "name": "stdout",
          "output_type": "stream",
          "text": [
            "True\n"
          ]
        }
      ],
      "source": [
        "print('s' not in \"Sarah\")"
      ]
    },
    {
      "cell_type": "code",
      "execution_count": null,
      "metadata": {
        "colab": {
          "base_uri": "https://localhost:8080/",
          "height": 34
        },
        "id": "X2OUPhXt5Ei9",
        "outputId": "91e0335e-001f-4422-dd1c-72a34c80dedd"
      },
      "outputs": [
        {
          "name": "stdout",
          "output_type": "stream",
          "text": [
            "this product is SO GOOD\n"
          ]
        }
      ],
      "source": [
        "print(review2)"
      ]
    },
    {
      "cell_type": "code",
      "execution_count": null,
      "metadata": {
        "colab": {
          "base_uri": "https://localhost:8080/",
          "height": 34
        },
        "id": "SWVXRW-Z5GfV",
        "outputId": "5baf3641-efd2-4c17-af6b-c733a3b69e8a"
      },
      "outputs": [
        {
          "name": "stdout",
          "output_type": "stream",
          "text": [
            "True\n"
          ]
        }
      ],
      "source": [
        "print('m' not in review2)"
      ]
    },
    {
      "cell_type": "markdown",
      "metadata": {
        "id": "7VWKjOxt5Lz7"
      },
      "source": [
        "### Conditions using Built-in Functions"
      ]
    },
    {
      "cell_type": "code",
      "execution_count": null,
      "metadata": {
        "colab": {
          "base_uri": "https://localhost:8080/",
          "height": 34
        },
        "id": "BrPKTjss5J4N",
        "outputId": "fc1c73fb-2ae9-4a37-cb01-bfc963381cf8"
      },
      "outputs": [
        {
          "name": "stdout",
          "output_type": "stream",
          "text": [
            "I like the X product\n"
          ]
        }
      ],
      "source": [
        "print(review1)"
      ]
    },
    {
      "cell_type": "code",
      "execution_count": null,
      "metadata": {
        "colab": {
          "base_uri": "https://localhost:8080/",
          "height": 34
        },
        "id": "uqDrsRlS5Q1I",
        "outputId": "383579c1-89b0-438e-9b4d-cf0f6dca069f"
      },
      "outputs": [
        {
          "name": "stdout",
          "output_type": "stream",
          "text": [
            "True\n"
          ]
        }
      ],
      "source": [
        "print(review1.startswith(\"I\"))"
      ]
    },
    {
      "cell_type": "code",
      "execution_count": null,
      "metadata": {
        "colab": {
          "base_uri": "https://localhost:8080/",
          "height": 34
        },
        "id": "FNrLhpJp5Vj9",
        "outputId": "371594f9-c661-4393-dff1-20fc26cbf138"
      },
      "outputs": [
        {
          "name": "stdout",
          "output_type": "stream",
          "text": [
            "False\n"
          ]
        }
      ],
      "source": [
        "print(review1.endswith(\"s\"))"
      ]
    },
    {
      "cell_type": "code",
      "execution_count": null,
      "metadata": {
        "colab": {
          "base_uri": "https://localhost:8080/",
          "height": 34
        },
        "id": "actBeMBn5ZaC",
        "outputId": "03041b1d-5387-4f9b-807f-9aafe42ed06b"
      },
      "outputs": [
        {
          "name": "stdout",
          "output_type": "stream",
          "text": [
            "True\n"
          ]
        }
      ],
      "source": [
        "print(\" \".isspace())"
      ]
    },
    {
      "cell_type": "code",
      "execution_count": null,
      "metadata": {
        "colab": {
          "base_uri": "https://localhost:8080/",
          "height": 34
        },
        "id": "FBs7Y7dW5gCR",
        "outputId": "f59364ac-c736-4ca0-ba1d-aedd577f875d"
      },
      "outputs": [
        {
          "name": "stdout",
          "output_type": "stream",
          "text": [
            "True\n"
          ]
        }
      ],
      "source": [
        "print(\"9093\".isnumeric())"
      ]
    },
    {
      "cell_type": "markdown",
      "metadata": {
        "id": "NuufEHlC-e3n"
      },
      "source": [
        "# If Statements"
      ]
    },
    {
      "cell_type": "markdown",
      "metadata": {
        "id": "SLGx48Xt5l5l"
      },
      "source": [
        "\n",
        "![](https://www.tutorialspoint.com/python/images/if_else_statement.jpg)\n",
        "\n",
        "---\n",
        "\n",
        "if syntax\n",
        "[link text](https://)\n",
        "```\n",
        "\n",
        "if condition:\n",
        "  statement(s)\n",
        "```\n",
        "\n",
        "\n",
        "\n",
        "---\n",
        "\n",
        "if and else Syntax\n",
        "\n",
        "```\n",
        "if condition:\n",
        "  statement(s)\n",
        "else:\n",
        "  statement(s)\n",
        "```\n",
        "---\n",
        "\n"
      ]
    },
    {
      "cell_type": "code",
      "execution_count": null,
      "metadata": {
        "id": "digw7-NP5kJd"
      },
      "outputs": [],
      "source": [
        "# if\n",
        "n1= 15\n",
        "n2=-5\n",
        "# test if both positive\n",
        "if n1>0 and n2>0:\n",
        "  print(\"both positives\")"
      ]
    },
    {
      "cell_type": "code",
      "execution_count": null,
      "metadata": {
        "colab": {
          "base_uri": "https://localhost:8080/",
          "height": 34
        },
        "id": "H4XtWHeI6LEq",
        "outputId": "6a20b0a6-35c8-4e1f-e843-15462d265e0a"
      },
      "outputs": [
        {
          "name": "stdout",
          "output_type": "stream",
          "text": [
            "end of the test\n"
          ]
        }
      ],
      "source": [
        "if n1>0 and n2>0:\n",
        "  print(\"both positives\")\n",
        "\n",
        "print(\"end of the test\")"
      ]
    },
    {
      "cell_type": "code",
      "execution_count": null,
      "metadata": {
        "colab": {
          "base_uri": "https://localhost:8080/",
          "height": 34
        },
        "id": "yZTdRfTF6P2v",
        "outputId": "002c7ab7-5986-4981-8615-591818ae93e8"
      },
      "outputs": [
        {
          "name": "stdout",
          "output_type": "stream",
          "text": [
            "at least one is negative\n"
          ]
        }
      ],
      "source": [
        "# use else\n",
        "\n",
        "if n1>0 and n2>0:\n",
        "  print(\"both positives\")\n",
        "else:\n",
        "  print(\"at least one is negative\")"
      ]
    },
    {
      "cell_type": "code",
      "execution_count": null,
      "metadata": {
        "colab": {
          "base_uri": "https://localhost:8080/",
          "height": 34
        },
        "id": "s984gXpl6WX6",
        "outputId": "deb1c538-333d-4f1c-bc20-22b79e953f93"
      },
      "outputs": [
        {
          "name": "stdout",
          "output_type": "stream",
          "text": [
            "enter an animal namecat\n"
          ]
        }
      ],
      "source": [
        "zoo=['lion','tiger','zibra','elephant']\n",
        "animal=input(\"enter an animal name\")"
      ]
    },
    {
      "cell_type": "code",
      "execution_count": null,
      "metadata": {
        "colab": {
          "base_uri": "https://localhost:8080/",
          "height": 34
        },
        "id": "DLh3oFOe6hfT",
        "outputId": "4dd601a8-441f-45ab-eeda-3ab86a13765d"
      },
      "outputs": [
        {
          "name": "stdout",
          "output_type": "stream",
          "text": [
            "animal cat in NOT in zoo\n"
          ]
        }
      ],
      "source": [
        "#test if it in zoo\n",
        "if animal in zoo:\n",
        "  print(\"animal {} in zoo\".format(animal))\n",
        "else:\n",
        "  print(\"animal {} in NOT in zoo\".format(animal))"
      ]
    },
    {
      "cell_type": "markdown",
      "metadata": {
        "id": "iyuiobD969iw"
      },
      "source": [
        "### Elif\n",
        "![](https://physics.nyu.edu/pine/pymanual/html/_images/flow_if_elif_else.png)\n",
        "\n",
        "---\n",
        "if elif else syntax:\n",
        "\n",
        "\n",
        "```\n",
        "if condition1:\n",
        "  statement(s)\n",
        "elif condition2:\n",
        "  statement(s)\n",
        "else:\n",
        "  statement(s)\n",
        "```\n",
        "\n"
      ]
    },
    {
      "cell_type": "code",
      "execution_count": null,
      "metadata": {
        "colab": {
          "base_uri": "https://localhost:8080/",
          "height": 34
        },
        "id": "mhoJ0h9P6zCb",
        "outputId": "4e7f38ad-5efd-4e3a-cd12-0b054a81aa5f"
      },
      "outputs": [
        {
          "name": "stdout",
          "output_type": "stream",
          "text": [
            "lion in zoo\n"
          ]
        }
      ],
      "source": [
        "# cat, dog , lion in zoo?\n",
        "a1='cat'\n",
        "a2='dog'\n",
        "a3='lion'\n",
        "if a1 in zoo:\n",
        "  print(a1, 'in zoo')\n",
        "elif a2 in zoo:\n",
        "  print(a2,'in zoo')\n",
        "elif a3 in zoo:\n",
        "  print(a3, 'in zoo')"
      ]
    },
    {
      "cell_type": "code",
      "execution_count": null,
      "metadata": {
        "colab": {
          "base_uri": "https://localhost:8080/",
          "height": 34
        },
        "id": "_nIAJ3-27gVN",
        "outputId": "2b208e10-33a8-4f23-de41-5a16e4511620"
      },
      "outputs": [
        {
          "name": "stdout",
          "output_type": "stream",
          "text": [
            "enter n3\n"
          ]
        }
      ],
      "source": [
        "# we want to test if n positive/negative or zero\n",
        "n=input('enter n')"
      ]
    },
    {
      "cell_type": "code",
      "execution_count": null,
      "metadata": {
        "colab": {
          "base_uri": "https://localhost:8080/",
          "height": 34
        },
        "id": "249-gOUQ7pzS",
        "outputId": "4f46b1f8-1ba5-46d0-ec18-48c5b14ec343"
      },
      "outputs": [
        {
          "name": "stdout",
          "output_type": "stream",
          "text": [
            "<class 'str'>\n"
          ]
        }
      ],
      "source": [
        "print(type(n))"
      ]
    },
    {
      "cell_type": "code",
      "execution_count": null,
      "metadata": {
        "colab": {
          "base_uri": "https://localhost:8080/",
          "height": 34
        },
        "id": "VXq4TLXc7tKG",
        "outputId": "a261e7b8-7d9f-4d28-8d4a-7a542f441043"
      },
      "outputs": [
        {
          "name": "stdout",
          "output_type": "stream",
          "text": [
            "enter n15\n"
          ]
        }
      ],
      "source": [
        "n=int(input('enter n'))"
      ]
    },
    {
      "cell_type": "code",
      "execution_count": null,
      "metadata": {
        "colab": {
          "base_uri": "https://localhost:8080/",
          "height": 34
        },
        "id": "U-NmkMWi7v_4",
        "outputId": "9e69f1e2-05db-414e-f206-3919b0c109de"
      },
      "outputs": [
        {
          "name": "stdout",
          "output_type": "stream",
          "text": [
            "<class 'int'>\n"
          ]
        }
      ],
      "source": [
        "print(type(n))"
      ]
    },
    {
      "cell_type": "code",
      "execution_count": null,
      "metadata": {
        "colab": {
          "base_uri": "https://localhost:8080/",
          "height": 51
        },
        "id": "wEJPIwaa7zU5",
        "outputId": "0aad59f8-7182-4f2d-c567-b02d1e0249d7"
      },
      "outputs": [
        {
          "name": "stdout",
          "output_type": "stream",
          "text": [
            "n is positive\n",
            "15\n"
          ]
        }
      ],
      "source": [
        "if n>0:\n",
        "  print(\"n is positive\")\n",
        "  print(n)\n",
        "elif n==0:\n",
        "  print(\"n is zero\")\n",
        "  print(n)\n",
        "else:\n",
        "  print(\"n is negative\",n)"
      ]
    },
    {
      "cell_type": "code",
      "execution_count": null,
      "metadata": {
        "colab": {
          "base_uri": "https://localhost:8080/",
          "height": 51
        },
        "id": "-lxbh9tb8Dpv",
        "outputId": "e4eaca8b-4c41-4580-9f92-290b65015f6c"
      },
      "outputs": [
        {
          "name": "stdout",
          "output_type": "stream",
          "text": [
            "n is > = 0\n",
            "n is positive\n"
          ]
        }
      ],
      "source": [
        "#nested if\n",
        "if n >= 0:\n",
        "  print(\"n is > = 0\")\n",
        "  if n==0:\n",
        "    print(\"n is zero\")\n",
        "  else:\n",
        "    print(\"n is positive\")\n",
        "else:\n",
        "  print(\"n is negative\")"
      ]
    },
    {
      "cell_type": "markdown",
      "metadata": {
        "id": "UKnNGMTC8vsJ"
      },
      "source": [
        "# Possible Errors"
      ]
    },
    {
      "cell_type": "code",
      "execution_count": null,
      "metadata": {
        "colab": {
          "base_uri": "https://localhost:8080/",
          "height": 164
        },
        "id": "xFBuzr5N8aNX",
        "outputId": "c520649f-ad44-4e9e-dd08-d41ee8ca2857"
      },
      "outputs": [
        {
          "ename": "NameError",
          "evalue": "ignored",
          "output_type": "error",
          "traceback": [
            "\u001b[0;31m---------------------------------------------------------------------------\u001b[0m",
            "\u001b[0;31mNameError\u001b[0m                                 Traceback (most recent call last)",
            "\u001b[0;32m<ipython-input-44-d6f700e50a15>\u001b[0m in \u001b[0;36m<module>\u001b[0;34m()\u001b[0m\n\u001b[0;32m----> 1\u001b[0;31m \u001b[0mprint\u001b[0m\u001b[0;34m(\u001b[0m\u001b[0mtrue\u001b[0m\u001b[0;34m)\u001b[0m\u001b[0;34m\u001b[0m\u001b[0;34m\u001b[0m\u001b[0m\n\u001b[0m",
            "\u001b[0;31mNameError\u001b[0m: name 'true' is not defined"
          ]
        }
      ],
      "source": [
        "print(true)"
      ]
    },
    {
      "cell_type": "code",
      "execution_count": null,
      "metadata": {
        "colab": {
          "base_uri": "https://localhost:8080/",
          "height": 164
        },
        "id": "gmuXs2kn_Vvm",
        "outputId": "1e0c0f7a-11ea-4e46-df23-e21d19b52ed3"
      },
      "outputs": [
        {
          "ename": "NameError",
          "evalue": "ignored",
          "output_type": "error",
          "traceback": [
            "\u001b[0;31m---------------------------------------------------------------------------\u001b[0m",
            "\u001b[0;31mNameError\u001b[0m                                 Traceback (most recent call last)",
            "\u001b[0;32m<ipython-input-45-fd683b6344ec>\u001b[0m in \u001b[0;36m<module>\u001b[0;34m()\u001b[0m\n\u001b[0;32m----> 1\u001b[0;31m \u001b[0mprint\u001b[0m\u001b[0;34m(\u001b[0m\u001b[0mTRUE\u001b[0m\u001b[0;34m)\u001b[0m \u001b[0;31m#True\u001b[0m\u001b[0;34m\u001b[0m\u001b[0;34m\u001b[0m\u001b[0m\n\u001b[0m",
            "\u001b[0;31mNameError\u001b[0m: name 'TRUE' is not defined"
          ]
        }
      ],
      "source": [
        "print(TRUE) #True"
      ]
    },
    {
      "cell_type": "code",
      "execution_count": null,
      "metadata": {
        "colab": {
          "base_uri": "https://localhost:8080/",
          "height": 130
        },
        "id": "E_9T5-9c_YE9",
        "outputId": "377a3b15-3e85-405d-c182-fe29d5401e51"
      },
      "outputs": [
        {
          "ename": "IndentationError",
          "evalue": "ignored",
          "output_type": "error",
          "traceback": [
            "\u001b[0;36m  File \u001b[0;32m\"<ipython-input-46-4231ca77fb4a>\"\u001b[0;36m, line \u001b[0;32m2\u001b[0m\n\u001b[0;31m    print(\"0>9\")\u001b[0m\n\u001b[0m        ^\u001b[0m\n\u001b[0;31mIndentationError\u001b[0m\u001b[0;31m:\u001b[0m expected an indented block\n"
          ]
        }
      ],
      "source": [
        "if 0>9:\n",
        "print(\"0>9\")"
      ]
    },
    {
      "cell_type": "code",
      "execution_count": null,
      "metadata": {
        "colab": {
          "base_uri": "https://localhost:8080/",
          "height": 130
        },
        "id": "rqV_K81K_fZQ",
        "outputId": "c5961216-0034-4570-9a0d-926d01e4cb2c"
      },
      "outputs": [
        {
          "ename": "SyntaxError",
          "evalue": "ignored",
          "output_type": "error",
          "traceback": [
            "\u001b[0;36m  File \u001b[0;32m\"<ipython-input-47-ef55f714d556>\"\u001b[0;36m, line \u001b[0;32m3\u001b[0m\n\u001b[0;31m    else\u001b[0m\n\u001b[0m        ^\u001b[0m\n\u001b[0;31mSyntaxError\u001b[0m\u001b[0;31m:\u001b[0m invalid syntax\n"
          ]
        }
      ],
      "source": [
        "if 0>9:\n",
        "  print(\"0>9\")\n",
        "else\n",
        "  print(\"not sure?\")"
      ]
    },
    {
      "cell_type": "code",
      "execution_count": null,
      "metadata": {
        "colab": {
          "base_uri": "https://localhost:8080/",
          "height": 130
        },
        "id": "RJ0E7l7-_o_S",
        "outputId": "60983fbf-5207-48fa-d5b5-0589d7a1ea79"
      },
      "outputs": [
        {
          "ename": "SyntaxError",
          "evalue": "ignored",
          "output_type": "error",
          "traceback": [
            "\u001b[0;36m  File \u001b[0;32m\"<ipython-input-48-d5a1d4fccba9>\"\u001b[0;36m, line \u001b[0;32m3\u001b[0m\n\u001b[0;31m    else:\u001b[0m\n\u001b[0m       ^\u001b[0m\n\u001b[0;31mSyntaxError\u001b[0m\u001b[0;31m:\u001b[0m invalid syntax\n"
          ]
        }
      ],
      "source": [
        "if 0>9:\n",
        "  print(\"0>9\")\n",
        "  else:\n",
        "  print(\"not sure?\")"
      ]
    },
    {
      "cell_type": "code",
      "execution_count": null,
      "metadata": {
        "colab": {
          "base_uri": "https://localhost:8080/",
          "height": 164
        },
        "id": "LGSKpP7G_wb1",
        "outputId": "31220f79-8946-42b0-95ad-b6a3de51d765"
      },
      "outputs": [
        {
          "ename": "AttributeError",
          "evalue": "ignored",
          "output_type": "error",
          "traceback": [
            "\u001b[0;31m---------------------------------------------------------------------------\u001b[0m",
            "\u001b[0;31mAttributeError\u001b[0m                            Traceback (most recent call last)",
            "\u001b[0;32m<ipython-input-49-9462f51155f3>\u001b[0m in \u001b[0;36m<module>\u001b[0;34m()\u001b[0m\n\u001b[0;32m----> 1\u001b[0;31m \u001b[0mprint\u001b[0m\u001b[0;34m(\u001b[0m\u001b[0;34m\"name\"\u001b[0m\u001b[0;34m.\u001b[0m\u001b[0mloer\u001b[0m\u001b[0;34m(\u001b[0m\u001b[0;34m)\u001b[0m\u001b[0;34m)\u001b[0m\u001b[0;34m\u001b[0m\u001b[0;34m\u001b[0m\u001b[0m\n\u001b[0m",
            "\u001b[0;31mAttributeError\u001b[0m: 'str' object has no attribute 'loer'"
          ]
        }
      ],
      "source": [
        "print(\"name\".loer()) #lower"
      ]
    },
    {
      "cell_type": "markdown",
      "metadata": {
        "id": "8y16-Ex0_zWT"
      },
      "source": [
        "*THNK YOUU*\n",
        "_THANK YOU_\n",
        "\n",
        "**THANK YOU**\n",
        "__THANK YOU__"
      ]
    },
    {
      "cell_type": "code",
      "execution_count": null,
      "metadata": {
        "id": "zp3ZobwJACA5"
      },
      "outputs": [],
      "source": []
    }
  ],
  "metadata": {
    "colab": {
      "authorship_tag": "ABX9TyP1B3HxjBNXFD4suULeyRzy",
      "include_colab_link": true,
      "name": "04 Conditions.ipynb",
      "provenance": []
    },
    "kernelspec": {
      "display_name": "Python 3",
      "name": "python3"
    }
  },
  "nbformat": 4,
  "nbformat_minor": 0
}
