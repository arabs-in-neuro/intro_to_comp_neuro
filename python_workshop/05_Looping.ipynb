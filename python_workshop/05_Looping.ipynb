{
  "cells": [
    {
      "cell_type": "markdown",
      "metadata": {
        "colab_type": "text",
        "id": "view-in-github"
      },
      "source": [
        "<a href=\"https://colab.research.google.com/github/arabs-in-neuro/intro_to_comp_neuro/blob/main/python_workshop/05_Looping.ipynb\" target=\"_parent\"><img src=\"https://colab.research.google.com/assets/colab-badge.svg\" alt=\"Open In Colab\"/></a>"
      ]
    },
    {
      "cell_type": "markdown",
      "metadata": {
        "id": "Arz-_tFop57W"
      },
      "source": [
        "\n",
        "![](https://www.tutorialspoint.com/batch_script/images/for_statement_list_implementations.jpg)\n"
      ]
    },
    {
      "cell_type": "markdown",
      "metadata": {
        "id": "wz61OUfLp6Fg"
      },
      "source": [
        "# for Statement"
      ]
    },
    {
      "cell_type": "markdown",
      "metadata": {
        "id": "_fp47NPnqGxs"
      },
      "source": [
        "Syntax:\n",
        "\n",
        "\n",
        "```\n",
        "for var in sequence:\n",
        "  statements\n",
        "```\n",
        "\n"
      ]
    },
    {
      "cell_type": "code",
      "execution_count": null,
      "metadata": {
        "colab": {
          "base_uri": "https://localhost:8080/",
          "height": 87
        },
        "id": "s129j9CRqGCo",
        "outputId": "94432177-d0ca-4ab6-ff3b-a8dd6a55c040"
      },
      "outputs": [
        {
          "name": "stdout",
          "output_type": "stream",
          "text": [
            "1\n",
            "2\n",
            "3\n",
            "4\n"
          ]
        }
      ],
      "source": [
        "for i in [1,2,3,4]:\n",
        "  print(i)"
      ]
    },
    {
      "cell_type": "code",
      "execution_count": null,
      "metadata": {
        "id": "7sOIqHw-qTks"
      },
      "outputs": [],
      "source": [
        "numbers={'one':'واحد', 'two':'اثنين', 'three':'ثلاثه'}\n",
        "names=['Jon','Smith',\"عمر\",\"Nora\",'Julie']"
      ]
    },
    {
      "cell_type": "code",
      "execution_count": null,
      "metadata": {
        "colab": {
          "base_uri": "https://localhost:8080/",
          "height": 69
        },
        "id": "g9wBzO9fqfJh",
        "outputId": "ad804d5b-86e9-46f4-ca31-1d15347af564"
      },
      "outputs": [
        {
          "name": "stdout",
          "output_type": "stream",
          "text": [
            "one\n",
            "two\n",
            "three\n"
          ]
        }
      ],
      "source": [
        "for i in numbers:\n",
        "  print(i) #prints only keys!"
      ]
    },
    {
      "cell_type": "code",
      "execution_count": null,
      "metadata": {
        "colab": {
          "base_uri": "https://localhost:8080/",
          "height": 104
        },
        "id": "qD5nKHJiqiUl",
        "outputId": "7ea55586-9dfd-4b3c-b59d-3b12f7a1d686"
      },
      "outputs": [
        {
          "name": "stdout",
          "output_type": "stream",
          "text": [
            "Jon\n",
            "Smith\n",
            "عمر\n",
            "Nora\n",
            "Julie\n"
          ]
        }
      ],
      "source": [
        "for x in names:\n",
        "  print(x)"
      ]
    },
    {
      "cell_type": "code",
      "execution_count": null,
      "metadata": {
        "colab": {
          "base_uri": "https://localhost:8080/",
          "height": 35
        },
        "id": "ShVEjQ9uqrA2",
        "outputId": "fe4f1caa-1d5c-460e-b77b-8a4b8570793f"
      },
      "outputs": [
        {
          "name": "stdout",
          "output_type": "stream",
          "text": [
            "Julie\n"
          ]
        }
      ],
      "source": [
        "print(x)"
      ]
    },
    {
      "cell_type": "code",
      "execution_count": null,
      "metadata": {
        "colab": {
          "base_uri": "https://localhost:8080/",
          "height": 121
        },
        "id": "7B1u878kqv1p",
        "outputId": "932a961e-a825-4998-bdf3-16bfe73114c9"
      },
      "outputs": [
        {
          "name": "stdout",
          "output_type": "stream",
          "text": [
            "{'one': 'واحد', 'two': 'اثنين', 'three': 'ثلاثه'}\n",
            "{'one': 'واحد', 'two': 'اثنين', 'three': 'ثلاثه'}\n",
            "{'one': 'واحد', 'two': 'اثنين', 'three': 'ثلاثه'}\n",
            "one\n",
            "two\n",
            "three\n"
          ]
        }
      ],
      "source": [
        "for i in numbers:\n",
        "  print(numbers)\n",
        "\n",
        "for i in numbers:\n",
        "  print(i)"
      ]
    },
    {
      "cell_type": "code",
      "execution_count": null,
      "metadata": {
        "colab": {
          "base_uri": "https://localhost:8080/",
          "height": 121
        },
        "id": "e0KbBAkeq3Bo",
        "outputId": "26483cf0-8340-4856-a0d1-8ae1e007080f"
      },
      "outputs": [
        {
          "name": "stdout",
          "output_type": "stream",
          "text": [
            "one\n",
            "two\n",
            "three\n",
            "واحد\n",
            "اثنين\n",
            "ثلاثه\n"
          ]
        }
      ],
      "source": [
        "for i in numbers.keys():\n",
        "  print(i)\n",
        "#to print values of the numbers (in arabic)\n",
        "for i in numbers.values():\n",
        "  print(i)"
      ]
    },
    {
      "cell_type": "code",
      "execution_count": null,
      "metadata": {
        "colab": {
          "base_uri": "https://localhost:8080/",
          "height": 121
        },
        "id": "alSyc1lNrDJE",
        "outputId": "04ec7396-3707-4f63-a8fe-b2ddddf1698f"
      },
      "outputs": [
        {
          "name": "stdout",
          "output_type": "stream",
          "text": [
            "0\n",
            "1\n",
            "2\n",
            "3\n",
            "4\n",
            "5\n"
          ]
        }
      ],
      "source": [
        "for i in range(6): #recall - starts at 0 ends at 5\n",
        "  print(i)"
      ]
    },
    {
      "cell_type": "code",
      "execution_count": null,
      "metadata": {
        "colab": {
          "base_uri": "https://localhost:8080/",
          "height": 35
        },
        "id": "MFveAroUrTA6",
        "outputId": "3fa4686c-e638-4a97-e9f2-3beb4a5d9d42"
      },
      "outputs": [
        {
          "name": "stdout",
          "output_type": "stream",
          "text": [
            "range(1, 4)\n"
          ]
        }
      ],
      "source": [
        "# recall:\n",
        "print(range(1,4))"
      ]
    },
    {
      "cell_type": "code",
      "execution_count": null,
      "metadata": {
        "colab": {
          "base_uri": "https://localhost:8080/",
          "height": 35
        },
        "id": "QFFEw1C_rYK5",
        "outputId": "d5b68cb1-520f-42e0-b30b-aea684756a73"
      },
      "outputs": [
        {
          "name": "stdout",
          "output_type": "stream",
          "text": [
            "[1, 2, 3]\n"
          ]
        }
      ],
      "source": [
        "# to see the actual values without for loop\n",
        "print(list(range(1,4)))"
      ]
    },
    {
      "cell_type": "markdown",
      "metadata": {
        "id": "dylSOuKertNx"
      },
      "source": [
        "## Using if inside the loop"
      ]
    },
    {
      "cell_type": "code",
      "execution_count": null,
      "metadata": {
        "colab": {
          "base_uri": "https://localhost:8080/",
          "height": 55
        },
        "id": "8z0piFvkrdgx",
        "outputId": "708a4075-cd88-456e-8f86-134e376e3550"
      },
      "outputs": [
        {
          "name": "stdout",
          "output_type": "stream",
          "text": [
            "0 2 4 6 8 10 12 14 16 18 20 22 24 26 28 30 32 34 36 38 40 42 44 46 48 50 52 54 56 58 60 62 64 66 68 70 72 74 76 78 80 82 84 86 88 90 92 94 96 98 "
          ]
        }
      ],
      "source": [
        "#let us pring even numbers only from 1 to 100\n",
        "for i in range(0,100):\n",
        "  if i%2==0:\n",
        "    print(i,end=\" \")#???"
      ]
    },
    {
      "cell_type": "code",
      "execution_count": null,
      "metadata": {
        "colab": {
          "base_uri": "https://localhost:8080/",
          "height": 72
        },
        "id": "a7Vr3_tprpLf",
        "outputId": "4e3b4ba3-ef3f-4ea6-aad7-f33f5b9e0cdf"
      },
      "outputs": [
        {
          "name": "stdout",
          "output_type": "stream",
          "text": [
            "enter n:100\n",
            "0 2 4 6 8 10 12 14 16 18 20 22 24 26 28 30 32 34 36 38 40 42 44 46 48 50 52 54 56 58 60 62 64 66 68 70 72 74 76 78 80 82 84 86 88 90 92 94 96 98 100 "
          ]
        }
      ],
      "source": [
        "#let us automate\n",
        "#user to enter the numbers n\n",
        "n=int(input(\"enter n:\"))\n",
        "\n",
        "for i in range(0,n+1):\n",
        "  if i%2==0:\n",
        "    print(i,end=\" \")#???"
      ]
    },
    {
      "cell_type": "code",
      "execution_count": null,
      "metadata": {
        "colab": {
          "base_uri": "https://localhost:8080/",
          "height": 72
        },
        "id": "v5YZIW5ZsI9V",
        "outputId": "082d8f4b-9651-4cbe-c4d0-d24040e8314c"
      },
      "outputs": [
        {
          "name": "stdout",
          "output_type": "stream",
          "text": [
            "enter n:100\n",
            "2 4 6 8 10 12 14 16 18 20 22 24 26 28 30 32 34 36 38 40 42 44 46 48 50 52 54 56 58 60 62 64 66 68 70 72 74 76 78 80 82 84 86 88 90 92 94 96 98 100 "
          ]
        }
      ],
      "source": [
        "#no zero\n",
        "n=int(input(\"enter n:\"))\n",
        "\n",
        "for i in range(1,n+1):\n",
        "  if i%2==0:\n",
        "    print(i,end=\" \")#???"
      ]
    },
    {
      "cell_type": "code",
      "execution_count": null,
      "metadata": {
        "colab": {
          "base_uri": "https://localhost:8080/",
          "height": 35
        },
        "id": "oCZM_JPMsP1_",
        "outputId": "80517d8c-12c5-45ab-beb7-ff23ce9d975a"
      },
      "outputs": [
        {
          "name": "stdout",
          "output_type": "stream",
          "text": [
            "['Jon', 'Smith', 'عمر', 'Nora', 'Julie']\n"
          ]
        }
      ],
      "source": [
        "print(names)"
      ]
    },
    {
      "cell_type": "code",
      "execution_count": null,
      "metadata": {
        "colab": {
          "base_uri": "https://localhost:8080/",
          "height": 52
        },
        "id": "zUTkBcHAsUNx",
        "outputId": "38899fb1-8e54-4322-e545-37b5e341445d"
      },
      "outputs": [
        {
          "name": "stdout",
          "output_type": "stream",
          "text": [
            "Jon\n",
            "Julie\n"
          ]
        }
      ],
      "source": [
        "for name in names:\n",
        "  if name.startswith(\"J\"): #only names that start with J\n",
        "    print(name)"
      ]
    },
    {
      "cell_type": "code",
      "execution_count": null,
      "metadata": {
        "colab": {
          "base_uri": "https://localhost:8080/",
          "height": 52
        },
        "id": "9QIR5Ud9sgi0",
        "outputId": "07da9375-b208-4ec5-ffd0-e37f3eef089f"
      },
      "outputs": [
        {
          "name": "stdout",
          "output_type": "stream",
          "text": [
            "enter n (between 0 and 200):20\n",
            "0 2 4 6 8 10 12 14 16 18 20 "
          ]
        }
      ],
      "source": [
        "# Double if!! \n",
        "#check if number between 0 and 200\n",
        "n=int(input(\"enter n (between 0 and 200):\"))\n",
        "\n",
        "for i in range(0,n+1):\n",
        "  if n>=1 and n<=200:\n",
        "    if i%2==0:\n",
        "      print(i,end=\" \")#???\n",
        "  else:\n",
        "    print(\"Please re-enter n\")"
      ]
    },
    {
      "cell_type": "markdown",
      "metadata": {
        "id": "H8xIVZVVtIB3"
      },
      "source": [
        "# Break!"
      ]
    },
    {
      "cell_type": "code",
      "execution_count": null,
      "metadata": {
        "colab": {
          "base_uri": "https://localhost:8080/",
          "height": 50
        },
        "id": "CIjGzq5xs6kr",
        "outputId": "31c904f1-793f-4335-e007-25f66b8c5466"
      },
      "outputs": [
        {
          "name": "stdout",
          "output_type": "stream",
          "text": [
            "enter n (between 0 and 200):201\n",
            "Please re-enter n\n"
          ]
        }
      ],
      "source": [
        "# Break \n",
        "#check if number between 0 and 200\n",
        "n=int(input(\"enter n (between 0 and 200):\"))\n",
        "\n",
        "for i in range(0,n+1):\n",
        "  if n>=1 and n<=200:\n",
        "    if i%2==0:\n",
        "      print(i,end=\" \")#???\n",
        "  else:\n",
        "    print(\"Please re-enter n\") #print once then break\n",
        "    break"
      ]
    },
    {
      "cell_type": "markdown",
      "metadata": {
        "id": "YWqQkTk4tZM7"
      },
      "source": [
        "# Looping through two variables"
      ]
    },
    {
      "cell_type": "code",
      "execution_count": null,
      "metadata": {
        "colab": {
          "base_uri": "https://localhost:8080/",
          "height": 34
        },
        "id": "TaGVjFxTtgcu",
        "outputId": "3f81975d-6f62-4c8e-ef50-7d6c10293510"
      },
      "outputs": [
        {
          "name": "stdout",
          "output_type": "stream",
          "text": [
            "dict_items([('one', 'واحد'), ('two', 'اثنين'), ('three', 'ثلاثه')])\n"
          ]
        }
      ],
      "source": [
        "print(numbers.items())"
      ]
    },
    {
      "cell_type": "code",
      "execution_count": null,
      "metadata": {
        "colab": {
          "base_uri": "https://localhost:8080/",
          "height": 67
        },
        "id": "NvqXIfMntSiX",
        "outputId": "b56385ce-3f3e-40ef-c0fe-cb4e03cb0a6c"
      },
      "outputs": [
        {
          "name": "stdout",
          "output_type": "stream",
          "text": [
            "one \t واحد\n",
            "two \t اثنين\n",
            "three \t ثلاثه\n"
          ]
        }
      ],
      "source": [
        "for var1,var2 in numbers.items():\n",
        "  print(var1,\"\\t\",var2)"
      ]
    },
    {
      "cell_type": "code",
      "execution_count": null,
      "metadata": {
        "colab": {
          "base_uri": "https://localhost:8080/",
          "height": 34
        },
        "id": "ZOnMCR1_t3gF",
        "outputId": "998d7f7d-226c-4909-a88b-6649dd30d7f9"
      },
      "outputs": [
        {
          "name": "stdout",
          "output_type": "stream",
          "text": [
            "['Jon', 'Smith', 'عمر', 'Nora', 'Julie']\n"
          ]
        }
      ],
      "source": [
        "print(names)"
      ]
    },
    {
      "cell_type": "code",
      "execution_count": null,
      "metadata": {
        "colab": {
          "base_uri": "https://localhost:8080/",
          "height": 101
        },
        "id": "6y46Lj6-tsK0",
        "outputId": "05cf1498-15b7-4c55-deb3-4e0b0a55f194"
      },
      "outputs": [
        {
          "name": "stdout",
          "output_type": "stream",
          "text": [
            "0    Jon\n",
            "1    Smith\n",
            "2    عمر\n",
            "3    Nora\n",
            "4    Julie\n"
          ]
        }
      ],
      "source": [
        "# another way:\n",
        "for index,j in enumerate(names):\n",
        "  print(index,\"  \",j)"
      ]
    },
    {
      "cell_type": "code",
      "execution_count": null,
      "metadata": {
        "colab": {
          "base_uri": "https://localhost:8080/",
          "height": 101
        },
        "id": "jczd27iU6Kfr",
        "outputId": "853f6fb0-ffb6-4540-dd54-18771a60695c"
      },
      "outputs": [
        {
          "name": "stdout",
          "output_type": "stream",
          "text": [
            "H\n",
            "e\n",
            "l\n",
            "l\n",
            "o\n"
          ]
        }
      ],
      "source": [
        "#You can use str\n",
        "for i in 'Hello':\n",
        "  print(i)"
      ]
    },
    {
      "cell_type": "code",
      "execution_count": null,
      "metadata": {
        "colab": {
          "base_uri": "https://localhost:8080/",
          "height": 84
        },
        "id": "pbotUvjB6xM_",
        "outputId": "9f691473-a9d0-4086-eb9f-e19425093065"
      },
      "outputs": [
        {
          "name": "stdout",
          "output_type": "stream",
          "text": [
            "H\n",
            "e\n",
            "l\n",
            "o\n"
          ]
        }
      ],
      "source": [
        "#print unique letter\n",
        "uniq=[]\n",
        "for i in 'Hello':\n",
        "  if i not in uniq:\n",
        "    print(i)\n",
        "  uniq.append(i)"
      ]
    },
    {
      "cell_type": "markdown",
      "metadata": {
        "id": "isM4sBH97Drl"
      },
      "source": [
        "# Nested For "
      ]
    },
    {
      "cell_type": "code",
      "execution_count": null,
      "metadata": {
        "colab": {
          "base_uri": "https://localhost:8080/",
          "height": 470
        },
        "id": "rP7hIwPM6_uJ",
        "outputId": "88148b09-5688-47f6-dece-201a6c4418ab"
      },
      "outputs": [
        {
          "name": "stdout",
          "output_type": "stream",
          "text": [
            "first loop no 0\n",
            "second loop no 0\n",
            "a   apple\n",
            "second loop no 1\n",
            "a   ball\n",
            "second loop no 2\n",
            "a   car\n",
            "second loop no 3\n",
            "a   duck\n",
            "first loop no 1\n",
            "second loop no 0\n",
            "b   apple\n",
            "second loop no 1\n",
            "b   ball\n",
            "second loop no 2\n",
            "b   car\n",
            "second loop no 3\n",
            "b   duck\n",
            "first loop no 2\n",
            "second loop no 0\n",
            "c   apple\n",
            "second loop no 1\n",
            "c   ball\n",
            "second loop no 2\n",
            "c   car\n",
            "second loop no 3\n",
            "c   duck\n"
          ]
        }
      ],
      "source": [
        "letters=['a','b','c']\n",
        "names=['apple','ball','car','duck']\n",
        "for i in range(len(letters)):\n",
        "  print(\"first loop no\",i)\n",
        "  for j in range(len(names)):\n",
        "    print('second loop no',j)\n",
        "    print(letters[i],\" \",names[j])\n"
      ]
    },
    {
      "cell_type": "code",
      "execution_count": null,
      "metadata": {
        "colab": {
          "base_uri": "https://localhost:8080/",
          "height": 118
        },
        "id": "mpVEavtE7dC4",
        "outputId": "414820a0-00d8-4bca-bb56-ed29c2f9244e"
      },
      "outputs": [
        {
          "name": "stdout",
          "output_type": "stream",
          "text": [
            "a   apple\n",
            "\n",
            "b   ball\n",
            "\n",
            "c   car\n",
            "\n"
          ]
        }
      ],
      "source": [
        "#print matches only\n",
        "letters=['a','b','c']\n",
        "names=['apple','ball','car','duck']\n",
        "for i in range(len(letters)):\n",
        "  #print(\"first loop no\",i)\n",
        "  for j in range(len(names)):\n",
        "    if names[j].startswith(letters[i]):\n",
        "    #print('second loop no',j)\n",
        "      print(letters[i],\" \",names[j])\n",
        "  print() #new line"
      ]
    },
    {
      "cell_type": "markdown",
      "metadata": {
        "id": "fGu-Wm7j735f"
      },
      "source": [
        "# Pass"
      ]
    },
    {
      "cell_type": "code",
      "execution_count": null,
      "metadata": {
        "colab": {
          "base_uri": "https://localhost:8080/",
          "height": 118
        },
        "id": "80a1Fnfr70lR",
        "outputId": "4a84d24e-2d92-427b-e24d-3c5c56e64ed0"
      },
      "outputs": [
        {
          "name": "stdout",
          "output_type": "stream",
          "text": [
            "a   apple\n",
            "\n",
            "b   ball\n",
            "\n",
            "c   car\n",
            "\n"
          ]
        }
      ],
      "source": [
        "#print matches only\n",
        "letters=['a','b','c']\n",
        "names=['apple','ball','car','duck']\n",
        "for i in range(len(letters)):\n",
        "  #print(\"first loop no\",i)\n",
        "  for j in range(len(names)):\n",
        "    if not names[j].startswith(letters[i]):\n",
        "      pass\n",
        "    #print('second loop no',j)\n",
        "    else:\n",
        "      print(letters[i],\" \",names[j])\n",
        "  print() #new line"
      ]
    },
    {
      "cell_type": "markdown",
      "metadata": {
        "id": "xnpgTZJs8Kze"
      },
      "source": [
        "# While loop"
      ]
    },
    {
      "cell_type": "code",
      "execution_count": null,
      "metadata": {
        "colab": {
          "base_uri": "https://localhost:8080/",
          "height": 185
        },
        "id": "nOi3Mmi577d2",
        "outputId": "0d6f0479-e892-4862-f88e-315741bc74d3"
      },
      "outputs": [
        {
          "name": "stdout",
          "output_type": "stream",
          "text": [
            "         **\n",
            "        ****\n",
            "       ******\n",
            "      ********\n",
            "     **********\n",
            "    ************\n",
            "   **************\n",
            "  ****************\n",
            " ******************\n",
            "********************\n"
          ]
        }
      ],
      "source": [
        "x=1 #must initilise\n",
        "while x<=10:\n",
        "  print(\" \"*(10-x)+\"*\"*x+\"*\"*x)\n",
        "  x=x+1 #!!!!\n"
      ]
    },
    {
      "cell_type": "markdown",
      "metadata": {
        "id": "lAC3mV7C8r6r"
      },
      "source": [
        "# Possible Errors\n",
        "\n",
        "1- the one we just saw! silent  error"
      ]
    }
  ],
  "metadata": {
    "colab": {
      "authorship_tag": "ABX9TyOJjWuufrx7i9EdYp7hUwh+",
      "collapsed_sections": [],
      "include_colab_link": true,
      "name": "05 Looping.ipynb",
      "provenance": [],
      "toc_visible": true
    },
    "kernelspec": {
      "display_name": "Python 3",
      "name": "python3"
    }
  },
  "nbformat": 4,
  "nbformat_minor": 0
}
