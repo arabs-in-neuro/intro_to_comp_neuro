{
  "cells": [
    {
      "cell_type": "markdown",
      "metadata": {
        "colab_type": "text",
        "id": "view-in-github"
      },
      "source": [
        "<a href=\"https://colab.research.google.com/github/arabs-in-neuro/intro_to_comp_neuro/blob/main/python_workshop/06_Functions.ipynb\" target=\"_parent\"><img src=\"https://colab.research.google.com/assets/colab-badge.svg\" alt=\"Open In Colab\"/></a>"
      ]
    },
    {
      "cell_type": "markdown",
      "metadata": {
        "id": "IFeZPFRZrQ0N"
      },
      "source": [
        "# Built-in Functions"
      ]
    },
    {
      "cell_type": "code",
      "execution_count": null,
      "metadata": {
        "colab": {
          "base_uri": "https://localhost:8080/",
          "height": 34
        },
        "id": "zprHsx24rTFo",
        "outputId": "ea51d57c-4e09-46df-e54e-1ca8f74a3e77"
      },
      "outputs": [
        {
          "name": "stdout",
          "output_type": "stream",
          "text": [
            "test\n"
          ]
        }
      ],
      "source": [
        "print(\"test\") # you call the funtion with name()\n",
        "#\"test\" is called argument"
      ]
    },
    {
      "cell_type": "code",
      "execution_count": null,
      "metadata": {
        "colab": {
          "base_uri": "https://localhost:8080/",
          "height": 86
        },
        "id": "14hZyLQ-rdMp",
        "outputId": "25b4e8ff-7a08-4b5f-ef7d-40d438f04817"
      },
      "outputs": [
        {
          "name": "stdout",
          "output_type": "stream",
          "text": [
            "e\n",
            "T\n",
            "<class 'tuple'>\n",
            "5\n"
          ]
        }
      ],
      "source": [
        "#recall\n",
        "print(min('test'))\n",
        "print(min(\"Test\"))\n",
        "print(type((3,4,5)))\n",
        "print(max(3,4,5))"
      ]
    },
    {
      "cell_type": "code",
      "execution_count": null,
      "metadata": {
        "colab": {
          "base_uri": "https://localhost:8080/",
          "height": 223
        },
        "id": "iZVaJokDrnzd",
        "outputId": "f40807c8-b39f-49c3-e2d9-be7b64305cdb"
      },
      "outputs": [
        {
          "name": "stdout",
          "output_type": "stream",
          "text": [
            "Help on built-in function print in module builtins:\n",
            "\n",
            "print(...)\n",
            "    print(value, ..., sep=' ', end='\\n', file=sys.stdout, flush=False)\n",
            "    \n",
            "    Prints the values to a stream, or to sys.stdout by default.\n",
            "    Optional keyword arguments:\n",
            "    file:  a file-like object (stream); defaults to the current sys.stdout.\n",
            "    sep:   string inserted between values, default a space.\n",
            "    end:   string appended after the last value, default a newline.\n",
            "    flush: whether to forcibly flush the stream.\n",
            "\n"
          ]
        }
      ],
      "source": [
        "# getting help with built-in func\n",
        "help(print)"
      ]
    },
    {
      "cell_type": "code",
      "execution_count": null,
      "metadata": {
        "id": "2F-lN4murufL"
      },
      "outputs": [],
      "source": [
        "#in an ipynb\n",
        "?print"
      ]
    },
    {
      "cell_type": "code",
      "execution_count": null,
      "metadata": {
        "colab": {
          "base_uri": "https://localhost:8080/",
          "height": 103
        },
        "id": "pduXCqnhr0rw",
        "outputId": "1befe1f4-8241-493d-9dbb-d2cf7df012c8"
      },
      "outputs": [
        {
          "name": "stdout",
          "output_type": "stream",
          "text": [
            "Return the sum of a 'start' value (default: 0) plus an iterable of numbers\n",
            "\n",
            "When the iterable is empty, return the start value.\n",
            "This function is intended specifically for use with numeric values and may\n",
            "reject non-numeric types.\n"
          ]
        }
      ],
      "source": [
        "#another way\n",
        "print(sum.__doc__) "
      ]
    },
    {
      "cell_type": "markdown",
      "metadata": {
        "id": "FA2BWP7qsAxd"
      },
      "source": [
        "# Define own Functions"
      ]
    },
    {
      "cell_type": "markdown",
      "metadata": {
        "id": "30ICA3USsGmn"
      },
      "source": [
        "```\n",
        "def fun_name(args):\n",
        "  statement(s)\n",
        "  return(some_value)\n",
        "```"
      ]
    },
    {
      "cell_type": "code",
      "execution_count": null,
      "metadata": {
        "colab": {
          "base_uri": "https://localhost:8080/",
          "height": 34
        },
        "id": "ymjK1W4Nr973",
        "outputId": "2c1bdf0a-8b1b-405d-e5c5-0d8f1cb971fd"
      },
      "outputs": [
        {
          "name": "stdout",
          "output_type": "stream",
          "text": [
            "10\n"
          ]
        }
      ],
      "source": [
        "print(sum([1,2,3,4])) #recall"
      ]
    },
    {
      "cell_type": "code",
      "execution_count": null,
      "metadata": {
        "id": "PR_C0YFGsQnS"
      },
      "outputs": [],
      "source": [
        "#let us do the same\n",
        "def cal_sum(value):\n",
        "  summ=0\n",
        "  for i in value:\n",
        "    summ=summ+i\n",
        "  return(summ)"
      ]
    },
    {
      "cell_type": "code",
      "execution_count": null,
      "metadata": {
        "colab": {
          "base_uri": "https://localhost:8080/",
          "height": 34
        },
        "id": "88LCwZ14six7",
        "outputId": "d08891c4-2300-4f5a-cad0-ca77caa7b5eb"
      },
      "outputs": [
        {
          "name": "stdout",
          "output_type": "stream",
          "text": [
            "10\n"
          ]
        }
      ],
      "source": [
        "print(cal_sum([1,2,3,4]))"
      ]
    },
    {
      "cell_type": "code",
      "execution_count": null,
      "metadata": {
        "colab": {
          "base_uri": "https://localhost:8080/",
          "height": 34
        },
        "id": "CZrGuWftsn_d",
        "outputId": "0d8d4544-1486-4bf4-9dbd-4d7af5e5193f"
      },
      "outputs": [
        {
          "name": "stdout",
          "output_type": "stream",
          "text": [
            "True\n"
          ]
        }
      ],
      "source": [
        "print(cal_sum([1,2,3,4])==sum([1,2,3,4]))"
      ]
    },
    {
      "cell_type": "markdown",
      "metadata": {
        "id": "11hCUPqDsyFs"
      },
      "source": [
        "## Return multiple Values"
      ]
    },
    {
      "cell_type": "code",
      "execution_count": null,
      "metadata": {
        "colab": {
          "base_uri": "https://localhost:8080/",
          "height": 34
        },
        "id": "hkl1IkSIsvP3",
        "outputId": "0afd9866-0c64-4d87-91f3-4221f96f5329"
      },
      "outputs": [
        {
          "name": "stdout",
          "output_type": "stream",
          "text": [
            "['hi', 'there']\n"
          ]
        }
      ],
      "source": [
        "#split()\n",
        "print('hi there'.split())"
      ]
    },
    {
      "cell_type": "code",
      "execution_count": null,
      "metadata": {
        "colab": {
          "base_uri": "https://localhost:8080/",
          "height": 182
        },
        "id": "QHkzj1jXs6BO",
        "outputId": "a1cc5f6b-ed20-430a-d37f-6cf51adca7e1"
      },
      "outputs": [
        {
          "ename": "NameError",
          "evalue": "ignored",
          "output_type": "error",
          "traceback": [
            "\u001b[0;31m---------------------------------------------------------------------------\u001b[0m",
            "\u001b[0;31mNameError\u001b[0m                                 Traceback (most recent call last)",
            "\u001b[0;32m<ipython-input-12-4dbdbe9d71e5>\u001b[0m in \u001b[0;36m<module>\u001b[0;34m()\u001b[0m\n\u001b[1;32m      1\u001b[0m \u001b[0;31m# help?\u001b[0m\u001b[0;34m\u001b[0m\u001b[0;34m\u001b[0m\u001b[0;34m\u001b[0m\u001b[0m\n\u001b[0;32m----> 2\u001b[0;31m \u001b[0mhelp\u001b[0m\u001b[0;34m(\u001b[0m\u001b[0msplit\u001b[0m\u001b[0;34m)\u001b[0m\u001b[0;34m\u001b[0m\u001b[0;34m\u001b[0m\u001b[0m\n\u001b[0m",
            "\u001b[0;31mNameError\u001b[0m: name 'split' is not defined"
          ]
        }
      ],
      "source": [
        "# help?\n",
        "help(split)"
      ]
    },
    {
      "cell_type": "code",
      "execution_count": null,
      "metadata": {
        "colab": {
          "base_uri": "https://localhost:8080/",
          "height": 206
        },
        "id": "MRDpHtYhs-2p",
        "outputId": "d9251a4b-1af2-429a-c002-728aa4c8f486"
      },
      "outputs": [
        {
          "name": "stdout",
          "output_type": "stream",
          "text": [
            "Help on method_descriptor:\n",
            "\n",
            "split(...)\n",
            "    S.split(sep=None, maxsplit=-1) -> list of strings\n",
            "    \n",
            "    Return a list of the words in S, using sep as the\n",
            "    delimiter string.  If maxsplit is given, at most maxsplit\n",
            "    splits are done. If sep is not specified or is None, any\n",
            "    whitespace string is a separator and empty strings are\n",
            "    removed from the result.\n",
            "\n"
          ]
        }
      ],
      "source": [
        "#because it's a string attribute\n",
        "help(str.split)"
      ]
    },
    {
      "cell_type": "code",
      "execution_count": null,
      "metadata": {
        "id": "ADRzHfBNtGTN"
      },
      "outputs": [],
      "source": [
        "def sep_name(name):\n",
        "  return(name.split())"
      ]
    },
    {
      "cell_type": "code",
      "execution_count": null,
      "metadata": {
        "colab": {
          "base_uri": "https://localhost:8080/",
          "height": 34
        },
        "id": "87XgJ7JFtPwR",
        "outputId": "ee01a0eb-6e6e-4ac8-e7c3-fe2d74ba168d"
      },
      "outputs": [
        {
          "name": "stdout",
          "output_type": "stream",
          "text": [
            "['This', 'is', 'a', 'test!!']\n"
          ]
        }
      ],
      "source": [
        "print(sep_name(\"This is a test!!\"))"
      ]
    },
    {
      "cell_type": "markdown",
      "metadata": {
        "id": "-1ygY1hdtXTO"
      },
      "source": [
        "# Retun different Values w/Conditions"
      ]
    },
    {
      "cell_type": "code",
      "execution_count": null,
      "metadata": {
        "id": "yBaD2tx7tT4Y"
      },
      "outputs": [],
      "source": [
        "def is_even(number):\n",
        "  if number%2 ==0:\n",
        "    return True\n",
        "  else:\n",
        "    return False"
      ]
    },
    {
      "cell_type": "code",
      "execution_count": null,
      "metadata": {
        "colab": {
          "base_uri": "https://localhost:8080/",
          "height": 34
        },
        "id": "3nWXsEbhtjeC",
        "outputId": "4055ab2f-f93b-4cba-a0b6-2eb631909914"
      },
      "outputs": [
        {
          "name": "stdout",
          "output_type": "stream",
          "text": [
            "True\n"
          ]
        }
      ],
      "source": [
        "print(is_even(8))"
      ]
    },
    {
      "cell_type": "code",
      "execution_count": null,
      "metadata": {
        "colab": {
          "base_uri": "https://localhost:8080/",
          "height": 34
        },
        "id": "Ii999fKCtmpY",
        "outputId": "78f4f404-221e-46a1-95f4-66f0ea494d76"
      },
      "outputs": [
        {
          "name": "stdout",
          "output_type": "stream",
          "text": [
            "False\n"
          ]
        }
      ],
      "source": [
        "print(is_even(9))"
      ]
    },
    {
      "cell_type": "markdown",
      "metadata": {
        "id": "x0COIGA4tqd6"
      },
      "source": [
        "## Add Help/Doc"
      ]
    },
    {
      "cell_type": "code",
      "execution_count": null,
      "metadata": {
        "colab": {
          "base_uri": "https://localhost:8080/",
          "height": 120
        },
        "id": "WM5GQU9eto94",
        "outputId": "4285bf66-fc8f-4431-a1f0-bd0b814bbffc"
      },
      "outputs": [
        {
          "name": "stdout",
          "output_type": "stream",
          "text": [
            "Help on function cal_sum in module __main__:\n",
            "\n",
            "cal_sum(value)\n",
            "    #let us do the same\n",
            "\n",
            "None\n"
          ]
        }
      ],
      "source": [
        "print(help(cal_sum))"
      ]
    },
    {
      "cell_type": "markdown",
      "metadata": {
        "id": "BEyuaI2wt5qk"
      },
      "source": [
        "```\n",
        "def fun_name(args):\n",
        "''' This function does so and so\n",
        "args:\n",
        "n: describe its type'''\n",
        "  statement(s)\n",
        "  return(some_value)\n",
        "```"
      ]
    },
    {
      "cell_type": "code",
      "execution_count": null,
      "metadata": {
        "colab": {
          "base_uri": "https://localhost:8080/",
          "height": 171
        },
        "id": "EpiRNEUdtwRr",
        "outputId": "66f3bfdb-e17f-4bb8-d4c2-6697a6b2817b"
      },
      "outputs": [
        {
          "name": "stdout",
          "output_type": "stream",
          "text": [
            "Help on built-in function sum in module builtins:\n",
            "\n",
            "sum(iterable, start=0, /)\n",
            "    Return the sum of a 'start' value (default: 0) plus an iterable of numbers\n",
            "    \n",
            "    When the iterable is empty, return the start value.\n",
            "    This function is intended specifically for use with numeric values and may\n",
            "    reject non-numeric types.\n",
            "\n"
          ]
        }
      ],
      "source": [
        "help(sum)"
      ]
    },
    {
      "cell_type": "code",
      "execution_count": null,
      "metadata": {
        "id": "Auz4pgMeuAfy"
      },
      "outputs": [],
      "source": [
        "# Let us redefine cal_sum\n",
        "def cal_sum(value):\n",
        "  '''cal_sum(value) is a function that adds up values of an array-like value\n",
        "  args:\n",
        "  value: a list-like value/variable of numeric values\n",
        "  returns:\n",
        "  sum of the values\n",
        "  '''\n",
        "  summ=0\n",
        "  for i in value:\n",
        "    summ+=i\n",
        "  return(summ)\n",
        "  "
      ]
    },
    {
      "cell_type": "code",
      "execution_count": null,
      "metadata": {
        "colab": {
          "base_uri": "https://localhost:8080/",
          "height": 188
        },
        "id": "CbccLMLeudMI",
        "outputId": "6406a7e4-2d1e-4400-afbc-a10bc4058267"
      },
      "outputs": [
        {
          "name": "stdout",
          "output_type": "stream",
          "text": [
            "Help on function cal_sum in module __main__:\n",
            "\n",
            "cal_sum(value)\n",
            "    cal_sum(value) is a function that adds up values of an array-like value\n",
            "    args:\n",
            "    value: a list-like value/variable of numeric values\n",
            "    returns:\n",
            "    sum of the values\n",
            "\n",
            "None\n"
          ]
        }
      ],
      "source": [
        "print(help(cal_sum))"
      ]
    },
    {
      "cell_type": "markdown",
      "metadata": {
        "id": "O39gKjhIukVQ"
      },
      "source": [
        "# Functions without return"
      ]
    },
    {
      "cell_type": "code",
      "execution_count": null,
      "metadata": {
        "id": "F1pI5ekKuhQ9"
      },
      "outputs": [],
      "source": [
        "def no_return(): #no neeed to take a value for this \n",
        "  print(\"Hi there\")"
      ]
    },
    {
      "cell_type": "code",
      "execution_count": null,
      "metadata": {
        "colab": {
          "base_uri": "https://localhost:8080/",
          "height": 34
        },
        "id": "AkyPTGKauuEn",
        "outputId": "694d88ad-41e5-4d53-d600-0254dd356699"
      },
      "outputs": [
        {
          "name": "stdout",
          "output_type": "stream",
          "text": [
            "Hi there\n"
          ]
        }
      ],
      "source": [
        "#call it\n",
        "no_return() #no args passed"
      ]
    },
    {
      "cell_type": "code",
      "execution_count": null,
      "metadata": {
        "colab": {
          "base_uri": "https://localhost:8080/",
          "height": 51
        },
        "id": "Jdb_h8LDuxUM",
        "outputId": "26869f32-a518-4679-ec7a-1802be5d00e1"
      },
      "outputs": [
        {
          "name": "stdout",
          "output_type": "stream",
          "text": [
            "Hi there\n",
            "None\n"
          ]
        }
      ],
      "source": [
        "print(no_return())"
      ]
    },
    {
      "cell_type": "code",
      "execution_count": null,
      "metadata": {
        "colab": {
          "base_uri": "https://localhost:8080/",
          "height": 51
        },
        "id": "KcnCu0k9u0nE",
        "outputId": "8fdf8230-16a6-45a3-9178-80c21f704948"
      },
      "outputs": [
        {
          "name": "stdout",
          "output_type": "stream",
          "text": [
            "Hi there\n",
            "None\n"
          ]
        }
      ],
      "source": [
        "x = no_return()\n",
        "print(x)"
      ]
    },
    {
      "cell_type": "code",
      "execution_count": null,
      "metadata": {
        "colab": {
          "base_uri": "https://localhost:8080/",
          "height": 34
        },
        "id": "wAzVIirPu4vK",
        "outputId": "84202fa1-b684-4f7d-a06a-562e6b416755"
      },
      "outputs": [
        {
          "name": "stdout",
          "output_type": "stream",
          "text": [
            "Print this test\n"
          ]
        }
      ],
      "source": [
        "#abother ex with args\n",
        "def print_me(value):\n",
        "  print(value)\n",
        "\n",
        "print_me('Print this test')"
      ]
    },
    {
      "cell_type": "markdown",
      "metadata": {
        "id": "W1HWGvFuvGoP"
      },
      "source": [
        "# Choosing names"
      ]
    },
    {
      "cell_type": "code",
      "execution_count": null,
      "metadata": {
        "colab": {
          "base_uri": "https://localhost:8080/",
          "height": 54
        },
        "id": "hRUxrkAPvE0e",
        "outputId": "f3b7c311-9387-429e-ac48-bf734f822100"
      },
      "outputs": [
        {
          "name": "stdout",
          "output_type": "stream",
          "text": [
            "['ArithmeticError', 'AssertionError', 'AttributeError', 'BaseException', 'BlockingIOError', 'BrokenPipeError', 'BufferError', 'BytesWarning', 'ChildProcessError', 'ConnectionAbortedError', 'ConnectionError', 'ConnectionRefusedError', 'ConnectionResetError', 'DeprecationWarning', 'EOFError', 'Ellipsis', 'EnvironmentError', 'Exception', 'False', 'FileExistsError', 'FileNotFoundError', 'FloatingPointError', 'FutureWarning', 'GeneratorExit', 'IOError', 'ImportError', 'ImportWarning', 'IndentationError', 'IndexError', 'InterruptedError', 'IsADirectoryError', 'KeyError', 'KeyboardInterrupt', 'LookupError', 'MemoryError', 'ModuleNotFoundError', 'NameError', 'None', 'NotADirectoryError', 'NotImplemented', 'NotImplementedError', 'OSError', 'OverflowError', 'PendingDeprecationWarning', 'PermissionError', 'ProcessLookupError', 'RecursionError', 'ReferenceError', 'ResourceWarning', 'RuntimeError', 'RuntimeWarning', 'StopAsyncIteration', 'StopIteration', 'SyntaxError', 'SyntaxWarning', 'SystemError', 'SystemExit', 'TabError', 'TimeoutError', 'True', 'TypeError', 'UnboundLocalError', 'UnicodeDecodeError', 'UnicodeEncodeError', 'UnicodeError', 'UnicodeTranslateError', 'UnicodeWarning', 'UserWarning', 'ValueError', 'Warning', 'ZeroDivisionError', '__IPYTHON__', '__build_class__', '__debug__', '__doc__', '__import__', '__loader__', '__name__', '__package__', '__spec__', 'abs', 'all', 'any', 'ascii', 'bin', 'bool', 'bytearray', 'bytes', 'callable', 'chr', 'classmethod', 'compile', 'complex', 'copyright', 'credits', 'delattr', 'dict', 'dir', 'display', 'divmod', 'dreload', 'enumerate', 'eval', 'exec', 'filter', 'float', 'format', 'frozenset', 'get_ipython', 'getattr', 'globals', 'hasattr', 'hash', 'help', 'hex', 'id', 'input', 'int', 'isinstance', 'issubclass', 'iter', 'len', 'license', 'list', 'locals', 'map', 'max', 'memoryview', 'min', 'next', 'object', 'oct', 'open', 'ord', 'pow', 'print', 'property', 'range', 'repr', 'reversed', 'round', 'set', 'setattr', 'slice', 'sorted', 'staticmethod', 'str', 'sum', 'super', 'tuple', 'type', 'vars', 'zip']\n"
          ]
        }
      ],
      "source": [
        "# Do not use keywords\n",
        "print(dir(__builtins__))"
      ]
    },
    {
      "cell_type": "code",
      "execution_count": null,
      "metadata": {
        "colab": {
          "base_uri": "https://localhost:8080/",
          "height": 130
        },
        "id": "WMLH9UhevPyn",
        "outputId": "a235e8cb-5f8a-4282-c1c0-9bea95969c96"
      },
      "outputs": [
        {
          "ename": "SyntaxError",
          "evalue": "ignored",
          "output_type": "error",
          "traceback": [
            "\u001b[0;36m  File \u001b[0;32m\"<ipython-input-33-4e456a247328>\"\u001b[0;36m, line \u001b[0;32m2\u001b[0m\n\u001b[0;31m    3sum = \"test\"\u001b[0m\n\u001b[0m       ^\u001b[0m\n\u001b[0;31mSyntaxError\u001b[0m\u001b[0;31m:\u001b[0m invalid syntax\n"
          ]
        }
      ],
      "source": [
        "# do not startwith a number\n",
        "3sum = \"test\""
      ]
    },
    {
      "cell_type": "code",
      "execution_count": null,
      "metadata": {
        "id": "_5Nb8SsjvaRI"
      },
      "outputs": [],
      "source": [
        "#only use \"_\" but not special cahr\n",
        "number=5\n",
        "sum_3 = 3+number"
      ]
    },
    {
      "cell_type": "code",
      "execution_count": null,
      "metadata": {
        "id": "uXa7pDYGvicW"
      },
      "outputs": [],
      "source": [
        "#you can start with _\n",
        "_sum = 'test'"
      ]
    },
    {
      "cell_type": "code",
      "execution_count": null,
      "metadata": {
        "colab": {
          "base_uri": "https://localhost:8080/",
          "height": 34
        },
        "id": "ju82e43yvliU",
        "outputId": "32d3fbd1-5a1b-46ad-f275-0f54ddff887e"
      },
      "outputs": [
        {
          "data": {
            "text/plain": [
              "True"
            ]
          },
          "execution_count": 36,
          "metadata": {
            "tags": []
          },
          "output_type": "execute_result"
        }
      ],
      "source": [
        "#alway test if a name is keyword\n",
        "\"sum\" in dir(__builtin__)"
      ]
    },
    {
      "cell_type": "markdown",
      "metadata": {
        "id": "JITuSYwCvtnE"
      },
      "source": [
        "# Assigning Functions to a variable"
      ]
    },
    {
      "cell_type": "code",
      "execution_count": null,
      "metadata": {
        "colab": {
          "base_uri": "https://localhost:8080/",
          "height": 34
        },
        "id": "TWn3XZJlvsF1",
        "outputId": "3caefb0d-2b9e-4ec5-fde2-022b0c0c2a7d"
      },
      "outputs": [
        {
          "name": "stdout",
          "output_type": "stream",
          "text": [
            "4\n"
          ]
        }
      ],
      "source": [
        "# in case the fun returns something!! \n",
        "x= cal_sum([1,1,1,1])\n",
        "print(x)"
      ]
    },
    {
      "cell_type": "code",
      "execution_count": null,
      "metadata": {
        "colab": {
          "base_uri": "https://localhost:8080/",
          "height": 34
        },
        "id": "7tdQCHrBv5bq",
        "outputId": "3589471e-8ead-4646-f21a-29323f98c8ee"
      },
      "outputs": [
        {
          "data": {
            "text/plain": [
              "['1', '2']"
            ]
          },
          "execution_count": 38,
          "metadata": {
            "tags": []
          },
          "output_type": "execute_result"
        }
      ],
      "source": [
        "#recall\n",
        "sep_name('1 2')\n"
      ]
    },
    {
      "cell_type": "code",
      "execution_count": null,
      "metadata": {
        "colab": {
          "base_uri": "https://localhost:8080/",
          "height": 34
        },
        "id": "5pv2HfYCv-QS",
        "outputId": "6561445e-741f-4aeb-dc3c-b32f3bb0d604"
      },
      "outputs": [
        {
          "name": "stdout",
          "output_type": "stream",
          "text": [
            "Mohamed \t Ali\n"
          ]
        }
      ],
      "source": [
        "#for multiple values\n",
        "#either\n",
        "x,y = sep_name('Mohamed Ali')\n",
        "print(x,\"\\t\",y)"
      ]
    },
    {
      "cell_type": "code",
      "execution_count": null,
      "metadata": {
        "id": "gDbP_HgQwJEV"
      },
      "outputs": [],
      "source": [
        "name,_ = sep_name(\"Barak Obama\")"
      ]
    },
    {
      "cell_type": "code",
      "execution_count": null,
      "metadata": {
        "colab": {
          "base_uri": "https://localhost:8080/",
          "height": 34
        },
        "id": "IuFvrK5uwRyD",
        "outputId": "b610f98c-b4a5-4dab-daf1-000f22286f11"
      },
      "outputs": [
        {
          "name": "stdout",
          "output_type": "stream",
          "text": [
            "Barak\n"
          ]
        }
      ],
      "source": [
        "print(name)"
      ]
    },
    {
      "cell_type": "code",
      "execution_count": null,
      "metadata": {
        "colab": {
          "base_uri": "https://localhost:8080/",
          "height": 34
        },
        "id": "7VH0MrcIwTNL",
        "outputId": "156989a9-1b5f-46b5-bb0a-e00fdded4fae"
      },
      "outputs": [
        {
          "name": "stdout",
          "output_type": "stream",
          "text": [
            "['Donald', 'Trump']\n"
          ]
        }
      ],
      "source": [
        "#another way\n",
        "names = sep_name(\"Donald Trump\")\n",
        "print(names)"
      ]
    },
    {
      "cell_type": "code",
      "execution_count": null,
      "metadata": {
        "colab": {
          "base_uri": "https://localhost:8080/",
          "height": 34
        },
        "id": "VttntoxvwaD2",
        "outputId": "f5548159-815e-4bd2-bce7-c6403ec8ac78"
      },
      "outputs": [
        {
          "name": "stdout",
          "output_type": "stream",
          "text": [
            "Trump\n"
          ]
        }
      ],
      "source": [
        "print(names[-1])"
      ]
    },
    {
      "cell_type": "markdown",
      "metadata": {
        "id": "kxqlO_bNweq6"
      },
      "source": [
        "#Optional Arguments"
      ]
    },
    {
      "cell_type": "code",
      "execution_count": null,
      "metadata": {
        "id": "2kzitQg4wcWz"
      },
      "outputs": [],
      "source": [
        "def Divide(a,b=1): #b is optional and has defualt value\n",
        "  return(a/b)"
      ]
    },
    {
      "cell_type": "code",
      "execution_count": null,
      "metadata": {
        "colab": {
          "base_uri": "https://localhost:8080/",
          "height": 34
        },
        "id": "hTpHIq2Zwn20",
        "outputId": "77023ca7-94d3-4716-9d12-3315a5c196b0"
      },
      "outputs": [
        {
          "name": "stdout",
          "output_type": "stream",
          "text": [
            "3.0\n"
          ]
        }
      ],
      "source": [
        "print(Divide(3))"
      ]
    },
    {
      "cell_type": "code",
      "execution_count": null,
      "metadata": {
        "colab": {
          "base_uri": "https://localhost:8080/",
          "height": 34
        },
        "id": "U_nlJlEFwpqn",
        "outputId": "48bfb47a-c00f-475a-db5e-c8ddafb3bb68"
      },
      "outputs": [
        {
          "name": "stdout",
          "output_type": "stream",
          "text": [
            "1.0\n"
          ]
        }
      ],
      "source": [
        "print(Divide(3,b=3))"
      ]
    },
    {
      "cell_type": "code",
      "execution_count": null,
      "metadata": {
        "colab": {
          "base_uri": "https://localhost:8080/",
          "height": 34
        },
        "id": "UqH2D49Iwunb",
        "outputId": "f5d7d928-bda6-4492-a788-f03e8bceacb7"
      },
      "outputs": [
        {
          "name": "stdout",
          "output_type": "stream",
          "text": [
            "3.0\n"
          ]
        }
      ],
      "source": [
        "print(Divide(a=6,b=2))"
      ]
    },
    {
      "cell_type": "code",
      "execution_count": null,
      "metadata": {
        "colab": {
          "base_uri": "https://localhost:8080/",
          "height": 34
        },
        "id": "I0MGDhx6wytd",
        "outputId": "f642a469-bca1-40ff-89e0-10436da4a95a"
      },
      "outputs": [
        {
          "name": "stdout",
          "output_type": "stream",
          "text": [
            "0.3333333333333333\n"
          ]
        }
      ],
      "source": [
        "print(Divide(1,3))"
      ]
    },
    {
      "cell_type": "code",
      "execution_count": null,
      "metadata": {
        "id": "crvhCNn8w2Bl"
      },
      "outputs": [],
      "source": [
        "#if you want all args tp be keywords args:\n",
        "def Multiply(*,a,b):\n",
        "  print(a*b)"
      ]
    },
    {
      "cell_type": "code",
      "execution_count": null,
      "metadata": {
        "colab": {
          "base_uri": "https://localhost:8080/",
          "height": 34
        },
        "id": "7S30LYs6w-ll",
        "outputId": "d64a3d8d-bb06-4da8-8fca-a2afdc6a551e"
      },
      "outputs": [
        {
          "name": "stdout",
          "output_type": "stream",
          "text": [
            "4\n"
          ]
        }
      ],
      "source": [
        "Multiply(a=2,b=2)"
      ]
    },
    {
      "cell_type": "markdown",
      "metadata": {
        "id": "BlzGNVXIxGPX"
      },
      "source": [
        "# Composing Functions"
      ]
    },
    {
      "cell_type": "code",
      "execution_count": null,
      "metadata": {
        "colab": {
          "base_uri": "https://localhost:8080/",
          "height": 34
        },
        "id": "x1J78P1YxChR",
        "outputId": "10e40dbf-a4cb-4de0-ac8c-a1e514dea4fe"
      },
      "outputs": [
        {
          "name": "stdout",
          "output_type": "stream",
          "text": [
            "<class 'str'>\n"
          ]
        }
      ],
      "source": [
        "#recall\n",
        "print(type(\"test\"))"
      ]
    },
    {
      "cell_type": "code",
      "execution_count": null,
      "metadata": {
        "colab": {
          "base_uri": "https://localhost:8080/",
          "height": 34
        },
        "id": "pplG0vAhxK_P",
        "outputId": "5075e760-d1a2-4cdf-8d11-26e8b0ab2397"
      },
      "outputs": [
        {
          "name": "stdout",
          "output_type": "stream",
          "text": [
            "3\n"
          ]
        }
      ],
      "source": [
        "print(min(range(3,7)))"
      ]
    },
    {
      "cell_type": "code",
      "execution_count": null,
      "metadata": {
        "id": "dK3p2hCrxNZ3"
      },
      "outputs": [],
      "source": [
        "def cal_mean(List):\n",
        "  '''calculates mean of a list-like value'''\n",
        "  out = cal_sum(List)/len(List)\n",
        "  return(out)"
      ]
    },
    {
      "cell_type": "code",
      "execution_count": null,
      "metadata": {
        "colab": {
          "base_uri": "https://localhost:8080/",
          "height": 34
        },
        "id": "iiN22r8Xxi0A",
        "outputId": "671250ff-aec2-4e8d-dd83-e052771e68fd"
      },
      "outputs": [
        {
          "name": "stdout",
          "output_type": "stream",
          "text": [
            "1.0\n"
          ]
        }
      ],
      "source": [
        "print(cal_mean([1,1,1,1]))"
      ]
    },
    {
      "cell_type": "markdown",
      "metadata": {
        "id": "108Agm2axpFk"
      },
      "source": [
        "#Possible Errors"
      ]
    },
    {
      "cell_type": "code",
      "execution_count": null,
      "metadata": {
        "colab": {
          "base_uri": "https://localhost:8080/",
          "height": 164
        },
        "id": "rrkYXloJxnNV",
        "outputId": "4f9be415-cfe7-4053-a491-622e7edfa323"
      },
      "outputs": [
        {
          "ename": "TypeError",
          "evalue": "ignored",
          "output_type": "error",
          "traceback": [
            "\u001b[0;31m---------------------------------------------------------------------------\u001b[0m",
            "\u001b[0;31mTypeError\u001b[0m                                 Traceback (most recent call last)",
            "\u001b[0;32m<ipython-input-58-4b024e1cce18>\u001b[0m in \u001b[0;36m<module>\u001b[0;34m()\u001b[0m\n\u001b[0;32m----> 1\u001b[0;31m \u001b[0mprint\u001b[0m\u001b[0;34m(\u001b[0m\u001b[0mDivide\u001b[0m\u001b[0;34m(\u001b[0m\u001b[0;34m)\u001b[0m\u001b[0;34m)\u001b[0m\u001b[0;34m\u001b[0m\u001b[0;34m\u001b[0m\u001b[0m\n\u001b[0m",
            "\u001b[0;31mTypeError\u001b[0m: Divide() missing 1 required positional argument: 'a'"
          ]
        }
      ],
      "source": [
        "print(Divide())"
      ]
    },
    {
      "cell_type": "code",
      "execution_count": null,
      "metadata": {
        "colab": {
          "base_uri": "https://localhost:8080/",
          "height": 188
        },
        "id": "a43D-H9bxsMr",
        "outputId": "8196ae5c-bdab-426f-9840-3143f89d8acf"
      },
      "outputs": [
        {
          "name": "stdout",
          "output_type": "stream",
          "text": [
            "Help on built-in function sum in module builtins:\n",
            "\n",
            "sum(iterable, start=0, /)\n",
            "    Return the sum of a 'start' value (default: 0) plus an iterable of numbers\n",
            "    \n",
            "    When the iterable is empty, return the start value.\n",
            "    This function is intended specifically for use with numeric values and may\n",
            "    reject non-numeric types.\n",
            "\n",
            "None\n"
          ]
        }
      ],
      "source": [
        "print(help(sum))"
      ]
    },
    {
      "cell_type": "code",
      "execution_count": null,
      "metadata": {
        "colab": {
          "base_uri": "https://localhost:8080/",
          "height": 164
        },
        "id": "bMZItpBWxxPU",
        "outputId": "5b069d3f-6854-4096-a16f-4500b2ca5ca2"
      },
      "outputs": [
        {
          "ename": "TypeError",
          "evalue": "ignored",
          "output_type": "error",
          "traceback": [
            "\u001b[0;31m---------------------------------------------------------------------------\u001b[0m",
            "\u001b[0;31mTypeError\u001b[0m                                 Traceback (most recent call last)",
            "\u001b[0;32m<ipython-input-60-0e8974ef40bb>\u001b[0m in \u001b[0;36m<module>\u001b[0;34m()\u001b[0m\n\u001b[0;32m----> 1\u001b[0;31m \u001b[0mprint\u001b[0m\u001b[0;34m(\u001b[0m\u001b[0msum\u001b[0m\u001b[0;34m(\u001b[0m\u001b[0;34m[\u001b[0m\u001b[0;36m1\u001b[0m\u001b[0;34m,\u001b[0m\u001b[0;36m1\u001b[0m\u001b[0;34m,\u001b[0m\u001b[0;36m1\u001b[0m\u001b[0;34m,\u001b[0m\u001b[0;36m1\u001b[0m\u001b[0;34m]\u001b[0m\u001b[0;34m,\u001b[0m\u001b[0mstrat\u001b[0m\u001b[0;34m=\u001b[0m\u001b[0;36m3\u001b[0m\u001b[0;34m)\u001b[0m\u001b[0;34m)\u001b[0m\u001b[0;34m\u001b[0m\u001b[0;34m\u001b[0m\u001b[0m\n\u001b[0m",
            "\u001b[0;31mTypeError\u001b[0m: sum() takes no keyword arguments"
          ]
        }
      ],
      "source": [
        "print(sum([1,1,1,1],strat=3))"
      ]
    },
    {
      "cell_type": "code",
      "execution_count": null,
      "metadata": {
        "colab": {
          "base_uri": "https://localhost:8080/",
          "height": 34
        },
        "id": "tbd5o2I9x4nb",
        "outputId": "8a8659c4-154a-48ae-ae72-6b8b3a91c98d"
      },
      "outputs": [
        {
          "name": "stdout",
          "output_type": "stream",
          "text": [
            "7\n"
          ]
        }
      ],
      "source": [
        "print(sum([1,1,1,1],3))"
      ]
    },
    {
      "cell_type": "code",
      "execution_count": null,
      "metadata": {
        "colab": {
          "base_uri": "https://localhost:8080/",
          "height": 164
        },
        "id": "OtVyDXu6x9Al",
        "outputId": "62ba022c-0625-4ff1-c697-f20f4d67e3b1"
      },
      "outputs": [
        {
          "ename": "TypeError",
          "evalue": "ignored",
          "output_type": "error",
          "traceback": [
            "\u001b[0;31m---------------------------------------------------------------------------\u001b[0m",
            "\u001b[0;31mTypeError\u001b[0m                                 Traceback (most recent call last)",
            "\u001b[0;32m<ipython-input-62-f5800081e90b>\u001b[0m in \u001b[0;36m<module>\u001b[0;34m()\u001b[0m\n\u001b[0;32m----> 1\u001b[0;31m \u001b[0mprint\u001b[0m\u001b[0;34m(\u001b[0m\u001b[0mMultiply\u001b[0m\u001b[0;34m(\u001b[0m\u001b[0;36m1\u001b[0m\u001b[0;34m,\u001b[0m\u001b[0;36m2\u001b[0m\u001b[0;34m)\u001b[0m\u001b[0;34m)\u001b[0m\u001b[0;34m\u001b[0m\u001b[0;34m\u001b[0m\u001b[0m\n\u001b[0m",
            "\u001b[0;31mTypeError\u001b[0m: Multiply() takes 0 positional arguments but 2 were given"
          ]
        }
      ],
      "source": [
        "print(Multiply(1,2))"
      ]
    },
    {
      "cell_type": "code",
      "execution_count": null,
      "metadata": {
        "colab": {
          "base_uri": "https://localhost:8080/",
          "height": 120
        },
        "id": "DkV8IhgbyChq",
        "outputId": "18f8cb0c-964d-47af-d03b-173a54af9cf6"
      },
      "outputs": [
        {
          "name": "stdout",
          "output_type": "stream",
          "text": [
            "Help on function Multiply in module __main__:\n",
            "\n",
            "Multiply(*, a, b)\n",
            "    #if you want all args tp be keywords args:\n",
            "\n",
            "None\n"
          ]
        }
      ],
      "source": [
        "print(help(Multiply))"
      ]
    },
    {
      "cell_type": "code",
      "execution_count": null,
      "metadata": {
        "id": "Mi4ewhqzyFhs"
      },
      "outputs": [],
      "source": []
    }
  ],
  "metadata": {
    "colab": {
      "authorship_tag": "ABX9TyOlpHpj42b70QYogk4N2MXa",
      "include_colab_link": true,
      "name": "06 Functions.ipynb",
      "provenance": [],
      "toc_visible": true
    },
    "kernelspec": {
      "display_name": "Python 3",
      "name": "python3"
    }
  },
  "nbformat": 4,
  "nbformat_minor": 0
}
