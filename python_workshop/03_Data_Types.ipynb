{
  "cells": [
    {
      "cell_type": "markdown",
      "metadata": {
        "colab_type": "text",
        "id": "view-in-github"
      },
      "source": [
        "<a href=\"https://colab.research.google.com/github/arabs-in-neuro/intro_to_comp_neuro/blob/main/python_workshop/03_Data_Types.ipynb\" target=\"_parent\"><img src=\"https://colab.research.google.com/assets/colab-badge.svg\" alt=\"Open In Colab\"/></a>"
      ]
    },
    {
      "cell_type": "markdown",
      "metadata": {
        "id": "rzCnw6yiSgC3"
      },
      "source": [
        "# Sequence Data Types"
      ]
    },
    {
      "cell_type": "markdown",
      "metadata": {
        "id": "fPZ7UtaeSlFR"
      },
      "source": [
        "## Lists"
      ]
    },
    {
      "cell_type": "code",
      "execution_count": null,
      "metadata": {
        "colab": {
          "base_uri": "https://localhost:8080/",
          "height": 34
        },
        "id": "ZygDiD88SkhZ",
        "outputId": "ac05fb20-0670-4fb0-ae18-07ac27103d64"
      },
      "outputs": [
        {
          "name": "stdout",
          "output_type": "stream",
          "text": [
            "<class 'list'>\n"
          ]
        }
      ],
      "source": [
        "print(type([1,2,3,4]))"
      ]
    },
    {
      "cell_type": "markdown",
      "metadata": {
        "id": "dy6eQMrjStBR"
      },
      "source": [
        "### Slicing and indexing"
      ]
    },
    {
      "cell_type": "code",
      "execution_count": null,
      "metadata": {
        "id": "eHBzR0EWSpLQ"
      },
      "outputs": [],
      "source": [
        "x=[1,2,3,4,5]\n",
        "alphabets=['a','b','c']\n",
        "mixed=[True,x,10,'a']"
      ]
    },
    {
      "cell_type": "code",
      "execution_count": null,
      "metadata": {
        "colab": {
          "base_uri": "https://localhost:8080/",
          "height": 50
        },
        "id": "bW8KoQTtS3S6",
        "outputId": "ef01d59e-d635-452d-c140-f6dff958cc5a"
      },
      "outputs": [
        {
          "name": "stdout",
          "output_type": "stream",
          "text": [
            "[1, 2, 3, 4, 5]\n",
            "[True, [1, 2, 3, 4, 5], 10, 'a']\n"
          ]
        }
      ],
      "source": [
        "print(x)\n",
        "print(mixed)"
      ]
    },
    {
      "cell_type": "code",
      "execution_count": null,
      "metadata": {
        "colab": {
          "base_uri": "https://localhost:8080/",
          "height": 34
        },
        "id": "Yh-b2soQS5Ri",
        "outputId": "96d17af1-c1a9-4038-c013-d562c71ec761"
      },
      "outputs": [
        {
          "name": "stdout",
          "output_type": "stream",
          "text": [
            "1\n"
          ]
        }
      ],
      "source": [
        "print(x[0]) #indexing starts from zero"
      ]
    },
    {
      "cell_type": "code",
      "execution_count": null,
      "metadata": {
        "colab": {
          "base_uri": "https://localhost:8080/",
          "height": 34
        },
        "id": "r9KZbtWJS-7K",
        "outputId": "4e36a7b8-66ac-4478-bb5f-e7f94673f25d"
      },
      "outputs": [
        {
          "name": "stdout",
          "output_type": "stream",
          "text": [
            "[2, 3, 4]\n"
          ]
        }
      ],
      "source": [
        "print(x[1:4]) #starts at 1 and ends at index 3 (not 4!)"
      ]
    },
    {
      "cell_type": "code",
      "execution_count": null,
      "metadata": {
        "colab": {
          "base_uri": "https://localhost:8080/",
          "height": 34
        },
        "id": "KDHemAddTFkg",
        "outputId": "bd71480c-3128-4c6c-85f7-fe81323c9443"
      },
      "outputs": [
        {
          "name": "stdout",
          "output_type": "stream",
          "text": [
            "[1, 2, 3, 4, 5]\n"
          ]
        }
      ],
      "source": [
        "print(x[:]) #all"
      ]
    },
    {
      "cell_type": "code",
      "execution_count": null,
      "metadata": {
        "colab": {
          "base_uri": "https://localhost:8080/",
          "height": 34
        },
        "id": "b_faCSWiTG8G",
        "outputId": "15f6cca9-3f1d-49e8-d5e8-17d67ab9e62f"
      },
      "outputs": [
        {
          "name": "stdout",
          "output_type": "stream",
          "text": [
            "[1, 2, 3, 4, 5]\n"
          ]
        }
      ],
      "source": [
        "print(x[::1]) #no skip"
      ]
    },
    {
      "cell_type": "code",
      "execution_count": null,
      "metadata": {
        "colab": {
          "base_uri": "https://localhost:8080/",
          "height": 34
        },
        "id": "v3OfStCUTL0J",
        "outputId": "158fad65-428f-44fe-c78a-dc86e50c5547"
      },
      "outputs": [
        {
          "name": "stdout",
          "output_type": "stream",
          "text": [
            "[5, 4, 3, 2, 1]\n"
          ]
        }
      ],
      "source": [
        "print(x[::-1]) #no skip from the end (reverse)"
      ]
    },
    {
      "cell_type": "code",
      "execution_count": null,
      "metadata": {
        "colab": {
          "base_uri": "https://localhost:8080/",
          "height": 50
        },
        "id": "cTIb79M5TQlp",
        "outputId": "1a494388-bc42-470c-d944-aa523d5008b9"
      },
      "outputs": [
        {
          "name": "stdout",
          "output_type": "stream",
          "text": [
            "[1, 3, 5]\n",
            "[1, 4]\n"
          ]
        }
      ],
      "source": [
        "print(x[::2]) #on skip\n",
        "print(x[::3]) #two..."
      ]
    },
    {
      "cell_type": "markdown",
      "metadata": {
        "id": "uM12qVm0TYPV"
      },
      "source": [
        "### List functions"
      ]
    },
    {
      "cell_type": "code",
      "execution_count": null,
      "metadata": {
        "colab": {
          "base_uri": "https://localhost:8080/",
          "height": 50
        },
        "id": "AVJXTWV7TV9p",
        "outputId": "d2862e6a-eed3-492e-f757-519bf219b95e"
      },
      "outputs": [
        {
          "name": "stdout",
          "output_type": "stream",
          "text": [
            "[]\n",
            "[]\n"
          ]
        }
      ],
      "source": [
        "#to define a new EMPTY list\n",
        "z=list()\n",
        "print(z)\n",
        "#or\n",
        "z=list()\n",
        "print(z)"
      ]
    },
    {
      "cell_type": "code",
      "execution_count": null,
      "metadata": {
        "colab": {
          "base_uri": "https://localhost:8080/",
          "height": 50
        },
        "id": "e0TUhsmNTjPj",
        "outputId": "687f3785-fe5c-4676-b39e-7b64e7481f69"
      },
      "outputs": [
        {
          "name": "stdout",
          "output_type": "stream",
          "text": [
            "[1, 2, 3, 4, 5]\n",
            "None\n"
          ]
        }
      ],
      "source": [
        "print(x)\n",
        "print(x.reverse()) #CAREFUL"
      ]
    },
    {
      "cell_type": "code",
      "execution_count": null,
      "metadata": {
        "colab": {
          "base_uri": "https://localhost:8080/",
          "height": 34
        },
        "id": "BfRYJVnaTpkt",
        "outputId": "24932f6a-087c-4047-a0be-9a0b3eb1d51c"
      },
      "outputs": [
        {
          "name": "stdout",
          "output_type": "stream",
          "text": [
            "[5, 4, 3, 2, 1]\n"
          ]
        }
      ],
      "source": [
        "print(x)"
      ]
    },
    {
      "cell_type": "code",
      "execution_count": null,
      "metadata": {
        "colab": {
          "base_uri": "https://localhost:8080/",
          "height": 34
        },
        "id": "oDgDbRJuTqy4",
        "outputId": "f8f08214-d28c-4182-e3fe-6c51cde4d225"
      },
      "outputs": [
        {
          "name": "stdout",
          "output_type": "stream",
          "text": [
            "[1, 2, 3, 4, 5]\n"
          ]
        }
      ],
      "source": [
        "#go back to x:\n",
        "x.reverse()\n",
        "print(x)"
      ]
    },
    {
      "cell_type": "code",
      "execution_count": null,
      "metadata": {
        "colab": {
          "base_uri": "https://localhost:8080/",
          "height": 34
        },
        "id": "ivKBMWGZTxDY",
        "outputId": "f0d911d8-b600-46ed-d421-72b4a1525a47"
      },
      "outputs": [
        {
          "name": "stdout",
          "output_type": "stream",
          "text": [
            "[2, 4, 6, 8, 10]\n"
          ]
        }
      ],
      "source": [
        "y=[6,2,10,8,4]\n",
        "print(sorted(y))\n"
      ]
    },
    {
      "cell_type": "code",
      "execution_count": null,
      "metadata": {
        "colab": {
          "base_uri": "https://localhost:8080/",
          "height": 34
        },
        "id": "1dgx0vz_T5l4",
        "outputId": "a60b0f6e-c5f5-4de0-c227-d09e5320ab4e"
      },
      "outputs": [
        {
          "name": "stdout",
          "output_type": "stream",
          "text": [
            "[6, 2, 10, 8, 4]\n"
          ]
        }
      ],
      "source": [
        "print(y) #y did not change"
      ]
    },
    {
      "cell_type": "code",
      "execution_count": null,
      "metadata": {
        "colab": {
          "base_uri": "https://localhost:8080/",
          "height": 34
        },
        "id": "FfXaCfobT8wp",
        "outputId": "a56e8f61-e1c2-454c-b79b-7822ddb3c5f2"
      },
      "outputs": [
        {
          "name": "stdout",
          "output_type": "stream",
          "text": [
            "[2, 4, 6, 8, 10]\n"
          ]
        }
      ],
      "source": [
        "y.sort() #sort is another fun but it changes y\n",
        "print(y)"
      ]
    },
    {
      "cell_type": "code",
      "execution_count": null,
      "metadata": {
        "colab": {
          "base_uri": "https://localhost:8080/",
          "height": 67
        },
        "id": "hMyohdWjUFEp",
        "outputId": "18f22853-b31f-41e7-cf00-df01312881ca"
      },
      "outputs": [
        {
          "name": "stdout",
          "output_type": "stream",
          "text": [
            "10\n",
            "2\n",
            "30\n"
          ]
        }
      ],
      "source": [
        "#some stats\n",
        "print(max(y))\n",
        "print(min(y))\n",
        "print(sum(y))"
      ]
    },
    {
      "cell_type": "code",
      "execution_count": null,
      "metadata": {
        "colab": {
          "base_uri": "https://localhost:8080/",
          "height": 50
        },
        "id": "Mbhgqe0hUpt1",
        "outputId": "d098972c-cf2d-43c3-eb92-ef763227fdf2"
      },
      "outputs": [
        {
          "name": "stdout",
          "output_type": "stream",
          "text": [
            "[2, 4, 6, 8, 10]\n",
            "[2, 4, 6, 8, 10, 2, 4, 6, 8, 10]\n"
          ]
        }
      ],
      "source": [
        "print(y)\n",
        "#let us try maths operators\n",
        "print(y+y)"
      ]
    },
    {
      "cell_type": "code",
      "execution_count": null,
      "metadata": {
        "colab": {
          "base_uri": "https://localhost:8080/",
          "height": 34
        },
        "id": "DH7L6-MXUyNq",
        "outputId": "31d5ff11-556f-4b7e-bb00-a8561fc9b4d1"
      },
      "outputs": [
        {
          "name": "stdout",
          "output_type": "stream",
          "text": [
            "[2, 4, 6, 8, 10, 1, 2, 3, 4, 5]\n"
          ]
        }
      ],
      "source": [
        "print(y+x)"
      ]
    },
    {
      "cell_type": "code",
      "execution_count": null,
      "metadata": {
        "colab": {
          "base_uri": "https://localhost:8080/",
          "height": 50
        },
        "id": "C4LddxvWU0zy",
        "outputId": "9dcd1371-5a20-4ee8-e5bc-a4df1cebe080"
      },
      "outputs": [
        {
          "name": "stdout",
          "output_type": "stream",
          "text": [
            "[1, 2, 3, 4, 5, 1, 2, 3, 4, 5, 1, 2, 3, 4, 5, 1, 2, 3, 4, 5, 1, 2, 3, 4, 5]\n",
            "[1, 2, 3, 4, 5, 1, 2, 3, 4, 5]\n"
          ]
        }
      ],
      "source": [
        "print(x*5)\n",
        "print(x*2)"
      ]
    },
    {
      "cell_type": "code",
      "execution_count": null,
      "metadata": {
        "colab": {
          "base_uri": "https://localhost:8080/",
          "height": 34
        },
        "id": "OSDuxLG4U4wZ",
        "outputId": "2a2c1313-0ce3-4fff-f0f1-5260d20506e3"
      },
      "outputs": [
        {
          "name": "stdout",
          "output_type": "stream",
          "text": [
            "1\n"
          ]
        }
      ],
      "source": [
        "print((x+y).count(8))"
      ]
    },
    {
      "cell_type": "code",
      "execution_count": null,
      "metadata": {
        "colab": {
          "base_uri": "https://localhost:8080/",
          "height": 34
        },
        "id": "HqtCI5HMVCnQ",
        "outputId": "b61645b5-2c46-42bf-8c96-d810ed2ac133"
      },
      "outputs": [
        {
          "name": "stdout",
          "output_type": "stream",
          "text": [
            "2\n"
          ]
        }
      ],
      "source": [
        "print((x+y).count(4))"
      ]
    },
    {
      "cell_type": "code",
      "execution_count": null,
      "metadata": {
        "colab": {
          "base_uri": "https://localhost:8080/",
          "height": 34
        },
        "id": "koV0-5yJVJ7X",
        "outputId": "b8181e81-dc28-44b4-f7a9-949105044848"
      },
      "outputs": [
        {
          "name": "stdout",
          "output_type": "stream",
          "text": [
            "1\n"
          ]
        }
      ],
      "source": [
        "print((x+y).index(2)) #find 2"
      ]
    },
    {
      "cell_type": "code",
      "execution_count": null,
      "metadata": {
        "colab": {
          "base_uri": "https://localhost:8080/",
          "height": 34
        },
        "id": "2smTdefUVQI1",
        "outputId": "16700843-b0fe-4477-cfd7-04b7b69a0d4f"
      },
      "outputs": [
        {
          "name": "stdout",
          "output_type": "stream",
          "text": [
            "2\n"
          ]
        }
      ],
      "source": [
        "print((x+y)[1])"
      ]
    },
    {
      "cell_type": "code",
      "execution_count": null,
      "metadata": {
        "colab": {
          "base_uri": "https://localhost:8080/",
          "height": 34
        },
        "id": "VmjA3WESVS5K",
        "outputId": "a3fc9ebc-9c5a-40b7-c1fb-b3fc0e569c67"
      },
      "outputs": [
        {
          "name": "stdout",
          "output_type": "stream",
          "text": [
            "5\n"
          ]
        }
      ],
      "source": [
        "print((x+y).index(2,2)) #find 2 second occurance (stat from the second index)"
      ]
    },
    {
      "cell_type": "code",
      "execution_count": null,
      "metadata": {
        "colab": {
          "base_uri": "https://localhost:8080/",
          "height": 34
        },
        "id": "vW9ElPBqVdIf",
        "outputId": "74534fc4-e20b-4a2f-ee82-16882080f6bf"
      },
      "outputs": [
        {
          "name": "stdout",
          "output_type": "stream",
          "text": [
            "2\n"
          ]
        }
      ],
      "source": [
        "print((x+y)[5])"
      ]
    },
    {
      "cell_type": "code",
      "execution_count": null,
      "metadata": {
        "colab": {
          "base_uri": "https://localhost:8080/",
          "height": 34
        },
        "id": "_Purk7XOViyV",
        "outputId": "bd35dcc9-2d12-4b80-ec77-914b06a35ac5"
      },
      "outputs": [
        {
          "name": "stdout",
          "output_type": "stream",
          "text": [
            "[1, 2, 3, 4, 5, 2, 4, 6, 8, 10]\n"
          ]
        }
      ],
      "source": [
        "print(x+y)"
      ]
    },
    {
      "cell_type": "markdown",
      "metadata": {
        "id": "x6X-zE8VV2Oq"
      },
      "source": [
        "### Updating lists"
      ]
    },
    {
      "cell_type": "code",
      "execution_count": null,
      "metadata": {
        "colab": {
          "base_uri": "https://localhost:8080/",
          "height": 67
        },
        "id": "T7CzPPdxVkfz",
        "outputId": "cf2d4a52-dc55-47b2-c622-a590fd203cf8"
      },
      "outputs": [
        {
          "name": "stdout",
          "output_type": "stream",
          "text": [
            "[1, 2, 3, 4, 5]\n",
            "None\n",
            "[1, 2, 3, 4, 5, 100]\n"
          ]
        }
      ],
      "source": [
        "print(x)\n",
        "#add element to the end of x\n",
        "print(x.append(100))\n",
        "print(x)"
      ]
    },
    {
      "cell_type": "code",
      "execution_count": null,
      "metadata": {
        "colab": {
          "base_uri": "https://localhost:8080/",
          "height": 67
        },
        "id": "H7nPT43XWAVw",
        "outputId": "631192d9-8562-4859-c816-23ed85d0df60"
      },
      "outputs": [
        {
          "name": "stdout",
          "output_type": "stream",
          "text": [
            "[2, 4, 6, 8, 10]\n",
            "None\n",
            "[2, 3, 4, 6, 8, 10]\n"
          ]
        }
      ],
      "source": [
        "print(y)\n",
        "print(y.insert(1,3)) #add 3 to index 1 in y\n",
        "print(y)"
      ]
    },
    {
      "cell_type": "code",
      "execution_count": null,
      "metadata": {
        "colab": {
          "base_uri": "https://localhost:8080/",
          "height": 50
        },
        "id": "G2Y4_f9fWJ-S",
        "outputId": "e37972b8-fc33-477c-cb62-7e17110f8149"
      },
      "outputs": [
        {
          "name": "stdout",
          "output_type": "stream",
          "text": [
            "None\n",
            "[2, 3, 4, 6, 8, 10, 13, 14, 15]\n"
          ]
        }
      ],
      "source": [
        "#add list to y\n",
        "print(y.extend([13,14,15]))\n",
        "print(y)"
      ]
    },
    {
      "cell_type": "code",
      "execution_count": null,
      "metadata": {
        "colab": {
          "base_uri": "https://localhost:8080/",
          "height": 50
        },
        "id": "3SxFSGm-WRO-",
        "outputId": "8cbc3463-cab8-4ec5-9a95-3d289c89ee4d"
      },
      "outputs": [
        {
          "name": "stdout",
          "output_type": "stream",
          "text": [
            "[2, 3, 4, 6, 8, 10, 13, 14, 15]\n",
            "[2, 3, 4, 6, 10, 13, 14, 15]\n"
          ]
        }
      ],
      "source": [
        "print(y)\n",
        "#remove 8\n",
        "y.remove(8)\n",
        "print(y)"
      ]
    },
    {
      "cell_type": "code",
      "execution_count": null,
      "metadata": {
        "colab": {
          "base_uri": "https://localhost:8080/",
          "height": 50
        },
        "id": "ITcomZBCWaAM",
        "outputId": "00c316bc-c304-4cf9-eeb7-0791c73aea53"
      },
      "outputs": [
        {
          "name": "stdout",
          "output_type": "stream",
          "text": [
            "[2, 3, 4, 6, 10, 13, 14, 15]\n"
          ]
        },
        {
          "data": {
            "text/plain": [
              "2"
            ]
          },
          "execution_count": 34,
          "metadata": {
            "tags": []
          },
          "output_type": "execute_result"
        }
      ],
      "source": [
        "#remove using index rather\n",
        "print(y)\n",
        "y.pop(0)"
      ]
    },
    {
      "cell_type": "code",
      "execution_count": null,
      "metadata": {
        "colab": {
          "base_uri": "https://localhost:8080/",
          "height": 34
        },
        "id": "ipA_3AZMWhBy",
        "outputId": "fbb69cbd-1da0-4b13-ae4d-d52d7e56c48c"
      },
      "outputs": [
        {
          "name": "stdout",
          "output_type": "stream",
          "text": [
            "[3, 4, 6, 10, 13, 14, 15]\n"
          ]
        }
      ],
      "source": [
        "print(y)"
      ]
    },
    {
      "cell_type": "code",
      "execution_count": null,
      "metadata": {
        "colab": {
          "base_uri": "https://localhost:8080/",
          "height": 50
        },
        "id": "Y4SgkLHaWj6H",
        "outputId": "6ff92415-7188-4317-94f8-0a9a34b1598e"
      },
      "outputs": [
        {
          "name": "stdout",
          "output_type": "stream",
          "text": [
            "[3, 4, 6, 10, 13, 14, 15]\n",
            "[4, 6, 10, 13, 14, 15]\n"
          ]
        }
      ],
      "source": [
        "print(y)\n",
        "del y[0] #remove the 1st elemet\n",
        "print(y)"
      ]
    },
    {
      "cell_type": "code",
      "execution_count": null,
      "metadata": {
        "colab": {
          "base_uri": "https://localhost:8080/",
          "height": 195
        },
        "id": "ZHze8D4rWsIO",
        "outputId": "ef681691-b91d-464d-f0ec-75ca9e6047c6"
      },
      "outputs": [
        {
          "ename": "NameError",
          "evalue": "ignored",
          "output_type": "error",
          "traceback": [
            "\u001b[0;31m---------------------------------------------------------------------------\u001b[0m",
            "\u001b[0;31mNameError\u001b[0m                                 Traceback (most recent call last)",
            "\u001b[0;32m<ipython-input-37-b0e95da409e5>\u001b[0m in \u001b[0;36m<module>\u001b[0;34m()\u001b[0m\n\u001b[1;32m      1\u001b[0m \u001b[0;31m#to delete y!\u001b[0m\u001b[0;34m\u001b[0m\u001b[0;34m\u001b[0m\u001b[0;34m\u001b[0m\u001b[0m\n\u001b[1;32m      2\u001b[0m \u001b[0;32mdel\u001b[0m \u001b[0my\u001b[0m\u001b[0;34m\u001b[0m\u001b[0;34m\u001b[0m\u001b[0m\n\u001b[0;32m----> 3\u001b[0;31m \u001b[0mprint\u001b[0m\u001b[0;34m(\u001b[0m\u001b[0my\u001b[0m\u001b[0;34m)\u001b[0m\u001b[0;34m\u001b[0m\u001b[0;34m\u001b[0m\u001b[0m\n\u001b[0m",
            "\u001b[0;31mNameError\u001b[0m: name 'y' is not defined"
          ]
        }
      ],
      "source": [
        "#to delete y!\n",
        "del y\n",
        "print(y)"
      ]
    },
    {
      "cell_type": "code",
      "execution_count": null,
      "metadata": {
        "colab": {
          "base_uri": "https://localhost:8080/",
          "height": 50
        },
        "id": "jy2_VIeyWwQQ",
        "outputId": "a872e0f1-a960-45b8-af17-6912b13e00ef"
      },
      "outputs": [
        {
          "name": "stdout",
          "output_type": "stream",
          "text": [
            "[1, 2, 3, 4, 5, 100]\n",
            "[1, 100, 3, 4, 5, 100]\n"
          ]
        }
      ],
      "source": [
        "#to change an element\n",
        "print(x)\n",
        "x[1]  = 100\n",
        "print(x)"
      ]
    },
    {
      "cell_type": "markdown",
      "metadata": {
        "id": "71ed7-HMXK15"
      },
      "source": [
        "## Range"
      ]
    },
    {
      "cell_type": "code",
      "execution_count": null,
      "metadata": {
        "colab": {
          "base_uri": "https://localhost:8080/",
          "height": 34
        },
        "id": "ozmAuG9eXIFC",
        "outputId": "f2992f83-f333-49f0-ff5d-9f4567dfaeff"
      },
      "outputs": [
        {
          "name": "stdout",
          "output_type": "stream",
          "text": [
            "<class 'range'>\n"
          ]
        }
      ],
      "source": [
        "#another type of seq data\n",
        "print(type(range(2)))"
      ]
    },
    {
      "cell_type": "code",
      "execution_count": null,
      "metadata": {
        "colab": {
          "base_uri": "https://localhost:8080/",
          "height": 34
        },
        "id": "Cu2aMUb0XRwJ",
        "outputId": "3c2e8101-c708-4be7-8020-6f1304adec10"
      },
      "outputs": [
        {
          "name": "stdout",
          "output_type": "stream",
          "text": [
            "range(0, 6)\n"
          ]
        }
      ],
      "source": [
        "print(range(6)) #starts at 0 and ends at 6-1=5"
      ]
    },
    {
      "cell_type": "code",
      "execution_count": null,
      "metadata": {
        "colab": {
          "base_uri": "https://localhost:8080/",
          "height": 34
        },
        "id": "Blu38jQ1XW0z",
        "outputId": "b835f3ba-720c-4b3b-99d2-e09d444f8766"
      },
      "outputs": [
        {
          "name": "stdout",
          "output_type": "stream",
          "text": [
            "range(1, 3)\n"
          ]
        }
      ],
      "source": [
        "print(range(1,3)) #starts at 1 and ends at 3-1=2"
      ]
    },
    {
      "cell_type": "markdown",
      "metadata": {
        "id": "1qSsMSeKXc4l"
      },
      "source": [
        "## Dictionaries"
      ]
    },
    {
      "cell_type": "code",
      "execution_count": null,
      "metadata": {
        "colab": {
          "base_uri": "https://localhost:8080/",
          "height": 50
        },
        "id": "AeQlMb0SXbGC",
        "outputId": "9a2d3807-562a-40bb-f880-504d02d8fc9f"
      },
      "outputs": [
        {
          "name": "stdout",
          "output_type": "stream",
          "text": [
            "{} <class 'dict'>\n",
            "{} <class 'dict'>\n"
          ]
        }
      ],
      "source": [
        "#to define an EMPTY dic.\n",
        "d = {}\n",
        "print(d,type(d))\n",
        "#or\n",
        "d=dict()\n",
        "print(d,type(d))"
      ]
    },
    {
      "cell_type": "code",
      "execution_count": null,
      "metadata": {
        "id": "40mu87jGXnrq"
      },
      "outputs": [],
      "source": [
        "d={\"name\":\"Sarah\",\"age\": 19,\"Address\":\"Alberta, CA\"}"
      ]
    },
    {
      "cell_type": "code",
      "execution_count": null,
      "metadata": {
        "colab": {
          "base_uri": "https://localhost:8080/",
          "height": 34
        },
        "id": "FJvj596mXw6T",
        "outputId": "6ed5b7e7-1ca7-4e52-81fc-a658846ecf79"
      },
      "outputs": [
        {
          "name": "stdout",
          "output_type": "stream",
          "text": [
            "{'name': 'Sarah', 'age': 19, 'Address': 'Alberta, CA'}\n"
          ]
        }
      ],
      "source": [
        "print(d) #not D"
      ]
    },
    {
      "cell_type": "code",
      "execution_count": null,
      "metadata": {
        "colab": {
          "base_uri": "https://localhost:8080/",
          "height": 34
        },
        "id": "vaNQcgUmXxud",
        "outputId": "b64ec725-42be-4068-f8c2-2e45acde8657"
      },
      "outputs": [
        {
          "name": "stdout",
          "output_type": "stream",
          "text": [
            "dict_items([('name', 'Sarah'), ('age', 19), ('Address', 'Alberta, CA')])\n"
          ]
        }
      ],
      "source": [
        "#useful functions\n",
        "print(d.items())"
      ]
    },
    {
      "cell_type": "code",
      "execution_count": null,
      "metadata": {
        "colab": {
          "base_uri": "https://localhost:8080/",
          "height": 34
        },
        "id": "3cUJ8EYhX4K7",
        "outputId": "00c0715d-ec2d-4523-9a82-9b6fafaf18c9"
      },
      "outputs": [
        {
          "name": "stdout",
          "output_type": "stream",
          "text": [
            "dict_keys(['name', 'age', 'Address'])\n"
          ]
        }
      ],
      "source": [
        "print(d.keys())"
      ]
    },
    {
      "cell_type": "code",
      "execution_count": null,
      "metadata": {
        "colab": {
          "base_uri": "https://localhost:8080/",
          "height": 34
        },
        "id": "MTpHt2K3X6rV",
        "outputId": "076c3082-8f46-44ed-e4fd-3fb3b66646ce"
      },
      "outputs": [
        {
          "name": "stdout",
          "output_type": "stream",
          "text": [
            "dict_values(['Sarah', 19, 'Alberta, CA'])\n"
          ]
        }
      ],
      "source": [
        "print(d.values())"
      ]
    },
    {
      "cell_type": "code",
      "execution_count": null,
      "metadata": {
        "id": "gOnmTpjMX86C"
      },
      "outputs": [],
      "source": [
        "# to add a new element/item\n",
        "d[\"gender\"] = \"female\""
      ]
    },
    {
      "cell_type": "code",
      "execution_count": null,
      "metadata": {
        "colab": {
          "base_uri": "https://localhost:8080/",
          "height": 34
        },
        "id": "OF654KwsYIgO",
        "outputId": "3c1675e2-5de7-455a-be26-c15f08c11304"
      },
      "outputs": [
        {
          "name": "stdout",
          "output_type": "stream",
          "text": [
            "{'name': 'Sarah', 'age': 19, 'Address': 'Alberta, CA', 'gender': 'female'}\n"
          ]
        }
      ],
      "source": [
        "print(d)"
      ]
    },
    {
      "cell_type": "code",
      "execution_count": null,
      "metadata": {
        "colab": {
          "base_uri": "https://localhost:8080/",
          "height": 34
        },
        "id": "2EdV0wKmYJWu",
        "outputId": "ddc32943-5a75-4711-e739-2895ebd26c0e"
      },
      "outputs": [
        {
          "name": "stdout",
          "output_type": "stream",
          "text": [
            "Alberta, CA\n"
          ]
        }
      ],
      "source": [
        "#printing a value\n",
        "print(d['Address']) "
      ]
    },
    {
      "cell_type": "code",
      "execution_count": null,
      "metadata": {
        "colab": {
          "base_uri": "https://localhost:8080/",
          "height": 34
        },
        "id": "fK_qlzjZYRoh",
        "outputId": "78ee19c7-adb8-4086-fbfa-c08cf4d7f550"
      },
      "outputs": [
        {
          "name": "stdout",
          "output_type": "stream",
          "text": [
            "Sarah\n"
          ]
        }
      ],
      "source": [
        "print(d['name'])"
      ]
    },
    {
      "cell_type": "code",
      "execution_count": null,
      "metadata": {
        "colab": {
          "base_uri": "https://localhost:8080/",
          "height": 50
        },
        "id": "qhGPg0Y9YTq1",
        "outputId": "d702b60e-1480-4338-9c93-2798d24871f1"
      },
      "outputs": [
        {
          "name": "stdout",
          "output_type": "stream",
          "text": [
            "{'name': 'Sarah', 'age': 19, 'Address': 'Alberta, CA', 'gender': 'female'}\n",
            "{'name': 'Sarah', 'age': 27, 'Address': 'Alberta, CA', 'gender': 'female'}\n"
          ]
        }
      ],
      "source": [
        "# to update a value\n",
        "print(d)\n",
        "d['age'] = 27\n",
        "print(d)"
      ]
    },
    {
      "cell_type": "code",
      "execution_count": null,
      "metadata": {
        "colab": {
          "base_uri": "https://localhost:8080/",
          "height": 34
        },
        "id": "bKb6EpIBYcNE",
        "outputId": "7efb35b7-8d06-492c-aacc-d056c555d68c"
      },
      "outputs": [
        {
          "data": {
            "text/plain": [
              "27"
            ]
          },
          "execution_count": 54,
          "metadata": {
            "tags": []
          },
          "output_type": "execute_result"
        }
      ],
      "source": [
        "# another way to get a value\n",
        "d.get('age') #or d['age]"
      ]
    },
    {
      "cell_type": "code",
      "execution_count": null,
      "metadata": {
        "id": "e8EN2eLZYkDv"
      },
      "outputs": [],
      "source": [
        "#some functions\n",
        "d_copy = d.copy()"
      ]
    },
    {
      "cell_type": "code",
      "execution_count": null,
      "metadata": {
        "colab": {
          "base_uri": "https://localhost:8080/",
          "height": 50
        },
        "id": "4JSE7e-VYqA_",
        "outputId": "b3448e28-6bce-4487-8dbb-bd0183a60f00"
      },
      "outputs": [
        {
          "name": "stdout",
          "output_type": "stream",
          "text": [
            "{'name': 'Sarah', 'age': 27, 'Address': 'Alberta, CA', 'gender': 'female'} \n",
            " {'name': 'Sarah', 'age': 27, 'Address': 'Alberta, CA', 'gender': 'female'}\n"
          ]
        }
      ],
      "source": [
        "print(d,\"\\n\",d_copy)"
      ]
    },
    {
      "cell_type": "code",
      "execution_count": null,
      "metadata": {
        "colab": {
          "base_uri": "https://localhost:8080/",
          "height": 50
        },
        "id": "LoliphzBYsXu",
        "outputId": "80e276af-eabf-4196-e152-6dbee41f2fed"
      },
      "outputs": [
        {
          "name": "stdout",
          "output_type": "stream",
          "text": [
            "{'name': 'Sarah', 'age': 27, 'Address': 'Alberta, CA', 'gender': 'female'}\n",
            "{'name': 'Sarah', 'Address': 'Alberta, CA', 'gender': 'female'}\n"
          ]
        }
      ],
      "source": [
        "#to delete a value\n",
        "print(d)\n",
        "d.pop('age')\n",
        "print(d)"
      ]
    },
    {
      "cell_type": "markdown",
      "metadata": {
        "id": "REM1bUE-Y5qm"
      },
      "source": [
        "# Tuples and sets"
      ]
    },
    {
      "cell_type": "code",
      "execution_count": null,
      "metadata": {
        "id": "uOtzRhVXY3bQ"
      },
      "outputs": [],
      "source": [
        "x_tuple= tuple(x)"
      ]
    },
    {
      "cell_type": "code",
      "execution_count": null,
      "metadata": {
        "colab": {
          "base_uri": "https://localhost:8080/",
          "height": 50
        },
        "id": "5QEvf-e9Y_za",
        "outputId": "a3cb01c5-820a-40b0-ad92-2b8ef359a31a"
      },
      "outputs": [
        {
          "name": "stdout",
          "output_type": "stream",
          "text": [
            "[1, 100, 3, 4, 5, 100]\n",
            "(1, 100, 3, 4, 5, 100)\n"
          ]
        }
      ],
      "source": [
        "print(x)\n",
        "print(x_tuple) #immutable"
      ]
    },
    {
      "cell_type": "code",
      "execution_count": null,
      "metadata": {
        "colab": {
          "base_uri": "https://localhost:8080/",
          "height": 162
        },
        "id": "1FNyqKdEZDW8",
        "outputId": "95bfe3f2-022b-4ce4-bd89-dcc100ca6292"
      },
      "outputs": [
        {
          "ename": "TypeError",
          "evalue": "ignored",
          "output_type": "error",
          "traceback": [
            "\u001b[0;31m---------------------------------------------------------------------------\u001b[0m",
            "\u001b[0;31mTypeError\u001b[0m                                 Traceback (most recent call last)",
            "\u001b[0;32m<ipython-input-60-2b14578f6c29>\u001b[0m in \u001b[0;36m<module>\u001b[0;34m()\u001b[0m\n\u001b[0;32m----> 1\u001b[0;31m \u001b[0mx_tuple\u001b[0m\u001b[0;34m[\u001b[0m\u001b[0;36m1\u001b[0m\u001b[0;34m]\u001b[0m\u001b[0;34m=\u001b[0m\u001b[0;36m5\u001b[0m\u001b[0;34m\u001b[0m\u001b[0;34m\u001b[0m\u001b[0m\n\u001b[0m",
            "\u001b[0;31mTypeError\u001b[0m: 'tuple' object does not support item assignment"
          ]
        }
      ],
      "source": [
        "x_tuple[1]=5"
      ]
    },
    {
      "cell_type": "code",
      "execution_count": null,
      "metadata": {
        "colab": {
          "base_uri": "https://localhost:8080/",
          "height": 50
        },
        "id": "vmf4E8_7ZI6K",
        "outputId": "155cc3f1-e868-44fa-da7a-919ff59e452b"
      },
      "outputs": [
        {
          "name": "stdout",
          "output_type": "stream",
          "text": [
            "[1, 100, 3, 4, 5, 100]\n",
            "{1, 3, 100, 5, 4}\n"
          ]
        }
      ],
      "source": [
        "#sets: are lists but unique\n",
        "set_x=set(x)\n",
        "print(x)\n",
        "print(set(x))"
      ]
    },
    {
      "cell_type": "markdown",
      "metadata": {
        "id": "K9EvoCosZWK7"
      },
      "source": [
        "# Possible Errors"
      ]
    },
    {
      "cell_type": "code",
      "execution_count": null,
      "metadata": {
        "colab": {
          "base_uri": "https://localhost:8080/",
          "height": 162
        },
        "id": "qjGh5DI4ZQzX",
        "outputId": "2a9e6f01-5f66-4c19-918b-83177b34e4bb"
      },
      "outputs": [
        {
          "ename": "TypeError",
          "evalue": "ignored",
          "output_type": "error",
          "traceback": [
            "\u001b[0;31m---------------------------------------------------------------------------\u001b[0m",
            "\u001b[0;31mTypeError\u001b[0m                                 Traceback (most recent call last)",
            "\u001b[0;32m<ipython-input-63-16160cc886b9>\u001b[0m in \u001b[0;36m<module>\u001b[0;34m()\u001b[0m\n\u001b[0;32m----> 1\u001b[0;31m \u001b[0mprint\u001b[0m\u001b[0;34m(\u001b[0m\u001b[0mx\u001b[0m\u001b[0;34m*\u001b[0m\u001b[0mx\u001b[0m\u001b[0;34m)\u001b[0m\u001b[0;34m\u001b[0m\u001b[0;34m\u001b[0m\u001b[0m\n\u001b[0m",
            "\u001b[0;31mTypeError\u001b[0m: can't multiply sequence by non-int of type 'list'"
          ]
        }
      ],
      "source": [
        "print(x*x)"
      ]
    },
    {
      "cell_type": "code",
      "execution_count": null,
      "metadata": {
        "colab": {
          "base_uri": "https://localhost:8080/",
          "height": 162
        },
        "id": "0_m8K42-aeb0",
        "outputId": "038b715c-2993-4a8d-b775-a50ad999222e"
      },
      "outputs": [
        {
          "ename": "TypeError",
          "evalue": "ignored",
          "output_type": "error",
          "traceback": [
            "\u001b[0;31m---------------------------------------------------------------------------\u001b[0m",
            "\u001b[0;31mTypeError\u001b[0m                                 Traceback (most recent call last)",
            "\u001b[0;32m<ipython-input-64-63887e6451c2>\u001b[0m in \u001b[0;36m<module>\u001b[0;34m()\u001b[0m\n\u001b[0;32m----> 1\u001b[0;31m \u001b[0mprint\u001b[0m\u001b[0;34m(\u001b[0m\u001b[0mx\u001b[0m\u001b[0;34m/\u001b[0m\u001b[0;36m2\u001b[0m\u001b[0;34m)\u001b[0m\u001b[0;34m\u001b[0m\u001b[0;34m\u001b[0m\u001b[0m\n\u001b[0m",
            "\u001b[0;31mTypeError\u001b[0m: unsupported operand type(s) for /: 'list' and 'int'"
          ]
        }
      ],
      "source": [
        "print(x/2)"
      ]
    },
    {
      "cell_type": "code",
      "execution_count": null,
      "metadata": {
        "colab": {
          "base_uri": "https://localhost:8080/",
          "height": 195
        },
        "id": "zuLiG9yTafrM",
        "outputId": "9e65adfd-8ffa-4941-bb4e-af97cb4f8526"
      },
      "outputs": [
        {
          "name": "stdout",
          "output_type": "stream",
          "text": [
            "{'name': 'Sarah', 'Address': 'Alberta, CA', 'gender': 'female'}\n"
          ]
        },
        {
          "ename": "KeyError",
          "evalue": "ignored",
          "output_type": "error",
          "traceback": [
            "\u001b[0;31m---------------------------------------------------------------------------\u001b[0m",
            "\u001b[0;31mKeyError\u001b[0m                                  Traceback (most recent call last)",
            "\u001b[0;32m<ipython-input-65-b31eef9a3f33>\u001b[0m in \u001b[0;36m<module>\u001b[0;34m()\u001b[0m\n\u001b[1;32m      1\u001b[0m \u001b[0mprint\u001b[0m\u001b[0;34m(\u001b[0m\u001b[0md\u001b[0m\u001b[0;34m)\u001b[0m\u001b[0;34m\u001b[0m\u001b[0;34m\u001b[0m\u001b[0m\n\u001b[0;32m----> 2\u001b[0;31m \u001b[0mprint\u001b[0m\u001b[0;34m(\u001b[0m\u001b[0md\u001b[0m\u001b[0;34m[\u001b[0m\u001b[0;34m'home'\u001b[0m\u001b[0;34m]\u001b[0m\u001b[0;34m)\u001b[0m \u001b[0;31m#not defined\u001b[0m\u001b[0;34m\u001b[0m\u001b[0;34m\u001b[0m\u001b[0m\n\u001b[0m",
            "\u001b[0;31mKeyError\u001b[0m: 'home'"
          ]
        }
      ],
      "source": [
        "print(d)\n",
        "print(d['home']) #not defined "
      ]
    },
    {
      "cell_type": "code",
      "execution_count": null,
      "metadata": {
        "colab": {
          "base_uri": "https://localhost:8080/",
          "height": 34
        },
        "id": "ScJhbXVPamA_",
        "outputId": "3ef2f44c-f0d7-40af-d2ee-43d2462999b2"
      },
      "outputs": [
        {
          "name": "stdout",
          "output_type": "stream",
          "text": [
            "None\n"
          ]
        }
      ],
      "source": [
        "#no error \n",
        "print(d.get('home'))"
      ]
    },
    {
      "cell_type": "code",
      "execution_count": null,
      "metadata": {
        "colab": {
          "base_uri": "https://localhost:8080/",
          "height": 178
        },
        "id": "A5CBi7jUarrW",
        "outputId": "d0d8959b-f077-4392-d4fe-9390449e4daa"
      },
      "outputs": [
        {
          "ename": "TypeError",
          "evalue": "ignored",
          "output_type": "error",
          "traceback": [
            "\u001b[0;31m---------------------------------------------------------------------------\u001b[0m",
            "\u001b[0;31mTypeError\u001b[0m                                 Traceback (most recent call last)",
            "\u001b[0;32m<ipython-input-68-928b8b841267>\u001b[0m in \u001b[0;36m<module>\u001b[0;34m()\u001b[0m\n\u001b[1;32m      1\u001b[0m \u001b[0mname\u001b[0m\u001b[0;34m=\u001b[0m\u001b[0;34m'sarah'\u001b[0m\u001b[0;34m\u001b[0m\u001b[0;34m\u001b[0m\u001b[0m\n\u001b[0;32m----> 2\u001b[0;31m \u001b[0mname\u001b[0m\u001b[0;34m[\u001b[0m\u001b[0;36m3\u001b[0m\u001b[0;34m]\u001b[0m\u001b[0;34m=\u001b[0m\u001b[0;34m'w'\u001b[0m\u001b[0;34m\u001b[0m\u001b[0;34m\u001b[0m\u001b[0m\n\u001b[0m",
            "\u001b[0;31mTypeError\u001b[0m: 'str' object does not support item assignment"
          ]
        }
      ],
      "source": [
        "name='sarah'\n",
        "name[3]='w'"
      ]
    },
    {
      "cell_type": "markdown",
      "metadata": {
        "id": "BWOxXsbKa1Zz"
      },
      "source": [
        "- Thank you\n",
        "+ Thank you\n",
        "* Thank you\n",
        "\n",
        "Numbered thanks:\n",
        "\n",
        "1. Thank you\n",
        "1. Thank you\n",
        "1. Thank you"
      ]
    },
    {
      "cell_type": "code",
      "execution_count": null,
      "metadata": {
        "id": "uMz5xGA7awXl"
      },
      "outputs": [],
      "source": []
    }
  ],
  "metadata": {
    "colab": {
      "authorship_tag": "ABX9TyNgC8JF1MP1cmVbnvJj0KRi",
      "include_colab_link": true,
      "name": "03 Data-Types.ipynb",
      "provenance": []
    },
    "kernelspec": {
      "display_name": "Python 3",
      "name": "python3"
    }
  },
  "nbformat": 4,
  "nbformat_minor": 0
}
