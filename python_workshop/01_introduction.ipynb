{
  "cells": [
    {
      "cell_type": "markdown",
      "metadata": {
        "colab_type": "text",
        "id": "view-in-github"
      },
      "source": [
        "<a href=\"https://colab.research.google.com/github/arabs-in-neuro/intro_to_comp_neuro/blob/main/python_workshop/01_introduction.ipynb\" target=\"_parent\"><img src=\"https://colab.research.google.com/assets/colab-badge.svg\" alt=\"Open In Colab\"/></a>"
      ]
    },
    {
      "cell_type": "markdown",
      "metadata": {
        "id": "t6-6M68vmtBl"
      },
      "source": [
        "Values"
      ]
    },
    {
      "cell_type": "code",
      "execution_count": null,
      "metadata": {
        "colab": {
          "base_uri": "https://localhost:8080/",
          "height": 34
        },
        "id": "R2lj92kcmPVy",
        "outputId": "e1e8c8bb-bd4d-44b3-c66b-214e932fa951"
      },
      "outputs": [
        {
          "name": "stdout",
          "output_type": "stream",
          "text": [
            "19\n"
          ]
        }
      ],
      "source": [
        "print(19)"
      ]
    },
    {
      "cell_type": "code",
      "execution_count": null,
      "metadata": {
        "colab": {
          "base_uri": "https://localhost:8080/",
          "height": 51
        },
        "id": "GQP6YXRhmdWk",
        "outputId": "6001b43a-ee00-4001-ad31-5384523d39e1"
      },
      "outputs": [
        {
          "name": "stdout",
          "output_type": "stream",
          "text": [
            "My name is:\n",
            "Sarah\n"
          ]
        }
      ],
      "source": [
        "print(\"My name is:\")\n",
        "print(\"Sarah\")"
      ]
    },
    {
      "cell_type": "markdown",
      "metadata": {
        "id": "HV2KxAT6m2HD"
      },
      "source": [
        "Defining Variables"
      ]
    },
    {
      "cell_type": "code",
      "execution_count": null,
      "metadata": {
        "id": "LPc8ALfqmnDe"
      },
      "outputs": [],
      "source": [
        "name=\"Sarah\"\n",
        "age=19"
      ]
    },
    {
      "cell_type": "code",
      "execution_count": null,
      "metadata": {
        "colab": {
          "base_uri": "https://localhost:8080/",
          "height": 34
        },
        "id": "Mao8AL8znBa-",
        "outputId": "333a0fdc-0299-44e5-9753-9580ec151e78"
      },
      "outputs": [
        {
          "name": "stdout",
          "output_type": "stream",
          "text": [
            "Sarah\n"
          ]
        }
      ],
      "source": [
        "print(name)"
      ]
    },
    {
      "cell_type": "code",
      "execution_count": null,
      "metadata": {
        "colab": {
          "base_uri": "https://localhost:8080/",
          "height": 34
        },
        "id": "ITFua_5jnFEv",
        "outputId": "c99e63f8-21ad-4fd9-fa2d-146d5ebb0c38"
      },
      "outputs": [
        {
          "name": "stdout",
          "output_type": "stream",
          "text": [
            "Sarah 19\n"
          ]
        }
      ],
      "source": [
        "print(name,age)"
      ]
    },
    {
      "cell_type": "markdown",
      "metadata": {
        "id": "c0NNJ4hRnMQU"
      },
      "source": [
        "More about print()"
      ]
    },
    {
      "cell_type": "code",
      "execution_count": null,
      "metadata": {
        "colab": {
          "base_uri": "https://localhost:8080/",
          "height": 34
        },
        "id": "w21wYQ31nJ2m",
        "outputId": "14c5b97a-3a6e-4147-a330-720860e3fdeb"
      },
      "outputs": [
        {
          "name": "stdout",
          "output_type": "stream",
          "text": [
            "My name is Sarah and I am 19 years old\n"
          ]
        }
      ],
      "source": [
        "print(\"My name is\",name, \"and I am\",age,\"years old\")"
      ]
    },
    {
      "cell_type": "code",
      "execution_count": null,
      "metadata": {
        "colab": {
          "base_uri": "https://localhost:8080/",
          "height": 34
        },
        "id": "_phIF763nYmN",
        "outputId": "6445b3eb-6efe-414a-d7e4-6e6bc4e3e3a2"
      },
      "outputs": [
        {
          "name": "stdout",
          "output_type": "stream",
          "text": [
            "My name is Sarah and I am 19 years old\n"
          ]
        }
      ],
      "source": [
        "print(\"My name is {} and I am {} years old\".format(name,age))"
      ]
    },
    {
      "cell_type": "code",
      "execution_count": null,
      "metadata": {
        "colab": {
          "base_uri": "https://localhost:8080/",
          "height": 34
        },
        "id": "kFZ56SPdnnBE",
        "outputId": "235cb019-0882-48b9-a315-5137fed096bb"
      },
      "outputs": [
        {
          "name": "stdout",
          "output_type": "stream",
          "text": [
            "My name is: Sarah, and I am 19 years old.\n"
          ]
        }
      ],
      "source": [
        "print(\"My name is: {}, and I am {} years old.\".format(name,age))"
      ]
    },
    {
      "cell_type": "markdown",
      "metadata": {
        "id": "orcY-Shonxqz"
      },
      "source": [
        "Updating Variables"
      ]
    },
    {
      "cell_type": "code",
      "execution_count": null,
      "metadata": {
        "colab": {
          "base_uri": "https://localhost:8080/",
          "height": 34
        },
        "id": "2KEcGrRVnr_D",
        "outputId": "d973caf0-b03a-41fd-80b5-9eccacdefb34"
      },
      "outputs": [
        {
          "name": "stdout",
          "output_type": "stream",
          "text": [
            "19\n"
          ]
        }
      ],
      "source": [
        "print(age)"
      ]
    },
    {
      "cell_type": "code",
      "execution_count": null,
      "metadata": {
        "id": "dpWOukhGn1VX"
      },
      "outputs": [],
      "source": [
        "age=20"
      ]
    },
    {
      "cell_type": "code",
      "execution_count": null,
      "metadata": {
        "colab": {
          "base_uri": "https://localhost:8080/",
          "height": 34
        },
        "id": "tDDXn-_Hn2_A",
        "outputId": "0f30b704-6fab-43e8-ce84-f6616b417db4"
      },
      "outputs": [
        {
          "name": "stdout",
          "output_type": "stream",
          "text": [
            "20\n"
          ]
        }
      ],
      "source": [
        "print(age)"
      ]
    },
    {
      "cell_type": "code",
      "execution_count": null,
      "metadata": {
        "colab": {
          "base_uri": "https://localhost:8080/",
          "height": 34
        },
        "id": "WHGFe_B0n30r",
        "outputId": "fbc41685-d063-4c6d-ec6c-7b6d3c4f01d2"
      },
      "outputs": [
        {
          "name": "stdout",
          "output_type": "stream",
          "text": [
            "120\n"
          ]
        }
      ],
      "source": [
        "print(age+100)"
      ]
    },
    {
      "cell_type": "code",
      "execution_count": null,
      "metadata": {
        "colab": {
          "base_uri": "https://localhost:8080/",
          "height": 34
        },
        "id": "4dPoeZyyn81g",
        "outputId": "2cc8f35b-3230-476e-ea2b-b4be2fc1b68f"
      },
      "outputs": [
        {
          "data": {
            "text/plain": [
              "20"
            ]
          },
          "execution_count": 15,
          "metadata": {
            "tags": []
          },
          "output_type": "execute_result"
        }
      ],
      "source": [
        "age"
      ]
    },
    {
      "cell_type": "code",
      "execution_count": null,
      "metadata": {
        "id": "SpQZ98tqn9tS"
      },
      "outputs": [],
      "source": [
        "age_100=age+100"
      ]
    },
    {
      "cell_type": "code",
      "execution_count": null,
      "metadata": {
        "colab": {
          "base_uri": "https://localhost:8080/",
          "height": 34
        },
        "id": "8QqIS9s5oBhj",
        "outputId": "593f430d-3441-4b63-d58d-d70107c3f4ed"
      },
      "outputs": [
        {
          "name": "stdout",
          "output_type": "stream",
          "text": [
            "age is 20, age after 100 yaers is: 120\n"
          ]
        }
      ],
      "source": [
        "print(\"age is {}, age after 100 yaers is: {}\".format(age,age_100))"
      ]
    },
    {
      "cell_type": "code",
      "execution_count": null,
      "metadata": {
        "colab": {
          "base_uri": "https://localhost:8080/",
          "height": 34
        },
        "id": "qTwl3TcnoIa0",
        "outputId": "9483d130-5ecc-4e45-abfe-5d3233168072"
      },
      "outputs": [
        {
          "name": "stdout",
          "output_type": "stream",
          "text": [
            "This is Sarah's program\n"
          ]
        }
      ],
      "source": [
        "print(\"This is Sarah's program\")"
      ]
    },
    {
      "cell_type": "code",
      "execution_count": null,
      "metadata": {
        "colab": {
          "base_uri": "https://localhost:8080/",
          "height": 129
        },
        "id": "rwT3NCEjoShf",
        "outputId": "31ce5b1a-f81b-40d3-8959-092aec2ab508"
      },
      "outputs": [
        {
          "ename": "SyntaxError",
          "evalue": "ignored",
          "output_type": "error",
          "traceback": [
            "\u001b[0;36m  File \u001b[0;32m\"<ipython-input-19-12ab8bb67c7c>\"\u001b[0;36m, line \u001b[0;32m1\u001b[0m\n\u001b[0;31m    print('This is Sarah's program')\u001b[0m\n\u001b[0m                         ^\u001b[0m\n\u001b[0;31mSyntaxError\u001b[0m\u001b[0;31m:\u001b[0m invalid syntax\n"
          ]
        }
      ],
      "source": [
        "print('This is Sarah's program')"
      ]
    },
    {
      "cell_type": "code",
      "execution_count": null,
      "metadata": {
        "colab": {
          "base_uri": "https://localhost:8080/",
          "height": 34
        },
        "id": "UQEBHAOkoaRA",
        "outputId": "fcc8596a-eed7-4c04-a613-e332c7a699fa"
      },
      "outputs": [
        {
          "name": "stdout",
          "output_type": "stream",
          "text": [
            "This is Sarah's program\n"
          ]
        }
      ],
      "source": [
        "print('This is Sarah\\'s program')"
      ]
    },
    {
      "cell_type": "code",
      "execution_count": null,
      "metadata": {
        "colab": {
          "base_uri": "https://localhost:8080/",
          "height": 34
        },
        "id": "phEKIwpWofu0",
        "outputId": "3b670823-8b70-4b1c-bbea-01da3e7c544a"
      },
      "outputs": [
        {
          "name": "stdout",
          "output_type": "stream",
          "text": [
            "Hello,\t I am Sarah\n"
          ]
        }
      ],
      "source": [
        "print(\"Hello,\\t I am Sarah\")"
      ]
    },
    {
      "cell_type": "code",
      "execution_count": null,
      "metadata": {
        "colab": {
          "base_uri": "https://localhost:8080/",
          "height": 51
        },
        "id": "8K7RjE0vol-Y",
        "outputId": "58facd21-d8ca-4588-c331-e73c79e14823"
      },
      "outputs": [
        {
          "name": "stdout",
          "output_type": "stream",
          "text": [
            "Hello,\n",
            " I am Sarah\n"
          ]
        }
      ],
      "source": [
        "print(\"Hello,\\n I am Sarah\")"
      ]
    },
    {
      "cell_type": "code",
      "execution_count": null,
      "metadata": {
        "colab": {
          "base_uri": "https://localhost:8080/",
          "height": 34
        },
        "id": "eWuuVTEioq9I",
        "outputId": "d3a0d57b-f5d5-451c-ecd2-4f31c605e88d"
      },
      "outputs": [
        {
          "name": "stdout",
          "output_type": "stream",
          "text": [
            "Hello,\\ I am Sarah\n"
          ]
        }
      ],
      "source": [
        "print(\"Hello,\\ I am Sarah\")"
      ]
    },
    {
      "cell_type": "markdown",
      "metadata": {
        "id": "46U0kf25o38X"
      },
      "source": [
        "Recap"
      ]
    },
    {
      "cell_type": "code",
      "execution_count": null,
      "metadata": {
        "colab": {
          "base_uri": "https://localhost:8080/",
          "height": 34
        },
        "id": "1o79eiq0oz7H",
        "outputId": "13705da6-203c-47d9-c801-6f6188841be6"
      },
      "outputs": [
        {
          "name": "stdout",
          "output_type": "stream",
          "text": [
            "Sarah 20 120\n"
          ]
        }
      ],
      "source": [
        "# We define name and age (also age_100)\n",
        "print(name, age, age_100)"
      ]
    },
    {
      "cell_type": "code",
      "execution_count": null,
      "metadata": {
        "id": "rmgYDk4xpAl9"
      },
      "outputs": [],
      "source": [
        "#We learnt about: print() and format()"
      ]
    },
    {
      "cell_type": "code",
      "execution_count": null,
      "metadata": {
        "id": "UisDEhnWpEFC"
      },
      "outputs": [],
      "source": [
        "#We learnt how to write comments in a code cell! "
      ]
    },
    {
      "cell_type": "markdown",
      "metadata": {
        "id": "kxORnh36CMek"
      },
      "source": [
        "Possible Errors"
      ]
    },
    {
      "cell_type": "markdown",
      "metadata": {
        "id": "_rshsrFcCOf6"
      },
      "source": [
        "Syntax Error"
      ]
    },
    {
      "cell_type": "code",
      "execution_count": null,
      "metadata": {
        "colab": {
          "base_uri": "https://localhost:8080/",
          "height": 129
        },
        "id": "cAKPX5BXpHIJ",
        "outputId": "6c7e0f4e-3fea-4fcb-8a8a-a31085d448b4"
      },
      "outputs": [
        {
          "ename": "SyntaxError",
          "evalue": "ignored",
          "output_type": "error",
          "traceback": [
            "\u001b[0;36m  File \u001b[0;32m\"<ipython-input-27-5179527a2a65>\"\u001b[0;36m, line \u001b[0;32m1\u001b[0m\n\u001b[0;31m    print(name\u001b[0m\n\u001b[0m              ^\u001b[0m\n\u001b[0;31mSyntaxError\u001b[0m\u001b[0;31m:\u001b[0m unexpected EOF while parsing\n"
          ]
        }
      ],
      "source": [
        "print(name"
      ]
    },
    {
      "cell_type": "markdown",
      "metadata": {
        "id": "3Y0m0RcDCSeK"
      },
      "source": [
        "Name Error"
      ]
    },
    {
      "cell_type": "code",
      "execution_count": null,
      "metadata": {
        "colab": {
          "base_uri": "https://localhost:8080/",
          "height": 163
        },
        "id": "N66XYrC5CRQM",
        "outputId": "acef71ec-2693-452e-c0f3-dd813492a478"
      },
      "outputs": [
        {
          "ename": "NameError",
          "evalue": "ignored",
          "output_type": "error",
          "traceback": [
            "\u001b[0;31m---------------------------------------------------------------------------\u001b[0m",
            "\u001b[0;31mNameError\u001b[0m                                 Traceback (most recent call last)",
            "\u001b[0;32m<ipython-input-28-a270d233384b>\u001b[0m in \u001b[0;36m<module>\u001b[0;34m()\u001b[0m\n\u001b[0;32m----> 1\u001b[0;31m \u001b[0mprint\u001b[0m\u001b[0;34m(\u001b[0m\u001b[0mname_100\u001b[0m\u001b[0;34m)\u001b[0m\u001b[0;34m\u001b[0m\u001b[0;34m\u001b[0m\u001b[0m\n\u001b[0m",
            "\u001b[0;31mNameError\u001b[0m: name 'name_100' is not defined"
          ]
        }
      ],
      "source": [
        "print(name_100)"
      ]
    },
    {
      "cell_type": "code",
      "execution_count": null,
      "metadata": {
        "colab": {
          "base_uri": "https://localhost:8080/",
          "height": 129
        },
        "id": "pmdakc7zCWVR",
        "outputId": "ac048c45-6cac-43f6-f6ac-c8bec224575e"
      },
      "outputs": [
        {
          "ename": "SyntaxError",
          "evalue": "ignored",
          "output_type": "error",
          "traceback": [
            "\u001b[0;36m  File \u001b[0;32m\"<ipython-input-30-b1633704e153>\"\u001b[0;36m, line \u001b[0;32m1\u001b[0m\n\u001b[0;31m    print(\"My name is)\u001b[0m\n\u001b[0m                      ^\u001b[0m\n\u001b[0;31mSyntaxError\u001b[0m\u001b[0;31m:\u001b[0m EOL while scanning string literal\n"
          ]
        }
      ],
      "source": [
        "print(\"My name is)"
      ]
    },
    {
      "cell_type": "code",
      "execution_count": null,
      "metadata": {
        "colab": {
          "base_uri": "https://localhost:8080/",
          "height": 34
        },
        "id": "AL5NqYbKCauT",
        "outputId": "aacca42a-29a9-41b6-fcc9-1845d0e5bc57"
      },
      "outputs": [
        {
          "name": "stdout",
          "output_type": "stream",
          "text": [
            "20\n"
          ]
        }
      ],
      "source": [
        "print(age)"
      ]
    },
    {
      "cell_type": "code",
      "execution_count": null,
      "metadata": {
        "colab": {
          "base_uri": "https://localhost:8080/",
          "height": 163
        },
        "id": "reUHtvC4Cdsa",
        "outputId": "c7353653-6f7b-433a-88e1-cf237584000c"
      },
      "outputs": [
        {
          "ename": "NameError",
          "evalue": "ignored",
          "output_type": "error",
          "traceback": [
            "\u001b[0;31m---------------------------------------------------------------------------\u001b[0m",
            "\u001b[0;31mNameError\u001b[0m                                 Traceback (most recent call last)",
            "\u001b[0;32m<ipython-input-32-9d48a2efbe69>\u001b[0m in \u001b[0;36m<module>\u001b[0;34m()\u001b[0m\n\u001b[0;32m----> 1\u001b[0;31m \u001b[0mprint\u001b[0m\u001b[0;34m(\u001b[0m\u001b[0mAge\u001b[0m\u001b[0;34m)\u001b[0m\u001b[0;34m\u001b[0m\u001b[0;34m\u001b[0m\u001b[0m\n\u001b[0m",
            "\u001b[0;31mNameError\u001b[0m: name 'Age' is not defined"
          ]
        }
      ],
      "source": [
        "print(Age)"
      ]
    },
    {
      "cell_type": "markdown",
      "metadata": {
        "id": "H8a5UTNrRmbt"
      },
      "source": [
        "# Take Aways"
      ]
    },
    {
      "cell_type": "markdown",
      "metadata": {
        "id": "TQLD1x2NRrAE"
      },
      "source": [
        "In the previous video we learnt:\n",
        "\n",
        "\n",
        "* How to use the function _print()_\n",
        "* \\\\', \\t and \\n have special meaning inside a text/string\n",
        "* The difference between _values_ and _variables_\n",
        "* Syntax and Name Errors\n",
        "\n",
        "Exercise:\n",
        "* What do \\b \\f and \\r mean inside a string?"
      ]
    },
    {
      "cell_type": "code",
      "execution_count": null,
      "metadata": {
        "colab": {
          "base_uri": "https://localhost:8080/",
          "height": 35
        },
        "id": "Hmv9VEitS6L1",
        "outputId": "051e7aa9-2450-4dfe-9bc2-38fba0d56a88"
      },
      "outputs": [
        {
          "name": "stdout",
          "output_type": "stream",
          "text": [
            "Sa\rah\n"
          ]
        }
      ],
      "source": [
        "print(\"Sa\\rah\")"
      ]
    },
    {
      "cell_type": "code",
      "execution_count": null,
      "metadata": {
        "id": "u0O9E_-zTMk8"
      },
      "outputs": [],
      "source": []
    }
  ],
  "metadata": {
    "colab": {
      "authorship_tag": "ABX9TyPgxyWR6c08T3n+MQ6+m5Rn",
      "include_colab_link": true,
      "name": "01 introduction.ipynb",
      "provenance": []
    },
    "kernelspec": {
      "display_name": "Python 3",
      "name": "python3"
    }
  },
  "nbformat": 4,
  "nbformat_minor": 0
}
