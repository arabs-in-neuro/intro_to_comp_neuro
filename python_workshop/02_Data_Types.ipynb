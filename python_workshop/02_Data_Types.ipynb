{
  "cells": [
    {
      "cell_type": "markdown",
      "metadata": {
        "colab_type": "text",
        "id": "view-in-github"
      },
      "source": [
        "<a href=\"https://colab.research.google.com/github/arabs-in-neuro/intro_to_comp_neuro/blob/main/python_workshop/02_Data_Types.ipynb\" target=\"_parent\"><img src=\"https://colab.research.google.com/assets/colab-badge.svg\" alt=\"Open In Colab\"/></a>"
      ]
    },
    {
      "cell_type": "markdown",
      "metadata": {
        "id": "JqTvsksIl71j"
      },
      "source": [
        "# Simple Data Types"
      ]
    },
    {
      "cell_type": "markdown",
      "metadata": {
        "id": "mMye61ifmCvO"
      },
      "source": [
        "## Numeric Data Types"
      ]
    },
    {
      "cell_type": "code",
      "execution_count": null,
      "metadata": {
        "colab": {
          "base_uri": "https://localhost:8080/",
          "height": 34
        },
        "id": "qjqFpnxJmBIL",
        "outputId": "e69597c6-553e-4649-8f29-387bbca0b519"
      },
      "outputs": [
        {
          "name": "stdout",
          "output_type": "stream",
          "text": [
            "<class 'int'>\n"
          ]
        }
      ],
      "source": [
        "print(type(19)) #integer"
      ]
    },
    {
      "cell_type": "code",
      "execution_count": null,
      "metadata": {
        "colab": {
          "base_uri": "https://localhost:8080/",
          "height": 34
        },
        "id": "BX72sodbmSGP",
        "outputId": "4f43ec09-b0ac-41e4-b96f-799172006039"
      },
      "outputs": [
        {
          "name": "stdout",
          "output_type": "stream",
          "text": [
            "<class 'int'>\n"
          ]
        }
      ],
      "source": [
        "print(type(-19))"
      ]
    },
    {
      "cell_type": "code",
      "execution_count": null,
      "metadata": {
        "colab": {
          "base_uri": "https://localhost:8080/",
          "height": 34
        },
        "id": "dxIM0NbAmWcU",
        "outputId": "63dd4354-3a5f-4765-da15-e20d602da9ef"
      },
      "outputs": [
        {
          "name": "stdout",
          "output_type": "stream",
          "text": [
            "<class 'float'>\n"
          ]
        }
      ],
      "source": [
        "print(type(51.4))"
      ]
    },
    {
      "cell_type": "code",
      "execution_count": null,
      "metadata": {
        "colab": {
          "base_uri": "https://localhost:8080/",
          "height": 34
        },
        "id": "ycWLH_gumZUF",
        "outputId": "768fffe3-e3dc-46a9-dedd-f77b0fc43312"
      },
      "outputs": [
        {
          "name": "stdout",
          "output_type": "stream",
          "text": [
            "<class 'float'>\n"
          ]
        }
      ],
      "source": [
        "print(type(19.0)) #float"
      ]
    },
    {
      "cell_type": "code",
      "execution_count": null,
      "metadata": {
        "colab": {
          "base_uri": "https://localhost:8080/",
          "height": 34
        },
        "id": "59EZZb7amfGa",
        "outputId": "36d1173b-3d97-4e74-f6e8-bede3a92dd98"
      },
      "outputs": [
        {
          "name": "stdout",
          "output_type": "stream",
          "text": [
            "<class 'complex'>\n"
          ]
        }
      ],
      "source": [
        "print(type(3j+1)) #complex"
      ]
    },
    {
      "cell_type": "code",
      "execution_count": null,
      "metadata": {
        "colab": {
          "base_uri": "https://localhost:8080/",
          "height": 34
        },
        "id": "8uE0EaN-mnR4",
        "outputId": "ad8e1463-428d-4f26-a40a-6052d3d78f70"
      },
      "outputs": [
        {
          "name": "stdout",
          "output_type": "stream",
          "text": [
            "<class 'complex'>\n"
          ]
        }
      ],
      "source": [
        "print(type(1j))"
      ]
    },
    {
      "cell_type": "code",
      "execution_count": null,
      "metadata": {
        "colab": {
          "base_uri": "https://localhost:8080/",
          "height": 162
        },
        "id": "mJJ1KWXsmvD0",
        "outputId": "aa1214ee-21d3-4bee-81d2-d6808f3e31b8"
      },
      "outputs": [
        {
          "ename": "NameError",
          "evalue": "ignored",
          "output_type": "error",
          "traceback": [
            "\u001b[0;31m---------------------------------------------------------------------------\u001b[0m",
            "\u001b[0;31mNameError\u001b[0m                                 Traceback (most recent call last)",
            "\u001b[0;32m<ipython-input-10-f20a6d70eeb4>\u001b[0m in \u001b[0;36m<module>\u001b[0;34m()\u001b[0m\n\u001b[0;32m----> 1\u001b[0;31m \u001b[0mprint\u001b[0m\u001b[0;34m(\u001b[0m\u001b[0mtype\u001b[0m\u001b[0;34m(\u001b[0m\u001b[0mj\u001b[0m\u001b[0;34m)\u001b[0m\u001b[0;34m)\u001b[0m\u001b[0;34m\u001b[0m\u001b[0;34m\u001b[0m\u001b[0m\n\u001b[0m",
            "\u001b[0;31mNameError\u001b[0m: name 'j' is not defined"
          ]
        }
      ],
      "source": [
        "print(type(j))"
      ]
    },
    {
      "cell_type": "markdown",
      "metadata": {
        "id": "Yc_ZouY_m00S"
      },
      "source": [
        "## Strings"
      ]
    },
    {
      "cell_type": "code",
      "execution_count": null,
      "metadata": {
        "colab": {
          "base_uri": "https://localhost:8080/",
          "height": 34
        },
        "id": "e19MKiwnmxvE",
        "outputId": "1a557a32-dcf9-4062-bddd-df07f3f426a4"
      },
      "outputs": [
        {
          "name": "stdout",
          "output_type": "stream",
          "text": [
            "<class 'str'>\n"
          ]
        }
      ],
      "source": [
        "print(type(\"j\")) #string"
      ]
    },
    {
      "cell_type": "code",
      "execution_count": null,
      "metadata": {
        "colab": {
          "base_uri": "https://localhost:8080/",
          "height": 34
        },
        "id": "KWOqxsgVm9pD",
        "outputId": "bc5d7d14-6818-49d9-c1d6-b24a496cf345"
      },
      "outputs": [
        {
          "name": "stdout",
          "output_type": "stream",
          "text": [
            "<class 'str'>\n"
          ]
        }
      ],
      "source": [
        "print(type(\"19\"))"
      ]
    },
    {
      "cell_type": "code",
      "execution_count": null,
      "metadata": {
        "colab": {
          "base_uri": "https://localhost:8080/",
          "height": 84
        },
        "id": "NVDacQWvnDoa",
        "outputId": "42bce20a-d6b1-4376-b4cc-4fbd17d6eea5"
      },
      "outputs": [
        {
          "name": "stdout",
          "output_type": "stream",
          "text": [
            "Hello there\n",
            "\n",
            "\n",
            "I am Sarah\n"
          ]
        }
      ],
      "source": [
        "print('''Hello there\n",
        "\n",
        "\n",
        "I am Sarah''') #special string"
      ]
    },
    {
      "cell_type": "code",
      "execution_count": null,
      "metadata": {
        "colab": {
          "base_uri": "https://localhost:8080/",
          "height": 128
        },
        "id": "NqkE2GScnKUl",
        "outputId": "b97d520e-780f-4c87-c571-10b04c8bdf1b"
      },
      "outputs": [
        {
          "ename": "SyntaxError",
          "evalue": "ignored",
          "output_type": "error",
          "traceback": [
            "\u001b[0;36m  File \u001b[0;32m\"<ipython-input-15-4f830fa5e8fb>\"\u001b[0;36m, line \u001b[0;32m1\u001b[0m\n\u001b[0;31m    print('Hello there\u001b[0m\n\u001b[0m                      ^\u001b[0m\n\u001b[0;31mSyntaxError\u001b[0m\u001b[0;31m:\u001b[0m EOL while scanning string literal\n"
          ]
        }
      ],
      "source": [
        "print('Hello there\n",
        "\n",
        "\n",
        "I am Sarah')"
      ]
    },
    {
      "cell_type": "markdown",
      "metadata": {
        "id": "Ez78_z7YnW08"
      },
      "source": [
        "## Boolean"
      ]
    },
    {
      "cell_type": "code",
      "execution_count": null,
      "metadata": {
        "colab": {
          "base_uri": "https://localhost:8080/",
          "height": 34
        },
        "id": "CGRTYPejnRR_",
        "outputId": "7a1b418b-d07c-423c-c718-46a5a2149659"
      },
      "outputs": [
        {
          "name": "stdout",
          "output_type": "stream",
          "text": [
            "<class 'bool'>\n"
          ]
        }
      ],
      "source": [
        "print(type(True)) #boolean data types"
      ]
    },
    {
      "cell_type": "code",
      "execution_count": null,
      "metadata": {
        "colab": {
          "base_uri": "https://localhost:8080/",
          "height": 34
        },
        "id": "Y-aXnivknaDW",
        "outputId": "07931f15-ec10-477f-f1e0-16a5d01884bc"
      },
      "outputs": [
        {
          "name": "stdout",
          "output_type": "stream",
          "text": [
            "<class 'bool'>\n"
          ]
        }
      ],
      "source": [
        "print(type(False))"
      ]
    },
    {
      "cell_type": "code",
      "execution_count": null,
      "metadata": {
        "colab": {
          "base_uri": "https://localhost:8080/",
          "height": 34
        },
        "id": "z00w0SxEndFJ",
        "outputId": "10aa098a-0883-4d90-9707-b20c6c0b1905"
      },
      "outputs": [
        {
          "name": "stdout",
          "output_type": "stream",
          "text": [
            "<class 'str'>\n"
          ]
        }
      ],
      "source": [
        "print(type(\"False\"))"
      ]
    },
    {
      "cell_type": "markdown",
      "metadata": {
        "id": "0NPvVgy4nkk4"
      },
      "source": [
        "# Numerical Methods"
      ]
    },
    {
      "cell_type": "code",
      "execution_count": null,
      "metadata": {
        "colab": {
          "base_uri": "https://localhost:8080/",
          "height": 34
        },
        "id": "432jdELYniLS",
        "outputId": "8ffdc9f8-a429-4084-8ddb-8e07813501b4"
      },
      "outputs": [
        {
          "name": "stdout",
          "output_type": "stream",
          "text": [
            "200\n"
          ]
        }
      ],
      "source": [
        "print(100*2) #multiplication"
      ]
    },
    {
      "cell_type": "code",
      "execution_count": null,
      "metadata": {
        "colab": {
          "base_uri": "https://localhost:8080/",
          "height": 34
        },
        "id": "xoHCsrv-nqlo",
        "outputId": "d46398be-2de7-4824-985f-dd5e87c754eb"
      },
      "outputs": [
        {
          "name": "stdout",
          "output_type": "stream",
          "text": [
            "50.0\n"
          ]
        }
      ],
      "source": [
        "print(100/2) #division"
      ]
    },
    {
      "cell_type": "code",
      "execution_count": null,
      "metadata": {
        "colab": {
          "base_uri": "https://localhost:8080/",
          "height": 34
        },
        "id": "LOR0pksUnuDB",
        "outputId": "307914e4-9c2f-4151-dd47-45f4e2a839fc"
      },
      "outputs": [
        {
          "name": "stdout",
          "output_type": "stream",
          "text": [
            "98\n"
          ]
        }
      ],
      "source": [
        "print(100-2)"
      ]
    },
    {
      "cell_type": "code",
      "execution_count": null,
      "metadata": {
        "colab": {
          "base_uri": "https://localhost:8080/",
          "height": 34
        },
        "id": "RTV1I_Esnxki",
        "outputId": "b1950ec2-51a6-439c-cd0f-19dc23b8fbeb"
      },
      "outputs": [
        {
          "name": "stdout",
          "output_type": "stream",
          "text": [
            "102\n"
          ]
        }
      ],
      "source": [
        "print(100+2) #addition"
      ]
    },
    {
      "cell_type": "code",
      "execution_count": null,
      "metadata": {
        "id": "IJI-QZrtn1A5"
      },
      "outputs": [],
      "source": [
        "#Note the data types"
      ]
    },
    {
      "cell_type": "code",
      "execution_count": null,
      "metadata": {
        "colab": {
          "base_uri": "https://localhost:8080/",
          "height": 34
        },
        "id": "YjZNwivvn3bR",
        "outputId": "7d0c3c45-377e-42ea-eff1-5cb37918365b"
      },
      "outputs": [
        {
          "name": "stdout",
          "output_type": "stream",
          "text": [
            "102.0\n"
          ]
        }
      ],
      "source": [
        "print(100+2.0)"
      ]
    },
    {
      "cell_type": "code",
      "execution_count": null,
      "metadata": {
        "colab": {
          "base_uri": "https://localhost:8080/",
          "height": 50
        },
        "id": "k6Su37rnn7Rz",
        "outputId": "fef4a1f1-9e7b-49a3-e8a6-52e0850c3257"
      },
      "outputs": [
        {
          "name": "stdout",
          "output_type": "stream",
          "text": [
            "<class 'int'>\n",
            "<class 'float'>\n"
          ]
        }
      ],
      "source": [
        "print(type(100-2)) #int\n",
        "print(type(100-2.0)) #float"
      ]
    },
    {
      "cell_type": "code",
      "execution_count": null,
      "metadata": {
        "colab": {
          "base_uri": "https://localhost:8080/",
          "height": 34
        },
        "id": "ZqR4B7lWoHUS",
        "outputId": "766330f6-4c82-4898-b3df-37f255142746"
      },
      "outputs": [
        {
          "name": "stdout",
          "output_type": "stream",
          "text": [
            "0\n"
          ]
        }
      ],
      "source": [
        "print(100%2) #reminder of division"
      ]
    },
    {
      "cell_type": "code",
      "execution_count": null,
      "metadata": {
        "colab": {
          "base_uri": "https://localhost:8080/",
          "height": 34
        },
        "id": "PwiIL-fioMyr",
        "outputId": "7b5f7739-191a-4130-fbea-d0a8ad17f84c"
      },
      "outputs": [
        {
          "name": "stdout",
          "output_type": "stream",
          "text": [
            "32\n"
          ]
        }
      ],
      "source": [
        "print(2**5) #power"
      ]
    },
    {
      "cell_type": "code",
      "execution_count": null,
      "metadata": {
        "colab": {
          "base_uri": "https://localhost:8080/",
          "height": 34
        },
        "id": "VO_cA8V2oPm1",
        "outputId": "44c899d3-8de7-419f-adb1-95819d79d8a2"
      },
      "outputs": [
        {
          "name": "stdout",
          "output_type": "stream",
          "text": [
            "502\n"
          ]
        }
      ],
      "source": [
        "# careful with the numerical methods\n",
        "print(2+100*5)"
      ]
    },
    {
      "cell_type": "code",
      "execution_count": null,
      "metadata": {
        "colab": {
          "base_uri": "https://localhost:8080/",
          "height": 34
        },
        "id": "-wlHgDGOoXJy",
        "outputId": "7e06dc1d-1d39-4ae2-a707-78175478f0d3"
      },
      "outputs": [
        {
          "name": "stdout",
          "output_type": "stream",
          "text": [
            "510\n"
          ]
        }
      ],
      "source": [
        "print((2+100)*5)"
      ]
    },
    {
      "cell_type": "code",
      "execution_count": null,
      "metadata": {
        "colab": {
          "base_uri": "https://localhost:8080/",
          "height": 34
        },
        "id": "93wuIO1rob0M",
        "outputId": "db5fb73a-b474-4096-ba0b-efe0893a4a4f"
      },
      "outputs": [
        {
          "name": "stdout",
          "output_type": "stream",
          "text": [
            "20\n"
          ]
        }
      ],
      "source": [
        "print(5*2**2) #I expect 100\n"
      ]
    },
    {
      "cell_type": "code",
      "execution_count": null,
      "metadata": {
        "colab": {
          "base_uri": "https://localhost:8080/",
          "height": 34
        },
        "id": "dNQuI3rwohI6",
        "outputId": "a9215911-b812-4da1-e478-02879cf83067"
      },
      "outputs": [
        {
          "name": "stdout",
          "output_type": "stream",
          "text": [
            "100\n"
          ]
        }
      ],
      "source": [
        "# :(\n",
        "print((5*2)**2)"
      ]
    },
    {
      "cell_type": "markdown",
      "metadata": {
        "id": "YQL8qZgwonQQ"
      },
      "source": [
        "Order:\n",
        "\n",
        "- \\*\\*\n",
        "- \\* and /\n",
        "- \\+ and -"
      ]
    },
    {
      "cell_type": "markdown",
      "metadata": {
        "id": "ieCtq1stq8VG"
      },
      "source": [
        "# Data Types Conversion"
      ]
    },
    {
      "cell_type": "code",
      "execution_count": null,
      "metadata": {
        "colab": {
          "base_uri": "https://localhost:8080/",
          "height": 67
        },
        "id": "Wb3WsuSmolg-",
        "outputId": "2eee84a7-562d-4bc4-a6a9-454384b8c0a6"
      },
      "outputs": [
        {
          "name": "stdout",
          "output_type": "stream",
          "text": [
            "<class 'bool'>\n",
            "True\n",
            "1\n"
          ]
        }
      ],
      "source": [
        "# From Boolean\n",
        "print(type(True))\n",
        "print(str(True))\n",
        "print(int(True))\n"
      ]
    },
    {
      "cell_type": "code",
      "execution_count": null,
      "metadata": {
        "colab": {
          "base_uri": "https://localhost:8080/",
          "height": 34
        },
        "id": "oJZ36-KPrHdi",
        "outputId": "1e9a69ef-700d-4449-d5df-0eff54aeb6f2"
      },
      "outputs": [
        {
          "name": "stdout",
          "output_type": "stream",
          "text": [
            "0\n"
          ]
        }
      ],
      "source": [
        "print(int(False))"
      ]
    },
    {
      "cell_type": "code",
      "execution_count": null,
      "metadata": {
        "id": "C6-Se1FErK-E"
      },
      "outputs": [],
      "source": [
        "#From Integer"
      ]
    },
    {
      "cell_type": "code",
      "execution_count": null,
      "metadata": {
        "colab": {
          "base_uri": "https://localhost:8080/",
          "height": 67
        },
        "id": "0I2loLGMrNvo",
        "outputId": "8b772a6e-7af9-4297-9733-7af08e8b2760"
      },
      "outputs": [
        {
          "name": "stdout",
          "output_type": "stream",
          "text": [
            "<class 'int'>\n",
            "-19.0\n",
            "-19\n"
          ]
        }
      ],
      "source": [
        "print(type(-19))\n",
        "print(float(-19))\n",
        "print(str(-19))"
      ]
    },
    {
      "cell_type": "code",
      "execution_count": null,
      "metadata": {
        "colab": {
          "base_uri": "https://localhost:8080/",
          "height": 34
        },
        "id": "HS0KU9UQrWgR",
        "outputId": "12b19bfe-380a-4c3f-ce8f-c1ba1c7048d3"
      },
      "outputs": [
        {
          "name": "stdout",
          "output_type": "stream",
          "text": [
            "True\n"
          ]
        }
      ],
      "source": [
        "print(bool(-19))"
      ]
    },
    {
      "cell_type": "code",
      "execution_count": null,
      "metadata": {
        "colab": {
          "base_uri": "https://localhost:8080/",
          "height": 34
        },
        "id": "GWgdIQyLrZdv",
        "outputId": "2af44de3-9dcf-4318-c67e-e5bdd1541ffc"
      },
      "outputs": [
        {
          "name": "stdout",
          "output_type": "stream",
          "text": [
            "False\n"
          ]
        }
      ],
      "source": [
        "print(bool(0))"
      ]
    },
    {
      "cell_type": "code",
      "execution_count": null,
      "metadata": {
        "colab": {
          "base_uri": "https://localhost:8080/",
          "height": 67
        },
        "id": "-pVq-dfrrbpu",
        "outputId": "adbcdb81-2dcb-45af-ecf6-b34701d4f45b"
      },
      "outputs": [
        {
          "name": "stdout",
          "output_type": "stream",
          "text": [
            "<class 'float'>\n",
            "19\n",
            "19.0\n"
          ]
        }
      ],
      "source": [
        "# From float\n",
        "print(type(19.0))\n",
        "print(int(19.0))\n",
        "print(str(19.0))"
      ]
    },
    {
      "cell_type": "code",
      "execution_count": null,
      "metadata": {
        "colab": {
          "base_uri": "https://localhost:8080/",
          "height": 34
        },
        "id": "arY_W0QYrjfN",
        "outputId": "2f0c9315-f17c-48ff-e438-4a9685b55fd0"
      },
      "outputs": [
        {
          "name": "stdout",
          "output_type": "stream",
          "text": [
            "True\n"
          ]
        }
      ],
      "source": [
        "print(bool(19.0))"
      ]
    },
    {
      "cell_type": "code",
      "execution_count": null,
      "metadata": {
        "colab": {
          "base_uri": "https://localhost:8080/",
          "height": 34
        },
        "id": "-DGh-A3vrnFF",
        "outputId": "4dfdff12-4a82-4216-fd1e-62a697e8c28e"
      },
      "outputs": [
        {
          "name": "stdout",
          "output_type": "stream",
          "text": [
            "False\n"
          ]
        }
      ],
      "source": [
        "print(bool(0.0))"
      ]
    },
    {
      "cell_type": "markdown",
      "metadata": {
        "id": "pd6m-ZR9rr_s"
      },
      "source": [
        "# String Methods"
      ]
    },
    {
      "cell_type": "markdown",
      "metadata": {
        "id": "Cs2bdyWNruJL"
      },
      "source": [
        "# Indexing"
      ]
    },
    {
      "cell_type": "code",
      "execution_count": null,
      "metadata": {
        "colab": {
          "base_uri": "https://localhost:8080/",
          "height": 162
        },
        "id": "7vwxZi9rrqOp",
        "outputId": "befaff2b-71b6-47bd-f5e4-145f22003708"
      },
      "outputs": [
        {
          "ename": "NameError",
          "evalue": "ignored",
          "output_type": "error",
          "traceback": [
            "\u001b[0;31m---------------------------------------------------------------------------\u001b[0m",
            "\u001b[0;31mNameError\u001b[0m                                 Traceback (most recent call last)",
            "\u001b[0;32m<ipython-input-41-9ba126b17b03>\u001b[0m in \u001b[0;36m<module>\u001b[0;34m()\u001b[0m\n\u001b[0;32m----> 1\u001b[0;31m \u001b[0mprint\u001b[0m\u001b[0;34m(\u001b[0m\u001b[0mname\u001b[0m\u001b[0;34m)\u001b[0m\u001b[0;34m\u001b[0m\u001b[0;34m\u001b[0m\u001b[0m\n\u001b[0m",
            "\u001b[0;31mNameError\u001b[0m: name 'name' is not defined"
          ]
        }
      ],
      "source": [
        "print(name)"
      ]
    },
    {
      "cell_type": "code",
      "execution_count": null,
      "metadata": {
        "id": "VMuT8XerryJD"
      },
      "outputs": [],
      "source": [
        "name=\"Sarah\""
      ]
    },
    {
      "cell_type": "code",
      "execution_count": null,
      "metadata": {
        "colab": {
          "base_uri": "https://localhost:8080/",
          "height": 34
        },
        "id": "MaP5Lpdtr0uA",
        "outputId": "2c987707-5ef7-449d-adf9-7c97a61c5b38"
      },
      "outputs": [
        {
          "name": "stdout",
          "output_type": "stream",
          "text": [
            "S\n"
          ]
        }
      ],
      "source": [
        "print(name[0])"
      ]
    },
    {
      "cell_type": "code",
      "execution_count": null,
      "metadata": {
        "colab": {
          "base_uri": "https://localhost:8080/",
          "height": 34
        },
        "id": "4K0OD_1gr4pn",
        "outputId": "57e462d7-a0bd-4085-ee48-0481d3169fdb"
      },
      "outputs": [
        {
          "name": "stdout",
          "output_type": "stream",
          "text": [
            "h\n"
          ]
        }
      ],
      "source": [
        "print(name[4])"
      ]
    },
    {
      "cell_type": "code",
      "execution_count": null,
      "metadata": {
        "colab": {
          "base_uri": "https://localhost:8080/",
          "height": 34
        },
        "id": "GoMa--gtr8UB",
        "outputId": "48014d65-237a-419e-ddbd-651ef66decbd"
      },
      "outputs": [
        {
          "name": "stdout",
          "output_type": "stream",
          "text": [
            "h\n"
          ]
        }
      ],
      "source": [
        "print(name[-1])"
      ]
    },
    {
      "cell_type": "code",
      "execution_count": null,
      "metadata": {
        "colab": {
          "base_uri": "https://localhost:8080/",
          "height": 34
        },
        "id": "iPioqu8cr-eX",
        "outputId": "af5ca133-603a-4e38-b541-c078e87e051c"
      },
      "outputs": [
        {
          "name": "stdout",
          "output_type": "stream",
          "text": [
            "Sar\n"
          ]
        }
      ],
      "source": [
        "print(name[0:3]) # Slicing"
      ]
    },
    {
      "cell_type": "code",
      "execution_count": null,
      "metadata": {
        "colab": {
          "base_uri": "https://localhost:8080/",
          "height": 34
        },
        "id": "ieI48VeysHb4",
        "outputId": "c27ece9c-2df3-4524-b21b-8e590f730945"
      },
      "outputs": [
        {
          "name": "stdout",
          "output_type": "stream",
          "text": [
            "Sar\n"
          ]
        }
      ],
      "source": [
        "print(name[:3])"
      ]
    },
    {
      "cell_type": "code",
      "execution_count": null,
      "metadata": {
        "colab": {
          "base_uri": "https://localhost:8080/",
          "height": 34
        },
        "id": "CTHwSDaXsKPB",
        "outputId": "f54e0ca1-65ac-4983-8bc9-3029ff2c85b5"
      },
      "outputs": [
        {
          "name": "stdout",
          "output_type": "stream",
          "text": [
            "ah\n"
          ]
        }
      ],
      "source": [
        "print(name[3:])"
      ]
    },
    {
      "cell_type": "code",
      "execution_count": null,
      "metadata": {
        "colab": {
          "base_uri": "https://localhost:8080/",
          "height": 34
        },
        "id": "vaRZzTYtsN0z",
        "outputId": "ed86728b-52c1-4d38-b2cc-a007bfc1e21d"
      },
      "outputs": [
        {
          "name": "stdout",
          "output_type": "stream",
          "text": [
            "Sarah\n"
          ]
        }
      ],
      "source": [
        "print(name[:])"
      ]
    },
    {
      "cell_type": "code",
      "execution_count": null,
      "metadata": {
        "colab": {
          "base_uri": "https://localhost:8080/",
          "height": 34
        },
        "id": "DF89enfMsQ1h",
        "outputId": "f8e70aec-1086-4af1-bf81-f64ec3c4b6c2"
      },
      "outputs": [
        {
          "name": "stdout",
          "output_type": "stream",
          "text": [
            "Srh\n"
          ]
        }
      ],
      "source": [
        "print(name[::2])"
      ]
    },
    {
      "cell_type": "code",
      "execution_count": null,
      "metadata": {
        "colab": {
          "base_uri": "https://localhost:8080/",
          "height": 34
        },
        "id": "wX3-TJN5sUqY",
        "outputId": "3f567c10-68f6-4d55-ab16-b1dc7cde857a"
      },
      "outputs": [
        {
          "name": "stdout",
          "output_type": "stream",
          "text": [
            "hrS\n"
          ]
        }
      ],
      "source": [
        "print(name[::-2])"
      ]
    },
    {
      "cell_type": "markdown",
      "metadata": {
        "id": "uZmjEkmMsDgs"
      },
      "source": [
        "## Numerical operators"
      ]
    },
    {
      "cell_type": "code",
      "execution_count": null,
      "metadata": {
        "colab": {
          "base_uri": "https://localhost:8080/",
          "height": 34
        },
        "id": "9-PFa9hasBOE",
        "outputId": "c697ff5e-72bd-4687-fc40-bc78a04ab5bc"
      },
      "outputs": [
        {
          "name": "stdout",
          "output_type": "stream",
          "text": [
            "SarahSarah\n"
          ]
        }
      ],
      "source": [
        "print(name+name)"
      ]
    },
    {
      "cell_type": "code",
      "execution_count": null,
      "metadata": {
        "colab": {
          "base_uri": "https://localhost:8080/",
          "height": 34
        },
        "id": "6SHcp_RVseBt",
        "outputId": "079e5404-03e2-4350-dd84-04c5ba252a60"
      },
      "outputs": [
        {
          "name": "stdout",
          "output_type": "stream",
          "text": [
            "Sarah Sarah\n"
          ]
        }
      ],
      "source": [
        "print(name+\" \"+name)"
      ]
    },
    {
      "cell_type": "code",
      "execution_count": null,
      "metadata": {
        "colab": {
          "base_uri": "https://localhost:8080/",
          "height": 34
        },
        "id": "5tGZ5xBasgwl",
        "outputId": "4b97086c-27bc-4be4-fb90-5d6d8c55bacb"
      },
      "outputs": [
        {
          "name": "stdout",
          "output_type": "stream",
          "text": [
            "SarahSarahSarah\n"
          ]
        }
      ],
      "source": [
        "print(name*3)"
      ]
    },
    {
      "cell_type": "code",
      "execution_count": null,
      "metadata": {
        "id": "1aniEN8LsixC"
      },
      "outputs": [],
      "source": [
        "#Be careful with these!"
      ]
    },
    {
      "cell_type": "markdown",
      "metadata": {
        "id": "DnG1k7kusn61"
      },
      "source": [
        "## More Functions "
      ]
    },
    {
      "cell_type": "code",
      "execution_count": null,
      "metadata": {
        "colab": {
          "base_uri": "https://localhost:8080/",
          "height": 34
        },
        "id": "pC-hWslIslr1",
        "outputId": "3e471ae9-f2ae-4ded-eb4c-fb673025174d"
      },
      "outputs": [
        {
          "name": "stdout",
          "output_type": "stream",
          "text": [
            "Sarah\n"
          ]
        }
      ],
      "source": [
        "print(name)"
      ]
    },
    {
      "cell_type": "code",
      "execution_count": null,
      "metadata": {
        "colab": {
          "base_uri": "https://localhost:8080/",
          "height": 34
        },
        "id": "TBJOj0Bwst2y",
        "outputId": "148828d0-6500-4cdc-9071-580d6df5797f"
      },
      "outputs": [
        {
          "name": "stdout",
          "output_type": "stream",
          "text": [
            "sarah\n"
          ]
        }
      ],
      "source": [
        "print(name.lower())"
      ]
    },
    {
      "cell_type": "code",
      "execution_count": null,
      "metadata": {
        "colab": {
          "base_uri": "https://localhost:8080/",
          "height": 34
        },
        "id": "oH7-cjj_sv-J",
        "outputId": "b31b624f-7b5d-4429-bacc-af2803ea9860"
      },
      "outputs": [
        {
          "name": "stdout",
          "output_type": "stream",
          "text": [
            "SARAH\n"
          ]
        }
      ],
      "source": [
        "print(name.upper())"
      ]
    },
    {
      "cell_type": "markdown",
      "metadata": {
        "id": "k9kH1xA4ubP1"
      },
      "source": [
        "(find more string functions https://docs.python.org/2.5/lib/string-methods.html)\n",
        "\n",
        "```\n",
        "# This is formatted as code\n",
        "```\n",
        "\n"
      ]
    },
    {
      "cell_type": "markdown",
      "metadata": {
        "id": "4ibiLfKKugjg"
      },
      "source": [
        "# Possible Errors"
      ]
    },
    {
      "cell_type": "code",
      "execution_count": null,
      "metadata": {
        "colab": {
          "base_uri": "https://localhost:8080/",
          "height": 162
        },
        "id": "RdQECrNus1uV",
        "outputId": "0f4d67fa-415f-48db-ad07-88e37ccfa016"
      },
      "outputs": [
        {
          "ename": "TypeError",
          "evalue": "ignored",
          "output_type": "error",
          "traceback": [
            "\u001b[0;31m---------------------------------------------------------------------------\u001b[0m",
            "\u001b[0;31mTypeError\u001b[0m                                 Traceback (most recent call last)",
            "\u001b[0;32m<ipython-input-61-dbb00eef921d>\u001b[0m in \u001b[0;36m<module>\u001b[0;34m()\u001b[0m\n\u001b[0;32m----> 1\u001b[0;31m \u001b[0mprint\u001b[0m\u001b[0;34m(\u001b[0m\u001b[0;34m\"Sarah\"\u001b[0m\u001b[0;34m*\u001b[0m\u001b[0;34m\"Sarah\"\u001b[0m\u001b[0;34m)\u001b[0m\u001b[0;34m\u001b[0m\u001b[0;34m\u001b[0m\u001b[0m\n\u001b[0m",
            "\u001b[0;31mTypeError\u001b[0m: can't multiply sequence by non-int of type 'str'"
          ]
        }
      ],
      "source": [
        "print(\"Sarah\"*\"Sarah\") #Type Error str*str not possible"
      ]
    },
    {
      "cell_type": "code",
      "execution_count": null,
      "metadata": {
        "colab": {
          "base_uri": "https://localhost:8080/",
          "height": 178
        },
        "id": "hlFNcRGguk2Z",
        "outputId": "580a323b-8148-451d-ce9f-3eda37a9edea"
      },
      "outputs": [
        {
          "ename": "ValueError",
          "evalue": "ignored",
          "output_type": "error",
          "traceback": [
            "\u001b[0;31m---------------------------------------------------------------------------\u001b[0m",
            "\u001b[0;31mValueError\u001b[0m                                Traceback (most recent call last)",
            "\u001b[0;32m<ipython-input-62-218483ae53bf>\u001b[0m in \u001b[0;36m<module>\u001b[0;34m()\u001b[0m\n\u001b[1;32m      1\u001b[0m \u001b[0;31m#value errpr\u001b[0m\u001b[0;34m\u001b[0m\u001b[0;34m\u001b[0m\u001b[0;34m\u001b[0m\u001b[0m\n\u001b[0;32m----> 2\u001b[0;31m \u001b[0mprint\u001b[0m\u001b[0;34m(\u001b[0m\u001b[0mint\u001b[0m\u001b[0;34m(\u001b[0m\u001b[0;34m\"3.5\"\u001b[0m\u001b[0;34m)\u001b[0m\u001b[0;34m)\u001b[0m\u001b[0;34m\u001b[0m\u001b[0;34m\u001b[0m\u001b[0m\n\u001b[0m",
            "\u001b[0;31mValueError\u001b[0m: invalid literal for int() with base 10: '3.5'"
          ]
        }
      ],
      "source": [
        "#value errpr\n",
        "print(int(\"3.5\"))"
      ]
    },
    {
      "cell_type": "code",
      "execution_count": null,
      "metadata": {
        "colab": {
          "base_uri": "https://localhost:8080/",
          "height": 34
        },
        "id": "ZVkbaoSXvB8c",
        "outputId": "724f09ef-5ef0-450d-e197-51df28c23ea8"
      },
      "outputs": [
        {
          "name": "stdout",
          "output_type": "stream",
          "text": [
            "3\n"
          ]
        }
      ],
      "source": [
        "print(int(\"3\"))"
      ]
    },
    {
      "cell_type": "code",
      "execution_count": null,
      "metadata": {
        "colab": {
          "base_uri": "https://localhost:8080/",
          "height": 34
        },
        "id": "oMRMnEiNuxK7",
        "outputId": "8499e468-9b26-4666-c0c9-e79b31003be4"
      },
      "outputs": [
        {
          "name": "stdout",
          "output_type": "stream",
          "text": [
            "3\n"
          ]
        }
      ],
      "source": [
        "#Correction: \n",
        "print(int(float(\"3.5\")))"
      ]
    },
    {
      "cell_type": "code",
      "execution_count": null,
      "metadata": {
        "colab": {
          "base_uri": "https://localhost:8080/",
          "height": 178
        },
        "id": "C8mwjCe1u49V",
        "outputId": "0e4f779f-caf4-4ffc-f2bc-d96a6fcbf150"
      },
      "outputs": [
        {
          "ename": "NameError",
          "evalue": "ignored",
          "output_type": "error",
          "traceback": [
            "\u001b[0;31m---------------------------------------------------------------------------\u001b[0m",
            "\u001b[0;31mNameError\u001b[0m                                 Traceback (most recent call last)",
            "\u001b[0;32m<ipython-input-64-bdfd2d0d4c6f>\u001b[0m in \u001b[0;36m<module>\u001b[0;34m()\u001b[0m\n\u001b[1;32m      1\u001b[0m \u001b[0;31m#Name error\u001b[0m\u001b[0;34m\u001b[0m\u001b[0;34m\u001b[0m\u001b[0;34m\u001b[0m\u001b[0m\n\u001b[0;32m----> 2\u001b[0;31m \u001b[0mprintt\u001b[0m\u001b[0;34m(\u001b[0m\u001b[0;34m\"test\"\u001b[0m\u001b[0;34m)\u001b[0m\u001b[0;34m\u001b[0m\u001b[0;34m\u001b[0m\u001b[0m\n\u001b[0m",
            "\u001b[0;31mNameError\u001b[0m: name 'printt' is not defined"
          ]
        }
      ],
      "source": [
        "#Name error\n",
        "printt(\"test\")"
      ]
    },
    {
      "cell_type": "code",
      "execution_count": null,
      "metadata": {
        "id": "fjHRg3vvu9VP"
      },
      "outputs": [],
      "source": [
        "# THANK YOU"
      ]
    },
    {
      "cell_type": "markdown",
      "metadata": {
        "id": "Teb12KocvQSp"
      },
      "source": [
        "# THANK YOU"
      ]
    },
    {
      "cell_type": "code",
      "execution_count": null,
      "metadata": {
        "id": "lcZvB9ydvOyo"
      },
      "outputs": [],
      "source": []
    }
  ],
  "metadata": {
    "colab": {
      "authorship_tag": "ABX9TyP3lYf9cWndIl6D2Bxq0mWi",
      "include_colab_link": true,
      "name": "02 Data-Types.ipynb",
      "provenance": [],
      "toc_visible": true
    },
    "kernelspec": {
      "display_name": "Python 3",
      "name": "python3"
    }
  },
  "nbformat": 4,
  "nbformat_minor": 0
}
