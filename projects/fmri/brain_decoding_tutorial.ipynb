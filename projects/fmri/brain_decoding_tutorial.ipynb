{
  "cells": [
    {
      "cell_type": "markdown",
      "metadata": {
        "colab_type": "text",
        "id": "view-in-github"
      },
      "source": [
        "<a href=\"https://colab.research.google.com/github/arabs-in-neuro/intro_to_comp_neuro/blob/main/projects/fmri/brain_decoding_tutorial.ipynb\" target=\"_parent\"><img src=\"https://colab.research.google.com/assets/colab-badge.svg\" alt=\"Open In Colab\"/></a>"
      ]
    },
    {
      "cell_type": "markdown",
      "metadata": {
        "id": "qe9iego4ytiz"
      },
      "source": [
        "# Brain Decoding Tutorial\n",
        "Mohamed Abdelhack\n",
        "\n",
        "In order to understand the way the brain encodes sensory information, we need to find a relation between the stimulus and the measured brain response. The brain is always active as it handles a plethora of information related to different functions both internal and external.\n",
        "\n",
        "In this tutorial, we will deal with data measured during visual stimulation experiments and investigate areas in the brain that respond to these visual images."
      ]
    },
    {
      "cell_type": "code",
      "execution_count": null,
      "metadata": {
        "cellView": "form",
        "colab": {
          "base_uri": "https://localhost:8080/"
        },
        "collapsed": true,
        "id": "u5QFgHpqTWel",
        "outputId": "fd25026c-5c98-4904-8710-7353b9dec3e4"
      },
      "outputs": [],
      "source": [
        "# @markdown [Prep] Run this cell to load data and install libraries\n",
        "# data download and library installation\n",
        "# Generic object decoding data\n",
        "!wget -q -O data.h5 https://ndownloader.figshare.com/files/15049646\n",
        "# Generic object decoding features\n",
        "!wget -q -O features.h5 https://ndownloader.figshare.com/files/15015971\n",
        "# Download ImageNet labels\n",
        "!wget -q -O imagenet_classes.txt https://raw.githubusercontent.com/pytorch/hub/master/imagenet_classes.txt\n",
        "\n",
        "!pip install -q bdpy\n",
        "!pip install -q seaborn_image"
      ]
    },
    {
      "cell_type": "code",
      "execution_count": null,
      "metadata": {
        "id": "cELTzxjuOJjE"
      },
      "outputs": [],
      "source": [
        "# @markdown Include required libraries\n",
        "import bdpy\n",
        "from bdpy.util import get_refdata\n",
        "import numpy as np\n",
        "import pandas as pd\n",
        "import seaborn_image as isns\n",
        "import seaborn as sns\n",
        "import ipywidgets as widgets  # interactive display\n",
        "import matplotlib.pyplot as plt\n",
        "from random import seed\n",
        "from sklearn.linear_model import LogisticRegression, LinearRegression, Lasso, Ridge\n",
        "from sklearn.model_selection import train_test_split, cross_val_score\n",
        "import urllib\n",
        "from PIL import Image\n",
        "from torchvision import transforms\n",
        "import torch"
      ]
    },
    {
      "cell_type": "code",
      "execution_count": null,
      "metadata": {
        "id": "u6MozADqdQBz"
      },
      "outputs": [],
      "source": [
        "rois = {'VC' : 'ROI_VC = 1',\n",
        "        'LVC' : 'ROI_LVC = 1',\n",
        "        'HVC' : 'ROI_HVC = 1',\n",
        "        'V1' : 'ROI_V1 = 1',\n",
        "        'V2' : 'ROI_V2 = 1',\n",
        "        'V3' : 'ROI_V3 = 1',\n",
        "        'V4' : 'ROI_V4 = 1',\n",
        "        'LOC' : 'ROI_LOC = 1',\n",
        "        'FFA' : 'ROI_FFA = 1',\n",
        "        'PPA' : 'ROI_PPA = 1'}\n",
        "\n",
        "def seed_worker(worker_id):\n",
        "    worker_seed = torch.initial_seed() % 2**32\n",
        "    np.random.seed(worker_id)\n",
        "    seed(worker_id)"
      ]
    },
    {
      "cell_type": "markdown",
      "metadata": {
        "id": "8A51ZftXzndt"
      },
      "source": [
        "## Part 1: Classification Models"
      ]
    },
    {
      "cell_type": "markdown",
      "metadata": {
        "id": "DdA4bGUHy5au"
      },
      "source": [
        "### Generalized Linear Models (GLM)\n"
      ]
    },
    {
      "cell_type": "markdown",
      "metadata": {
        "id": "f2oPh1ZOPvcb"
      },
      "source": [
        "#### Linear Regression"
      ]
    },
    {
      "cell_type": "code",
      "execution_count": null,
      "metadata": {
        "colab": {
          "base_uri": "https://localhost:8080/",
          "height": 447
        },
        "id": "qLJ03bS8Nwr4",
        "outputId": "c462f2d3-ced1-46a1-a891-df090a454430"
      },
      "outputs": [],
      "source": [
        "# Simulate linear dependency\n",
        "\n",
        "# Generate 1000 points randomly\n",
        "x1 = np.random.normal(size=1000)\n",
        "noise = np.random.normal(scale=0.3, size=1000)\n",
        "y1 = 1.5 * x1\n",
        "x1 = x1 + noise\n",
        "sns.scatterplot(x=x1, y=y1)\n",
        "plt.axis('equal')"
      ]
    },
    {
      "cell_type": "code",
      "execution_count": null,
      "metadata": {
        "colab": {
          "base_uri": "https://localhost:8080/",
          "height": 567,
          "referenced_widgets": [
            "fe7ea90373bc4f27be7eed19c797d88d",
            "d11b9a71a3884cf7882374c49afc62e7",
            "2c07f0412f2e426bac31cb757016cc8e",
            "058dee54c2a1476ebc400decb934dd13",
            "3d4cf4d33a3d48b480ee2e36d44efb92",
            "50c68fcc51284a4f8f0dd93780b80782",
            "7b2caaf283944073960eb7b012de9106",
            "12be824c771242b4a54caa1d12d11922",
            "7a91458df4fc4497889a69ebb383c8fe"
          ]
        },
        "id": "5EQ4J1BsPMbC",
        "outputId": "e8217931-fd02-49dc-c8be-ba835825cf02"
      },
      "outputs": [],
      "source": [
        "my_layout = widgets.Layout()\n",
        "\n",
        "# @markdown Make sure you execute this cell to enable the widget!\n",
        "my_layout.width = '450px'\n",
        "@widgets.interact(\n",
        "    slope=widgets.FloatSlider(0., min=-3., max=3., step=.1,\n",
        "                               layout=my_layout),\n",
        "    offset=widgets.FloatSlider(0., min=-3., max=3., step=0.2,\n",
        "                                layout=my_layout)\n",
        ")\n",
        "\n",
        "def diff_DC(slope=200., offset=10.):\n",
        "  fig, axes = plt.subplots(1, 2, sharex=True, figsize=(10,5))\n",
        "  sns.scatterplot(x=x1, y=y1, ax=axes[0])\n",
        "  x_data = np.array([-3, 3])\n",
        "\n",
        "  y_data = x_data * slope + offset\n",
        "  sns.lineplot(x=x_data, y=y_data, ax=axes[0], color='k')\n",
        "  axes[0].axis('equal')\n",
        "  axes[0].set_xlim(-3, 3)\n",
        "  axes[0].set_ylim(-3, 3)\n",
        "\n",
        "  error = np.square(y1 - (x1 * slope + offset))\n",
        "  axes[1].stem(x1, error, use_line_collection=True)\n",
        "  axes[1].set_ylim(0, 5)\n",
        "  plt.show()"
      ]
    },
    {
      "cell_type": "markdown",
      "metadata": {
        "id": "NmqdqSmmQNUY"
      },
      "source": [
        "#### Logistic Regression"
      ]
    },
    {
      "cell_type": "code",
      "execution_count": null,
      "metadata": {
        "colab": {
          "base_uri": "https://localhost:8080/",
          "height": 509,
          "referenced_widgets": [
            "cb5d434e610c4ac7b5be242d5542b9a0",
            "647fd0c15f19482694b450480eb0c977",
            "32831751c1d243c495deb6c04a79dea8",
            "0ed8a1cf68f148488a53407d4a9fa375",
            "09f57c70ae1645ef82a2ff86548ad940",
            "93b5ad5bbd284bd2b455c77f56f74228",
            "394f68112e9e4314ad497f40b9720fad",
            "9c4bc60d41754ee0a98459c567e6b18c",
            "13732104693848949895689d8afcbb23"
          ]
        },
        "id": "2Yne1OkG6ga_",
        "outputId": "471465ca-03b7-4e20-a3d2-1a69975031b5"
      },
      "outputs": [],
      "source": [
        "# Logistic regression\n",
        "x1 = np.random.normal(size=1000)\n",
        "# noise = np.random.normal(scale=0.3, size=1000)\n",
        "y1 = 1.5 * x1\n",
        "y1_binary = (y1 > 0.0).astype(float)\n",
        "\n",
        "my_layout = widgets.Layout()\n",
        "\n",
        "def BinaryCrossEntropy(y_true, y_pred):\n",
        "    y_pred = np.clip(y_pred, 1e-7, 1 - 1e-7)\n",
        "    term_0 = (1-y_true) * np.log(1-y_pred + 1e-7)\n",
        "    term_1 = y_true * np.log(y_pred + 1e-7)\n",
        "    return -np.mean(term_0+term_1, axis=0)\n",
        "\n",
        "# @markdown Make sure you execute this cell to enable the widget!\n",
        "my_layout.width = '450px'\n",
        "@widgets.interact(\n",
        "    slope=widgets.FloatSlider(1., min=0., max=10., step=.1,\n",
        "                               layout=my_layout),\n",
        "    offset=widgets.FloatSlider(0., min=-3., max=3., step=0.2,\n",
        "                                layout=my_layout)\n",
        ")\n",
        "\n",
        "\n",
        "\n",
        "def diff_DC(slope=0., offset=0.):\n",
        "  fig, axes = plt.subplots(1, 2, sharex=False, figsize=(10,5))\n",
        "  sns.scatterplot(x=x1, y=y1_binary, ax=axes[0])\n",
        "  x_data = np.linspace(-3, 3, 1000)\n",
        "\n",
        "  y_data = 1 / (1 + np.exp(-(x_data * slope + offset)))\n",
        "\n",
        "  sns.lineplot(x=x_data, y=y_data, ax=axes[0], color='k')\n",
        "  axes[0].axis('equal')\n",
        "  axes[0].set_xlim(-3, 3)\n",
        "  axes[0].set_ylim(-0.1, 1.1)\n",
        "\n",
        "  error = BinaryCrossEntropy(y1_binary, 1 / (1 + np.exp(-(x1 * slope + offset))))\n",
        "  sns.barplot(x=[0], y=[error], ax=axes[1])\n",
        "  axes[1].set_ylim(-0.1, 1.1)\n",
        "  plt.show()\n"
      ]
    },
    {
      "cell_type": "markdown",
      "metadata": {
        "id": "2uoO-UheqFOV"
      },
      "source": [
        "By moving the sliders, you are modifying the parameters of the linear regression model to produce the model that most likely has generated the data. This case of one input and one output is trivial but usually you will get multiple input variables for the output with some of the inputs related to the output to different degrees and some not related at all. The question here is how to tune your model to have the correct attributions between inputs and outputs and how to automate the process. One way to do that is to find the error between the real output features and the predicted output features of the model and try to minimize that. This loss is called mean squared error loss and is used predominantly in linear regression:\n",
        "\n",
        "$$\\text{MSE} = \\frac{1}{N} \\sum_{i=1}^{N} \\left( y_i - \\hat{y}_i \\right)^2$$\n",
        "\n",
        "\n",
        "While for logistic regression, binary cross entropy function is used instead:\n",
        "\n",
        "\n",
        "$$\\text{BCE} = -\\frac{1}{N} \\sum_{i=1}^{N} \\left[ y_i \\log(\\hat{y}_i) + (1 - y_i) \\log(1 - \\hat{y}_i) \\right]$$\n",
        "\n",
        "\n",
        "Minimizing the loss function can be achieved by multiple ways such as gradient descent. This is readily implemented in scikit learn for you as follows."
      ]
    },
    {
      "cell_type": "code",
      "execution_count": null,
      "metadata": {
        "colab": {
          "base_uri": "https://localhost:8080/"
        },
        "id": "J9o7hnNz23XR",
        "outputId": "9019065c-3336-495f-d1f2-08f5fed891b2"
      },
      "outputs": [],
      "source": [
        "linear_model = LinearRegression()\n",
        "linear_model.fit(np.expand_dims(x1, axis=1), y1)\n",
        "print(linear_model.coef_)"
      ]
    },
    {
      "cell_type": "markdown",
      "metadata": {
        "id": "r2EoQBzABYfO"
      },
      "source": [
        "You can see the predicted weight is very close to the real one. At the end of the notebook, there is an exercise if you are interested in how this actually works on the inside.\n",
        "\n",
        "Now let’s consider a case of fewer points and three inputs. You can now tune four parameters. In this condition, we want to test the quality of our model so we hide some points (test set) and you should tune the parameters on the visible points only (training set). First, imaging that the output is only dependent on x1 and observe the model."
      ]
    },
    {
      "cell_type": "code",
      "execution_count": null,
      "metadata": {
        "id": "2MumXBdL3Y5M"
      },
      "outputs": [],
      "source": [
        "seed_worker(0)\n",
        "\n",
        "x1 = np.random.normal(size=10)\n",
        "noise1 = np.random.normal(scale=1, size=10)\n",
        "x2 = np.random.normal(size=10)\n",
        "noise2 = np.random.normal(scale=1, size=10)\n",
        "x3 = np.random.normal(size=10, scale=1)\n",
        "noise3 = np.random.normal(scale=1, size=10)\n",
        "y1 = 0.9 * x1 + 0.4 * x2\n",
        "x1 = x1 + noise1\n",
        "x2 = x2 + noise2\n",
        "x3 = x3 + noise3"
      ]
    },
    {
      "cell_type": "code",
      "execution_count": null,
      "metadata": {
        "colab": {
          "base_uri": "https://localhost:8080/",
          "height": 695,
          "referenced_widgets": [
            "088316295c6a4462a536ab2326bd0188",
            "a73e46dcbea84070af60fee6e501f95f",
            "7fe2d5261d794d69b411270aaeabaa8e",
            "ad5f787ad1d14befada8f0f8c72ce521",
            "b24ce46bbd724a60bc80abef08eab1ae",
            "14bcf6ba2a77477ea13346b4ea8b1076",
            "6d89f450f1894aa9a4490c3839028529",
            "19c34fa6815148239b72602d6b104974",
            "0daa8db59904480b9049127cf5c4a565",
            "0f77da9a8c4f43a98aecbf9fc182a35c",
            "c0c2b510a99c4c39aea727e447d54132",
            "68bfd4f06f03490bb6e5de68c1d7e204",
            "e6180e5434074de7a916648f8280e659",
            "4011cd0b71484ed2be5f5d6fb329834f",
            "87730ee717b44cb6ac0e7444790f2916",
            "9a63d4cd68504478af8b9a8ad511b63f",
            "1569de72d3dc449b9afa4e9e9d1dfd88",
            "ccb3a2e0403847f0a6ac0aa5d625dd01"
          ]
        },
        "id": "rHogs0r024He",
        "outputId": "fd9d763a-9ce2-4a74-9116-521c91547d59"
      },
      "outputs": [],
      "source": [
        "my_layout = widgets.Layout()\n",
        "\n",
        "# @markdown Make sure you execute this cell to enable the widget!\n",
        "my_layout.width = '450px'\n",
        "@widgets.interact(\n",
        "    beta0=widgets.FloatSlider(0., min=-4., max=4., step=.1,\n",
        "                               layout=my_layout),\n",
        "    beta1=widgets.FloatSlider(0., min=-4., max=4., step=.1,\n",
        "                               layout=my_layout),\n",
        "    beta2=widgets.FloatSlider(0., min=-4., max=4., step=.1,\n",
        "                               layout=my_layout),\n",
        "    beta3=widgets.FloatSlider(0., min=-4., max=4., step=.1,\n",
        "                                layout=my_layout),\n",
        "    proportion_train=widgets.FloatSlider(0.3, min=0., max=100., step=10.,\n",
        "                                layout=my_layout),\n",
        "    flag_m=widgets.Checkbox(value=False, description='show_test', disabled=False, indent=False)\n",
        ")\n",
        "\n",
        "def diff_DC(beta0=0., beta1=0., beta2=0.,\n",
        "            beta3=0., proportion_train=0.5, flag_m=False):\n",
        "  fig, axes = plt.subplots(1, 2, sharex=True, figsize=(10,5))\n",
        "  number_of_train_points = int(proportion_train * x1.shape[0])\n",
        "  sns.scatterplot(x=x1[:number_of_train_points],\n",
        "                  y=y1[:number_of_train_points],\n",
        "                  ax=axes[0], color='r')\n",
        "  if flag_m:\n",
        "    sns.scatterplot(x=x1[number_of_train_points:],\n",
        "                  y=y1[number_of_train_points:],\n",
        "                  ax=axes[0], color='g')\n",
        "  x_data = x1\n",
        "\n",
        "  y_data = x1 * beta1 + x2 * beta2 + x3 * beta3 + beta0\n",
        "  sns.lineplot(x=x_data, y=y_data, ax=axes[0], color='k')\n",
        "  axes[0].axis('equal')\n",
        "  axes[0].set_xlim(-3, 3)\n",
        "  axes[0].set_ylim(-3, 3)\n",
        "\n",
        "  error = np.abs(y1 - y_data)\n",
        "  axes[1].stem(x1[:number_of_train_points], error[:number_of_train_points], linefmt='red', markerfmt='ro', use_line_collection=True)\n",
        "  if flag_m:\n",
        "    axes[1].stem(x1[number_of_train_points:], error[number_of_train_points:], linefmt='green', markerfmt='go', use_line_collection=True)\n",
        "  axes[1].set_ylim(0, 5)\n",
        "  plt.show()"
      ]
    },
    {
      "cell_type": "code",
      "execution_count": null,
      "metadata": {
        "colab": {
          "base_uri": "https://localhost:8080/"
        },
        "id": "Xjl5T0qVkj1q",
        "outputId": "58a27660-8e06-47c7-eecb-175dfa597596"
      },
      "outputs": [],
      "source": [
        "# Prepare training and test sets\n",
        "X = np.vstack((x1, x2, x3)).T\n",
        "X_train = X[:3, :]\n",
        "X_test = X[3:, :]\n",
        "y_train = y1[:3]\n",
        "y_test = y1[3:]\n",
        "\n",
        "# Try these parameters in the widget\n",
        "print(np.linalg.inv(X_train).dot(y1[:3]))"
      ]
    },
    {
      "cell_type": "markdown",
      "metadata": {
        "id": "Z_cu8_QmBgX5"
      },
      "source": [
        "Discuss: how optimal is this model? What is the source of error?\n",
        "\n",
        "Now let’s consider the case that all the inputs have an association with the model and try to minimize the error in the training set.\n",
        "Discuss: how optimal is this model? What is the source of error?\n"
      ]
    },
    {
      "cell_type": "markdown",
      "metadata": {
        "id": "ZmsZSVUGBoD6"
      },
      "source": [
        "Now try to re-implement the same optimization in scikit-learn?"
      ]
    },
    {
      "cell_type": "code",
      "execution_count": null,
      "metadata": {
        "colab": {
          "base_uri": "https://localhost:8080/"
        },
        "id": "AoPogrMSqDxk",
        "outputId": "594e18a6-a5b4-4e97-f8b2-ce0d306e3b1e"
      },
      "outputs": [],
      "source": [
        "linear_model = LinearRegression()\n",
        "linear_model.fit(X_train, y_train)\n",
        "print(linear_model.coef_)"
      ]
    },
    {
      "cell_type": "markdown",
      "metadata": {
        "id": "dcWr2TAzByAD"
      },
      "source": [
        "Which model did you get?\n",
        "\n",
        "What is your observation of the weight values in comparison to the true weights?\n",
        "\n",
        "Can you propose a way to prevent the model from doing this?\n"
      ]
    },
    {
      "cell_type": "markdown",
      "metadata": {
        "id": "ae3ABT4jB7Jy"
      },
      "source": [
        "You can notice that overfitting is the more common output and it is mainly associated with larger than reasonable weights overall. Introducing a penalty on the values of the weights can decrease the possibility of having large weights. This can be achieved by either L1 or L2 regularization. Let’s implement one of them in the loss function.\n",
        "\n",
        "L1 loss function:\n",
        "\n",
        "$$\n",
        "\\text{Loss} = \\text{Error}(y, \\hat{y}) + \\lambda \\sum_{i=1}^{N} \\left| w_i \\right|\n",
        "$$\n",
        "\n",
        "\n",
        "L2 loss function:\n",
        "\n",
        "$$\n",
        "\\text{Loss} = \\text{Error}(y, \\hat{y}) + \\lambda \\sum_{i=1}^{N} w_i^2\n",
        "$$\n",
        "\n",
        "\n",
        "Where λ controls the amount of regularization."
      ]
    },
    {
      "cell_type": "code",
      "execution_count": null,
      "metadata": {
        "colab": {
          "base_uri": "https://localhost:8080/"
        },
        "id": "d3jFvh7GB-Wu",
        "outputId": "c557a6d7-d7fd-4ca1-86de-0a9ef482cb1e"
      },
      "outputs": [],
      "source": [
        "linear_model = Ridge()\n",
        "linear_model.fit(X_train, y_train)\n",
        "print(linear_model.coef_)"
      ]
    },
    {
      "cell_type": "markdown",
      "metadata": {
        "id": "qghQD22QB_Cy"
      },
      "source": [
        "What do you observe?"
      ]
    },
    {
      "cell_type": "markdown",
      "metadata": {},
      "source": [
        "##### Logistic Regression using sklearn"
      ]
    },
    {
      "cell_type": "code",
      "execution_count": null,
      "metadata": {},
      "outputs": [],
      "source": [
        "from sklearn.linear_model import LogisticRegression\n",
        "x1 = np.random.normal(size=1000)\n",
        "y1 = 1.5 * x1 + np.random.normal(scale=0.5, size=1000)\n",
        "y1_binary = (y1 > 0.0).astype(float)\n",
        "x1 = np.expand_dims(x1, 1)\n",
        "linear_model = LogisticRegression()\n",
        "linear_model.fit(x1, y1_binary.squeeze())"
      ]
    },
    {
      "cell_type": "markdown",
      "metadata": {
        "id": "jZZGSCxbQXKw"
      },
      "source": [
        "### Explore data\n",
        "Now let’s look at real brain data. We will be using data from the paper (horikawa et al paper). The dataset contains a large amount of fMRI data of images shown to subjects. Some of those images are repeatedly shown to the subject while others are shown once but different images having the same main objects (note: those images are not necessarily the ones in the dataset):\n",
        "\n",
        "Similar: Gold fish category\n",
        "\n",
        "<img src=\"https://drive.google.com/uc?id=16oO0d0TH-Bk46ThVhcXfwFi8Mkbh1sHu\" alt=\"drawing\" height=\"110\"/> <img src=\"https://drive.google.com/uc?id=16oO0d0TH-Bk46ThVhcXfwFi8Mkbh1sHu\" alt=\"drawing\" height=\"110\"/> <img src=\"https://drive.google.com/uc?id=16oO0d0TH-Bk46ThVhcXfwFi8Mkbh1sHu\" alt=\"drawing\" height=\"110\"/>\n",
        "\n",
        "Different: Cat category\n",
        "\n",
        "<img src=\"https://drive.google.com/uc?id=1vSehKdq7Tl_gsUxc4xLOuSXYxF-VjJkd\" alt=\"drawing\" height=\"100\"/> <img src=\"https://drive.google.com/uc?id=1FhEotidDDc9jnR-tWX4EMUXqZr0Avam4\" alt=\"drawing\" height=\"100\"/> <img src=\"https://drive.google.com/uc?id=1hnbpYWpkymEOi_FWb5XxLq2pG4j53TAc\" alt=\"drawing\" height=\"100\"/>\n",
        "\n",
        "We will look at the data from one of the subjects (there is actually more in this dataset some of which will be explained later in part 2 and some we won’t use but can be part of your project 😉). We will be using the Brain Decoding Toolbox library for loading the data since it makes dealing with the data very easy (Also the dataset is available to be loaded directly into this format)."
      ]
    },
    {
      "cell_type": "code",
      "execution_count": null,
      "metadata": {
        "colab": {
          "base_uri": "https://localhost:8080/"
        },
        "id": "DaHhqJXIWghi",
        "outputId": "76f3932f-bbd3-49d2-8886-1289b058e9e3"
      },
      "outputs": [],
      "source": [
        "# Get data of images from the GOD dataset\n",
        "filename = 'data.h5'\n",
        "voxel_data = bdpy.BData(filename)\n",
        "voxel_data.show_metadata()"
      ]
    },
    {
      "cell_type": "markdown",
      "metadata": {
        "id": "7ir4D09rCSnT"
      },
      "source": [
        "You now have brain data from different regions in the visual cortex corresponding to subjects watching visual stimuli. Can you build a classifier to know which image the subject is watching? We made the following function to help you extract data belonging to two different images so you can build a binary classifier."
      ]
    },
    {
      "cell_type": "code",
      "execution_count": null,
      "metadata": {
        "id": "q46w8k7pVKPr"
      },
      "outputs": [],
      "source": [
        "# data extraction functions\n",
        "def extract_data(roi, image_type='similar', number_of_categories=2):\n",
        "  filename = 'data.h5'\n",
        "  data = bdpy.BData(filename)\n",
        "  voxel_data = data.select(rois[roi])\n",
        "  data_type = data.select('DataType')\n",
        "  data_labels = data.select('stimulus_id')\n",
        "  if image_type == 'similar':\n",
        "    data_filter = (data_type == 2).flatten()\n",
        "    voxel_data = voxel_data[data_filter, :]\n",
        "    data_labels = data_labels[data_filter]\n",
        "  elif image_type == 'different':\n",
        "    data_filter = (data_type == 1).flatten()\n",
        "    voxel_data = voxel_data[data_filter, :]\n",
        "    data_labels = data_labels[data_filter]\n",
        "  elif image_type == 'imagery':\n",
        "    data_filter = (data_type == 3).flatten()\n",
        "    voxel_data = voxel_data[data_filter, :]\n",
        "    data_labels = data_labels[data_filter]\n",
        "  data_labels = np.floor(data_labels).astype(int)\n",
        "\n",
        "  unique_data_labels = np.unique(data_labels)\n",
        "  unique_data_labels_filtered = unique_data_labels[:number_of_categories]\n",
        "  data_label_filter = [True if label in list(unique_data_labels_filtered) else False for label in data_labels]\n",
        "\n",
        "  voxel_data = voxel_data[data_label_filter, :]\n",
        "  data_labels = data_labels[data_label_filter, :]\n",
        "\n",
        "\n",
        "  return voxel_data, data_labels\n"
      ]
    },
    {
      "cell_type": "code",
      "execution_count": null,
      "metadata": {
        "colab": {
          "base_uri": "https://localhost:8080/"
        },
        "id": "-M6oKRyVy_2r",
        "outputId": "6239b6ba-2148-4817-a6dd-3463241f7f93"
      },
      "outputs": [],
      "source": [
        "X, y = extract_data('LOC', image_type='similar')\n",
        "print(X.shape)\n",
        "print(y.shape)"
      ]
    },
    {
      "cell_type": "markdown",
      "metadata": {
        "id": "bBm_PDHmzK4L"
      },
      "source": [
        "### Multivariate Pattern Analysis (MVPA)"
      ]
    },
    {
      "cell_type": "markdown",
      "metadata": {
        "id": "NXsHl7tEtIzn"
      },
      "source": [
        "Now that you have seen how the data is structured, attempt to build a classifier and check its accuracy"
      ]
    },
    {
      "cell_type": "code",
      "execution_count": null,
      "metadata": {
        "colab": {
          "base_uri": "https://localhost:8080/"
        },
        "id": "N_HYa5WqzP5l",
        "outputId": "bffae981-5cd1-4cc6-e4db-0ee5a317dfbc"
      },
      "outputs": [],
      "source": [
        "from sklearn.model_selection import train_test_split\n",
        "from sklearn.metrics import accuracy_score\n",
        "\n",
        "model = LogisticRegression(penalty='l2')\n",
        "# do a training test split\n",
        "\n",
        "# train model\n",
        "\n",
        "# calculate accuracy\n",
        "print()\n"
      ]
    },
    {
      "cell_type": "code",
      "execution_count": null,
      "metadata": {
        "colab": {
          "base_uri": "https://localhost:8080/",
          "height": 697
        },
        "id": "BLEh2O9X9fUp",
        "outputId": "1b8c6636-7494-4816-a330-658f9e2ba882"
      },
      "outputs": [],
      "source": [
        "# Exercise: can you visualize the decoding accuracy across different regions of interest?\n",
        "roi_list = ['V1', 'V2', 'V3', 'V4', 'LOC', 'FFA', 'PPA']\n",
        "accuracy = pd.DataFrame(index=roi_list, columns=['accuracy'])\n",
        "for roi in roi_list:\n",
        "  X, y = extract_data(roi, image_type='similar')\n",
        "  \n",
        "  y_pred = ...\n",
        "  accuracy.loc[roi, 'accuracy'] = accuracy_score(y_pred, y_test)\n",
        "\n",
        "accuracy.plot(kind='bar')"
      ]
    },
    {
      "cell_type": "code",
      "execution_count": null,
      "metadata": {
        "colab": {
          "base_uri": "https://localhost:8080/",
          "height": 559
        },
        "id": "YHgXROZN_Jqn",
        "outputId": "7d9154d3-2c7b-4ea2-a1d6-f680303801bc"
      },
      "outputs": [],
      "source": [
        "# Exercise: can you repeat the above step but with different images from the same category\n",
        "# hint, to extract different images per category, change the image_type in the extract_data function to 'different' as follows\n",
        "# extract_data(ROI, image_type='different')\n",
        "roi_list = ['V1', 'V2', 'V3', 'V4', 'LOC', 'FFA', 'PPA']\n",
        "accuracy = pd.DataFrame(index=roi_list, columns=['accuracy'])\n",
        "for roi in roi_list:\n",
        "  X, y = extract_data(roi, image_type='different')\n",
        "  \n",
        "  y_pred = ...\n",
        "  accuracy.loc[roi, 'accuracy'] = accuracy_score(y_pred, y_test)\n",
        "\n",
        "accuracy.plot(kind='bar')"
      ]
    },
    {
      "cell_type": "markdown",
      "metadata": {
        "id": "a_IhKpnv-uiY"
      },
      "source": [
        "#### Think\n",
        "- What does the difference in decoding accuracy tell you about the encoding of stimuli in the brain?\n",
        "- Why is the decoding accuracy profile different when the images within the same category are different?\n",
        "- What kind of experiments or models can you think of using decoding techniques?"
      ]
    },
    {
      "cell_type": "markdown",
      "metadata": {
        "id": "bLh_f2F3xO9n"
      },
      "source": [
        "## Motor decoding dataset\n",
        "\n",
        "Can decode hand shapes from this dataset?\n",
        "http://brainliner.jp/data/brainliner/Hand_shape_decoding_Rock_Papers\n"
      ]
    },
    {
      "cell_type": "markdown",
      "metadata": {
        "id": "uEYmQgkrz9jB"
      },
      "source": [
        "# References\n",
        "\n",
        "- Neuromatch Academy Computational Neuroscience Course\n",
        "- Kamitani, Yukiyasu, and Frank Tong. \"Decoding the visual and subjective contents of the human brain.\" Nature neuroscience 8.5 (2005): 679-685.\n",
        "- Horikawa, Tomoyasu, and Yukiyasu Kamitani. \"Generic decoding of seen and imagined objects using hierarchical visual features.\" Nature communications 8.1 (2017): 1-15.\n",
        "- Shen, Guohua, et al. \"Deep image reconstruction from human brain activity.\" PLoS computational biology 15.1 (2019): e1006633."
      ]
    }
  ],
  "metadata": {
    "colab": {
      "authorship_tag": "ABX9TyPPR2upH43pibGa8xBig6t+",
      "include_colab_link": true,
      "provenance": []
    },
    "kernelspec": {
      "display_name": "cuda-gpt",
      "language": "python",
      "name": "base"
    },
    "language_info": {
      "codemirror_mode": {
        "name": "ipython",
        "version": 3
      },
      "file_extension": ".py",
      "mimetype": "text/x-python",
      "name": "python",
      "nbconvert_exporter": "python",
      "pygments_lexer": "ipython3",
      "version": "3.11.7"
    },
    "widgets": {
      "application/vnd.jupyter.widget-state+json": {
        "058dee54c2a1476ebc400decb934dd13": {
          "model_module": "@jupyter-widgets/output",
          "model_module_version": "1.0.0",
          "model_name": "OutputModel",
          "state": {
            "_dom_classes": [],
            "_model_module": "@jupyter-widgets/output",
            "_model_module_version": "1.0.0",
            "_model_name": "OutputModel",
            "_view_count": null,
            "_view_module": "@jupyter-widgets/output",
            "_view_module_version": "1.0.0",
            "_view_name": "OutputView",
            "layout": "IPY_MODEL_7a91458df4fc4497889a69ebb383c8fe",
            "msg_id": "",
            "outputs": [
              {
                "name": "stderr",
                "output_type": "stream",
                "text": [
                  "<ipython-input-8-f87a369714b2>:24: MatplotlibDeprecationWarning: The 'use_line_collection' parameter of stem() was deprecated in Matplotlib 3.6 and will be removed two minor releases later. If any parameter follows 'use_line_collection', they should be passed as keyword, not positionally.\n",
                  "  axes[1].stem(x1, error, use_line_collection=True)\n"
                ]
              },
              {
                "data": {
                  "image/png": "iVBORw0KGgoAAAANSUhEUgAAAz0AAAGyCAYAAADOEapRAAAAOXRFWHRTb2Z0d2FyZQBNYXRwbG90bGliIHZlcnNpb24zLjcuMSwgaHR0cHM6Ly9tYXRwbG90bGliLm9yZy/bCgiHAAAACXBIWXMAAA9hAAAPYQGoP6dpAADkQklEQVR4nOzde3yT9dk/8E+S5tD0kLRJWwpSCKQKpRSCBcS0qCgKCJ543GPV34DiNpWDPmwTcCKiTmBT5wBlulFgDwLPJiqCiqIotBXk0Ci0BSVQKY5CaZqmhzTn/P5I75A7uXPo+XS9X6+9RpM7d76tHHr1+n4/F8/tdrtBCCGEEEIIIX0Uv7sXQAghhBBCCCGdiYoeQgghhBBCSJ9GRQ8hhBBCCCGkT6OihxBCCCGEENKnUdFDCCGEEEII6dOo6CGEEEIIIYT0aVT0EEIIIYQQQvo0KnoIIYQQQgghfRoVPYQQQgghhJA+jYoeQgghhBBCSJ9GRQ8hhJB+5YUXXgCPx2P9b8SIEd29LEIIIZ0oqrsXQAghhHS1UaNG4YsvvvB+HBVF/xwSQkhf1mP/lne5XKipqQEASKVS8Hi8bl4RIYT0D263G2azGQCgVCrB5/e9TQFRUVEYMGBAq19H/zYRQkj3aO+/TT226KmpqUFKSkp3L4MQQvq1K1euIDk5ubuX0eHOnj2LgQMHQiKRYNKkSVi9ejXS0tI4r7VarbBarQCAq1evQq1Wd+VSCSGE+GnLv01978d3hBBCSAgTJ07Eli1bsG/fPmzcuBEVFRXIzc1FQ0MD5/WrV6+GTCaDTCajgocQQnopntvtdnf3Irg0NjYiLi4OgKeai4mJ6eYVEUJI25jMNvz239+jWG8IeE6rVuC1B8dAJhWFve7OUQOwcndZyHt0hKamJm+nvaGhAbGxsR1y356qrq4OQ4YMweuvv4758+cHPO/b6WlsbMSgQYMARP5vk9nmwI0vfcF67MSKOwCA9fiJFXdAKgq+AaOm0YLctV+Hvc/+/8nFdYkxAe9duPTWgNd3lf3/k4upfykMeY3v+rg+L39JcSLUNNgQ6TcxypbrGSnxYvxhxkhMHdX6bY6kdwn2Z1AqisK35w2Yu/lYRPeRRQuxalYGcm9I4vy9+eqDo/G7f59iPRbuzx2zDq41AoG/b0NZ99BYLN75XdDn/ddyYsUdMNscrMc+Wngz7tnwTcCvW8P377JgfwcF+7qE+nuwvf829djtbb77pGNiYqjoIYT0WjExMXjt4YlYtuskDp2t8T4+OV2JtbOzkCqPjug6APhKbwp5j47WH86syOVyXH/99dDr9ZzPi8ViiMViAIBAIPA+Hum/TTyhA3yRhPUY8zrfx2NiYkIWPc1uQUT3kfqsy/e9Y2JiAl7fVaQRvLfv+rg+L39LZ43G0vdORVz0vL/oFtz66kHvxweW3Yk4iTDCV5PeLNifQakoCreMkmJQ0llcNlnC/l5qcAJLPvwB+Vor5+/NZ3af5XyfUL+PmXVwrREAaq2h/xz4anQF/h0Rai0xMTEB7yuVXrvG99et4ft3WbC/g4J9XcL9Pchoy79NPbboIYSQvmSgPBrr8zSoabShwWJHnEQIZawooDsT7rpI7kFap7GxEefOncP/+3//r7uXQlphyohkvPHQWDwV4ifbvgR8XsiPSf8k4POwclYGnthWAh4QURFdUPxTxPd3ukLf8WhFLUzNdsii21+AK2PF7b5HX0ZFDyGEdBGZlLtAMZltqGm0od5iR3y0EMoYEYYnc7ftg92DRO53v/sdZs2ahSFDhuDSpUtYuXIlBAIB8vLyuntppJWmZrADj9Y9NAaLd37fTashvdW0zFRsfHQcVn5Uhiv11g6996z1xSGfj3RrXSQ0afIOu1dfREUPIYS0A1fBEklRYjLbYGjynEd4YXcpCn3O8UxOV2LN7CwM7KQta/3dzz//jLy8PBgMBiQlJSEnJwdHjhxBUlJSdy+NtJMmLaG7l0B6qWmZqdCqlRj9wucdet/qhvYVUUlxYlyN8B7UvQyNih5CCGmjS3XNWLrrJAr9ztiEK1iY140ZLIeu0hgQXHDobA2W7TqJ9Xka6up0gp07d3b3EgghPVBPLBqeul2N5z4MDLAhrUeR1YQQEoLJbMO56kboKo04d7URJrPN+7h/wQNcK1iY67jux7xOM1jOmdTG3KemMbLEHkKIx8Efr3b3EgjpULdcTx3ojkKdHkIICSJUJ8didwYUPAymYOHq0tQ02ryvszpcId+/wWJvx+oJ6d32l18J+fyBM9WYmTWQ9Vion4hTQURI/0adHkII4RCuk+MIk8gTrGCp93lcHBX6r2CK0yX9ldPlxiufnA55zWuf/xg2GcvXui+5I8kJ4ZKvHRr0uZ63CY5EgooeQgjh4NuR8XfobA1cYb7ZClawxPs8rrtYB61awXnd5HQllLGioNvrCOnLTlwwhk3RulJvxYkLxojv2d4D5aR/+d1dN+AvvxgT8HiqTII3Hhrb9Qsi7Ubb2wghhEN9mK1lZpsTk9OVrEGhDKZg4aKMFXlfV1BUgXV5GgBgne1hBo6abU4804agBEJ6u0jTqiK9jpC2uCtzAPCvaxHo6x4ag7uzBsHqcHJe//hkFf52qKJD16CrjLywJ6F1aqdn48aNyMrKQnx8POLj4zFp0iR8+umnnfmWhBDSIeLDbC2TRQuxZnYWJqcrWY8zBUuw1DWZVOR9ndnmxOIdOmjSErD9sYnY9cQkfLnkFqzP00AqEgQUPED4oARC+oKkuMiGLEZ6HSEdQZOWEDLhjavgae/vUZo71XE6tdNz3XXXYc2aNUhPT4fb7cbWrVtx7733QqfTYdSoUZ351oQQ0i6+HRl/TCdHJhVhfZ4GNY02NFjsiJMIvY+HMlAeHfZ156ob2xSUQEhfcOOQBKTEi0NucUuJF2PsYHnE90yOE9MWN9LlFk0Zjud3l4e97m+PjsPj20q6YEX9V6d2embNmoUZM2YgPT0d119/Pf74xz8iNjYWR44c6cy3JYSQdvPtyPjy7+TIpCIMT47F2LQEDE+OjbgQCfe6cNvrKNmN9GUCPg/PzhgZ8po7R6XgrjcORXzPxber27ssQlptw4FzEV2nSZN37kJI153pcTqd+Pe//42mpiZMmjSpq96WEELaLJKOTGcJt72Okt1IXzc1IyXk8/97uLJV96N5J8Sf0+XG0YpaVDdYkBwnQeag+A5/j0i7i7rKug5/b8LW6UXPqVOnMGnSJFgsFsTGxuKDDz5ARkYG57VWqxVWq+c3R1NTU2cvjRBCwpJJu6bI8RfJ9jpCCCFts7/8CtZ8egZVJov3sZT47jsjVtNIWy87W6dHVt9www347rvv8O233+KJJ57AnDlzUF7Ovbdx9erVkMlkkMlkGDhwIOc1hBDSG7Q3ajrS7XWEEEJa7+md37EKHgCoDhOT3pmUsRTK0dk6vdMjEomgVnv20d544404duwY/vrXv+Ltt98OuHb58uVYsmQJAE+nhwofQkhvdKmuOWCwKVfUtMlsQ02jDfUWO+KjhVDGsLtK3bm9jhBC+jKuSWu+jzld7pBJbZGKNECDzvR0vi4fTupyubxb2PyJxWJvvHV8fMfvqySEEF+dMfjTZLYFFDxAYNT0f4xmlF2qxw9XGmA02/GB7j/43b+/x6W6Ztbr2hqUQAghpO1aM/g2lEgDNDqiwCKhdWqnZ/ny5Zg+fTrS0tLQ0NCA7du34+uvv8Znn33WmW9LCOknfDslseIoiAR81DXbECsJ7Jr4i7QbE+z9mM4MANZjLpc7ZNS0ocmGBosDS98/yRpIqlUrME+rwsrdpXj1wTFU3BBCSDfqqMG3FKDRc3Rq0VNdXY1f/vKXqKqqgkwmQ1ZWFj777DNMnTq1M9+WENIPcBUtTOGQ9/dvkT0kIWgBE64bsz5PE1B0cL1fbroSC25TI3/LMZhtngndm+Zkh1y30+XG8t3sggeA92NNWgLN4CGEkG5Gg2/7nk4tejZt2tSZtyeE9FPBihamcMjPUWHDAX3QAqam0daqwZ/B3q/wbA1cbrf3/UKRigTIz1HB4XIjb+IQzMsZhpJKIwqKKrwFU7HegHytimbwEBKBP/3XaLz62Y+s8xI0gJREigfucz2MG4ckdNVSSBfp8jM9hBDSXqGKlmK9AZqWKe1MAeMv3OBPQ5ONdcYn0vcDAN3FOmjVCtY1UpEA6/I00FUaMf2vhXjy3RLkbzkGXaUR6/I0kIoE3mutDhfN4CEkAlNGJGPPIi3rsX/95qZuWg3pjfxP0fh+TGds+h4qegghvU64osXqcHl/zdU1CTf4s8Fix+2vHcSiHTpcqmtGozXy9ysoqsA8rQq5PlHT+TkqbC6u4NzStrm4Avk5Ku9j8mghzeAhJEL+35jSN6okUm88NBbJfnN5UuIl3bQa0hWo6CGE9DrhihZx1LW/2ri6JszgTy5atQK6i3UArp3xkUeHLkJ8389sc2LxDh1evjcTXy65BR8+eTNmjk4NKHgYvp2iHLUCQxRSOs9DCCGdbGpGCr5Ycov34y3zxmP/ksnduCLS2ajoIYT0OpEWLZPTlZxdk2CDP5kghIKiCu9jh87WwOZ0RfR+jOwhCZBLhd6o6Wa7M+TnY3W4kJuuxJoHsjAoQRry2mA6I36bEEL6Mt/O4ARVYsSdwv3lVzprSQGenzmyy96rr+v04aSEENLRmKJl2a6TOMSR3rZ4hw6T05VYOzsraNfEd/CnJ0baDt3FOizeofMGCzCarA7O9/NNb2NwvW+4ztQwZQw2cAQuRKot8duEEEJaz+ly45VPTnfZ++WouX/gRlqPih5CSK/kW7Q0WOyIaZnTY2q2Yc/CHChjQ8/pATzFk0wqAqob8Yu3Dwe9Lk4iDHi/OMm1szd7FuawHvN/X6YzdYgjDGFyuhKpMkmbC562xG8TQghpm6MVtbhSTwmBvREVPYSQXstbtLDEtPo+4YoSprjhfj9EVFxxdYrCdaMi0dr4bUIIIW1X3WDp7iWQNqKihxDSJ5nMNtQ02lBvsSM+WghlTPDOT7CiJDddiZX3jIKhyea9rq3vHaxT1N6CJFySHc38Ib3FgTPV3b0EQsJKjqOEt96Kih5CSJ/BFBtGsw12pwvF5wze4Z/hzrj4FiV1zTZY7S4c/akWe09eQuZAGSpqmjA4QYqUeDFnoWIye84GuQG8sLsUhT5pbb7v3dFdl3DnhWjmD+ktnnnvVHcvgZCwJqgSkRIvpi1uvRAVPYSQPoHrML9WrcC6PA0W79BFdMaFefyFPWU4ccEzOHRzcQX+sv+s9xqu4ol57zGD5dBVGgPiqTvzfE2kW/MIIYS0n4DPw7MzRuKpnd91yft9RR3QDkOR1YSQXi/YYX7/4Z+HztagusHqjXY+f7URV+otrKjnOrMdJy4Ygw4UZQoYJhLa9701g+VB5/Ew52s6WrD47Y44L0RIT+Z0uXH8J2N3L4P0Q1MzUrrsvVbv+6HL3quvo04PIaTXC3WYv1hvQL5W5f24staM+VuPQyoSeDs5voVKbroS6/I0iOLxsOGAnvOevgEBhiYbxgyWY+7NQyEVRaFg7niUVBq92+p8ddb5ms46L0RITzZrfTGqG9hbjA7+eLWbVkMI6emo6CGE9HrhDvNbHa6Ax4J1cgrP1sDlduN3d94Q8p5MAeMGoKs0sgok3211voVPZ56vCZYsR0hf5V/wAMBzH5Z1w0pIf+F0uXH4nAE/G83dvRTSBlT0EEJ6vXCH+cVRnp28WrUCuot1AADNYHnQTk6x3oBl00NP5o6TCGEy2/DC7tKAwon5OD9H5X0POl9DCCE9x9GKWtw4JKFVr3nw7SO4ylFsk96BzvQQQnosk9nGOm/DnKPxxxzm58IUOrnpSszTqlBQVAGAu/vjq6HZAa1awfkcU8DUNNpYKW2+ivUGaAbLvdfT+RpCIre//Ep3L4H0cXM3H8Mdrx9s1Wuo4OndqNNDCOmR/NPYpCIBVszMwLg0OZqsDkjFUeDzeIji86CICT5nZ9U9owAAD467DtPXFXq3mzHdn2CS4sR4+b5MPL+7jHVeyLeAOV/TFPIecZIofLnkFjpfQ0grrf7kDKaMSO7uZZA+IlgRXU2x0/0KFT2EkB7HP43NN3Rg+fvXZnlo1QrM06qw+pPTePHezJCH+U1mG7KHJHiLIt3FOmjVCs60tcnpSkhFAqz8qMwbUmB1uCCPFmKIQorUlrjqcNvqFDFiDE+O7ZCvCSH9yeV6C05coGQ20n5OlxuvfHKa8zm333UCfuhtzaR3o6KHENLj+KexBQsdYD7WpCVgacscnGBFBhPtzHSDCooqsC5PAx6AIr9Boq/cPxorPyrDF6er8cVp9oyEyelK77wdmpFDSOehrUSkIxytqI1okOiJC0ZMUCV2wYpId6GihxDSoUxmG6obrKhrtiNGJECMOAryaGGrtnf5p7GFCx3I13oCA5gY6WD8o53jo4V47Rdj0WhxsLpDhiZbQLHD8I2r9i+kGJ1xhsdktqGm0Yb6lnUrY2jLHOnbkuLE3b0E0gdUN1giuo6ryKazZX0LFT2EkA5zqa4ZS987iUL9tQJAq1Zg0ZR0DEm8ti0sHP9tY+FCB5jnfefgBCsSuKKdU+LZ9wt3Vsf3fbpiRo7/+SbAU1itmZ2FgRF+TQnpTQbES1qdrEUIl+Q4SUTX+RfZ+8uv4Omd33XCikh3oaKHENIhTGZbQMEDXNuCNjNrIGZkDoioGPDfNhYudIB5Pkbs+SutvUVCuLM6/vN2OnNGjv/5JsahszVY1rKljzo+pK9ZPmMEna8gHWKCKhEp8eKwW9z8i+xXPjnNOvNDej+KrCaEdAhPfHPg2RbAU/gkx4lR08gdOe2P2TbGxFAzoQNcmEhqrVqB4xeM+LnWjOd3lwYtEoLFXvsKFYHd1Wd1/M83+WK22hHS10zNSOnuJZA+QsDn4dkZIzmf4/ld5yuSc0Ckd6GihxDSIfzP4fizOlysbWHhMNvGvlxyC+4cmYw/3jc6oBBh0tvKL5kwT6vCS3vLsfyDUxiRGs95z0iLBP+ii9Ed83bCfV1b8zUlpCdb99CY7l4C6aOCFdEp8ZFtfSN9A21vI4R0iHBbwsRR/IBtYeH4bxtjzs4YzTaIhXw4nG6YzHZkDJRh8Q4dzDYnCs/WYO7NQ4PeM1yR4HsWaMXMDIgEfJiabYgRd/xZnUi0dqsdIb2VJq11Z3j4PMDlt/8ob8Jg7Dh6sQNXRfqqvz06Dlq1EqNf+Ly7l0K6CBU9hJAOESq+WatWoLrBiux2HkxmiiBdpRGz1hcHvc7qcEEqEiA/RwXNYDmsDhckQgFKKo2Ijw5eJPTEwACKxSb9hdOngjlaURs2yMC/4AFABQ+JWPbQhJDnxlLixaiut9K5nj6EtrcRQjoEsyUsl2ML2qIp6bjt+qQO65KE634kSoVYl6eBrtKI+VuP48l3S5C/5Ri+qzRCJOD+ay9cYEAkZ4E6Q0/aakdIZ3rw7SPeX8/dfAx3vH6wG1dD+rtg54BI70WdHkJIhxkoj8aGPA2qG6wwNdshFQkQI4qCXNq6OT3hhOt+XJcoxdJdJwOGmRbpDXj2g1OciWeRBAZ0V4HRFbHYhHQ3/zkp1XSQnHSjqRkpeOOhsXiKYqv7DCp6CCEdqrPim33P2siihXjl/tF49oNTnENBzTZnQMHDCFbA9PTAgM6MxSakJ6JtRaS7+QcgvHzfKDz3YVmr7uHk2odJugUVPYSQHo/rrM3UkclY/cBoWOyugO6HrtIY8n5cBQwFBhBCCAll9CBZq1/ju22TdC8qegghPYJvJyc+WghljKeACXbWZv/palgdLqzP02B4cizrubYUMBQYQAghpKP5b9sk3YeKHkJItwuVmmaxO1mP+6eyVdVbAIC19astBQwTGLBs10nOLXO0tYwQQgjpvajoIYR0q3Cpac/NzPA+JhUJsC5Pg83FFdhwQO993D9Wuq0FDAUGENJ7KGJEMDSxUxXbcuaCENI/UNFDCOlW4VLTXO5rh0Dzc1TYXFwREFLAFEhMKpvJbIPF7sRzMzPgcrthtjohi46sgKHAAEJ6Bh5Chxn8/Zc34oGNh1mP3XJ9UqeuiRDSe1HRQwjpVqbm0PNvmqwO71Y1zWA5q8Pji0lla7A4sPz9kyj0KYyYThAVM4T0XMpYEWoar/19kBIvweWW7atcQg2WJIQQfzSclBDS5UxmG85VN0JXaYRUFIWFU9SQigSc18aIorzDOa0OV8j71pltWOpX8ADdP2CUEBLe/+ZP8P76b4+Ow/4lk7txNYQEOnyOexQC6R2o00MI6VJcoQU5agXW5WmweIcOZpvT+7hWrYCAz/OetakyBf+pLwBIhIJWz+fxx6TImZptkIqjwOfxEMXnQRFD294I6Uz+nZt9pZdDXn/ox6uduRxCAqzZ90N3L4G0AxU9hJAuEyy0oKSyDnePtuCf+RNQ3WCFRCjAFZMFA+US1jdC0UIBctOVnGeA7hiZDGEUH5vmZMPqcEEiFKCk0oidRyvx0IQ0aAbLPYeerzZ647D9cRVkWrUC87QqrP7kNFbdm+kNSyCEdJ7Ht5WEvea1/We7YCWEtE9ynBjVFFvdI1DRQwjpMlyhBb6JbMUflHofz1UrsHzGSChiRN5i5MQFI9blaeByu1kdnakjk/GHuzOw4sNTrK1tWrUC7z52E9buO82Z9hYjEnhnAyXGiPDcB6Uo1LPXx7yPJi2BFZZACOlYRXruQBNCerN//eYm3Prqwe5eBgEVPYSQLmIy22B1OPHWI+O8XZiCooqgiWyFegPw6Rm8+uAYVvdl8Q4d8nNUyNeqAACKWDGUsSIs3xV4lqdYb8BLe8swNi0BB85c2wpz6GwNlu46iRmjU7H8/VMAgC1zx2NMmhxztUNZnaKCIs/a8rUqbDigj2iLHCGk9d76+ly77+F0hcp7I6TrUeBGz0FFDyGk0wXbNrYuTwM+jxc0ka3wbA2MTezukNnmZF2/aU42zFZHQMHDKNIbMK+lQPK/99ybhwLwdJtS5RLoioyse2t9zhoxIQoNFnvknzghJGK+yW1tdfLnuvYvhBDSJ1HRQwjpVMHO8TCdnd9MHh7y9fUWBxZOUUMzWB7QgTHbnLA6XGFT3YI9zzyen6PCy3vLA7pNzMf5OSqIozxhl3ESYcj3IoR0n6IgM78IaQvqHPYtVPQQQjpVqOGjxXoDlk0fwXpMKhIgP0flLXLiJVEYKJNgkU+ym28HhilGQgl2jUQowMIpatw1KiVot6lYb8CTt6px+LwBk9OVUMbS1jZCeqp/nfhPdy+B9BH7y6/glU9Od/cySAeioocQ0uGY2Od6ix3iKD4WTlF7OzP+hAI+ctUKFOoNrFAD/21mbz48Dt//XIfRg2SwOlyQigQomJuNbytqYXe6g6a65agV0F2sC3hcq1ZAGSuCrtKIjNT4kJ+PgM/DD1X1WEsDTgnpNP7DSQnpTk/v/A4d0ec5SNHqPQYNJyWEdKhLdc1YuEOH218/iPvf+gYz1hVBV+lJXeMaQCoS8PHy/aORo1YEDTXQVdZBIuTj+E+1mL/1OJ58twQP//1bvPnVOYweJMNPVxux+v7RmJyuZL1ucroSr9w/Gj9U1Qc8/ocZI/HGFz+iWG8I2y2SS4V49cExSKW4akI6zZO3ht7qSvoOp8uNw+cM2P3df3D4nKFHbiPrqBWt+5J7FwHpetTpIYR0mHDnd/JzVAHR0THiKPzhg1MYm5YQdJtZfo4KG77SBya8na0B3MCL945CnCQK6/M0qGm0ocFiR5xECGWsZx7Pqw+OCXj8SoPFm+imu1gHrVrBOdh0croSqfES6vAQ0sly1MrwF5Feb19pFVbtKWcNm06VSbByVgamZaZ248o6B83o6Tmo6CGEdJhw53fyfVLUJqcrsXZ2FpqsDnxxuhpfnK72bjPzP9czOFEaPOFNX4PzNU1Y+VEZ1szOwvDk2IBrZNLAYaTna5q8vy4oqsC6PI13nf5rpIKHkN4vVDfB6XLjaEUtqhssSI6TYIIqkaKGO8G+0io8sa0koIty2WTBE9tKsPHRcR1a+DD/XX82mjvsnqT3oqKHENJh6sPEOcuihfjwyZtZXRhdpdH7vDiKz3mu561HxoW8r9XhwqGzNa0aHhrvk8JmtjlZ83+sDheGKWOQKqMODyF9RbA46/7WeeguTpcbq/aUc24bcwPgAVi1pxxTMwZ0SMHJ9d+V9G90poeQPsxktuFcdSN0lUacu9oIk7lzDwnHh4lzTpCKMDYtAcOTY73FRLxECKnIk6KWFCfGirtHBpzrCXfmhnn+0NkaVNVbIvo8lbEi1hkgZv7P/K3HsfNoJRU8hPQxBo6QBKbz4P+NMdN52Fda1VXL6/OOVtSGLEDcAKpMFhytqG33ewX779oa1Ofrezq16Fm9ejXGjx+PuLg4JCcn47777sMPP/zQmW9JCGnhHyhw+2sHsWiHDpfqmjvl/UxmG6L4POSmc+/LDxb3rIwVoWDueOgqjXjonSPIvE4WGGTQcuaGS65ageQ4CRZOUUMqEuD81aaIPk+ZVIQ1s7M4ww9oSxshfY/C7++fcJ0HwNN56ImH7Huj6obICpBIrwsm1H9X/+tI/9KpRc/BgwexYMECHDlyBPv374fdbsedd96Jpqam8C8mhLRZsEABZgtYezo+XN2jqpYCa/q6Qsy5eWhAgRKukHjzgCekwGxz4mdjYLFSUFSBeVpVwH21agXmaFX473cOX0uIEwoi/jwHyqOxPk+DL5fcgg+fvBlfLrkF6/M0lNJGSB+UdZ2c9fGJC8Yu6zwQIDlO0qHXBROuo8TQVdaFfP6Nh8YiOU7MeozmtPVunXqmZ9++fayPt2zZguTkZJw4cQKTJ0/uzLcmpF8LFShw6GwNahptbepkXKprDiimctOVWDkrA9lDE3DigpF1NgYA0hKlSI4TB32/mkYbCvXX7icSBP4sxvfMzR/uzkBVSxdHd7EOi1uGlhbrDeABmNfyvq39PN0A7Wfoh9asWYPly5fjqaeewhtvvNHdyyGdyP+cyNUIU7Xa23kgHhNUiUiVSXDZZOHswvAADJB5QiTaI9L/XjWNof/7T81IwU3DEjHxlQPex975fzfigY2H27U+0n26NMjAZDIBABITuX9DW61WWK2e34TUDSKk7cIFCjSEeZ5LsO5R4dkarPyoDHePTsW6PA0W79Cxkta+XHJLyMLDf63B4qPNNid0lUbclTEA87ce57xXkd6A/Jxh3o/DfZ5cRdzkdCXWzM7CQOr29HnHjh3D22+/jaysrO5eCukgrRlwmuT3U/xg2tt5IB4CPg8rZ2XgiW0l4IE9B4cpR1fOymhziAGT1Hb2SmNE1ytjw//3918LJfr1bl0WZOByufD0009Dq9UiMzOT85rVq1dDJpNBJpNh4MCBXbU0QvqccIECcWGe5xIujjolXoLNxRXIz1GxngtXePivNdhWttx0JeZpVbhkCn1Wx2J3en/NfJ5cW/I6cwsg6fkaGxvxyCOP4O9//zsSEhK6ezmkg/xv/oSIr71xSAJSZZKQDd7UDug8kGumZaZi46PjkBzPLjgGyCTtiqveV1qFnLUHkPf3I9jwVWTDQDVp8ja9F+m9uqzoWbBgAUpLS7Fz586g1yxfvhwmkwkmkwmXLl3qqqUR0uf4J5P5ChYoEE647pHV4UKx3gDNYDnr8XAFVqwkCjk+BQ6zlU2TloB3H5uI9x6fhP3/MxmvPjgG/3e0ElFhftLGJLkxn2ewQAej2Y4TF4yc92C2xpG+a8GCBbj77rtxxx13hL3WarWivr7e+z/Sc7XmJ/FM5wEIvrO12e7E/vLLHbAywpiWmYovltzi/XjLvPEoWjqlXQVPW5LaqGvT/3RJ0bNw4ULs3bsXX331Fa677rqg14nFYsTHx3v/Rwhpm85IJgvXPWKKDavDBcAzYHT1A6Phcrs5I7OZ7kttkxVz/To7zFa2ZrsTjRYHXtrrSVB68d5MVDdYgya5adUK6C7WeT9PAEG7OSt2lwZ0pXy1ZQsg6R127tyJkpISrF69OqLraRdC38V0HmTR3H+/mcx2iq7uBL4FR3sGwUaa1EYI0MlnetxuNxYtWoQPPvgAX3/9NVSq4N9gEEI6FpNMVtNoQ4PFzhoI2hZM9+gQxxY3ptgArg0YLZg7Hm8e0GP5+6e81zHnZXgAnmkpRt56ZBx+9+/vWYNBxVF8b0jBqw+OYQ0enZE5AJOGKbBid2lAoMKqe0YBAH6Vo4JMKsK56sagW/IKz9Zg7s1Dg36+bdkCSHq+ixcv4qmnnsL+/fshkUR2VmP58uVYsmQJAM95Uyp8+papGQPw/O5Szuc6Y2gm6TiRJrURAnRy0bNgwQJs374du3fvRlxcHC5f9rSIZTIZoqPpkDAhnU0mbXuRw3WvNbOzsGzXSVbho1UrME+rwuIdOuSmK5GWKMWni3Px3IelrFQ24Np5memjU73FiDiK7x0MysV38GhNo8072HRDngaGJhucLjecLjfMNgfcAJQx1z7ncFvygmnrFkDS8504cQLV1dUYN26c9zGn04lDhw5hw4YNsFqtEAgErNeIxWKIxZ4zCP7Pkd7vaEUtqhuCb2f1ja6eNJy7y0y6ByXrkdbo1KJn48aNAIBbb72V9fjmzZsxd+7cznxrQkgnYLpHl+st3nk6TEcme0gC1s7OQqo82tNh0QePzJ7j02EJltYGsDtIAHvLmUwqQpPNGTJ9LdyWvOsSogO6VzSctG+7/fbbcerUKdZj8+bNw4gRI7B06VIqavqhrhqaSToeJeuR1uj07W2EkL6F6R4NiJfA0GRDWqIUM0enwmxzwGx3wmS2odEausPicLmxcIoamsFy2JwuTBs1ACd/rsPLH5+G2eZJX/PtIDF8t5xdqbdg6Xvfo9CvWPLdChdqS97kdCUGxEs6dAsg6fni4uICEkRjYmKgUCiCJouSvq2rhmaSjhfJ7B/6TpQwunRODyGk9zCZbahptKHeYkd8tJC1bQwI3Wl58d5MSEUCbwHjSyoSQKWIwT8P/8Ta0parVmDPwhxcrDXD6XazBo8y92W2nF2qa8ZPNU0BBQ/Ddysc15Y8/24OFTmEdC6nq+d+6zlBlYiUeDGu1HMPq+yooZmk40Uy+4cQBhU9hJAAkQztDDXn5vndpVgxM4MVYsBYMTMDL+0tC9jOVqg3YOVHpVjzQBae/eBUQJHyp5Y0tp9qGrHiw1LkTRwS8nNgtsJ1dKAD6Xu+/vrr7l5Cn3fy57ruXkJQAj4Pz84Yiad2fhfwXEcMzSSdi0ngW/lRGatwlUmFeHRiGjZ8da4bV0d6Eip6CCEs4YZ2rs/TQCYVhRxWeuhsDf5w90jO8zLj0uScxRAAFOkNsDpcnEVKk82Jhdt1mKsdikK9AXO1odMgfbfCdWSgAyGk9Qw9fO7V1IwUzscHyCRYOSujzTNkSNeYlpkKrVqJ0S987n2szmyngoewUNFDCGEJV8zUNNogk4rCJqM125ycxcv5mqaQrzM02cDjeYaWAp4EtigBD8994EmDy5uYBiB0AAKlrxHSsyh64Z/HLfPGIzc9iTo8vcSBM9XdvQTSw1HRQwhhCVfMMNvGwiWjSUQC/KeuGU02J+TRQm8REi0U4K1HxkEiFKCk0oiCogrW2Z9GqwP1Fjs2F1d4C5pNc7K9aXBMhHVBUQXW5WkAgFX45FL6GiE9TtZ18u5eQqu1Z2gm6VpOlxuvfHK6u5dBejgqegghLKGKGalIgISWoZ9Otxu56UrOrlCuWomSC0Y8+0Gp93XMsFLfKGutWoF1eRpvYEGuWoFB8micuFALXWWd9zqrw+X9tW+HZ/EOnXeoqcPlxuCEaETx+bhcb4HZ7gwIXyCEdA8qHkhnOlpRGzSIghAGFT2EEJZgMc9M4cIMHZWKBFiXp4Hb7UaRb6dFrcCTt6kxf+sx72P5OSqsP3A2YCsa83F+jgq6SiPmaFW4/61iaNLkrGKI6e4AgR2eDQf0nrXNGY/Vn5xmJbr5hy8QQvqvL8qvdPcSSCfprBlK/qmDPTmFkIRHRQ8hhEUmFXHGPK+YmcHq1JhtTm+n5clb1ZAIBZCKBLA5XXjonSOsLWuawXJWPLWvYr0By6aPAABvkeNbDG04oGd1d3zfN78lzCAtUYoX95SFnNlDHR9C+rdVe2n7U1/VGTOU9pdfwR8/Zv+e+dU/T3T4+5CuQ0UPIYTFZLbBYnfiuZkZcLndMFudkEUL4XK7A1LXzDYnNhzQY8MBPb5ccgvqLXZUmSwB83l8t6dxuVjbHFAUFesN3qLGv7vDvK9WrcDC29Jhc7jCzuyhoocQ4mt/+RXcO3ZQdy+DdIBws5ba4umd3wUMNjU0dV4K4fGfjJ12b+JBRQ8hxCvUfJ4r9aG3DzRY7IiXCFHr94+CVCRAcpw45Gt9t6/5Yoolprvz3N0jsWz6CDRZnZCKBACAr36oxvUpcWHXRgghvlZ/cgYzswbSeaM+INSspbbq6o1sj28r6eJ37H+o6CGEAAg/n2fFzIyQrxdF8REl4KG2yYZX7s9ESrwENqcLgxOkaLTag8ZLa9UK6C7Wcd7Ttxi6cUgCkuMl+O+3jwR0kjbNyQ65trgwSXOEkP7ncr0FRytqMWm4oruXQjpAsFlLhDCo6CGEAAg/n0ck4GNyuhLHLxiRn6OCZrAcVocLEqEAV0wW2J0uXKgxI3toAp7/sJS13WzKiCQ8P3MUXtxbFhAvveA2NfK3HAt4z9x0JdRJsfjwyZsRJxEiis/D9HWFAQUP4El0y1UrWclwDJrZQwgJprMOwJOe4W+PjqMOCvGioocQAiD8fB5Tsw1rZ2fhQq0Z6w+cZZ3ByVUrkSIT49R/THi78FxAR+fAmasAgHytJ3zA6nBBHMWHOikWoig+socksEITJrfM2kmVR2MIYjzvb7YFXMcov2TC8hkjwPv0DOd96DwPIYRLqAPwlNTV+2UPTejuJZAehIoeQvoJk9mGmkYb6i12xEcLA2bYhBs2GiMWQioS4M0D+oCiplBfAxfcWDptBP6y/yzn6w+cuYpHJg7B/K3HvY99+OTNGJuWgPV5GtQ02tBgsSNO4hlk6l+oMKly/lvwpoxIwu/vGgEBHwHhC1z3IYQQABgQL8EEVSIAT6iBvzteP4hV94zCtMzUrl4a6QF46PpzPaRzUdFDSD8QKqCAmWHDzOfh3L5Wb4FQwEN1g5VzCxkAzvM6/mxOdoobc9ZGJo2sOBkoj8aGPA2qG6wwNdsRIxZAKozyzg7y/9yo4CGEBLN8xggI+DzsK63C0xwH4KvrrXhiWwk2PjqOCh9C+gDuyCRCSJ8RLqDAZPakrcmkIqydnYWCueOhqzRi/tbjePLdEuRvOYZPTlXB4nCFjeu02APP2/hKir2W4pajViBWwv1zF5PZhnPVjdBVGnHuaqN3jcw601PikD00EQNl0Xhud2lAIeb/uRFCiL+pGSlwutxYtaec8yf6zGOr9pRzDqk8fM6A3d/9B4fPGWgrXB/0xkNjkeSXPErnQ3s36vQQ0seFCyjwnWETbPvaiQtGnPjJiDFp8pDvFSsWhkxpE7WksWnVCszVqtBgsaPR4mBtuWuyOcN2pdryuRFCiL+jFbWoMgUPM3ADqDKxU972lVZh1Z5y1utSZRKsnJVBHaE+ZGpGCsZcJ8Otrx70PvbO/7sRD2w83I2rIu1BnR5C+rhwAQWGJpu3m1LTaAvomkhFAqzL02DvqUv45FQVtGrueNdctQJ8HjBPqwq4RqtWYJ5WhWabE5vmZEOTloDFO3S4YDDj9tcP4v63vsHtrx3EJ6WXsfS98F0phjFMJ4fm8xDSe3R1t+Tjk1UoDrJd1x+T8ravtApPbCsJKJQumyx4YlsJ9pVWdfg6SfehGU59C3V6COnjwgUUNFjs+MXbhzE5XYnFt6cHPJ+fo8Lm4goU6w3QVdZhXZ4GAPsMT65aiSdvU+OyyYLFO3TIz2GntOku1mHxDh3W52lYQQb+kuPEQc8M+XduTGYbbA4X57UMms9DSO/x/wqOdun7/f69kxFfmxwnCbsVjgfPVripGQPom+U+6lf/PNFp91730Bgs3vl9p92fUNFDSJ/jn9IWK4nC1JHJ2H+6OuBa38Ggh87W4PFbhgdcoxks98ZTm23OgKJmmDKm5QzQMU8AQpqcFWfN9V5cHwOANUwR49u5qWm04ZvzhqDb6XJpPg8hvUpNY887g8cDMEDmSXlry1Y40nMd/8mIBoujVa8Jd661PTRpFK/d2ajoIaQPCZbS9vJ9mQDAKnyYLWeLd+i8j31z3oDcdCXr9f6FiNnmZBU17z0+Ccs/KAUAFBRVcHaCclrO8DDvdceIJCy+43rUNNrw1iPjIBEKUFJphFQoCPn5+XZu6i32oO+nVSuw6p5RdJ6HENJmTK9m5awMCPi8iAeZ0sDT3sF/aOn+8iuYmpHi/fjjk1UQR1HHri+hooeQXsy3q5MYI8JzH3AnmT33YSn+/OAYLJvugKHJMw+H2XJmtl1LXCsoqsCeRTl44aMyb+Ejjgp99E8qulaomG1OLNt1EmtnZ2HZ9BFotDghlwohixaiwWrHqw+OgVQoQJpCihW7SwMKlTtGpmDKiCTvMFNfuelKON1unLvaCGWMCPESIWfnidlORwgh7ZESL8EL91wLJwg1yNRXpNeRnuXpnd9hnnao9+PWbH8kvQMVPYT0AlyDRc02J57x6epsmpMd8jyM0WxDarwEPB7wi7cD02ekIgHyc1Rwul34432ZuGhshqnZjqQ4MXLVChQG2UIWI45i3WPN7CwUtJwBYkxOV2LlPaPwu39/j/wcFf5RdD5gS5rn4zN47u4MOJxuHPLpNuWoFZhz81Dc92YxzDYnJqcrsfqB0ZicrsShszUB2+kmpyvxqxxV+C8sIYQEsX/JZFZ3eYIqEakyCS6bLJzneny3wpHexw2goPin7l4G6URU9BDSwwXbsvbkbWqcuGD0PhbuPMz5q0145ePTeOX+0QFnfJiEts3FFQAAXaXRW5Qwz7kQuIVswW1qRAsF3uLDN/SAeS0z6PSnmib87/yJcLvdnGd+0HJ/Pg946d5MNNkcaLI5IRTw8fUP1ayu1KGzNXjhozK8cv9oPPvBKVaBNDldibU0mJQQ0k7+YQQCPg8rZ2XgiW0l4AGswsd/KxwhpOehooeQHizUYFGn2438HJW3gAi3DU0cxcehszV49oNTWP3AaFgdLm+x4Fus5GtVrKLEfwtZjDgKTVYHdBfrkL/lGPYszMGa2VlYtuskK/TAt5Dyvd+mOdkh1/mzsZmV8MacPfK3/3Q1ls8YifV5GtQ0erbsxUmEUMaKqOAhhLSKfxETzLTMVGx8dBxWflSGK/VW7+MDaE4PIT0eFT2E9GChhm8yBQpDd7Eu5GBQ35Q2i93FKhYkQoG3MOHqGPmGF+z89U2wOlwYl5YA5ACmZhuUsbFY/cBo/Gxs9r7Gv+vTVsV6A/gt7/uzsdkbelBQVIH6ZjuGJcVSkUMIabPW9mWmZaZCq1Zi9AufAwC2zBuP3PQk6vAQ0sNR0UNIDxZusKhvgVJQVIE3Hx6Hu0enIiVeAqvDBYlQgMumZqTKorFg+7WkmgaLHcOTrxULuspr2+TCdYyarA48+a7nXlq1Ag9oBuHz8itQKaWIEnj+0ZeKBLgzIwWawXI8MnEIq1CJtDjzVag3YG6DlfW+6/I0iI+mOTyE9BVJsWJcbbSGv7CDJcaIcHdWKv55+ELEr/EtcCaoEqng6SfiJVGob2XMNek5qOghpAcLN1jUv0Bxw41PT1WxQgdy1QrM8zvU7z+00/d9WlOUFOsNWLm7FNNHp0IuFUF3wYgpI5Lw8MQh+PO+M6x1MIXKsl0nsWZ2FvhAwDrn+EVo+/It8Ir1BvAAvPaLsZzXEkJ6n9/dmY6l75d26XsmSIUwNNlaVfCQ/mvjwxo8UnCsu5dB2oiKHkJ6MGWsyBsS4C9XrcSV+mvzIPJzVNhUFLidrFBvgKvl+Q0H9JjMMbRTGSvyzucJNfvGf64Pc/+5WhVe+KgM2UMT8fQd12PtvjNB0tmAhyakYfEOHXb++ibMbbB6Y6aT4sR46J0jrAhtX/4FXpHegEaLAynxnJcTQnqZri54AMBoDt1N70pOlxtHK2pR3WBBcpyEOkhdLF87FJuLfwp5tisqzE4I0rNR0UNIDyaTirwhAb6FT65agednZcBsc2DPohwYzTYkSEUhU9HytSrktkRHM1Olme1tMqkIL9wzCi/sLkOhvsYbXLDgVjWEUXxIhQJ8WnY5YK4Pw+pwoUhvwDytCjWNtqDneJh1jEuT4/PyK6z1Lpyixrg0OYpase2tIcz2P0IIaSunK5Jog46xr7QKq/aUo8p07QdZqRSO0KV+d9cNGDNYjqd2ftfdSyGdhIoeQnq4gfJoVuhAtEiAExeMuLdlZg3gKQoW3ZYe8j7xEiHm3jwU//32YdQ02jA5XYk1s7MwUB4NwHOYd8md12Oudqi3+/LNeQMKiiqwPk8TtKACrnVhwsVmM165fzRe2lvOeuyHqnq8cv9oPPdhKavAC9ZhAgK36RFC+reOLFROXDDi1huSO+x+wewrrcIT20oCOgyXTRY8sa0EGx8dR4VPF5makcL6+M+zR+P3u05102pIR6Oih5BeQCb1xDCbzDYs3KELSHQr1hvw5K3qkPeot9hRUFyBNbOzsHiHDofO1mDZrpNYn6eBTCqCIkaEyyYLKy6aEck5H6lIgOsSosHjAW89Mo4VXuDbHUpLlCJNEYNXHxzDGTXtW+DFiKNw/IKRs8PEtU2PENK//eKdIx12r6sNnR+q4HS5sWpPOeeWKjc8P4xataccUzMG0Fa3bjBmsLy7l0A6EG1OJKQXCRVhffi8AbnpSs7ntGoFACBfqwIPwP/On4iFU9Q4fsGImsZrW92GKKTIabnWV0FRBRbepkaumn1/pguz82glNs3Jxp/2ncGs9cV48t0S5G85Bl2lEevyNJCKBAA8hUpynNj7fspYEeIkQjRa7ahrtuPslQacr2mCy+1GglQEs82BG9MSsGJmhvcezH1oACkhxF9DByZrJbX8XdWZjlbUsra0+XMDqDJZcLSittPXQkhfR50eQnqRUBHWBUUV2LMoB6s+KmOf/0lX4qV7M7F232l8WnrF+ziTptZkvXbPQQlSrHkgC8s/OMUqrm5MS4AiVoTl00fgD3we/lPnmceju1iHxTt0WHH3SLz1lT7gPA7TGcrPUeH7i3V44Z5RMDXbcbXRCh6Phxd2l+JEZR3W5Wnwp89+CBKc8C2yhyTgk8W5qG+2IUZMA0gJIZ3vxiEJEV13tKIWpmZ7m8IHqhuCFzxtuY4QEhwVPYT0IqEirM02JwQA/nhfJiqNzTA12yGO4kN3sQ4v7S3DLycNxS+yB0MZJ0ajxYk4SRQarXYkRLOLh+sSpVgxMwMXa83esz26i3V4+O/fYs3sLGz/9gIyBsqgGSxHRmo8/v7LbCRIRVj+AXfyUrHegOfuzsBtNyShusEKl9uNZpsT7524iDFpCXjqjutharZjfs4waNISvNvhfAumDQf0eH53qXcrHiGEdLYDZ6px79hBYa+bu/lahHFrwweS4yQdeh0hJDgqegjpRUJFWE9OV0IkFOC5D095ixKrw4VxaQkQCniQCAXYcOAsazZOjlqBl+8bHXAvAY8XcLZn4RQ1Nhd7IrEPnLnqfVwqEuDvv8wOue5Ldc2s++WqlXhuZgbW7jvNCkhguk/MGR4m7Q0ADp2tQU2jjYoeQnqhrkxC6yirPzmDmVkDOTs3+8uvcLyi9eEDE1SJSJVJcNlk4TzXwwMwQObpIBFC2ofO9BDSQ5jMNpyrboSu0ohzVxthMtsCrpFJRXj5vsyAczee4iUTDRY7Hp44BLpKI+ZvPe49W5MUKw4oeADPrJvnPjzFmvcDXCuufGkGywOCDKQigXemT2sU6mvw0t4yZAyUsR4v1huwubgC+T7DVH0T4SiimpDe6eTPdd29hFa7XM99lsbpcuOVT05zvsbd8r8XPiqLqNAT8HlYOSsDgKfA8cV8vHJWBoUYENIBqOghpAe4VNeMhTt0uP31g7j/rW9w+2sHsWiHDpdazs4wTGYbXtxbjrFpCdg0JxtvPTIOm+ZkY2xaAl7aWw63G95ujK+UeElAwcMo0htgbLpWYJnMNtQ02rD49nTs+JUn8EAqEnDGUefnqLC5uAKHzxu8YQn+gs3YKdIboOFIxin2e9x3KClFVBPSOxkaA3+I0xtwnaU5WlGLK/Whk90u11tDxvz7mpaZio2PjkNyPDs4YYBMQnHVhHQg2t5GSDczmW1YuutkQCqbf6Q04Elv++J0Nb44XR1wH6lIgCUAZ6x0uPk59S2JR5fqmgPWkpuuxEcLc2B1BKYiaQbLseGAHrqWMAL4vX9uuhJzbh7KOWMn1LqYx30LJoqoJqT3UvTSP7tcZ2kiDRX4yxc/4oYBsREVLdMyU6FVKzH6hc8BAFvmjUduehJ1eAjpQFT0ENLNQsVQ+59jCZXelp+jQn0z9/O+3RIu8ZKooMVX4dkarPqoDHO1QwNm9TDFidnmxOIdOuTnqJCvVXkDEFSKGMzcUBQwYyfcusRRfNZQUoqoJqR3y7pOHvaaOHEUGqwdFzndXgPiuc/StCZUoDUzdnyvaW0KHOG2r/Ryu17/PccuBdJ70fY2QrpZqEIGYJ9jCZXephksR7Odu7hghotyyVErkBAjQnWDNWjxVaivQUq8BCtnjUKuz318ixazzYkNB/Tes0Tztx4Hjxc89jUnyLa33HQlhifF4JX7RiM5VoQ9C3OwPk+DVHl0sE+dENLDRfIN/MwxPWsb1/IZIzjXPUGViJT4yGb40Iyd7vXch2Wtut4/oOL3u0515HJIN6Oih5B2iCR8IJxQhQzAPsfCFTDg6/gFI2dxU1BUgUVT0lkFC3Atvc3UbENtU+i1V9aacd+bxZg+OhWfPpWLgrnZSIoTB9yTkatWosnmwKp7RgUMNc1NV+Kl+zJx5lI96/HJ6Ur8aXYWhipjMUQZg6zBCRieHBu0w9MRX39CSM/w4I3Xdfl7/um/AtMrGVMzUjgfF/B5eHbGyIjfg2bs9A77y6/g6Z3fdfcySCei7W2EtBHX+ZfJ6UqsmZ2FgS1dCSYUoN5iR3y0EMqYwKGa4WKofc+xyKQirJmdhWW7TuL4BSPyc1TeQ/+D5NEovWTC/JbkM99taJo0OVLjJXj1F2NhbPKsJ0YUhcv1FvzX375BTaMN7z42MeTnmxwnxvo8DawOF4xmG9xuIH/LMayZnQUAAVHYc7RD8Yu3jwAAVtw9Es9MvwFXG6yIlwjx9Y9X8eDfDuOhCWnIz1FBIhRAFt26oaORfP0JIb1Hb9rOFawg4kIzdrpGe2PRX/nkNGdsuC9XL4xeJ9dQ0UNIG0QSPtBkc0b0TblvIXPI71qucywD5dFYn6eB0WzHig9PsRKCctQKZA2SY/zQRNbZmuoGK+RSofdeL31cHhB4cPi8ATlqBYo4ghBy1Ur8eKUBz/oMIM1VK73rLpg7HnMbrBBG8SHg8XD4vME7awcAln9QCq1aAU1agjf8AAA2HNBjwwE9vlxyC4Ynx0b2xUfrwh8IISSYZ94Lvn1pf/mViIaTBkMzdrrWiQvGdr0+XCIfAJy+3NCu9yDdi4oeQtogXPhAdYMVL+4tj/ibcqaQqWm0ocFiR5wkfNdjxe5SVndFKhJgbFoCRFF8jEtLgMPlRnlVPc5U1WP5jJEwtGxfM5ptnAlvBUUVWJenAY/H865bKhJgxd0jkXWdHJVGMwrmjkdJpREFRRUo1NfABTcempCGn43NePLdEhTMHY9fbjnKuq9UJPB2pGLEUYgRCbBwihoFRRXeoqi183daE/5ACCFtEWo4aTg0Y6fzOF1uHK2oRXWDBclxEm/ow9WG8EVLe9XRFupejYoeQtogXPiAqdne6m/KZdLIt3b5f9PPDAndXFzB6vzkqpX47V034L/fPoyaRhsmpyux6PZ0znsyCWzvPjYRc28eCgGPhzSFFCt3l2K5T4dHq1ZgXZ4Gi3foUKw3IF97bZCoUMD+xz3outKV2LsoB5fqmmF3upHQygKlNeEPhBDSFsxw0knDuc8thjJAJsHKWRk0Y6eD7Sutwqo95agyXTsnldrytU6Kiyxcoj3k9MO0Xo2CDAhpg3DhA7HiKO/w0IK5470DPhlt/aacObhv8AsdYIaE+ndwCvU1eO2zM3j0piEAPAWXPcTMHrPNCZPZDt3FOsRKolBR04R5OcNY6y/WG7C5uAL5LWeHnG7PHuftv5oISZSA9fkGXdfZGqzcXYbjF4yYt+UYVuwuDRjEGkprwh8IIaSt2hJCsGXeeBQtnUIFTwfbV1qFJ7aVsAoeALhssuCJbSWsIdttkRIvRrie3MgBce16D9K9qOghpA1CpajlpiuhqzR6o5vztxyDrtKIdXkab+HQlm/KL9U1Y+EOHW5//WBA0aQZLOfcsgZ4AgbuHDUAGx/1FGDNdifuGJHMee2UEUmQx4igqzTiv/52GPO3Hudcf7HeAM1gOaQiAYYrY1FQXIGH//4tHnz7MOv6cWkJIdZVg5yWVDdm21+k6Wuhvv40xJQQ0lHaEkJAM3Y6ntPlxqo95ZxBA8xja/f90K73iCSRj0//XXu1Ti16Dh06hFmzZmHgwIHg8Xj48MMPO/PtCOkyTPiA/zfek9OVWHCbGi99fJr1uG93pC3flPsf3Pefu2MN0b0BgJ9qmvDENk8BVlBcgedmZuD2EUmsa7RqBZ6+43r8+bMzAYWKf3eHec/n7h6JFz4qDXp9VJh/IBw+STjMtr9IhPr60xBTQkhHCDaclHS9oxW1AR0eX254tiO2x9SMFLzx0Nh23YP0bJ16pqepqQljxoxBfn4+Hnjggc58K0K6HFf4QBSfh+nrCr0H9H0V6w1YcKsaj0xIa/U35f5neJjQAea+zJBQ39AAq8MFiVCAkkojpMJrW+uK9Qas+LAUL903Ck9PdaDZ5kKDxbOlraaRO+SAeZ3v+R1ZtBCDE6NZiW7+1/9hRkbIz8t3yx/Qum1/bQl/IISQSC2ddgN1bHqIrpp15B9F/vJ9o1o94JT0XJ1a9EyfPh3Tp0/vzLcgpFv5hw/oKo2cBQ9DIhQgtQ0zZPwP7jOhA7+5ZRiWThuBGFEU7hiRjIcmpgWEBuSoFbhjZAqkIoF3bYX6GtRbHLhnQzEWTlFDV2lEsd6Atx4ZF3IdTEcpN10Jq8OJn42hixSb0wmtWsFZSHENUW3ttr/WhD8QQkhrJMTQ3y09RXfNOho9SNYt70s6R49Kb7NarbBaPZGDTU1N3bwaQlov3AF7qUgAXaWRc1BpqEGmwe47aqAMa/edga6yDjt/fRPW7gvcmlakN8CNM8jPUbGKoWabEwunqDEuLQE5w5VYNEWNGHHovxLEUXzkqhVYOSsD1fUWpMpCF3BCAQ/zc1TgtayDoVUrsPC2dHz1Q7X3MTqLQwjpSboiAplEZoIqEakyCS6bLJznengAUuIl7d7iRvq2HlX0rF69GqtWreruZRDSZswB+0MccdU5agX2nqryFh6+g0ov1TWHHGTKdV//ZLTWbE0DPF0VXaURGw7ovdHS5682Be3M5KoVGKKQYvroVDz0zhGsmZ2FnyqNITs53180QSjg4w93Z6DKZIHF7vQMS633/Prtg+e9nyudxSGE9CRdEYFMIiPg87ByVgae2FYCHsAqfJgNiMtnjMBTO7/r+sWRXqNHpbctX74cJpMJJpMJly5d6u7lENJqwQ7Y56gVmKtVoaCowvsYk1h2pd4SUPD4Pm8y2zjv65/YZrEH31YHsMMOctUKfHfR6H09U0C9/PFpzNOqArae5aoV+N1dI/DKJ6fx7AeleGhCWtjr52lVePnj0xg7WI6BMgmGJEoxIF6CQQnRmDRcgYFyCbbNn4gvl9yC9XmaNm37I4SQznLjkITuXgLxMS0zFRsfHYfkeHYxOkAmwcZHxwWcxyHEX4/q9IjFYojFnt/MAoEgzNWE9Ez+B+wlQgH2nqrC4h26gPM+h87WwNhki2iQqf997S52k58JMwiGeX5yuhIv3puJGesKvc9pBsu9HajFO3TIz1EhX6uC1eGCOIqPpDgxahttOHDmasTXP/TOEZhtTjRZHZClxFEXhxDSq1CIQc8zLTMVWrUSo1/4HIBnJlJuehIEfB7MNkc3r470dD2q6CGkr/A9YM9sIQum3hL6L2rfRDPf+56rbmRdx8RYc25NS1ciLVGKL5fcAmWsCD8ZPGfmFk5Rt8zbufZXgdnmDFivf8CBb9co2PVMgRctEoQ8r0QIId0lXhIV9u9g0rP4FqOdPRPJ6ffDRZeL60QR6S06tehpbGyEXn/tm6GKigp89913SExMRFpaWme+NSE9Rrhwg3hJ6D+Goig+zl1tDCgUYiVR2P7YRNQ1e7pJp/5Th/ktc3R8C58ctQKr7x+N6xKl3sfimmxYl6fxJr1tmpMdcg3+XaRIu0patQIuN7Bwuw6Feu7zSoQQ0lGenzkSL+49Hf7CFqEKnv3lV3Dv2EEdsSzSS/3qnydYHy/Y8V33LIR0iE4teo4fP47bbrvN+/GSJUsAAHPmzMGWLVs6860J6TFChRtMTlciIeba8/5zduRSIapMFizaoUP2kISQwQe5agVmjE7FU7enY/n0kbhoNEMmEWKIQopBCdcKHpPZBiGfxwpBCNklUitwXUI0rA4XctOVKDxbE/J6rVrhff6Zu0bgz5+dYRU8wLXzSuvzNNTxIYR0mIbmyGd9hbP6kzOYmTWQs5Pg3wHwRcVS32FoYg/Mrm2KbIA26Zk6Ncjg1ltvhdvtDvgfFTykPwkWbsAklqXES7BmdhamjkzGujwNdJVGzN96HE++W4KH//4tCoo9g0iPXzCGDD4o1BvwwkdlOHe1CUIBHwnRQgxPjmUVPJfqmrFwhw5nrzaxCpaCogrOQAKtWoE5WhWq6ix46J0j+N2dNyBHrQh6fW66Es/PzMD0zBRo0hJgbLp2Dsgfc16JEEI6yl++DL6VuLUu11twtKI24PF9pVXIXftV0Nc9vfM77Cut6rB1EEI6Bp3pIaQL+IcQxEmEUMZe2642UB6NVfdmYul73wd0T5iPfz15GBwuN2pDBB8w0dQv7i2DJi0BSXESpMR7njOZbd5iKW8Ce3spM+yUCSSIkwjhcLrwzXkDFu/Q4dUHx7Tcw44/zBgJo9mOBqsDS6eNgM3hQr3FjqQ4Mb48XY21+84gY6AMGw7oww47bbB03E9lCSGko1U3sOe+7CutwhPbSjhnxfhataccUzMGUBgCIT0IFT2EdLBgh/Z9Qwj8Xaprxk81TSgMMWdn2fQRWPPpGWSkxod8f6vD5S1+6pptOH+1EaZmO6JFAowZLMeJC0bOMzm+gQRfLrkF4ig+Nh48B7PNM1snP0eFtwvPQVdZh19PHobbRyajut4zvE93sQ4FRRXQpMkxT6vC4h06ANfO9vhv25MIBShpGdJKCCE9VXKcxPtrp8uNVXvKwxY8bgBVJk+XaNJwRZirCSFdhYoeQtogWGETbshosHstfe8k8iaGDveob3ZAV1kXMGTUn1QowMIpaiTFidFsc8Jsc+Lgj1fxzqHzuGlYInb++ibYnS5smpMNHo+HkkojCooqvGlrk9OVkAj5WLm7DDcOScBTt6cjRhyFaKHAWxS98cVZvHPovLeQyUiNx64nbsZ3F+tY0dzVDVbcMTLZO9fHN+UtR63AQ9mDw3+xCSGkGwyIl2CCKtH78dGKWlSZLCFewebfJSKEdC8qegjxEy5eOVhhs/qB0Vj2/qmgQ0aDHdqvbrCiUF+DudqhYde2Lk+DU/8xBQ0RmDIiCfIYEcovmQB45ukYmmyYqErE7SNSUNtkxdp9Z1iv1aoVWJenweKWsIRX7h+NlR+V4Ysz1fjiTDXe+OIspCIBCuaMZ72Xf1T1v34zCTcPV2D3Ai2arA7vFr7J6Uo8s+tkwHqL9AY8+8EpCjMghPRIM0azt6e1tojx7RIRQrofFT2E+AjXqfE9F+Pr0NkaXDCYIxoy6q+uJW0oVCLalBFJsNidiBYKcNMwBaaNGgDdxTq8tLfc21XRqhV4+o7r8cYXP+LhiUMCOiu56UosuHU4dJV1rHsX6w3gA3jv8UmQRQthc7jwxelq1jVmmxNmO3uwqr8Gix2/ePtwQGerptHG+TmF+7oQQkhny5swGDuOXuR8bnPxT5igSsS0zFQArStiUmXsLhHp+T4+WYWkOHF3L4N0Iip6CGkRqqBhOjU1jcFDBOrCRKUGO7QfIxIA8CSorcvTgA8eK+J5yogkLJ02Ei/uLWMVD7lqBfYuykGlwQyn2w3dxTrUNNqQMVDGiqNmFJ6tgcvtRn6OKmCYaKHegHn1Vqz59Ayem5nBuc6SSmPYmGogsLNVHyasgMIMCCHdxf8HPP58AwkmqBKRKpPgsskS9lzPylkZFGLQy/z+vZMBjyXGiCimug/p1MhqQnqTUAUN05EI9Q18uIGdcUGGlMaIoqBVK7wJakvuvB6b5mTjrUfGYdOcbDwycUhAwQN4CpUVu0vhdLsRLRRg0jAFpEIBNIPlQTsrxXoDNIPlnM9FCXg4dLYm6MRpJqY6V82O3taqFZinVaGgqML7mG8cdbjhrMG+LoQQ0lo3DZW36vqrDdagz/kGEgCAgM/DylncPxTy9deHxnq7Q6R3ezNvbHcvgXQgKnoIaRFJRyLUN/C6i3XI9ZvFw5icroQylnsLl1wqxKIp6d7Cp7bJ5p3TM3/rcfB4vJBFDI/Hw8P/+BZ2hwtRAh6sDlfIzyPY8wlSz+dmtjkDZgoxj2//9gIWTFHjs6dz8a/fTMKmOdnQpCWwwgsYTAdHGSsK+nXJDfF1IYSQ1jryU12H39P3LM+0zFRsfHQckkNsg5qakdLhayDhhRoY21GWTE3v9PcgnYeKHkJaRNKRYA7mczl9yYTf3nlDwMBOZghpsHMrMqkIQxKlmJk1EJvmZCMxhl0kRIXZIhEl4EEqEiBVLsGPVxogCxMDzdWR0qoV4PN42DQnG063G8/dnYHVD4yGtGXrHcAMHh2FkQPicMOAeChiRJi/9Tg2HNAHFDwAu4Oz4DY15+DTBbepQ66VEEK6m/9ZnmmZqdizSNtNqyFc9pVW4Y7XD3b4fU9fbmB9PJHOafVqdKaHkBZMQXOIY4sb06mRSUVYMzsLy3adZF2Xo1Ygb+IQPLb1GB6akIb5OcMQJeBBIRVBKOCh2e6EyRz8wH6qPBozMgfA0GSDy+3Gi/eOwvMflqFQX4OEmNBFTIJUiPwcFV7eW44TlXX4v19PQq5awTnzJzdd6Z2tw2C2p9U32zF/63HW5/zJ4lzUN9sQI2YPU4306wV4tg3mbznmHXxqdbggjuJDd7EO+VuOYc/CHAoyIF1q48aN2LhxI3766ScAwKhRo/D8889j+vTp3bsw0uWS4sQht7gFCySg8zo9R6QDY9uizkznefoSKnoIaRGsoPHv1AyUR3tDDRosdkiEAuw9VeXd4lVQVIGxeXK8ffA8a1taqHk9TEy20WyD3enCtxW1yFYlYK52KKJ4/JABAlE8PqaPGgAA+MlgBnhuLLhNDRcQEE09TzsUp/5jwruPTYSAz4PZ5kRJpRE7v72AEQNlrHsfOluD53eXsiKl/eO8Vz8wGi98VIb9PoeB/b9e9RZ7QLy1LwoyIF3tuuuuw5o1a5Ceng63242tW7fi3nvvhU6nw6hRo7p7eaQL3TEyOWh6GwDcMyaVCpweLNKBsW0l89sBEuzMK+kdqOghxId/QcNsafPvRMik1x7TVRpZ39Dn56iw/dsL0KQleDsbEqEAJZVGrNxdilcfHMO638+1Zix//ySrM8N0Xxbt0OGth8dhXstAUv/0thWzRsHmcOIXbx/BTcMS8c/8CXhud6lniGmOCkumXo8687VI7IXbdayIa01aAnSVRqycNQr3vVkMqUjgHTjKrLvObA85ePWV+0dj+YyRqG/m/npRkAHpaWbNmsX6+I9//CM2btyII0eOUNHTz4RLb/vo+yo8M20kFT491IkLxlYNjG2tDV+fY328YMd3nfZepPNR0UOIH9+CJhL+39RnpyVg7GB54JwctQIrZo6C/moj5FIRlDEiNFkdWPp+4OBO5uP8HBWOVxpRfsmE8UMTsWz6CO/2NN3FOtz3ZjFuTJNjw8OeqGuzzel97YYDemgGy1lb1vzfY9n0EQCAipomAJ7hp1zzfVbfPxov7CnjjPNmBowOS4rlfJ9It8ER0h2cTif+/e9/o6mpCZMmTeK8xmq1wmr1/LlramrqyuWRThZqaxtwLb1t0nBFyOtI9wj336+9jGb2TgSKr+7dKMiAkHbyDzeQSYXcc3L0BqzaW4avfriK2187iIUt2+H8h4UymHjpnUcrsfj265ESL8GaT89g/tbjrACBQr0Bm4t+QpWpGRdqzax7hEtyM5rt0AyWQyYR4n/nT0R1vSVgPYVna7D8g1MYkRrPelwqEmDhFDXm3DwUP15pxNkrDTBx7H9mtg36B0CEC3ggpDOdOnUKsbGxEIvFePzxx/HBBx8gI4M7jnj16tWQyWSQyWQYOHBgF6+UdDff9DbSs9AwUdIa1OkhJAT/MyzKGO6tbmtmZ3m3fkUJQkdM57dsVSs8W4NVe8o4h4UybE4X1szOwrovf8STt6oD7uu7HS1GFIVYSRQWTlGjoKgCZpsz7OwgAY+HX/p0grRqBdblaQIiqAvP1mDuzUNZ7xusK7SW49xSpNsGCekqN9xwA7777juYTCa89957mDNnDg4ePMhZ+CxfvhxLliwB4On0UOHTvyhjxDh8zoDqBguS47iDDUj3uHFIQsQDYyPxt0fH4fFtJR1wJ9ITUdFDSBDBzrBwhRHEiASYMToVc28eimZb5HNyCvUGzG0pgrgkxYrxly9+RLHegP+6cTDrOalIgDcfHocqUzMAoNZsg9nuxCCZBG8+PA4LtpdAd7EuaAhCjlqBw+eDb6vzL8SEUXxsmpMNq8OFlHgJfrhcz9kVWrbrJCv8gNHabYOEdCaRSAS12hOZfuONN+LYsWP461//irfffjvgWrFYDLHY8xNlgUAQ8DzpvUKlt/Hg6dz/9t/f43L9tW5PqkyC/6F5LT0CMzD2iQ4qVLKHJnTIfUjPRNvbCOFgMtsCCh7Ac4Zl2a6TAdu4ahptWP7+KczfehyNVkfIe/t3X2LEUSiYOx4Lp6jZc3HUSoii+N5CRCJkf7P1m1uGQSLk4+NTVd5hpvlbjmHvqSpIhHz85pZhKCiqwDytCjl+M3Jy05WYq1WhoKgiYH3Mtjp/Ah7P+z6zN36Dj09VYV2ehrVm5mtU00j7nknv4nK5vOd2SP/x1O3BZ4W5AdSZ7ayCBwAumyx45r1TnbwyEqlIBsYSAlCnhxBONY22gIKHwXxT79u1qPeJXS6pNIaMmNZdrGM91mR1YP7W46ytZTemJeDl+zNhaLRiz0It+DwexEI+ctOV3nVNuSEFa/adDhqCsOqeUUhPjsMgmQQr7xmF/xibYbY5IYsWQh4txINvH+YcKgp4ulG+W+cAT9Hlu3UuVFeIYqhJT7Z8+XJMnz4daWlpaGhowPbt2/H111/js88+6+6lkS52y/VJQZ+TRwtR1xz4dxmFFvc80zJToUmTY+IrB7p7KaQHo6KHEA71Yb5p9/+mPlEq8m79ihFF4Y6RKeDjDGcM9eIdOtZjTBFUrDeAD2Dnr2/C5+VXsObT03jiVjUMTTZECwWotwC/v+sGCAU8HDlfCz4PIc8OmW1O7Pi2EnO1Q7Go5YwOswarw8VZ8DCFTlqiFAVzxsMFN745Z/AWOv5nfnzPKPmiGGrSk1VXV+OXv/wlqqqqIJPJkJWVhc8++wxTp07t7qWRdooRC9Bk5f5hDhdniLkrXAUP6bkoVpyEQ0UPIRz8Y6gD5teIBDCZbd75Nc99WIpC/bXO0JQRSXhm2ggs5fFQ3WBBUpwYpT+bWAEBXEVQod6AuQ1WFBRVYF2eBmv3nQkYMPr7u0ZgyR28sNvomm1OPD8rAw6XC1vmjUecRAihgI/Py6tgc7iRo1agyOfewcIJfAsdru6Of0IcxVCTnm7Tpk3dvQTSSWZkDsC/T/wn4utP/lzXeYshHcbpcuNoRS2qGyyQRXfdD9USpEJWbLUiRgQDxVb3WlT0EMLBd7ZMsGJgcroSqx8YjWXvn2IVPABw4MxV2B0u/OHukRgkj4YbwASVAuvzNJCKomC2OaC7WBeQkgZ4ioj8HBVn7LXn4zP4nzuuD/tTrVhxFL6rNOL3u67tPdeqFVh0WzqUcSLcNiIZbp+iKvR7Xit0/Ls7vmeUcimGmhDSjR7QDGpV0WOg84c93r7SKqzaU96pQ0iDef3BLMzbesL78Ya8scj7x9EuXwfpGFT0EMKBiaFetusksloGjfoXA4fO1uCCwRz07E+h3oD/1Fm8w0FfuT8Tn566jHk5qqADQwFPEaEZLA8aY12sN2DRbW4cqTAgV60MKLgAT/HhcgNZg+XYMnc8zHYnJEIBSiqNeKfwHKaOTEF1oxWatATMzxmGGJEAseKokO/pW+gw3Z3cdCVUihi89/gkyKKFSI4TU8FDCOk2/FZucVJQV7pH21dahSe2lQQ9R7W//AruHTuo097f//dTa39/kZ6Fih5CgmBmy1SZLEGLgXB7vqUiTzJbSaURr+//EW8+rEG8RBiwtYzBnPHJ8BsEGnBfsQDvHDqPDQ9rALgDzg7NuXko/vudw7gxLQFztEPxu39/zzrTE8XjIfM6Gax2F5JixXjuw1LkTUwL+Z6+29jEUXzvcNFUeTSGhXwlIYT0TFnXyVv9Gh4ozKArOF1urNpTHvJrvfqTM5iZNZDO85CIUGQ1ISHIpCI024Mfig03/NNscyB/yzHoKo1YMzsLxy8Y8drnP2CuVgWtX4w0U5AUFFWEvS8AaNLkWLhdhzFpCXjv8UnYNCcbm+ZkQ5OW4N02V6ivwebiCuTneLo0xXoDNhdXQCYV4lKdZ290s92JvIlpGJwoDfl+zJpy05VQJ8VifZ4GqX7zigghpDuVXapv1fVt+WZ5gEyCP/3X6Fa/jrTO0YrasFvaLtdbcLSitotWRHo76vSQfstktqGm0YZ6ix3x0UIoY7iHZ/qHGvjSXawLusXMP5kNAP7njuvx589+xDfna5Gfo0K+VgWb04W0xGg0WBww21x49cExkEtFWH1/Jl76+HTAmR+tWoGvfqjGwtvUeOurc9hwQA/NYHnQLXP+W9OK9QY8O4MHlSIGL+4p83aJFk5RB+1A5aqVAIA7RibjpXszqdghhPRIL+493an33zJvPHLTk2A000ynzlbdENkZnkivi0SoND/S+1HRQ/qlS3XNAcNHJ6crsWZ2Fgb6fUPvG2rgr/ySCb+96wa44A5IWWOS2Zjkt3FpCd6/UM02p3fLnFQkwIaHNSgoqmAVHLnpShTMHY/8Lce8hU9uuhLP3T0SVXUWHP2pFjcOTcBc7VBIRaH/KPsnrPHAw0t7y1jb4pjEOACsdWjVCszRDsWObyux5M7rA4aREkJIfzFBldhpW6l8v+E+WlGL3PSkfr1tKzlO0qHXRWLW+uIOuxfpeajoIf2OyWwLKHgATzDBsl0nsT5Pw+r4+IYa+BY+WrUCD08cgse2HsNDE9KQr1UFJLMBYCW/bZk7HgunqK9FXwsFcLvd2HbkQkCHpfBsDeB2Y+evb8LPxmakxIthd7qwdt8ZHDhzlXXtpjnZIT9n/+1yPB6PVfAAnkJs8Q4d1udp8OStatQ12yGO4rNS5podTrxy3+iAjlikXTNCCOnNWtsJ8I1aTo6TBC2a9pVWYeVHZd6P524+hlSZBCtnZWBaZmq7190bTVAlIlUmwWWTJei5ngHxnq9pR6luoA5eX0ZFD+l3ahptQRPXDp2tQU2jLeAbdibUoKbRBlOzHRa7E9+cN3iLAaZrs/NXE6G7WAfNYDlefXAMUuIlOFfdgPFDE/GrnGEYrJDi70XnWcEIuWol5miH4sj52oCtbIV6A5bz+ZAKBZAIBfh/m45iXZ4GVoeL1VmqrrdEtM0O8HSLTEECGJj3f/gf33I+X6w3oMnGng/Umq4ZIYT0ZicuGJGbnoTjPxnDXssVtcxVyARLKLtssuCJbSXY+Oi4fln4CPg8rJyVgSe2lQQNj1g+Y0S/7oaR1qGih/Q79ZbQiWsNQZ6XSa91Ly7VNeNvB8+xipSZowcgVR6N7yuNrK1rm+dmw+lyIzFWhBd2lwZEXxfqa+CCmzXw01eVqRnXJUhxobbJ241hzgNZHS6Io/hIlYlx49BEvLinjNUxylEr8PysUXj470cAALlqBRbepkaMOPgfff+tcP58P+fWds0IIaQ3O3CmGsvfPxX2gH2khUyohDI3PElxq/aUY2rGgH75zf20zFRsfHQcVn5Uhiv1gV2YqRkp3bAq0ltR0UP6nVDBBAAQF+Z5AIgRCbBiZgbqmu2IFQkgFUchisfDM++fZBU1v7llGFxuYO+pKqTIogO2lDH8wwb8vbi3DEunjQDAPg/E2DQnG+9+ewFj0xIwz6cY0l2sw58+PYOt+RNw2WTBlXoLzDYnLhiakKtWcK5HHmbate807LZ0zQghpKdo7Xa1fx6+ENE9Iy1kwiWUuQFUmTwJZZOGK4Je15dNy0yFVq3E6Bc+BwD87dFxeHxbSTevivRGVPSQfidUMMHkdCWUYYbVcW3nyk1XYuXMDOgq61jX3j4iGSd/NnkHgIbC1WFhtqYV6w2wO13QqhUBnSIAiBYJcODM1YCzPoyHbxriTXfTqhWYoErEipmjsGpvGet+k9OVGKKQIjddyVnM5KYrkRwn9n7c1q4ZIYT0BA++faTD73nigjHiQqY7Esp6I98uV/bQhG5cCenNqOgh/U6wYAJm2GaozkSw7VyFZ2uwak8Zfj15GBwuNzSD5XC43IgRReGTU1Uo0hvChg34d1h8E+AAwOUCVt2TiVUflbHO7uSqFRAKQs/1iRYKvENSC4oqkK9VocLQhJlZA/HCrFFosjoQJxFCGevZwrc2wq9PR3TNCCGku1yN4OB6a4eRRnJPAN5wg0h0ZEIZIf0VFT2kX/INJmiw2Fnf8IdKIgu1natQb8DyGRlY/Uk5NhzQY+EUNf55+CdvJ0V3sS5op0arViApXoxNc7JZW9OYoAQAiJFE4SdDE8akyTFXOxRWhwvJcWKcvdKIBosj4J6+zDYH5m89Dq1agXV5GjhcbsSJo5A1SMY5cyfU18dXe7tmhBDS06XES3C5PvJOS5JPNzwUJs0tVEIZD55hqB2ZUEZIf0VFD+n33IDnXxYAVXXNeCZEElm47VxVpmbvORnNYDnr7I3vHBzfwidXrcCC29LxyakqHK2oDVoUOZyeIsf3nlNGJGHx7dfjdFV90IKKGSwqFQlQrDdAHMXHczMy4HC5cbneArPdyRkx7RvcEEx7umaEENLTbZk3HjcOSfCeJ4nEjUMSIi5kfBPKuK4DgJWzMvpliEF3SIkXcwYmkL6Bih7SLwWLWX7yNjVOXGBHkR46W4Olu07i1QfHhN3O5cv/jI5/8lqsOApNNidO/lwHRawIpy6aMK8lzIBr0Gltow2xkijW4//vpqE4f7UB2UMSMH5oIlbtKWN9Tsxg0Xe/vYB1eRos23USD08cgpUflbJCDNoTMR1pV4gQ0n99UX6lu5fQJv4dlki2uoWKWuYqZJiEsud3l7HmxAzo53N6usNHC7WY+MqB7l4G6SRU9JB+J1TMstPNHR1deLYG56obMUQhDbqdK9dvHo7/QFCAnby2/VcTUdISb52jVmDFzAxUmZrxuztvwLLpPBjNdjicbpRUGrH92wvIGChDrlqJtx4ZB3EUH6WXTJCKBCgouoQl/zoJqUiA9XkaPH7LcJg4BovaHS786b+ysKmoIqAj1N6I6Ui6QoSQ/mvV3tPdvYQOE0nhEyxqOVghMy0zFZo0ufcb7r89Oq7fxlR3J/p6922hTz8T0geFOpdTrDdAM1jO+Vxdsx0vfFSGV+4fjcnpStZzuWoFVswahYKiCu9jzBkeLjlqBWLFUchO86TQNFqdmL6uEImxYrz++Q+Ytb4Yv9x0FPlbjuH7SiMevWkICooqkBgjwg0pcVDEiHDfmEHYcEDPCjWQRQvxyD++xe/+/T1rSGrB3PEYk5aAVHk05xY44FrENCGEEG5vPDQWyfGRndmZlpmKL5bc4v14y7zxKFo6JWjnxj+hjL4Bb50DZ6q7ewmkh6NOD+l3wp3LCTac87qEaORNHAKXy+3dzmVosiFaxIeAx8OnpVXQpMm9RUVBUQW2/+om8HCGNTBUq1ZgrlaFN774EYumpCNHrYDb7cavJw+D0+XG76eNwDM8HoxmGxxONy6bmsEDD9rhCiTHib1hC1UmC/ImpmFejgonf67DmOvkMDXbIRUJsC5Pg83FFayOlVatwH1jB0EqErAGjPqiiGlCCLnG6XKztjxPGZGMKSOSIz7j41u4MGd4SMfbV1qFZ9471d3LID0cFT2k3wl3LodrW5pWrcDn5Vew4YAeuS2H9IcnxwLVjZi1oQjr8zQ49bPnTI44io+MgTJoBsthsTvxP1NvwDPTeKgyWRDF57G2nP126g14LHcYBsmjsamoAm98cZb1nvO0Krz88WmMS5N7gwE45wSpFZioSkSz3YX8HBU2FwduYSvWG7BqTxnn9j0GRUwTQvqT5Dgx6xyNvzteP8jannbH6wfx7IyRXbE0EiFmGCwh4dD2NtLnmMw2nKtuhK7SiHNXG2Eys7dsMTHLXHLTlQH/ADLFB7N1rbDl/IvJbIMyVoTsIQlYtEOHRVPS8f6Ji1h8+/X4vtKI+VuP46F3jmD2xm+wdt8ZCPg8LNqhw4YDem+npdnuRFqiFC/uKWN1gwBPkbK5uAL5OSoU6Q2w2F3B5wTpDdjwlR5utxuThnGnuDFrv3kY95Y7ipgmhPQ3//rNTSGf90/yqq634umd33XiikhrHa2oDTkMlhAGdXpInxIslc03mSxczLKAz8P2xyaCz+ehyeoImJcDXDv/Mjw5FmtmZ2Hl7lKYzHb8/q4ReH43OxkNuJbG5t9labQ6YHW4Aq73fV1+S6JbXbOneAt1HulXOcMg4IXePiGM4iNXrWSdBdKqFXjx3kwKIyCE9Cut3W7mxrUENtIzVDdQwUMiQ0UP6TNCpbL5J5MFi1n23MeOVJkE52uaMH/r8aDvx5x/GSiPxsv3j8Yf3j+Jp6ZeH1EBA3jCDFxuN0zNkZ0xstpdMCF00IDZ7gT3iaRr+DxgyZ3XewecMilv9c02ADFhXk0IIf1buOQ20jpOlxuHzxlQ3WDxDmxtTTGaHCfpxNWRvoSKHtJnhEplYzozvp0M/5jlqrpmXKg1Y/2Bs9BV1uGf+RNCvl+M+Nofn0aLAyMGylAdZqgZU8AwYQbyaCGMbnbRIxUJkJ+jgmawHFaHC2mJUrxyfyaOXajFXRkDQt5fHMVHSaUx5KDSwrM1GD1IFlDQ3T92UMh7E0IIIR3N/9xUaivnE01QJSJVJqEtbiQsOtND+oxwqWyhkslMZhu+/vEq1h84i2K9AWabE1//eDVo5LRWrcDxC0Zcqmv2vnewqGtfQxKl2LsoB/laFZbtOgmHCxAK+Nj+q4lYOEUNZawI6/I00LWcCXry3RLMXF+ET0svY/QgGQR8XtjzSAVFFZinVQWsPVetwLycoTj5cx1rnpBUJMDqB0bD5XYHPQdFCCGEdAb/c1OXTRY8sa0E+0qrIno9Mwy2I1Dsdd9GnR7SZ4RLZQuVTGZosmHUwHgkx4nxyMQhiBFFwel2YdqoAbhSbwGPx0NJpREFRRXQpMkxT6vC4h06fDokAevzNIgVR6HKZEF5VX3QLotWrcCnZZex4YAeWrUCa2ZnwWx1YO6WYwA8293+MWc81n35I+v1UpEAYwbLIYkSoMFix4v3ZuL53aWc55GkIgEmDE1Ek9WOl+/NhMniQJWpGSKBZwvb9m8r8evJw5Hf8p5SkQAFc8fjzQN6LH//FOt+vuegCCGEeEQynJSE5nQF/woy56ZW7SmPeEDrtMxU/Om/Rrc7tppir/s2KnpIn8Gksh3i2OIWLpnMDeDP+86gUG9gzbnxLT5y1Up8+KQWn5ZVeYMNmG1zIgEfsmghCooqsC5PAwCs1zIJcIt36LzP8QDM8znjU6Q3gMf7AWMGy3HgzFUA4Jy5IxUJsGJmBp69eyTqmx2Ij45CglSElHjPvmbfLXsmsw1x4ig0WOy4f+wgKHM877dnYQ4aLHYkSEV47sNSVqgBwH0OihBC+rvWhhj4fnN/tKIWuelJNKsHYM0+4uIGUGWy4GhFLSYNZ+9aOP7Ttdfu+f4S0hJjMEGViCkjkjtjqaQPoaKH9BnhUtmCffN+pd6CKyYL8iYOwbycYXC73SjgmHNTqK/Bqr1l0KQlAAAWTlFDM1gOQ5MNcRIBkuPFmDQsEYt36JCfo0K+VoUYcVTQBLiSyjosnSbBpjnZsDpckAgFKKk0Irvl/gA4Z+6YbU4sf/8UtGoFNGkJ2HBAz+r01DTaUG+xIz5aCGWMyDNPiONrBQDnqhsDCh4G1zkoQgjpT/zn+KTES7B8xgg8FUFs9b7SKqz8qMz78dzNx1p9XsWf0+XG0YraNh/67ymuhpiN5Isrme3xbSXeXy/d5enMpMok+J+p6R2zONJnUdFD+gST2eb9Zn/FzAyIBHyYmm2IEXtS2fy7H8y1MaIonLhQi5c+Pu0tSN59bGLQOTfFegPm5wzD2Dw5q/sCeDpBL92XiZf3lnsff+uRcXjy3ZKA+zAdnD/tO81Ke9OqFZiVlQqpSACzzQnNYHnQQaK+aXDHLxhxodaMNw/oWUVMuG1q7TkHRQghfd2eRVpMfOWA9+P9SyZHVGTsK63CE9tKArbBMedVNj46rtWFz77SKqzaU846sN/eIqq7JMWJI7qOSWbbX34l5HVVJgttTSNhdUnR8+abb+LPf/4zLl++jDFjxmD9+vWYMCF0MhYhkYpkNk+oa7VqBdblabydmHAR0lECHt4+eJ6zE/SHD08hX6tCfq4KQgEfsSIBFk5RIzstATKpEFECPoxNNsSKo3Dmcj1OVNax7lGsN+Dlvae983yYtLdgmOfzc1TeEAZf4bapteccFCGE9HX+BU4kBY/T5caqPeWc537acl4F6JwiqjvdOCQh5PM8AANknk6W0+XGK5+c7pqFkT6t09Pb/u///g9LlizBypUrUVJSgjFjxuCuu+5CdTUlZJD2CzebxzeFzP9aaUtBkq9VIYrHwwdPavHe45NwXULow/sJUlHIThCPx8PDf/8WLpcLAj4f5ZdMcLjdePXzHzBrfRF+WXAUD2z8Bh+fqsK6PA2kIgHrHoX6Gtw8zLOHWRwV+o/o4MRovPXIONw1akDQNTHb1Lgw56C4hDsHRQghfZ3v+ZFInbhgDBmf7HteJRLhiijAU0SFCgfoaUIVe8wzK2dlQMDn4WhFbUDCW3cpu1Tf3Usg7dDpnZ7XX38dv/rVrzBv3jwAwN/+9jd8/PHHKCgowLJlyyK6R1NTU2cukfRildWNOFj2M+dzX5f9jMorQzGs5UyL77VSkQBr7x2JbUcu4B8HTuPPD2Zh45dlOHyuFo/fOgwTB0tx+FzgP0hatQJ2qxkuW/B/0Jjnrxrr8ZdPLyBrsBx/P1AecL/C8v/AYW3Go9kp+NvX51nPmc1N2PDgSETz7Jg0OAbF5wILmpuHJ2LPiQr87evz+OtDY0Ouqbq2DgNiAv+RiQLw/LThWGFtDgheWDltOKLcdjQ10Ra3/ob+ziX9RbhCwff8CODZZjU1IyXka9pzXoXL0YraiIso/0P/vYH/uakBflv2Iv06dYUX91LHqTfr1KLHZrPhxIkTWL58ufcxPp+PO+64A4cPHw643mq1wmr1/Mb3/Uc3JSX0XzCEBJP1l+DP3bOW+9d/CPGanS3/C2Vay+tntfz//4W49iKAf3E8PjXEGhj/53PvB8Jcf3ME9/O1E8DOBa17DSGE9DYP/i3we5FQntr5Hf760NiQ17T2vEo4kX7T35OKg9bwPTe1Zd74gIS7SL9OHaEjYq9Jz9Wp29tqamrgdDoDipaUlBRcvnw54PrVq1dDJpNBJpNh4MCBnbk0QgghhPRzV4Ns/Q1l5e6ykM8f/CH89v3UlvMqkYj0m/6uLA46km+Bw5VGN0GViJT4yArJ9vKPvXb1oi2DJLweld62fPlyLFmyBICn08MUPleuXEFMTEx3Lo30UCazDb/99/dBh4G+9uAYyKQinK9uxJ5Tl/D9xTocPleLN/57LJ7+v+8AAG/891g8+8Ep/PLmIcgaJENijAjrvzyLYo7tbZOGJ+KZaTfgUp0F245c8G6HY+7Ldf3C29R45B9Hg34Obz2iwZPv6rzXP3rTEPzr+EWMTI1nbXv7eFEOhiXH4vuLRjz0zrese6zP04DPh3dN3q/B8EQsnT4SFwxmxEkEGJwgxcAEaegvKun3mpqaqMNOSBB1YcJuNn9zIew9Vtw9MuIQgwmqRKTKJLhssnCe6/E99N8XCfg8PDtjZEQx4R3thysNXf6epPN0atGjVCohEAhw5Qo7avDKlSsYMGBAwPVisRhisaeaFwiuHe6OiYmhoodwiomJwWsPTww6mye1Jb3NIbBh2/ErePPhcbg3uxnp18nAF3l+KpYoi8OGOZOwubgC73xzGpvmZOPwRbP3eV/fXjTDLZBgd+l/MD59IH49JQNJcWK8801x0Ov/EB+H3IxBnIVZrlqBtJRE/HvhrWiyOVFSacTS3T/CbHNi7uQReOebS57r0pVIVsgQEyNBSqI74L1iY2OwqGU+0O/vHoN6ix1JcWKc+tmEh7d8543jzlErsOaBLFyXSIUPIYR0l4SYyDsXAj4P94xJxduHKoJewxz676vCnaPqLOEKXNK7dGrRIxKJcOONN+LLL7/EfffdBwBwuVz48ssvsXDhws58a9KPDJRHY32eBjWNNjRY7IiTBM7miRV7fqu74cYnp6pwyWSBVq1Asd4Ap9vNGgAaLib6aqMVy6aPxMqPSrHhgB5vPTIu5PW1jTbMa5mn4x8W8Lu7RqC20YZokQCyaHY8dIw4Cv/MnwBFjAh8Hg+VhibYnS4IeJ6ZQL7zeHQX66BJ88z00QyWQ3exDrpKY0ChVaQ3YPkHp7AhSIQ1IYSQztea8zf7SqvwToiC59eTVb0qrro3kUfT2Ia+pNO3ty1ZsgRz5sxBdnY2JkyYgDfeeANNTU3eNDdCOoJMKgr4Jt53CKlUJEDB3Gy8c+g8ivQGlFTWYV2eBoDnp2i+xUG4mGiRgA+7wwlNWgLm5wxDSphDq7GSKEhFfCydNgI8HmA02+FyuZEYI8IbX/yIA2eueq+dMiIJO399kzdi2uFy49Oyyyi/ZMLDE4fgb7tL8chNQ5Cfo4ILbu+6C4oqsGlONvg8HqwOV8ihpoUtEdZU9BBCSPeI9PxNqLhqxkffV+GZaZFvlyORqzW3/swX6bk6vej57//+b1y9ehXPP/88Ll++jLFjx2Lfvn20X5y0mm8REx8thDImsNBhXKprxtL3TrK6IbnpSjx390jMmaTCsQu1WPVRGV68dxSS4sR465FxkAgFKKk0ovSSydsF8qdVK3Cl3uI9VKmMFeHkz3VBr89VK/D1j1eRnZaAVLkEL+4tR7HegIVT1AGdGKlIgIcnDsHafWcCOkLztCps//YCMgbKsLnoJ/z2ruuxZOoNWD6dB7h54PEBY5MNL94zClaHC+drQkcON1ioZU8IId1BESOK+PxNuLhqoHfHVfd07xz6qbuXQDpQlwQZLFy4kLazkXa5VNccMIR0croSa2ZnYaCcPUzUZLYFFDyAp8Px4t5yaNISUH7JhH/MGY+X9pahyK/AmJ+jQtYgOQD2drQctQLPzhiJmgYbnG5AV2mEZrAcL3182ts1Cph1c88o3LOhGBkPxqOqzgJNWgLytSokxYkDOjH5OSrWNjsG87EmLcHbwZmrHYpFO3TYNCcbb32lR6HPa1Y/MBpDwpzZiZNQy54QQrrDS/dmRtyV6etx1T3NgTPhk/dI79Wj0tsI4WIy2wIKHgA4dLYGy3adxHq/8ynVDdaAgodRrDcgv+V8jX/BwzwPAOOHJkKTloAFt6rB5/MQIxbA4XSDxwMcbhf++sWPKNYb8MjEITDbnFjcEiKQr1XB6nBBHMWH7mIdapts0KTJIY7i43ilEeWXTACAnOHKgLWF2pJWrDdg2fSRcDhdkIoEsDpcyM9RYcNX+oAi6aW95dj1xM3IUSsCPj/A0/Fyut04d7UxZLeMEEL6OmWsyLuduKPwgKDb0X4zWYUZWZGfv+nrcdU9zauf/djdSyCdiIoe0uPVNNoCCh7GIY7zKb5pK1KRAPk5KmgGy2F1uCARCpAgFSJ7SELIAiNfq0JBcQXuGzsIr3xSzjp3k6tWYo52KI6cr/We/zHbnJz3G5eWAE1aApLixKiobsDSaSPx4t4yaAbLA64NF6BwsdaMHd9WYl2eBlE8XtAiyWxz4v9t+ha7Hr8Zz+0uZX3tctQKzLl5KO57sxhmmzNot4wQQvqD/82fgOnrijr0nm88NBavfHIaV+qtrMfXzM7EQ+OHtOpe/TGu2uly42hFLaobLEiO69rPrbrBGv4i0mtR0UN6vPow50/8z6fEiDxx51KRAOvyNNhcXMEqDnLVSiy6PT3kPeMkUdCkJeBqg4VV8ABo6SK58X+/noTqBgumjEgKuAbwdFQum5qx4YAeBUUV2Pnrm/DS3jIU6w3QpCUEnAMKF6AgjuKjUF8DN9yY19JRCqam0QZTsw0bWlLtTM12WOxOfHPegMU7dN4I62DdMkII6Q864/D/1IwUTBmRjNEvfM56/I6RrT/LLODzsHJWBp7YVhLQQWJW3pfiqveXX8GaT8+wzjGlyiRYNn1EN66K9BVU9JAeLz7M+RP/8ykxoiho1Qpo0hI4z8gU6mvwxK3DQ94zWiTA95V1rMf8u0Y8nieO+oVZo/BYbjPqzHZvGEL5JRN+M3k4mm1ObJqTDavDBT6P591uVlBUEXAOSHexLuiWNK1aAd1Fz3qK9Abk5wwLnzIn9BR/w5Njca66EQ9s/IbzOq5uGSGEkLbryCJkWmYqNj46Dis/KmN1j1LiJXjhnow+FVf99M7vAjpal00WPN0Ng0lJ30NFD+nxYiVRQYuBHLUCsRL2b2O5VIhFU9LhdLmDbmH75rwhYNYNQ6tWwO0Gnps5Eve/5SkUQnWNrkuMxmNbj3u7J7npSvz2zhvw2NZjWDs7C/O3HgcA1jwfrnNAaYnRuGNkCtzgTm9bvEPnfcxid6K8qj5kytzek1U4ebEOa2ZntbpbRgghpOeYlpkKrVrJ6h7tXzK5z4XScG3hc+NaV4uQ9qCih/R4TVYH5mpVcCMwHW2uVoUmq4N1vUwqwpBEacjY5oKiCnzw5M3eCGnfe87TquB0ueBwwVvIBEtWK9TXwAW3J1SgpRgqPFsDuN3YPHcC3HBDKhLAbHMGdGb8zwHtWaTFlXoLVt0zCjaHGz8ZmryBCL5b0gDPVjfvbB7wWMWbb5FktjmxbNdJrJiZEfJr3Nf+4SSEkO7idLlx4oKxw+/r3z3qK1vaIhFqThEhkaKih/R4pmY7qytic7qQFCuGKIqPKpMFVrsTJjN7e1aqPBqNfsWQL7PN2ZKslhCQuLb92wt4ZOIQGBqteOX+TKTESzgjphm+iXCMQr0Bcxss2PLNT/hogRbnapqQEicJ2V36rOwKvr9Yh5fvzURcrABrPj2NQxwBDrlqJZLixPhn/gQUn6vBjUMT8OzdI1FRw10kHTpbA5GAj8npSs77TU5XQhlLW9sIIf3P9y3bhjvSHa8fDAgxIIR0Pyp6SI8XLxF6uyLMNrO/tERGM7hSyJLjxMhNV3Imv+WmKzFQHo3vK42sYobpkoj4fCjjxNhcVIFCvYG1NY0LV6iA1eFC4dkarNxThgmqRIgEfDx523C44GatPVetxLycodj+bSVeuGcUnG43JFF8rJmdFRDVrVUr8ORtahgabViwvcSbwDZjdCqefLck6PpMzTasmZ2FZbtOsgqfyelKrJ2dRed5CCH90u93nWrV9clx4rAJX8EKngNnqvGL7LRWvR8hpONQ0UN6PGWsyNulCLbNzD+FzGS24WqjFSvuzsBLe8sDtn/NuXko1nx6Gs/OGAnweLhU1wwA3i7Ju49NxKuf/+B9H2ZrGlcEdkmlEdKW0ABfzGuK9QYsnTYCa/edga6yLmCeT3WDFakyCUakxmPW+iJvIbN2dhY25GlQ3WCFqdmOaJEAPAD7T1/B2wfPs65rtjsD3t9XjFiIgfJorG9Jc2uw2BEnEUIZS3N6CCEkUnsWaTHxlQNteu1rn/+I2eMG96ttab58o6hl0dxbqoPNOAo1+4iQSFHRQ3o8mVTk7VJkpyUAgLdoYIqOgqIKHDpbA0OTDU02p7dDwhQpj986HAI+D2abEyWVRu/2r3qLA/eOGYjrB8Tjz59dCxCIEvBYhZXuYh2mjEjCwxOHBIQZ5KgVuGNkivfsDgDk+qStMZj7cW2T2zQnm/X4obM1WNpSxKWnxHkfN5ltmDl6IG5JT2IVLSazLaLtazIpFTmEENJW7SlYrtRbcbSiFpOGKzpwRb3DvtIqrNpTzoqiDiZYNDch7UVFD+kVYkQCPD8rAwAPfy86H7AlbV2eBot36OB0uVlbwphtcRsO6L0x1gVFFaxuTVqiFNFCAX479Xosus2NWEkULH6dE2bOztp9ZwK6TEV6A9w44w0z0KoVWDFrFO57s9h7jdkauhPDtT2OK0o6WNHiWxjS9jVCCOmZqhvCf9Pf1+wrrcIT20qCdmoOnKn2/pprsOuAljk9T1FsNWknKnpIj3eprhlLd53EmMFyfF9pDCg6mI/zc1RwutycZ3iY636VMwxj8+Sc3Zq5Poln2381kfVas82JmkYbZzw0c++l00ZAM1iOK/UWfFpaxYqwlnBsf/MVbOZOa6KkafsaIaQ3O3yO++/XviQ5TtLdS+hSTpcbq/aUh9ya9trnP3p/7T/Ydcu88chNT4LVEfoHh4REgooe0qOZzDZv52buzUNDJqgtuFUNsy14YhsAyKRC1lkdhqdbA/zmlmFwuwF5tAib5mSDx+N5t8/5d3/8/WxsxvZvL2CuVoWXPz4NwFPw/Gl2Ftwtv+YqyLQcW+EYrY2Spu1rhJDeas2+H7p7CZ0qJV6MCarE7l5GlzpaURt2S5t/8IPvFsIJqsR+ewaKdDwqekiPVtNo8xYKXFvAfImFfMiiQ3/D739Wx5eusg4rZ47Ci3vL8MYXZ72PM9vn+LzQf/EOSZTimWkjUNtow6sPjoE4io/BCVKktiTK/fG+TDz7wSnWkNUctQIv3JOJz8qqsGlONuuc0g9V9RQlTQghfcRv77y+330D3x+385Gei4oe0qM1Wu1YOEUNzWA5kuLEIa+NFgog4AfvqOSoFTA2Bd8ulp+jwkt7y1hFCeDpIvEBPH/PKOSqFSjkKJq0agU+LbsMzWA55m897n38yyW3APB0rF7cW46xaQmY55Pcduo/JtQ2WXHknAF//uxaiz9HrcAr94+mrg0hhPQywWKtp4xI7obVdK/+tp2P9GxU9JAeTRYtgq5lls7CKWpo1QrOTo1WrcAnpZdRUFSBTXOyATdwotLoDSwAPGdeQv2MTTNYHnT7XKHeAJvDhd/eNQLAGVbhw8z2WbbrJKZnDsCeRVo0WpyIj45CtMhzlqem0YYvTlfji9PVrPsunKLGX788y7nd7rkPS70R3IQQQnqH9sRa9zUTVIlIlUlw2WQJeq4nJV5Mw1xJl6Cih/Q4JrMNNY02mJptsDpc0KQlQFdZh4KiCqzL0wAAq0hgig4mhGD+1uN4YVYGXrx3FJ7fXcoqZFbfn4lctZI1tydSFwxmvHfiIl6+fzQaLA7Umm1wON0oqTRi2a6TWDM7C2s+Oc0qiHLUCrx832iYmm0omDveez6ICTkIVWhxpbcRQgjpPvtKL4e9pr9tYePiO5PnofFpeOOLH4PO2vntndfjmfdaNySWkLagoof0KExSm+/2NN9I6sU7dN7hnvESIeotdu9AUaaQMNucqKq34Mh5A+ZqVcibOMR7Tua1/T/in/kT4P7kNGsbm1atQHJ86O1z4ig+Dpy5CrvjFMakJbCKlYVT1JxDUz0dm1OYp1Vh/tbjrM/FbHOGPafUmvQ2Qgghneu5D8u6ewk9HtdMHrlUCLiBuubAf9Mi2fa3v/xKh66R9E9U9JAewzepjSEVCTB+aCKUMWJsmTce0UIBAB4O/HAFNw9TsM7P+L5m+qhUrNpbFtARWjM7C4YGW8DZGt3FOnx5ujrk9jkmYa1Qb8ATt6pZRc/NwxRBOzZFegOWTh8B4FqH6je3DIPd6cbgxGi89cg41pBVpngDWp/eRgghpGfaV3oZw5Pi+lQimW9HJzlOAmOTFQu26wI6OiaznfXY3x4dh8e3lUT8Hq98crrD1kz6Lyp6SI/hm9QGeIqXDQ9rsLmoIiBNbeFtaihjxZCKBKwiAbgWSMA1z4cPHp6dMRLj0hICigypSOBJaQM4z+ws3qHzPuZ0u/Hhk1rYnC5IhPywHZtGy7U1Milxq/aWBR2yarY5MTldSelthJB+Y9m0G7o8tvr5mSPx4t6u+Yaa6RKlyiRYOSsD0zJTu+R9OwtXR4fP497C5gZY29uyhyZE/D5HK2rpzA/pEFT0kC7HnNmpt9gRHy2EMsYzW6bebytXfo4KBUUVnGlqADBz9EA8d/dIPPtBKev5cX5bz3wV6mtwydTMudXMbHNi8Q4ddi/QwuZw4UKt2dsF8t0+B3ha9Ws+PeNdy6Y52SE/51jJteGkoYoyAPj15GFIiZdgXJoc52uaEB9t836NCCGkr5o0XNHl7zlqYHyXv+dlkwVPbCvBxkfH9drCZ19pFZ7YVhJQ4LhCTCENNaA0FIq9Jh2Fih7SasGKlkhwndmZnK7EmtlZiPfbyhWqeCnWG5CvVSFVFo13H5sIU7Pdu0VMEsUPuQamK8MUGfk5Ku/73DgkAXw+cLnegh3fVnIGHuSmK3HqZxOraNFdrAu6NS5HrUC1z0+pQoUXFOsNWDEzA3/cexrL3792sJP5Gg1smflDCCGk/VyhvkvvJEzXY9WeckzNGNDrtro5XW6s2lPe5iKGuQfj+E/GkNf+VNPUjnci5JrQ3x0S4udSXTMW7tDh9tcP4v63vsHtrx3Eoh06XKprDvtarjM7gCelbNmuk4iVRGFyutL7eFSYfwhsThccLhcs9msdmEHyaCSG2RIm9imKivUGb6R1rlqJfK0KThfw7rcXMEc7FFo1+yePWrUCK2eNwssfs7dDFBRVYJ5WFXB9jlqB52eNwtJdJ0Ouydd/jM0BxRbzNTKZbRHfhxBCSGinLzd0y/u6AVSZLDhaUdst798eRytqWVva2mLW+mLvr0Od7dlffgV/8dneTkh7UKeHRCxc0RJupoz/mR3/ezRZHVgzOwvLdp3EobM1SIgJfYj/uoRo/OnTwJk5N6kSIwokYMSKo1AwdzwSpEIc/PEqCorOo1BvwJHztd6kOKvDBVm0EBa7E3aHM+AcEbM1Lj9HhWenj0S9xQGZVIj6Zhse/vsR1DTavO8fLiUuGIqwJoSQjlXXzT9I6o1bt9q6Zt8zPVzDWwFPkTM1I8X7MQUYkI5ERQ+JWLiiJdw35PUWO6QiAfJzVMhOS4BMKkSUgA9jkw1OlxtOlxsD5dFYn6dBndkOs92JTXOywePxAkIHctUKnPrZxCp4AE/n5oLBjHlalfdjBlcgAQA4XJ5ZO5rBcoweJPOGJphtzoBtaO8+NhH2INshmOs1g+WYv/W493NdOzsLVocL1yVE4/PyKyFT4nLTlQFFmS+KsCaEkI4j74QfIh04Ux3+ohbJcZIOf//O1pY1R7qBb/UnZ1gR1hRgQDoSFT0kYv5BA/7CfUMuixZiXZ4G27+9gLGD5Xj18x9Y3/jnpivxp9lZcAN4bndp0Fk9mjQ5Vt4zCvdsKOZ4F0+ymu88H2EUHwIeD4fPGwICCbRqBQ6fN2DSMM//Z6QGHmplihfNYDmi+Dw4nG68cn8mXv74dEDHx7eT5F80vfvYRGw4oPemxAHsomxyuhIv3puJGesKg34NKcKaEEI6zsgBcR1+z9c+/zHsNTwAA2QSTFAldvj7d7YJqkSkyiS4bLIEPdfD57FDDQbIJJg9bhA2fHUu5L0v11tw4kLoMz6EtBUVPSRi/kED/sJ9Qx4jjsLm4gpo0hI4B3kWnq3B1z9exScnqwLOtBTrDeDzeNi7MAdWhwt2h8ub7ma2OVmFiVDAx6Y52Sg+Z8Cilq7OujwNdJXGgIKH6fzkqJUoKKrA+pZihMEUKJuLK1gFTK5aiU1zsjF/6/Fr3ad0JZ68VY35W48FfO5atQJxkihvh4cpyhbcqoZYyIc8WuSNp84ekoBDHB01irAmhJCOxe+EEIFw3QnmHVfOyuh1IQYAIODzsHJWBp7YVsLasgZc+9xee3AM/udf3wMAtswbj9z0JLxf8nNE978aZOsbIe1FRQ+JmDJWhMnpyjZ/Q95ocXhT14KllyXHiTkT0wBPUVRhaPIOJGW6P8t2ncSa2VkBhUmOT3do8Q4dVtw9EivuzkCd2Y4YSRSq6y1YuuukN67abHMGpLDl56i4CzR9DQA3di/UwtBog8vlxqCEaNQ323FjWgLrc2CKq/wtx/DQhDT8YcZI2BwuxEmEUMYGJt/5nmvy/fqunZ1F53kIaafVq1fj/fffx5kzZxAdHY2bb74Za9euxQ033NDdSyP9xIA+MKdnWmYqNj46Dis/KmMVecznNvn6JKCl6GGGsSbFRXae1fe6lHgxquut7UqKI4RBRQ+JmEwqatc35Mz2OKvDxerMWB0ub9y0zRl6yKfvEFCmEFk7OwsFHIVJkd4AHo+H95+4GQBQ12zDo5u+ZYUKrJmdhR3fXkBJpaedvvNoJXb+ehJe+KgURS3JbsFn/hhgd7ghFQnws7EZPB6giBFh6fQbMLd+KKwOV8Ccnw0H9Lh/7CBkDJQF/RxjRAK8dG8mmmwOmG1OyKKFSI4TU8FDSAc4ePAgFixYgPHjx8PhcODZZ5/FnXfeifLycsTExHT38kgfx3Q9emOHx9+0zFRo1UqMfuFzANc+NwAoPHvVex0TT33jkPADSQfES1jXPTtjJJ7e+V0Hrpr0Z1T0kFZhggZqGm1osNiDdiu4MNvjpELuLWNatQJ3jUoJ9nIA7LhpwFP4LJs+gjMUAPB0hy6ZLCipNGLSMAU25I1Ds92JEy3BCDxUYM0DWbA5XbhjRDISpCK8tLccY9MSME+rglQU+o9IVcugU0auWonf3nUD3v32Ag6cuRpwfW6YjlioOUYyacilEEIisG/fPtbHW7ZsQXJyMk6cOIHJkyd306pIX5ISLw66xY3pevQVvp/LBFUi9pdfxqo95axI6zteP4hV94zydH/CWD5jBOueUzNSsPHRcXh+d1nQxDdCIkVzekiryaQiDE+Oxdi0BAxPjo24A8Fsj3O63Zxbxor1BpT+bEKuz6weX1xx0wBgtjoDL/YhFQmgqzTikX98i4f+fgTzthyDrtKIdXkalFTWwWxzYliS5/OxOV344kw1NhzQt5zXcUT0uUlFAiycosZc7VAYGq34/V0j8Mr9mZCKBKz1v3RvZtCvV7hIcJrRQ0jHM5lMAIDExOAHyq1WK+rr673/IySU3955fXcvoVvsL7+CJ7aVBMzwqa634oltJdhffsX7WLCtbr5x1YxpmanYs0jbsYsl/RJ1ekiXYbbHXTA0Be3MvPTxaXyyOBfP7y5lbaELFjcNAFKxIOAxX06Xm7PAAjxndi4azYiVRGGgPBpOtxub5mR7t9y53e6wM3+Chx0o8OGTWlQYmhDF56G6wYoEafCwh/ZGghNCWsflcuHpp5+GVqtFZmZm0OtWr16NVatWdeHKSG/mG7ncn7zyyWnOszdueAIOVn9yxvvYv39zE2599SAAYN1DY7B45/ch792XumOk+1DRQ7rUQHk0Lpuagz5vtjlR32zD+jwN/lPXjAu1ZgxJjMH3F40BcdOAp/CorrcGn3ujVuLwee4CiwlVAICVu0uxctYo/HFvOWv2z5QRSXh+5ii8uLeMHa+tVmKOdqg3hY077MCAVXvLoElLwMmLdWHPPbU3EpwQ0joLFixAaWkpioqKQl63fPlyLFmyBADQ1NSEgQMHdsXySB/kDDLnrS8IlVrnhieOmuFbxGjSwp/1IaQjUNFDImYy21DTaEO9xY74aCGUMZGd5fEniw79mmhRFGoabWiyOSGOEuCrH64gJz0paCra0pb0NiBwGOlzM0fi/re+Cfl+uot1uCE1HsvfPxkw7JQ5l5OvVeHJW9XgAUiIEcHudOGhd47AbHOGDDso1huw4u4M/CpHFfZr1d5IcEJI5BYuXIi9e/fi0KFDuO6660JeKxaLIRZ7tuMIBKE7y4SEwpxv6c3Jbd2hNQNfCQmGih4SkVAH7AfKo1t1r1DR17npShy/YMTy9095H9OqFchIleHGoQmYqx0KqSgKQgEPP15p8HZ/fIeRRgs935R8c96AqjpLQHfIV3K82DufJ1jhcuDMVczPGQYBj4dmuxM/GZpQdqkemjQ5ivUGVqIcF4vdGVFxGCuJwvbHJqKu2e5Ns2PmENGMHkI6htvtxqJFi/DBBx/g66+/hkql6u4lkX6EOd+y8dFxVPhEaF9pFZ5571T4CwkJg4IMSFgdfcCeOdsz2S+wYHK6EgtuVeOlveWsx4v1Bvyj6DwcLjfmbz2OaKEAj287gRuHJGJcmhwAvHHQm4srMEgejaQ4Mb6vNOJ4pRFatYJzHblqBb48XQ2zzRm2cBEK+IiVCLBgewlEAj4KiiowT6uCVq0ISJTzF0mH5lJdM3737+/x8D++xZPvliDfJ2xh6shkmtFDSAdZsGABtm3bhu3btyMuLg6XL1/G5cuX0dwcfNstIa0Ragsb88yqPeV9bqtbSrwYwU7e8OCJo24tp8uNVXvKw19ISASo00PC6owD9v7R1/HRQkTxedBfbcKrD44J6HQU6w14dsZI3DUqBZIoAZZMvR5r9532Rkv7zsR5aW8ZRg+WY0xaArLTEjArKxUvf3ya9Tlo1QrM8QlGkEWHLkwaLHbUNLq8A0w1aXJvdykpToxctSJgaxwQ2dDWYEVlsd4APo+HVx8cg5Q2/GNBCAm0ceNGAMCtt97Kenzz5s2YO3du1y+I9Dm6yrqQz7sBVJksOFpRi0nDuX8o1xsxM3V4ACvQgCmElk67Af/TMrBU1zIbL5wTF4wBaXCEtBUVPSSs9hywD3UOSCa99uufa80BZ2q0agXW5Wm8W9iabU785Ysf8ctJQzH6Ohme/aAUR87Xeoec2pwu3HZDMu7MSIHV7kSD1YnjlUbsfK8SS6Zej6XTRqDR6oDL5cY35w3e+2rVCsiio7D6/tFIjhezhqUWFFVAkyb3FDqD5QCAgqIKrMvTAPCktTEfu+EZiMqIdGhrqKKy8GwNGi0OpMSHvAUhJEJud9/66TrpeWoaI5snU93Qt76ZZ2bqrPyojBVqkBIvwb1jU7Fm37X0tnBpbYyrNJuHdCAqekhYbT1gH+k5IJPZhsKzVzFXq0LexCGsggOoQH6OChsO6CEVRXkT16pMFjx9RzqmZiTD6QJ4PB6MTTbUN9tRZWpGqiwaC7eX4MY0ObY/dhM+LavCL94+DADY+euboBksx6sPjoE4io/SSybUNNrwyalLAUXXpjnZsNhd+N8jP3kf9z9DJIsWIjFGhNd+MRaNFkerh7ZSahshhPQdyljuGTT+kuP6Xgd/WmYqtGolRr/wufexpdNuwJJ/fc8ZZw0AB38MHOTNUMTQtm7ScajoIWGFCh4Itn0r3Dmg9Xkab0FgNNux91RVQPIa0+XJ16qQq1ZCFMXDwilqnLlcj7tGDYCpyQYhX4A1n5QFFCsLb1PjN7cMw1/2n/XGRjOBBjweUOATMb1wihp/LzzPOcuHD+CeMQPxq9zhmL/1mPc55gzR5HQl63NpS0eGUtsIIaTv0LScNQ2GB2CATIIJquADcXsz/5k6a/adCVrwAMC6L7lDhAjpaBRkQMIKFTwQbPtWJOeAAE9xtOLDU5wFx+ZiT5cHAJ6flYF7NhRDV2nElBuSUdNghd3lxqq9ZQFnaYr1Bmz4So8pN6R4P2a2puWqlTj041Vo0hKwaU42Ns3Jxt2jU4MOSy3UGzAsORYWu9P7D5lUJMDCKWpsf2winro9HTVNtlaHOfhiikoulNpGCCG9S6hBmswzK2dl9JuBm6Hm9wBAdYgtbIamtv/bSog/6vSQiPgHD4TbvhXplq3qBitnAABwbXhoUqwYPB7wv/MnwO50QyIU4I+fnMY8rSposeIJAQAK5o5HSaURDpcbWrUCC6aoMTBeglqzzfs5nK9pCrnWK/VW/O7f32PFzAysumcUeDweXthdyoq49t+215qZRkxRuWzXSVY3LdIzQYQQQnqHlHgJXrgng+KqI5QUF9lWQUIiQUUPiZhv8EA4kWzZulTXjMpac8jreDzABWDlR2XeAmfTnGwU6Q14eOKQkK+9UGvGk++WIFetxGzNIDxxy3A025xwAxiblgCT2YbqBitEYSKnxVF8ZA9JwK3XJ3m6PDt0AYWa77a9Jpuz1TONWltUEkII6X1euT8TDVYHDp8zYIIqsd90e9rqxiEJSJVJKMGNdAja3kY6RbgtW7GSKCzddTLsfQbER+PPn51hdXSYmTrh5uMwzxfqa/Dc7lIcqajFvC3H8NLH5ag0NGHhdh2m/uUQPi29HHyWT7oS6qRYrM/TIFUeHXbbXp3Z3uaZRjKpCMOTYzE2LQHDk2Op4CGEkF4o1Pyd/K3H8dTO75D39yPIWXsA+0qrunBl3SPU/B4ASA7RzRHweVg5K6PjF0X6JSp6CCeT2YZz1Y3QVRpx7mpjhw4gXTs7C01WBwrP1kB3sS7k8FCnyx2whY0pZkK9VqtWQHexzvux77meEanx+MMHp1Co9xQmvoNG/df6p9lZGKKM8RYgzLY95lzPpjnZeOuRcSiYOx4Lp6jRZHNEdJaJEEJI3xRuTg/jssmCJ7aV9KnCx+ly42hFLeuxZ2eMDPmaxberQz4/LTMVf/qv0e1eGyG0vY0EiDRqOpxQW7aYwWTMjBs+4N0yJhUJ8NzdIzH6OhmaLA7vuRxmUClT7FyblwNWYZTrN3iUwXSINIPlrPM4/hHUMeIoxImjIJcKker3+cZLhJCKBFiXp8Hm4grWfbRqBW69Pink16Q18dOtORdECCGkZ4h0To8bnmCDVXvKMTVjQMDzTAFR3WBBcpwEmYN69sC2/eVXsObTM5xb0TY+Og7P7y7jDC24Jcy/mwAwZURyh6yR9G9U9BCW1kRNc72W65t0ruuZMz9MwbHgtuH4w8wMXK6zYKA8Gi/uLcOzH5R6r/eNsPYdDupbrABAcrwYX56u9g4e9cV0iJjixxcTQQ0Abz0yDrVNNqzd9//bu/P4Jst8ffxXmmZpurdpoR1bGkgVSlnKqqRFQB1BBXXQc2R0pqXozKDIcXAWdERgUNE5jsMPcJsZFs9XhTlnEJFlUBQVWkcRKUIpIMVCka17uqRN2iS/P8oTsjxZWpKmTa/36zWvoXmePLlTpE+v3Pf9+VS6vF91lBxL7srCBruS14Li8lo8NsX12vZ8LT/tr+BJREQ9K6ELvWWsAC7q23Cgog6ZAyJtj+89UYW/7DnlECAGxPTuTf1PbD4sWpr6ic2H8fpDY7D9cR0mvrAXAPDfs0fgt1uOAnBcDnigog5jB8X3xHCpHwrY8rbnn38ekyZNgkqlQlxcXKBehvzM11LTzi40tGLBphLc8srnuPe1L3DLnz/H45tKcKGhVfR85z0/QwfGoK7FhAExSqzYcQxFHkpYC0HpzhEp+J/CCchKiUGETIrrk6Pwlz3fYdXHp1wCj/1yN1/2AinCw0Tfb6xKjjHpcW6rxn3xfS3yrrH8tLfgeS3lsYmIKMA8NaVxo6rJcXbkd/886jJjUuWl9HOweXrby7eXOXw96spycwC4/80vbX8u2PA1bn3lcz+PjKhTwEKPyWTC/fffj/nz5wfqJSgAfC01ba87v6QLe37uGjEQm39xIyJkUjQY2mG2WjEqPR4qudTlOfb7csamx2GCJgEWqxWDElQ4W9uC7Ucv4JG8wS57c3TaRMzVabC+qAJA516gPA97gS43ttkCkvP7vdDQivNughzQuVxv2azhXepp5Ky7wZOIiIKvrhsfTCVHK72e040s1SsIs1nu9jpVOy156+3hjvqugC1vW758OQBg48aNgXoJCgBvpaaVMilKKusdlq/58ku68y/7eoMJbe1m/Pq2G7Dsg1KHEtD2S9mcZ2yiFOH4YIEOALDz6EVYrcDXZ+pQXF4LlVyKV386BneNSEWhTgOT2YLr4iNQ+oPe4VonLjRiyczhWLG9zFbMQHjdBVMzEaWQIjU2Aq89OAZKuRR6Q+f4hXBXMCnD7ffHYDJDAlxT+enuBE8iIuod1FG+L0OTABgYq8QETQLqDaH9y779XidPFe7sj3g6j6iretWeHqPRCKOx8x9FS4vnhpEUGMKys30iISZXm4gdRy/a9r4Ie0yajV37JV3YrzIqLQ4llfW2pWIquRSFuRrbbM7/mzcRn56sshUwAIBmYwf+869Xp8LX5Y/Dqo9PAegMHI+9ewhr5uRAKZPC2GFBbZMJyTFKrP3pGLS1mxEbIUNyjAKFG77G7LHX4Q93DoO+tR0RcikkkEAiseKVPd9h74lq22sI77Ot3Yz9p2owKi0OOm2i6BK3yZlqJHrYy+QLX3ocERFR75STHufTeUIZ56Uzs/pFvx77MHjkhwafnvPN2XpMuYFFDMg/elXJ6pUrVyI2NhaxsbFITU0N9nD6JXelpnO1iSiwWyIGXF2+Fhfh+Zd7+1/S7ZfC5aTFOQSe1XNyUFJZj3lvHcS8tw5i9utfoKSyHqvn5EAllyJPq8bR83qHazsXJTCYzHh8UwkiFeF496uzKNj4Nea9dRCFG7/GO1+dRWu7GSt3HcfdOT/Cqo9P4WydAU3GDry0+wQ+LLuElf864RB47N9nx5VPnNyVuM7rwhI2T7z1OPJlXxAREXnnfE/xB18DzMBYJV5/aAymZ6f4fQzB4O5dSwCkxCodwuBzO0/4dE3npW9E16JLMz2LFy/GSy+95PGc48ePY+jQod0azFNPPYVFixYB6JzpYfAJDudS00qZFDuOXhRdbrbvVA1MZovb2aG8TDXCpRLbEjH7pXD2gaUwV+O2IhoALLlzGEalxaGq0Yh1+eNg7LBAKZNCHSWHSi51GJfBZEZDiwmj0+MxV6dBh8WKlFglTB0WVDcb8dCNGVBHybG+qALhYRI8fqUC3IzhAx1KUDu/T8uV0ONc4trYYYEiPAzapCiXEtfdIQTPxVuOOHxPu7IviIiIvPP1l++uOHim3us5G+eOR15mUsjN8EggvvfIeTarydjh0/WSPDQuJeqqLoWeJ598EgUFBR7PGTx4cLcHo1AooFB0/gculbpuZKeeY788q6Sy3m0YAIAWY4foL+k6bSIKdRpsLTmPCRkJkIeHOfwwtK+i5tw7x15xeS0W3XY9ZNIwrCv63mH/T16mGh8s0GHn0Yv4f/8+iwcmpCMnLQ4KmRRj0uNx9HwDRvwoFi/tPuHSy2dd/jgcOFPX2funsh65Q8RnVwQGk9kW7uxLXAOdgWTNlZ5B/uCpxxEREfVev3r7kNdzJmgSvAYe5wDhLlD0FqseGI0Xdh3HZadCBKseGI3p2Sm43Oi+CJA7LF9N/tSl0JOUlISkJO9NpCh06A0mRMg8B9Bopcz2S3pVkxGVdQYAQOkFPayw4uszdbZ9N+vyx9meJzQZLS6vFe2dY6/FZMbrn5ZjVHo8Cq7MrihlUhyqrMcLu45j+vCBeOfhG/HHHcccwsgL92ZjQ5HrDNL+8lpAIsGymVm4abD6ys3H8+0kNkLWozMw17IviIiI+q4/3TcCf/7oO4cAMSBGiUuNro0/e4vbsgZg2tBkjFj2kcvjANxWb/Mk1GbCKLgCVsigsrISdXV1qKyshNlsxuHDhwEAWq0WUVFRgXpZ8iP7ggOeNu4Le0yE5Wvz3joIAFgwTYt1ToHDPuhcbTLqvXdOgkqOByYOwobiCodQI5Sj/lGcEt+crXP5oTogRukwM2Rv/6kanKk12Mb7wr3ZyNOqHSq6Ob/PWJWcMzBERBRQ04YmY0Z2ii1AbJw7HmMHxbsEit7GU0ixr97mSW+f0aK+K2CFDJ599lnk5ORg6dKlaG5uRk5ODnJycnDw4MFAvST5kX3BAXcb98VmOOzLLdsXKhDYX0vYG5OTHo+UWKXbpp46bSIi5VK3e342FFegrd2CnUcv2ooeCLzNINkff27ncTw6dYhLDx/n9xmrkmNIchRGp8djSHIUAw8REXXJl6drse3wefz7dK3bssz2AcKX5XC9na+lvBl4KFACNtOzceNG9ujpw+wLDoht3B+sjkRKrNLlF/4ElRzr8sehw2LFoEQVtsy/CQaTGfEqOdrNFjS2duDwD/UYn5GAp+8YhsuNbVdKNFuxfNZwLP3gmEPPH502EX+4Yxja2s2iM01AZ/BZPENiO16Yq7HNBnmbQbI/bjCZMe+tg9ixIBcmswUGU2eJa87kEBGRPxW+dfUD4JRYJZbOzMK4jNDev+JrKW977NND/tSr+vRQ7+HcINN54/77j05yCQIXGlrxzPul+OZKmemlHxxzCCrCUrRvzzXgpxMHoaWtHRJI8H11M0anxeOFnWUYlRaHgkkZMHZYEBchw4/iI9Dabvbaobne0Dne4vJaFOo0tsftl9M502kTUXKuweV9Nra1Y3R6aN98iIiod7ikb8P8tw/hpftGBHsoAdWdmSr26SF/YughUV1tkGlbDldegwXTtB7LT+ekx2PTV2fx9B3DENlugTw8DDUtRgxNjXVoRAp0BpPf/PgGW48cdzrMV4/bL1lbX1SB9fnjEQY47O3J1Sbi2ZnD8dO/fQlnbP5JREQ9xYrOfSx//ui7YA+lxyjCJTB2eJ/FYZ8e8ieGHhIlNMgU670j1iDTfjmct/LTj+QOxui0OCz74JhDENFpE7F6To5DPyBh6dqhynq3MzZ5WjUOVV7ti2C/ZG1sehzCJMDYjARb1TdFeBhKzjXgxX8dxwMT0l1KT7P5JxER9SQr4FLqOdR8XHbZ9mdfAg/APj3kXww9JKqrDTLtl8N5Kx4Qq5Lh5Y9Oup0Jst+TA3QuXSu7oMfcK8vWip1mbH5z+w2Yc2XGJi9TDY06Ev/7ixsRpZRBGR6Gu9YWuTRVFTw4cZDX90ZERETdt3JXGd7cV9Hl57FPD/kTQw+51ZUGmfbL4bwVDwiXSjwWJbDfkwMA8So5fpE3BBKJFQ/narDotuvRbrYiUiGFShaO3ccuAuhsOLp05nC8sLMMH5+oBgC89uAYt4EH6Oy98/6jk1h6moiIKAA+LL3UrcADsE8P+RdDD3lk3yBTbzChptmE72taEBMhgzry6jH75XDeigc0GNpdHrdnP1OUq03Eh8cuYe3ecqjkUqwvGI9Ve75zWBaXp1Vjx+O5+KHOgBd2lWHviWqo5FIU5mqQlhCB1x4cY2tk6rxnKP5K+WkiIqJgkQBIjlGE5BK3P+4oC/YQiAAw9JCPhEal+52Wur04eyRS4yJgMJnx6FQtzFarQ9NR5+ptD+cORoKX2RRhpihPm4h8nQYLN5UA6Fz2tmbvKZcwtb+8Bku3HcOzs7JsgWf1nBzRRqb2e4byuH+HiIiCTJjLePLH1+N3/zwa1LEEQr2XDzo9Yclq8ieGHvLKvlGpvX2narB4yxH89/2j8LstR/DN2XpbL58OixWLpw9DuFRiWxonASAPD8NX39e6L0qQqUZStAK7n8jD7tJLDkUNPBVI2F9eg9Yr5xXmajxWjyvM1aCksh7LZw3ncjYiIgqqSEU4/jR7JCYM7vv7V/wdUliymvzJ8+YLIjhWZnO271QN6ltcj5stVrSbLYDVig3FFTjf0IoVO8tQUdOCFTuPY65OA5020eE5Om0ils8ajjAJ0Ghox6qPTzksRfNWIME+HHnaM3T78IHIYR8eIiLqBZqNHfjjjmPYe6Iq2EO5JnvKLuPWVz736zX7+veEehfO9JBXzo1KVXIpfnnzYEy98ulLU1sH3ps/CTKpBH/5+DuH2ZjO6mpDsfqT71BcXosHJw6CwWTGwk0ltlkh+zLSlbUGHKysx+1ZA1zG4bVAQpgEOm2i13B0rs6AI+ca8EhuZ8EEYa9SY1u7y14lIiKiQLvUaOzzS9ue2HwY/l6Mtv3bC1g6c7ifr0r9FUMPeWVfmU0ll+LVn46BUhaGl3afcCkfXaDT4Mvv62yzLkXltZDgJEalx2HviWpbcDGYzKJL1XY+novNByoxO+dHyNUmosju+p4KJORp1Sgqr8HDuYMxIEaBdfnjYOywiBYwiIuQ2UpTe9urRERE1J+ZLVYcqKhDVVMbkqOVmKBJEK2qFojdN/WGdhyoqEPmgMgAXJ36G4Ye8sq+MlthrgYX9a3YefSiS/goKq+FFa59dvaX16BAlwHAS3DJVCNOJcPvpw/FczvLUJirgQSwVWpbX1SB9fnjECaROIQUnTYRz9w1DA/+/SuMvC8WK3cdd9v0dOygeAxJjsKAGKXXvUpr5uRwxoeIiPqt3aUXsXx7GS7q22yPpcQqsXRmFqZnp/TIGKqa2hh6yC8Yesgnf7hzGPLrWzEgRom2djOe3loqep5Ynx3g6n4cT5Xd8idlYNkHx/Cb22/AS7tP4IkoJZ788VA8NtWMSIUUVgDll5uw4u7h+L7GgLZ2s21ZXJXeiJdmj8SGogqHwGP/OkvuysKU65MwIEYJwPtepZpmE0MPERH1S7tLL2L+24dcZnAu6dsw/+1DeP2hMZh8fVLAx5EcrQz4a1D/wNBDHokt/1qXP87jc8T21MRGdC6Rc97PIxz77LtqW6W2BycOwt/zx+PF3cddgtFcnQbP7SjD0NRY22zSLUOTcOuwAWgxdrgEHkFxeS2WzRyOFLsla857lZw1eTlOREQUiswWK5ZvLxNdsmZFZ5nt5dvL8NGvJwd0HANjOpfT1RtCr38R9TxWbyO33C3/8sa54ECuNhHRynBbtTZhP8/64gpYAfx8/QGs3Vtu23OTECXHnz88IVpyekNxBYamxiInLQ5A5/6bZTOH488fnoC+1XNIaTF2OHxtv1dJTLSX40RERKHoQEWdw5I2Z1YAF/Vt+OZsve0x110+1+6pO4aK7h8i6g7O9JBbVU1G0cDjaV9OrjYRJecabF/nZaqx8t4RaDdbsGzmcJgtVhhMZihlYdjl1IdHYOqw2GZsVHIpCnM1yEmLsxUmUEfJ0WoyY/d/5SElVtk5zvJaFIgsq7PnHGLs9yo5m8zGpURE1A3P3jUMf9xxPNjDuCZVTe4Dj73qJt9mYOJUMjR0o0npbSKVXIm6i6GHRF1oaEVlncHlcZVcCplUgqV3DceKHWXYX341MORpE7FsVjbqWoyYkT0QFgsQqwzHdQkql+ucrmp2KHZgH27azVbbY6vn5GBDcYXDuXnaRCydORxJ0QrEquT4vqYFgOcwJhZiYlVyvDh7JBZvOeIQfCZnqm3V3YiIiLoiV6sO9hCuma/7aJKiFbY/r3pgNJ7feRxVTkHo/3tgNMou6PHmvgqfrvnGQ2Pwq7cPOTzGfj3kDww95EJY1lYwKcPhcaFc9UV9K35oaMUjkwfj9zOGwmq1QhYehkNn6zFzbZFt5iZPm4jn7h0h+hr2syzO4UbYM1SYq8GG4gqXELO/vBbLd5Rh7ZWCCMIyNXdFEvI8hJjUuAismZODmmYTmtraEa2UQR3FPj1ERBQ8ZksgCkD7boImASmxSlzSt4nu65EAGBirxNhBVxt935Y1ADcOTsDEF/a6nP9XD4FnRvYA/Kv0su3rcRmOzcN3l17s8z2MqHdg6AkBnpprdqfxZk2zCd+crUfBpAy88/BE6FvboZRJEQZAIQtzKVedp03Eo1O1eG7ncYelavvLa/HM1lIsuWsYpNIwh9e2n2UZmRbnEG6EGZuctDjRXj4AsN+uulqUMtzW08e56WlshAwadaRDAQNnsSqGHCIi6j1KKht6pDKaO9IwCZbOzML8tw9BAscePMIOm6Uzs1z224jtv3lh13GPPXy+qqhze0woqEDkDww9fZy75povzR4JK9CtxpvNxnasnpOD9U6zLLsW5uL5XcdFZ14scO3P03msBh1W4FJ9K6objUhLiMCP4lXQG0xoMXbg8VsyEaUId3ie/YyNJ/rWdpyuaobJbEaBTgMrOmd4hGsJ1d7a2s2eL0RERNSL1DQHv1rZ9OwUvP7QGCz94BguN14dz0C7Pj0GU4eHK3Syf66Yuhb3e32+OVvvsaACUVcw9PRhnpprfvZdNXYdueiw50Y45q3xZlyEHH/68KRLuOmwWEX3ywDu+/MAwJmaFjz6Tuf63FxtIp6/dwRWbC/Dx1fW6L724BiH84Wy1v9TOMHNO+/U1m7GT17/Aq89OAa/+b9vHWZ4hP49CzeV4N2HJ3q8DhERUW+ijlJ4P6kHTM9OgU6rxohlHwEANs4dj7zMpB6rqOZroQQiXzD09GGemmsmRytcAo/AW+NNk9kiGm4MRs8zJmL9eQDHEtZF5bX4w9ajGJ0ebws9ziWuhaIG8vAw5GkTRXvv5GoT8cX3tbbnC2WwxbD0NBER9SU56XHBHoKNfcCZoEno0RLS9oUSiK4V+/T0YZ6aa7oLIAJPjTebjeLT1eFSzz/onMML0LnEzL6ENdAZfIQ+O8DVPTzA1YptJZX1eOCvXyJfp7EdE+RlqlGg02B9UYXL8511p/S03mDC6apmlFTW43R1M/QGU5eeT0RE/denfqg0Fkq9aQbEKDz28EmIdP/B5NhB8UiJ9a2SHJE3nOnpwzw11xQLIPbEZj+EogfunltUXoM8rVp0BikvU+1SplLYU7N4yxEsmKZ16LUTr5JBJZfCYDI77OHJSY93KGpgX5gAANITVLACuOfVYhhMZqjkUoSHSbB4xlBUNRohkUhwqLIe64sqMG5QfJdLT7vbI+VtHxQREREArNx9MthD6FWevmMYnth82O3xByekY82np0WPScMkuGtkCv6237dy10SeMPT0YZ6aa1Y1GbvUeNP+l/0F07Si/W7+uu97bCgYDwCO/Xky1Vg2MwvfnK3HuvxxMHZYkJYQgQ+PXcbiLUfw4uyRIr121Fg9J8fWnFQIN3eOSHE4z3nZ2ieLbrY9bl/qetXHpxzGs3NhLiLl4UiO8f0TIvs9Us5NUc/WtkAaJsGALlyPiIiov7stawBef2gMnnm/FDXNrisnnEtUHzxTb/vzv45cxLoiBh7yD4aePsxTc82p1yfh5uuTfGq86VwQwV2/m5z0OBhMZozNiEeBLgPGDgviImSIj5Th+V3HsfdEte3cBdO0nUvUJqS76bVTAwustopvBpMZJZX1yPPS1K2prR0adSQmZ6pdSl3brn2qBs+8X4q7Rqbi5uuTfJ6hEfZIuW2KeuV7xxkfIiLyJwmA5BiF10pnfdX07BQMSlBhxuoir+faNyZ98p9HAjks6mcYevo4b801fWm86VwQwX7mpVCnQWyEDNHKcByqbMBj7x6y9eKZnKnG8ruHo6LG4BB4gKvBKUImdVtgwL7iW542EUtnDYex3fNepGilDLEqOf54dzbON7R6vba3SnX2hD1Sbpui+lD5joiIqDue/PH1fmnCabZYcaCiDlVNbUiOVvZ48QF3esMYqH9j6AkB9r+AN7a12zqHCU03vf2CLlYQQdhrU5irwR3ZA2EwmTFuUDz+tTAP+lYTIhUyKGVhOHW5WbQPjhCc3nhorMfXjlaG41//lYfDlfWYtbYYhbka0aV1gOOyPH2ryWvHamOHxWulOnvCHilPTVG7cj0iIiJfrHpgtENBnoNn6tHU5r0HjrPdpRexfHuZQ2+bFLu+Or2Rxcu9nMhfGHpCwLVuvhcriOBuiZdw3Ui5FAs2leAXuYORliD+GgaTGe1mzzM3UQoZnttZZgs57pbW5WWq8cK9I2xhI0ohs60Ndt5/o5RJcaiyHiqZFIDnSnX2hD1S11L5joiIqKtuyxrg0OjTfokXAOwpu4zbsgZ4vMbu0ouY//YhOEeIS/o2zH/7EF5/aIwt+PTkbJC3DyhPXm4KyOsSOWPo6eM8NSj1dSmWWEEEd0u8hOs+f0825uVqoFRIYbEAL9ybjed2HrctfRNUNba57bUzOVMNRXiYw2sYTGYs3nIE6wvGo6mtA/rWdluj0eXbj2H53dlIjYuAOkqOA2fqMG1oEn46cZBLOMvVJuLWYQOgkktdKtUJVeoa29oREyGDOvLqjNiLs0fiTE2Lx+8X+/4QEZG/7fVQ6vqJzYex6oHRbo+bLVYs317mEngAwIrOBSDLt5fhtqyB2FN2KWCzQWLv4dZXPsfyWcMxWB0p+pyGVn6QSD2DoaeP89Sg1NelWGIFEbwt8TpX34qCDV/bHsvTqrEufxzmvXXQFnzyMtVIjYvA3FwNLHCcuRH2A1U3GrG+YLytzLTBZMYDE9Lx0u4TokvcjB1Xg9yU65MwOi3OYaZIUFReCytOYMldWQ6V6rzNiqXGRUAaJkFeplr0+9qdvj9ERESemC1WvPzhdx7PWbnrhNtjByrqHEKMMyuAi/o2rN17Cqs+PuXTbFBX7Sm7LLonqarRiPlvH8KSu4aJPi8ugh8kUs9g6OnjPDUoBXxfiuVcEKHdy3S08MmM/dIyg8mM9x6dBKsFsMCKSHk47nvjCxhMZteiCGcbcOfqIltA0mkTsfanOTh6Xo9pQ5ORlRKDebmDHcIQ4BjkUuIi0GzsEA1HQGfIevauLFvo83VWbECMEi+5qYrX1b4/RERE3nxztt6l1509K4BLje5DTVWT+2P2NhSf8Wk2qDtL3V7YdVz0ceHar3/2vejxGwZEd/m1iLqDoaeP89SgFOjaUiz7ogenq5o9nqsID3O770doSrr5q0q8OHskFm4qsR3f8+vJ+OOOMpfgUVxeizBIMGPEQMxcU+xwLft+PoBjkGs2et7o2Wq33K4rs2LequIRERH5S7WHwOOL5Gjfesh5WkomzAYdqKjDTUMS3Z7njqdy21YA1c3ix8NY1Y16SFiwB0DXRtiPI+ZalmJ5uq5Om4iScw1u9/0Ul9diQ3EFhqbGYENxZwU4gdlidRs89pfXuDT/FK5lfw37INeV0NfVWbFYlRxDkqMwOj0eQ5KjGHiIiCggTld7/qDRmwmaBKTEKuEuPkgAxKl8+xDU11kjfzl+sbFHX4/6L4aePk7Yj+McUK51KVasSo4X7h2BPKfr5mnVmKvTYH1RBXLS4jwuLROO56TFdT43U416gwkLpmmxLn8cXntwDNYXjMeCaVqo5J2V1sQqp9lfwznIdSX0+XNWjIiIyF/e+Fx86ZdAAmBgjPvZHGmYBEtnZtnOdX4uAMydpIEvfJ018pcXd3vey8SJIPIXLm8LAYFYinWhoRUrdx3HXF0GFs8Yiua2DsREyBAll2L59mMwmMxeSzsLx40dFkzOVGPhLVokRCrwbWW9y3I4YQmbIlw8hxs7LMjLVGP53dmoa+ksVW1fcc2X/TdiVersz2eBAiIi6q2eumMo/mvzYbfHp2en4PWHxmDpB8cclpoNvFKZ7basgdj8dSUu6dtE9/VIrpw7QZPQrfENiFF4XOLWXWzjQ/7C0BMifGlC6ol9GeeESDlWbC/DT29Mx4aiCody09OGJuHpO4bB2GF1G1AEwvHB6kg8d3c29G3tWLKtVHQ5HAA8c+cwlJxrEL1WWkIERqXFYcWOY/jpxEF4YddxW/lqX0NfVwISERFRb7HqgdFe+/QAncFHp1VjxLKPAAAb545HXmaSrTDB0plZmP/2IUgAh+AjTKYsnZnV7X49T98xzGMoIwo2hh5yKeO8Ln8chqbGYH1RBYrKa12af1Y3mfD0ncMQER7mtgePsO9ncqYaKbFKVDUZ0djmudLa0zOG4bmd/xa91ofHLttmh4wdFuSkxztUXPM19LFAARER9TW+BB6BfWhxbjrqbTboWvr03JY1AH+6b4Ro2Wqi3oChp5/TG0x4dlspRqXFoWBSBowdFkQqwm19etxVaMvTqrF0VhaW3Z2NZ51mb2zV2w5U2mZQLjW1QSWXYl3+OBg7LFDKpC7lqNs6zBg3KN5hFka41sJNJbbHistrUajTYO3ecp/6EDm71lkxIiKivsrbbNC1mDY0+ZqvQRQoDD39nN7Qjt/dPhQrdhyzhRohmABwW6Ftf3kNln9wDLNG/wiPT9NiXu5ghEsliFfJYLUC0jDg99OHIiUuAnqDCRKrBK98dNJhVsi5HHVchNw2C1Pb0jkTU3KuwXbcfsZJJQ/H+oLxsFi52JeIiKgrPM0GEYUqhp4QZr9PJyZCBnWk4wzHhYZWFJ+uwY6jFx1CTcm5Btw0uLNGvzDjI2Z/eS0KdBqEh4XBajWjuc2M9g4LSs41YH1RBbYvyAUANBjasWLHMZdlcMJrFuZq8O25Btsys1iVHKhqxn+82bnUTSWX4te3ZWLG8BSHcAZ0VoR7afZIpMZF+OE7RkRE1DuZnXb0O38dbAcq6vBDvcHlcef9Q0TBwtATopz36QCdG/b/eHc29K0mqOThOHi2HimxES6zOOuLKvDjrAHI0yZ6rdDWbrY6fEIkkXT+WTck0VYNrcXUIbrvB+gMPo9O0eKBcWmildYOnq3H6jk5qGpsw/Idx1xnnE7VOOzt8YW3MEhERNSb7Cm7jBd2HXd47NZXPsfyWcO7tA/HbLG6DSfXqmDD16KPM/BQb8HQE4L0BpNL4AGAfadq8If3jyInPR5r95ZDp03Es3dlQSWXuiwfu9TYhmV3Z+Oy3nOTsvQEFVbuKnMINbnaRLxw7whbkBD27LijCA/DdQkqh8eESmuff1fd2ZxUp3FbBGHfqRqf9/a4C4MvcraIiIh6qSc2H3YJD1WNRsx/+xBef2iMT8Fnd+lFLN9ehotO9/U9ZZdx9+gfdWtce8oud+t5RMHA5qQhqKbZ5BJ4BMXltZhyfRJUcimKy2vx3I7jKMzV2AoWlFTWY95bB/GL//kGM9cUYWCM0qVBqSBPm4hvz9W7zOIUldfimfdLcbmxDacuNyHiSuNRd6IU4tk7NS4C4zPikZMej0i553ze1Nbu8TjgOQwu3nIEeoPJ6zWIiIgCoVCX4faY2GyJ8Njy7WVel7rtLr2I+W8fcgk8QGeg2l160feBXmG2WF1mn7pjehaLH1DPYOgJQY1eAoC+tR2r5+RAJZdif3kNbhqcKFqwwGAy41R1M/InZUCnTXS4hk6biCUzh2PFTvEfePtO1eB0VTNu+8s+/Kv0ksvzBXlaNZQy9/8ZSiQSlFTWo8XU4fE9RStlHo8DnsOgMFtEREQUDDuOdD14WAFc1LfhQEWd23PMFiuWby/zuMzMl+Dk7EBFnV+ake4uq7rmaxD5gqEnBMX4EAA2FFegMFcDoLOKy02DE0WXj4WHSbBwUwly0uOxLn8cXntwDNblj0NOejwqalo8Ll1raO0MX+uLKjBXpxENTvm6DDy38zguNLS6PF9vMGHZlXLYJeca3AanyZlq2/4hT7yFQV9mi4iIiAKhqqn7AaKqyf1S9AMVdaIzPAJfglNXX5OoN+KenhAkFAHYJzKrITQNFXrdAJ0zOuFuylWWnGtATrp4Bbd3Hp7ocRyK8DDb9RduKsGaOTl4dIoW+tZ2KMLDHMpRmzpcixHUNJtsS+fWF1Vg9ZwcAHAIZ5OvVG/zZT+PtzDoy2wREfV9+/btw3//93/jm2++wcWLF7F161bcc889wR4WUbclRyvdHvM1nHQ1xHh6TaLeiKGnD/JWfUwoAuC8f8W50aexw4LJmWpoElVodrN8TAgbYRKJw7XyMtUYlKDyGq4EwozQg3//SvR1xIoR2M/MCMGpMFeDQp0Gxg4LBiWqcF1chM+V1zyFQV9ni4io72tpacGoUaNQWFiIn/zkJ8EeDlG3SQAMjFVigibB7Tm+hpOuhpgJmgQMiFH4ZYkbUU8IWOg5c+YMVqxYgb179+LSpUtITU3FQw89hD/84Q+Qy/nLZXf5Wn0sNS4Cz92djfLqZhg7LC4zKwAQFyHDC/eOwLLtxzA0JQY6resSN4PJjE1fncXKn4yAsd2CprZ2RCtltp46YuEqT6tGvi7DFq4E3spfOy8vc56ZMZjMDjNOnyy6uUulpoXxLt5yxCH4dGW2iIj6vhkzZmDGjBnBHgaRXyydmQVpmMRtOeoJmgSkxCpxSd8muq/Hl+AkRhomwdN3DMN/bT7c7bET9aSAhZ4TJ07AYrHgzTffhFarRWlpKR555BG0tLTg5ZdfDtTLhjRv1cecl4fFqWR464szojMbeZlqDEmOQouxAx8fr8IXp2tFl4/ladWYM3EQln9wDC/fPwpDkqMcrpMaF4Eld2XhXJ3BFq4A4J2vzrrs91HJpFgwTYuctDgYOyxQyqQ4VFmP9UUVMJjMLlXeAjEzkxoXgTVzclDTbHIJcEREYoxGI4zGzk+zW1pagjwaok4JkXK8cG82pmeneC1HvXRmFua/fchto1AhOHXVbVkDujd4oiAIWOiZPn06pk+fbvt68ODBOHnyJF5//XWGnm7ypfqY2DI3dzMbA2KUKKmsByC+fEwRHgZ1lByfnqzGAxPS8V1VMxIi5VBHym3jaWxrR4RcipJzDbbwIpS/NnZYbAFKJZciOUaBksp6h9kanTYRq+fk4N2vzuJQZQMGxiht7yFQMzOxKoYcIvLdypUrsXz58mAPg8jB3idvRpxKbitHLRZmnth8GIrwMEzPTsHrD43B0g+OuSxHW/XA6C41OCXqq3p0T49er0dCgvvpU36a5ll3qo95mtnQG0yIkF2dXXFePqaSS/H+ozp8faYOqz4+ZXtsfcF4vLq3HPvLrwaR3CvhRVg+JwSox6ZooZRJkRgpxzPvl7osnysur4UEwO+mD8UDf/0SEzISHAIJZ2aIKNieeuopLFq0CEDnvSk1NTXIIyIC5OFhPpejvi1rIKZnp0CnVWPEso8cjnO2hvqLHgs95eXlWLNmjcdZHn6a5ll3q4+JzWwIe4NGpcWJ7uUBgGfuHIY/7jjmcKwwV4M1e0+5nF905evCXA3W7i2HwWTGkXMNeHBCOlLiInC6qtkhJDk/t7DZBIPJLBrcODNDRMGkUCigUCgAAFKp52bLRD2pK+WobxqS2K0lbM6EvUNVTW2IjWDVU+o7uhx6Fi9ejJdeesnjOcePH8fQoUNtX58/fx7Tp0/H/fffj0ceecTt8/hpmmf+2uOiN5jw+XfVKJiUAZPZgunDB+LIDw14budx2z4cnTYRI66LxdNbSx2em5MmXr4a6Awvz9yZhVuHJrvMyHibpWpr73xdlo0mIiJyVajLwPriMw6P+aMctdlixb9P16KqqQ3J0Z0FDYRwJAQcwYell/CnD096DFpEvVWXQ8+TTz6JgoICj+cMHjzY9ucLFy5g6tSpmDRpEv761796fB4/TfPMX3tc6g3t2HHkglPBgkS8/5gODQYTOsxWfPF9Lc7Xu/5Q81aBra3djNHp8S6Pe5ulUoSHsWw0EfWI5uZmlJdf/fCmoqIChw8fRkJCAtLT04M4MiL35oqEHn+Uo771lc8d9vmkxCqxdGYWALgUR/j1/37bhRET9S5dDj1JSUlISkry6dzz589j6tSpGDt2LDZs2ICwsLAuD5AcdXePi9Dbx2y1YsX2Yy7L0/aX12L59mMYn5GA6cMH4s4RnZsaVXIpCnM1topraQkqj6/jbqbGW8PUqiYjy0YTUY84ePAgpk6davtaWGGQn5+PjRs3BmlURJ6ZLa47d7yVowY6Q4ynctTOhQ0u6dvwq7cPXctQiXqlgO3pOX/+PKZMmYJBgwbh5ZdfRnV1te3YwIEDA/Wy/UJX9rjoDSZcamzDD/WtkEgkiFGGY7/I/h2gs6hAoU4DmbQznLa2d2Bd/jis/bTctqRtwTQtcrWJtj089jzN1LibpcrLVGPF3dmIV8kYeIioR0yZMgVWq6et30S9z/1vfunymDRMYitH7c6sUSld2svDfxkUqgIWevbs2YPy8nKUl5fjuuuuczjGm03PuNDQit//84hDAYF1+eO8Pk8ILufqzHjt03KHWaH1RRW2fj72wceXJXasxEZERNQ91U1G0cenZ6fgF5M1eHNfhejxv+6rQE56PMtSU78XsNBTUFDgde8PBY6tkambimnuXBcfYQshF/RtLrNC9uWo/3BnFozt5i6FF1ZiIyIi8h+zxYoPvr3o8RyhbDVRf8ZNNiHKXSPTknMN0GkTRZ8zOVONgTFXNzs2GztEzxP6+TQbOzA6PR5DkqMYZIiIiIKgK2WrifqzHm1OSj3HXYloYXlaGOAwi3PbsGQsmzUcNc0mfF/TgpgIGaKVnv/ziIkItxVIaGxrR0yEDOpIzuQQERH1lK6VrY4N7GCIejGGnhDlrkS0sDxt8y9uxPy2DihlUsSpZJBLw7D4vaMOs0MrfzICeZlq0RmjaUOTYDZbseDdEocldJMz1Xhx9kikxkX4/00RERGRg66UrRarAOdMgqvFDOz/TNTXcXlbL6E3mHC6qhkllfU4Xd0MvcF0TdcTSkSLyUmPw7ELjdCoIzFmUDwSI+V4autRl3CzYkcZHpuqRZ7TcjidNhFP3Ho9nt913GXP0L5TNVi85cg1j5+IiIi8E8pWu6vPJkFn2er6FhNufeVzl+MxTqs6BsYq8cZDY/DGQ2OQHKNwPBajxF/+Y5Tt6zceGnOtwyfqMZzp6QUuNLR2Fh045b8Zk66UiHa3/8dgMqNw49fY/IsbUdBkhLHDAkV4GErONaCm2eTS60ew71QNLurbbMvkuOSNiIgoMDyVrRaC0KxRKXjs3UOiszaNbVf3726cOx55mUm2Etc6rRojln1kO75n0eTOY1ealI7LcG1GTtRbMfQEgf0+mIRIOZ7ZWup2xmTNnByHwNCVPTS+loh2t/8H6Aw+P9S34tF3HH+Yvvag5093vq9psT2HS96IiIgCZ3p2CubqMrC++IzD4xIJMC83Ax98e9GnZWoTNAkOPX2c+/t0pd8PUW/D0NPDnGd11uWPc1tWet+pGtQ0m66WkPZhRkgsFA1JjvI4Jnf7fwRxEY7HVXIpkqMVbs7upAi/unLSXYAjIiKia7e79CI2OAUeALBYgb/td32cqD/inp4eZOudYxdajB0Wj89pujILI/ZcwHEPzYWGVizYVIJbXvkc9772BW758+d4fFMJLjS0enwNT/t/8jLVSIlV4oV7s6GSS6GSS7F6Tg6+u9zktvS1TpuIknMNLuOsaeY+HyIiIn8yW6xYvr2sRwoOfHm6Fqs/OeXw2kR9BWd6epDY3hn7GREx0VdmYdztuwE6A0VVkxF/3FHmNhR5mmVxt/9Hp01E/qQM3LmmCGPT4/D+ozq0tpvx8ocn8E1lA1bPyQEAh709Om0iHs4djG9/aMC6/HEwdliglElxqLIeLUb3y+iIiIjIveRoBaqajC6Pe+vT40+Fbx10+Pq2V/b1yOsS+QNDTw8S2zsjNAsVKwowOVMNdZTc7XPtNbS2ewxF9svkxAj7f6qajKisM9jGtnBTCQwmM/aX12L5jmP49a3X2/r7LNxUgsJcDQp1Ghg7LEhLUGHvicuwwoqvz9Rh1cdXPw3SaRNx35jrPL4HIiIiErfwFi2eef+Yy+O+9ukJBPsiCES9HUNPDxLbOyM0CwUcZ0wmZ6rx0uyRtqDibd+NUuZ5xqjeYEJJZb3H4gexKjlqmk2Y5/RJjqC4vBaPT706lW0wmbF2b7nt63X545AcpcC6ogqXEFdcXosl20qxlvt6iIiIuuzm65NEH/e1T093cPkahRLu6elBYntnhGahd41MxZ5fT8b7j07CJ4tuxpo5OUixq3amjpIjz82+G502EVYvP5f0re0+7fPxNqMUrXSfk6USCbKvi3Vbyno/9/UQERF1S0llvejjvvbpee2nY0SLEP3pvhFuX/Obs+KvSdQXMfT0IGHvjHPwGTcoHlOuT0LmgGiMTo/HkOQol9mQWJUcy2YNdykeoNMmYq5Og09PVnkMRfaFBTw1EBVmlFRyKRZM02Jd/ji89uAYrC8YjwXTtLDC6jAG+/OUMikAYME0LVRyqehYmryEKiIiInK1cPO3oo8LfXrECEFo6cws3DEyBdsf17mcM21ostvXrBbZQ0TUV3F5Ww/ztXeOM73BhHazBb+cPARPzRiGdrMFekM7DlbWY+GmEgDAroV5eHZbqUsxgrk6je0cgbt9PuooOW4bloz/nJCODcUVDsvXcrWJuC1rAB7OHQwAOHmpCX/PH48/f3jC4TydNhGr5+TY9gPZi/ayTI+IiKg/SopSoLq5eyFjenYKVj0wGv+1+bDD4wNilFg2KwvTs1MAdL3Pztnalm6Nh6g3YugJgliVeMhx13hUrD+PEGbWF1XAYDJjcqYa8SqZQ6CSh4dhV+kl0fABiM+6CDNKv9tyxGWZWlF5Lay7T2B8RgImaBLw3N3ZeGZbqej+HQAozNU4hCH7wgxERER01fwpg/HHHcd9Pt95v81tWQNcztmzaLLtw0azxYqDZ3xfrra79CLWfnra5/OJejuGnh7kLtQA7huPrvzJCCx+76hLZTb7YHHkXIND0QPh/09XNTuEDmdisy56gwlNxg63+3KKy2tRqNOg5FwDLujbvJ4nyHMqzEBERERX5WrFl6i78/aXZ/GLyUM8zt4Ix3aXXsTy7WU+l7Y2W6xY/N7RLo2HqLdj6Okh7kLNi7NHIlIuddt49GytwW0p6uLyWiy5MwuP5GpEw4RQ/EDs+Xkisy4XGlrx7LZSPDZV69JjR5hRAjobquakxUHf6nl/TqQiHK89OAaD1ZFIiVUy8BAREfnJS7tP4n/+fRZLZ15dvubMbLFid+lFzH/7kNvmpXtPVLk8tnbvKTQYuAeXQgtDTw/QG0xuQ83iLUew5K4st8GmwUuwaGs3ewwTj03VwmK1ujQQfWyq1mWMz24rxQMT0vHKRydtvXiE89f+NAdHz+uRnRqLSHn4ld2Rnuvztxg78Og7h/D+o5MYeIiIiPzskr4N898+hNcfGgNjh8Xl+C1//gwms9Vt4AGAP3/0ncPXZosVG4rP+HegRL0AQ08PqGk2eWwc6inYKMI9F9iLVLj/K6xpNqFw49cODUQV4WEoOdeAwo1fY/uCXFsYqWk2YWhKDDYUi/fYCYMEM0YMtPXwWZc/zmNj1Tyt2lYxjsULiIiI/M+Kzs8gF793FHqRmZmqJu9tIi43OhZPOFBR5/UDV6K+iKGnB3jrfRPpprwzAJSca0CeVo395a6hKVebiNoWE8KqmyEBkOjUdLSxrd2lgag9+0IGjW3tyEmLc3vu/vIaFOgyHMZVdkGPuVf27dgHn1xtIn5z+w2Y87cvWbyAiIjIB9/atZboCivg16VoVU2+7fsh6msYenpAjA8zHe5mTE5caMSTt98AC1yXqBXoNGgzmfHstlLkpMfjyLkGvDh7JFKvNDX19rr2MzAJKjmkYRK89uAY0X08ABymztcXVWD1nBy8+9VZ5KTH22aSYiNkiFaGo3Dj1xg3KJ7FC4iIiHzw2y29o3CAOtK1gSlRKGDo6QHqKDkmZ6od+ucIcrWJ2HP8suiMiU6biN9OvwEP/v0rPDAh3WWJ2sJNJXj5/lG2Smlr95Zj8ZYjWDMnB7EqucfXtZ+BudDQimfeL3WYTRLrtWO/1M5gMmPhphIU5mpwR/ZAmDosiFSEQy4Ng77VhH/84iaf+g8RERFR8AyIUTgucetaKx+iPoOhpwfEquR4cfZILN5yxCGA5GWqseSuLFTUtEAWFoZCnQbzcgejrd2MtIQIfHjsMi42tKGm2eR22ZkQRIwdFqjkUoxMi8NFfRu+r2lBTIQMK38yAit3HUdGUhRy0uJg7LAgXiVDeoIKsSr51SIL5e5LYq/dWw6dNtG2R0cgLJ27d/SPkJUaa3ck8tq/aURERBRwT/74evzun1dnmWq62SCVqLdj6OkhkXIpltyVhYbWdkTJpVDKpDh4pg73vFpsm0kRGo7+5v++RWGuxra+193SN/sgopJJsXpODjYUV7g0BF1xTzZWbD/m8viLs0ei1WT2WBK7UKfB5Ew1Hp2qReHGr13O4Z4dIiKi3ksCIFYlgyI8zKVoAQBMG5rs8HVytLKHRkbUszyXBiO/uNDQigWbSnDbX/bh/jf+jRmri7BkWynioxzXzRaX12JDcQUKczVYX1SBFXdn48TFRszL1SDPqWlZnjYRv8gbjPAwCd59eCKUMilUcily0uOhsiuMsO9UDf6w9SiGOszEXC2XrW/1XNklNkKGNXNyMChBhXGD4h2OTWbDUSIiol7vxZ+MwMeLbvbp3AmaBKTEKrnKjUIOZ3oCQG8woabZhMa2diREyvHM1lKX5WNF5bWw4uryMYEwu6IbkghZmAS3Zw1AWrwKd4wYiAJdhm1PT22zESlxEfjb/u+x6uNTtueL7cUpKq+17Rmyt+9UDZ6+Y5jH9xKv6tyXE6sC1szJQU2zCU1t7YhWyrhnh4iIqBcLkwDzcjMQGyHH7tJLPj1HGibB0plZmP/2oQCPjqhnMfT42YWGVodGpOvyx4mWmwauBhwxy2YNx+L3jmJUWhze//aCy/K2BdO02CbyuPNeHIFY0zKg84ebL8UOAFwJPww5REREfYHFCvxt/xn8bf+ZLj1venYKXn9oDJZsO4bqJu7xodDA5W1+ZCsKYBcg3IUNT8fTE1Roa7dg/6ka5KTFOQQblVyKBdO0uH34ANF9PkBn8MlJi3N4zF2TUyuseHSqFjptosPjeVy6RkRE1G9Nz07B//3yxmAPg8hvONPjRzXNJpeiAO7ChrvjkzPVSI5W4PuaFgCOoUglv1qsICslxuN17Z+XK1J5DegMNt+cqceKncdRmKtxKIld1WR02BtERERE/Ys0jDt7KHQw9PhRY5trR+SScw1uq685hxH7wgAxys4CA/ahqDBXgw3FFR6XxQmE503OVOO5e7KxYkeZy2svuSvLVj1OrCT2hIwEzvQQERH1UvEqGeoNrr97dIXZYvXTaIh6N4YeP4pRylweW19UgdVzcgA4Nh6dnKnGC/eOgMlswa1Dk10KA0Qpw22hSAhNOWlxtnDiKUzladW4Lj4Cnyy62XbNl+8fhZpmE/St7WhrN+OL72tRUdNiK3YgpkkkxBEREVHvsHj6Dfj9e6XXdI2Za4r9NBqi3o2hx4/UUXKXogAGkxkLN5VgyV1ZWDZzOFqMHT5VPmsxdqBAp8G7X521VV6zX7LmLkzptInI12XA2G7GDWlXl8AJRQhOVzXjJ69/AaCzyIIn0SIhjoiIiHqHaw08AFDloVABZ4EolDD0+FGsSo4XZ4/E4i1HHILPuEHxmHJ9ElLiIny+lr61HQs3laAwV4NwiQS/+fENUMqu7rERwpT9XhyNOhIdZiv2nryMwSNTRa9rvwTP02wRm44SERH1L84h53BlfZBGQuR/DD1+lhoX4Zd+NjFKmctemw8W6BxCiv1xnTYROenxWLu3HLnaRMzOuc7tdQWelt6xchsREVHfMeX6RHz2nXhVV199c7YeU25IBgDsOnIRT79/zB9DI+oVGHoCwB/9bMSWyl3Ut9mWugkhRSWX4pk7h2HEdbH4ob4V6wvG41BlPZZvP4aX7x/lMg776zrPFgGd5bKToxUMPERERH3ItQYeALaePCt3leHNfRXXfD2i3oShpxfRG0yoaTahsa0dMREyrPzJCCz74Bj2HK8CAISHSfC4XUiJVoYjLkKOP+44hqe3Xl3Xq9MmYq5Og9oWk0t4cV6CJ8wWCbM7XVmCR0RERKGjptmIHYfPM/BQSGLo6SUuNLS6NDYVKrw9dccwNLa2I14lx7hB8bYlbVsfnYTlO4657MkRvl42c7joa/lrCR4RERGFjpd2n4SErXkoRDH09AJ6g8kl8ADAvlM1eHrrUayZk4PBSVEAgBdnj8TSbaW4ISUGCplUtAgB0Bl8PFVd8ccSPCIiIgotVhZsoxAV5v0UCrSaZpNL4BHsO1WDmmaT7evUuAgsmzkcP4pVotlLHx1PPXiIiIiIiPoLhp5eQN9q8njcvkmo3mDCuYZW7Dh6EU1tHR6fFxvBPjtERERERAw9QXahoRVt7RaP59g3CW0wtGPN3lMoLq+19dkRwz47RERERESduKenBzlXZ4tShOPZbaUYmhLjc5PQFlOH7Tz22SEiIiIi8o6hp4eIVWfLy1RjyV1Z2FN2CQ/nDgbgGF7yRMJLi90+Hec+O8YOCwYlqnBdXAQDDxERERHRFQw9PcBddbb9p2qwfPsx3DkiBVZYMUGTYAsvivAwpCeoXPrmxDnt0xH67Aj2/HoyAw8RERERkR2GHj9xXrqmjrxaEtpTdbbi8loU6jRYV1SBnPR4zHvroO3YJ4tudjk/OVqBvEy16PXyMtVIjlb46R0REREREYUGhh4/cNdY9MXZI5EaF4FGL6WljR0WW/gR5GoTEaV0/euJVcnx0uyRWLzlCPY5LZVbcXe2H94NEREREVFoYei5Rp4aiy7ecgRr5uQgRum5dLQivLOInrGjs4qbTpuIAp0GLUbxktSpcRFYMycHlxrb8EN9KwCg5FwD7li9H+MGxdvCFhERERERMfRcM18ai6qj5JicqXaYmRHotIkoOdcAALguPgLr8seh5FwDFm4qwbsPT/T42s/tPO4xbHFvDxERERFRgPv0zJo1C+np6VAqlUhJScHPfvYzXLhwIZAv2eO8LV1ramtHrEqOF2ePxORMtcMxnTYRc3UarC+qgE6biI/KLmPeWwexdm85DCazQ38eZ76ELaBzJup0VTNKKutxuroZeoPnRqhERERERKEmoDM9U6dOxdNPP42UlBScP38ev/nNb3Dffffhiy++COTL9ihvS9eE4OJuSdrCTSXISY/DXJ0GCzeV2J7nrbmoL2HL214jIiIiIqL+IKCh59e//rXtz4MGDcLixYtxzz33oL29HTKZ57DQV3hauuYcXGJVnRXdBsYoUdNsQmKkHDNHpuBQZWf4MVzpwXPbsGQsmzUcNc0mfF/T4lINDvAetiIV4V73GnH5GxERERH1Bz22p6eurg7vvPMOJk2a5DbwGI1GGI1GAEBLS0tPDU2UpxLU9oSla87V1CaLNBa1f4794wNjlJiQkYCmK68ll4Zh8XtHPc7QeAtbcmmY1+VvDD1ERERE1B8EPPT8/ve/x9q1a2EwGHDjjTdix44dbs9duXIlli9fHughedXVZWHC0rWaZhOa2toRrZRBHSUeksTYhyC9wYQFm0q8ztB4C1tVTW0eX7PJy/I4IiIiIqJQ0eVCBosXL4ZEIvH4vxMnTtjO/+1vf4uSkhJ89NFHkEql+PnPfw6r1Sp67aeeegp6vR56vT5oBQ+8laB2VwggViXHkOQojE6Px5DkqG7PovhaoAC4GrY+WXQz3n90Ej5ZdDPWzMlBSlwEohS+7TUiIiIiIgp1XZ7pefLJJ1FQUODxnMGDB9v+rFaroVarcf3112PYsGFIS0vDl19+iZtuusnleQqFAgqFAgAglUq7OjS/qG0xYVRaHAomZcDYYYFSJsWhynqsL6ro8rIwYYmcvtUElSIcYRIJwsMkSHSzVA7wrUCBPeelcoKu7DUiIiIiIgplXQ49SUlJSEpK6taLWSydzTeFfTu9kRVASWU91u4ttz2m0yZi9ZwcLNxU4vOyMLElckKJ6pW7jmP53dmiS+V8rQbniz/cOQz59a2QSCS24DZuULzbvUZERERERKEoYHt6vvrqK3z99dfIzc1FfHw8Tp8+jSVLlmDIkCGiszy9gd5gwrJtpSgur3V4XPi6MFfjU+hwt0ROuE5OerzbCmr+mKERC1x5mWrsWpiHeJWMgYeIiIiI+pWANSdVqVR47733cMstt+CGG27AvHnzMHLkSHz++ee2JWy9TU2zCfudAo+guLwWkwYn+hQ6PO3LKS6vRU5anMv+HIG7RqaeqsHZsw9cKrkUC6ZpsS5/HOZMSMdFfSvaOixex09EREREFEoCNtMzYsQI7N27N1CXDwhv+2kUsjCfZkm8Xcd4JXi4Wyp3LdXghMClkkuxek4ONhRXOCzVy7sSnticlIiIiIj6i4DN9PRF3vbTxEX4tizM23UU4Z3fdk9L5bpbDU4IXIW5GmwornBZqrffSxU6IiIiIqJQw9BjR9hPI0bYT6M3mHC6qhkllfU4Xd0sGh48XUenTUTJuYYuVVDz5TUFQuDKSYtzCTwCd0vriIiIiIhCUcCbk/Yl3hp+Gkxm/M6HpqXuriNUb/vHgUqfK6h1tVGqELiMXvbusDkpEREREfUXDD1O3O2nAYAFm0rcNi11rsRmfx19aztUcimkYRJIwyR4+f5RPgUeb41Sxaq/CYHrTE2Lx2uzOSkRERER9RcMPSLEGn6ermp2W5HNXdNSd41DfeWpCpynRqmpcRGQhkmQl6kWfT6bkxIRERFRf9Jv9vR0ZV+MGG8V2QKxXOxaXnNAjBIvXUPpayKiUPbqq68iIyMDSqUSEydOxIEDB4I9JCIiCqB+MdPT1X0xYrxVZPPHcjG9wYSaZhMa29oREyFDgkoOlVwKg8ncrde8ltLXRESh6h//+AcWLVqEN954AxMnTsSqVatw++234+TJk0hOTg728IiIKAB6beixWq22P7e0eN6f4oneYMKT//etSyWzz479gCeNrfizj/trJGYjbkxT4YvTdS7HJg1JgMRsREuLpNvjvNjQiiXbSh3GqdMm4tX/yML8tw+5BB+dNhERknav35twAAMjJRgYeeU9WtvR0sIiBkTknv3PFfufxaHilVdewSOPPIK5c+cCAN544w3s3LkT69evx+LFiz0+1/770VRdDYvB4PX1DKYOyFr1Do81VVcDgMPjTdXVMMvd35abW4w+XaeltgZNZoPLazfX1Lg8vzdpra3t1eMjCqSW2mv/9+nt37jz8abqarS2m11+fghfd3dM9j/L3P0McjdWTz8Hr/XeJLH20jtaVVUVBgwYEOxhEBH1a5cvXw6p2Q+TyQSVSoV//vOfuOeee2yP5+fno6GhAdu2bXN5jtFohNFoBABUV1dDq9X21HCJiEhEd+5N/WZPDxERdZ3wy36oqKmpgdlsdvlQbcCAAbh06ZLoc1auXInY2FjExsYy8BAR9QLduTf12uVtarUa5eXl0Gq1OH/+PGJjY4M9pIBqbGxEamoqLly4gJiYmGAPJ6D6y3vtL+8T4HsNNVarFZcvX4ZWq0V0dHSwhxN0Tz31FBYtWgQAsFgsOHPmDHJycnhvCiH95X0CfK+hqj+812u9N/Xa0BMWFoakpCQAQFRUFCIjI4M8osAymzv37ERGRvK9hoj+8j4BvtdQZLF0NjgOCwutBQFqtRpSqRSXL192ePzy5csYOHCg6HMUCgUUCoXt68GDBwPgvSmU9Jf3CfC9hqr+8l6v5d4UWnczIiIiD+RyOcaOHYtPPvnE9pjFYsEnn3yCm266KYgjIyKiQOq1Mz1ERESBsGjRIuTn52PcuHGYMGECVq1ahZaWFls1NyIiCj29OvQoFAosXbrUYVlBqOJ7DT395X0CfK+hKJTf53/+53+iuroazz77LC5duoTRo0dj9+7dPlcMDeXvjbP+8l77y/sE+F5DVX95r9fyPnttyWoiIiIiIiJ/4J4eIiIiIiIKaQw9REREREQU0hh6iIiIiIgopDH0EBERERFRSOtToWfWrFlIT0+HUqlESkoKfvazn+HChQvBHpZfnTlzBvPmzYNGo0FERASGDBmCpUuXwmQyBXtoAfH8889j0qRJUKlUiIuLC/Zw/OrVV19FRkYGlEolJk6ciAMHDgR7SH63b98+zJw5E6mpqZBIJHj//feDPaSAWLlyJcaPH4/o6GgkJyfjnnvuwcmTJ4M9rIB4/fXXMXLkSMTExCAmJgY33XQT/vWvfwV7WL1Wf7gvAbw3hRLem0IH701duzf1qdAzdepU/O///i9OnjyJLVu24PTp07jvvvuCPSy/OnHiBCwWC958800cO3YMf/nLX/DGG2/g6aefDvbQAsJkMuH+++/H/Pnzgz0Uv/rHP/6BRYsWYenSpTh06BBGjRqF22+/HVVVVcEeml+1tLRg1KhRePXVV4M9lID6/PPP8dhjj+HLL7/Enj170N7ejh//+MdoaWkJ9tD87rrrrsOLL76Ib775BgcPHsS0adNw991349ixY8EeWq/UH+5LAO9NoYL3ptDCe1MX703WPmzbtm1WiURiNZlMwR5KQP3pT3+yajSaYA8joDZs2GCNjY0N9jD8ZsKECdbHHnvM9rXZbLampqZaV65cGcRRBRYA69atW4M9jB5RVVVlBWD9/PPPgz2UHhEfH2/9+9//Huxh9An95b5ktfLe1Bfx3hTaeG/yrE/N9Nirq6vDO++8g0mTJkEmkwV7OAGl1+uRkJAQ7GGQj0wmE7755hvceuuttsfCwsJw66234t///ncQR0b+otfrASDk/12azWZs3rwZLS0tuOmmm4I9nF6vP92XAN6b+hrem0If702e9bnQ8/vf/x6RkZFITExEZWUltm3bFuwhBVR5eTnWrFmDX/7yl8EeCvmopqYGZrPZpbv7gAEDcOnSpSCNivzFYrHgiSeegE6nQ3Z2drCHExBHjx5FVFQUFAoFfvWrX2Hr1q3IysoK9rB6rf52XwJ4b+qLeG8Kbbw3eRf00LN48WJIJBKP/ztx4oTt/N/+9rcoKSnBRx99BKlUip///OewWq1BfAe+6er7BIDz589j+vTpuP/++/HII48EaeRd1533StRXPPbYYygtLcXmzZuDPZSAueGGG3D48GF89dVXmD9/PvLz81FWVhbsYfWY/nJfAnhv4r2JQgXvTd5JrEH+yVxdXY3a2lqP5wwePBhyudzl8R9++AFpaWn44osvev3Si66+zwsXLmDKlCm48cYbsXHjRoSFBT2f+qw7f6cbN27EE088gYaGhgCPLvBMJhNUKhX++c9/4p577rE9np+fj4aGhpD9FFgikWDr1q0O7znULFiwANu2bcO+ffug0WiCPZwec+utt2LIkCF48803gz2UHtFf7ksA703OeG8KPbw3ha6u3pvCAzwer5KSkpCUlNSt51osFgCA0Wj055ACoivv8/z585g6dSrGjh2LDRs29KmbCnBtf6ehQC6XY+zYsfjkk09sP2QtFgs++eQTLFiwILiDo26xWq14/PHHsXXrVnz22Wf96qYCdP732xd+zvpLf7kvAbw39Se8N4Ue3pu6dm8Keujx1VdffYWvv/4aubm5iI+Px+nTp7FkyRIMGTKkT3ya5qvz589jypQpGDRoEF5++WVUV1fbjg0cODCIIwuMyspK1NXVobKyEmazGYcPHwYAaLVaREVFBXdw12DRokXIz8/HuHHjMGHCBKxatQotLS2YO3dusIfmV83NzSgvL7d9XVFRgcOHDyMhIQHp6elBHJl/PfbYY3j33Xexbds2REdH29a/x8bGIiIiIsij86+nnnoKM2bMQHp6OpqamvDuu+/is88+w4cffhjsofU6/eW+BPDexHtT38J7E+9NogJSQy4Ajhw5Yp06dao1ISHBqlAorBkZGdZf/epX1h9++CHYQ/OrDRs2WAGI/i8U5efni77XTz/9NNhDu2Zr1qyxpqenW+VyuXXChAnWL7/8MthD8rtPP/1U9O8vPz8/2EPzK3f/Jjds2BDsofldYWGhddCgQVa5XG5NSkqy3nLLLdaPPvoo2MPqlfrLfclq5b2J96a+hfemDcEemt/5494U9D09REREREREgdS3FuQSERERERF1EUMPERERERGFNIYeIiIiIiIKaQw9REREREQU0hh6iIiIiIgopDH0EBERERFRSGPoISIiIiKikMbQQ0REREREIY2hh4iIiIiIQhpDDxERERERhTSGHiIiIiIiCmkMPUREREREFNL+fwKV1G698BxqAAAAAElFTkSuQmCC\n",
                  "text/plain": "<Figure size 1000x500 with 2 Axes>"
                },
                "metadata": {},
                "output_type": "display_data"
              }
            ]
          }
        },
        "088316295c6a4462a536ab2326bd0188": {
          "model_module": "@jupyter-widgets/controls",
          "model_module_version": "1.5.0",
          "model_name": "VBoxModel",
          "state": {
            "_dom_classes": [
              "widget-interact"
            ],
            "_model_module": "@jupyter-widgets/controls",
            "_model_module_version": "1.5.0",
            "_model_name": "VBoxModel",
            "_view_count": null,
            "_view_module": "@jupyter-widgets/controls",
            "_view_module_version": "1.5.0",
            "_view_name": "VBoxView",
            "box_style": "",
            "children": [
              "IPY_MODEL_a73e46dcbea84070af60fee6e501f95f",
              "IPY_MODEL_7fe2d5261d794d69b411270aaeabaa8e",
              "IPY_MODEL_ad5f787ad1d14befada8f0f8c72ce521",
              "IPY_MODEL_b24ce46bbd724a60bc80abef08eab1ae",
              "IPY_MODEL_14bcf6ba2a77477ea13346b4ea8b1076",
              "IPY_MODEL_6d89f450f1894aa9a4490c3839028529",
              "IPY_MODEL_19c34fa6815148239b72602d6b104974"
            ],
            "layout": "IPY_MODEL_0daa8db59904480b9049127cf5c4a565"
          }
        },
        "09f57c70ae1645ef82a2ff86548ad940": {
          "model_module": "@jupyter-widgets/base",
          "model_module_version": "1.2.0",
          "model_name": "LayoutModel",
          "state": {
            "_model_module": "@jupyter-widgets/base",
            "_model_module_version": "1.2.0",
            "_model_name": "LayoutModel",
            "_view_count": null,
            "_view_module": "@jupyter-widgets/base",
            "_view_module_version": "1.2.0",
            "_view_name": "LayoutView",
            "align_content": null,
            "align_items": null,
            "align_self": null,
            "border": null,
            "bottom": null,
            "display": null,
            "flex": null,
            "flex_flow": null,
            "grid_area": null,
            "grid_auto_columns": null,
            "grid_auto_flow": null,
            "grid_auto_rows": null,
            "grid_column": null,
            "grid_gap": null,
            "grid_row": null,
            "grid_template_areas": null,
            "grid_template_columns": null,
            "grid_template_rows": null,
            "height": null,
            "justify_content": null,
            "justify_items": null,
            "left": null,
            "margin": null,
            "max_height": null,
            "max_width": null,
            "min_height": null,
            "min_width": null,
            "object_fit": null,
            "object_position": null,
            "order": null,
            "overflow": null,
            "overflow_x": null,
            "overflow_y": null,
            "padding": null,
            "right": null,
            "top": null,
            "visibility": null,
            "width": null
          }
        },
        "0ce06abcbdf64213922fbd99b82bc1dd": {
          "model_module": "@jupyter-widgets/base",
          "model_module_version": "2.0.0",
          "model_name": "LayoutModel",
          "state": {
            "_model_module": "@jupyter-widgets/base",
            "_model_module_version": "2.0.0",
            "_model_name": "LayoutModel",
            "_view_count": null,
            "_view_module": "@jupyter-widgets/base",
            "_view_module_version": "2.0.0",
            "_view_name": "LayoutView",
            "align_content": null,
            "align_items": null,
            "align_self": null,
            "border_bottom": null,
            "border_left": null,
            "border_right": null,
            "border_top": null,
            "bottom": null,
            "display": null,
            "flex": null,
            "flex_flow": null,
            "grid_area": null,
            "grid_auto_columns": null,
            "grid_auto_flow": null,
            "grid_auto_rows": null,
            "grid_column": null,
            "grid_gap": null,
            "grid_row": null,
            "grid_template_areas": null,
            "grid_template_columns": null,
            "grid_template_rows": null,
            "height": null,
            "justify_content": null,
            "justify_items": null,
            "left": null,
            "margin": null,
            "max_height": null,
            "max_width": null,
            "min_height": null,
            "min_width": null,
            "object_fit": null,
            "object_position": null,
            "order": null,
            "overflow": null,
            "padding": null,
            "right": null,
            "top": null,
            "visibility": null,
            "width": null
          }
        },
        "0daa8db59904480b9049127cf5c4a565": {
          "model_module": "@jupyter-widgets/base",
          "model_module_version": "1.2.0",
          "model_name": "LayoutModel",
          "state": {
            "_model_module": "@jupyter-widgets/base",
            "_model_module_version": "1.2.0",
            "_model_name": "LayoutModel",
            "_view_count": null,
            "_view_module": "@jupyter-widgets/base",
            "_view_module_version": "1.2.0",
            "_view_name": "LayoutView",
            "align_content": null,
            "align_items": null,
            "align_self": null,
            "border": null,
            "bottom": null,
            "display": null,
            "flex": null,
            "flex_flow": null,
            "grid_area": null,
            "grid_auto_columns": null,
            "grid_auto_flow": null,
            "grid_auto_rows": null,
            "grid_column": null,
            "grid_gap": null,
            "grid_row": null,
            "grid_template_areas": null,
            "grid_template_columns": null,
            "grid_template_rows": null,
            "height": null,
            "justify_content": null,
            "justify_items": null,
            "left": null,
            "margin": null,
            "max_height": null,
            "max_width": null,
            "min_height": null,
            "min_width": null,
            "object_fit": null,
            "object_position": null,
            "order": null,
            "overflow": null,
            "overflow_x": null,
            "overflow_y": null,
            "padding": null,
            "right": null,
            "top": null,
            "visibility": null,
            "width": null
          }
        },
        "0ed8a1cf68f148488a53407d4a9fa375": {
          "model_module": "@jupyter-widgets/output",
          "model_module_version": "1.0.0",
          "model_name": "OutputModel",
          "state": {
            "_dom_classes": [],
            "_model_module": "@jupyter-widgets/output",
            "_model_module_version": "1.0.0",
            "_model_name": "OutputModel",
            "_view_count": null,
            "_view_module": "@jupyter-widgets/output",
            "_view_module_version": "1.0.0",
            "_view_name": "OutputView",
            "layout": "IPY_MODEL_13732104693848949895689d8afcbb23",
            "msg_id": "",
            "outputs": [
              {
                "data": {
                  "image/png": "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\n",
                  "text/plain": "<Figure size 1000x500 with 2 Axes>"
                },
                "metadata": {},
                "output_type": "display_data"
              }
            ]
          }
        },
        "0f77da9a8c4f43a98aecbf9fc182a35c": {
          "model_module": "@jupyter-widgets/base",
          "model_module_version": "1.2.0",
          "model_name": "LayoutModel",
          "state": {
            "_model_module": "@jupyter-widgets/base",
            "_model_module_version": "1.2.0",
            "_model_name": "LayoutModel",
            "_view_count": null,
            "_view_module": "@jupyter-widgets/base",
            "_view_module_version": "1.2.0",
            "_view_name": "LayoutView",
            "align_content": null,
            "align_items": null,
            "align_self": null,
            "border": null,
            "bottom": null,
            "display": null,
            "flex": null,
            "flex_flow": null,
            "grid_area": null,
            "grid_auto_columns": null,
            "grid_auto_flow": null,
            "grid_auto_rows": null,
            "grid_column": null,
            "grid_gap": null,
            "grid_row": null,
            "grid_template_areas": null,
            "grid_template_columns": null,
            "grid_template_rows": null,
            "height": null,
            "justify_content": null,
            "justify_items": null,
            "left": null,
            "margin": null,
            "max_height": null,
            "max_width": null,
            "min_height": null,
            "min_width": null,
            "object_fit": null,
            "object_position": null,
            "order": null,
            "overflow": null,
            "overflow_x": null,
            "overflow_y": null,
            "padding": null,
            "right": null,
            "top": null,
            "visibility": null,
            "width": "450px"
          }
        },
        "12be824c771242b4a54caa1d12d11922": {
          "model_module": "@jupyter-widgets/controls",
          "model_module_version": "1.5.0",
          "model_name": "SliderStyleModel",
          "state": {
            "_model_module": "@jupyter-widgets/controls",
            "_model_module_version": "1.5.0",
            "_model_name": "SliderStyleModel",
            "_view_count": null,
            "_view_module": "@jupyter-widgets/base",
            "_view_module_version": "1.2.0",
            "_view_name": "StyleView",
            "description_width": "",
            "handle_color": null
          }
        },
        "13732104693848949895689d8afcbb23": {
          "model_module": "@jupyter-widgets/base",
          "model_module_version": "1.2.0",
          "model_name": "LayoutModel",
          "state": {
            "_model_module": "@jupyter-widgets/base",
            "_model_module_version": "1.2.0",
            "_model_name": "LayoutModel",
            "_view_count": null,
            "_view_module": "@jupyter-widgets/base",
            "_view_module_version": "1.2.0",
            "_view_name": "LayoutView",
            "align_content": null,
            "align_items": null,
            "align_self": null,
            "border": null,
            "bottom": null,
            "display": null,
            "flex": null,
            "flex_flow": null,
            "grid_area": null,
            "grid_auto_columns": null,
            "grid_auto_flow": null,
            "grid_auto_rows": null,
            "grid_column": null,
            "grid_gap": null,
            "grid_row": null,
            "grid_template_areas": null,
            "grid_template_columns": null,
            "grid_template_rows": null,
            "height": null,
            "justify_content": null,
            "justify_items": null,
            "left": null,
            "margin": null,
            "max_height": null,
            "max_width": null,
            "min_height": null,
            "min_width": null,
            "object_fit": null,
            "object_position": null,
            "order": null,
            "overflow": null,
            "overflow_x": null,
            "overflow_y": null,
            "padding": null,
            "right": null,
            "top": null,
            "visibility": null,
            "width": null
          }
        },
        "14bcf6ba2a77477ea13346b4ea8b1076": {
          "model_module": "@jupyter-widgets/controls",
          "model_module_version": "1.5.0",
          "model_name": "FloatSliderModel",
          "state": {
            "_dom_classes": [],
            "_model_module": "@jupyter-widgets/controls",
            "_model_module_version": "1.5.0",
            "_model_name": "FloatSliderModel",
            "_view_count": null,
            "_view_module": "@jupyter-widgets/controls",
            "_view_module_version": "1.5.0",
            "_view_name": "FloatSliderView",
            "continuous_update": true,
            "description": "proportion_train",
            "description_tooltip": null,
            "disabled": false,
            "layout": "IPY_MODEL_0f77da9a8c4f43a98aecbf9fc182a35c",
            "max": 100,
            "min": 0,
            "orientation": "horizontal",
            "readout": true,
            "readout_format": ".2f",
            "step": 10,
            "style": "IPY_MODEL_87730ee717b44cb6ac0e7444790f2916",
            "value": 0.3
          }
        },
        "1569de72d3dc449b9afa4e9e9d1dfd88": {
          "model_module": "@jupyter-widgets/controls",
          "model_module_version": "1.5.0",
          "model_name": "DescriptionStyleModel",
          "state": {
            "_model_module": "@jupyter-widgets/controls",
            "_model_module_version": "1.5.0",
            "_model_name": "DescriptionStyleModel",
            "_view_count": null,
            "_view_module": "@jupyter-widgets/base",
            "_view_module_version": "1.2.0",
            "_view_name": "StyleView",
            "description_width": ""
          }
        },
        "19c34fa6815148239b72602d6b104974": {
          "model_module": "@jupyter-widgets/output",
          "model_module_version": "1.0.0",
          "model_name": "OutputModel",
          "state": {
            "_dom_classes": [],
            "_model_module": "@jupyter-widgets/output",
            "_model_module_version": "1.0.0",
            "_model_name": "OutputModel",
            "_view_count": null,
            "_view_module": "@jupyter-widgets/output",
            "_view_module_version": "1.0.0",
            "_view_name": "OutputView",
            "layout": "IPY_MODEL_ccb3a2e0403847f0a6ac0aa5d625dd01",
            "msg_id": "",
            "outputs": [
              {
                "name": "stderr",
                "output_type": "stream",
                "text": [
                  "<ipython-input-12-0e1d9035661c>:39: MatplotlibDeprecationWarning: The 'use_line_collection' parameter of stem() was deprecated in Matplotlib 3.6 and will be removed two minor releases later. If any parameter follows 'use_line_collection', they should be passed as keyword, not positionally.\n",
                  "  axes[1].stem(x1[:number_of_train_points], error[:number_of_train_points], linefmt='red', markerfmt='ro', use_line_collection=True)\n"
                ]
              },
              {
                "data": {
                  "image/png": "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\n",
                  "text/plain": "<Figure size 1000x500 with 2 Axes>"
                },
                "metadata": {},
                "output_type": "display_data"
              }
            ]
          }
        },
        "2c07f0412f2e426bac31cb757016cc8e": {
          "model_module": "@jupyter-widgets/controls",
          "model_module_version": "1.5.0",
          "model_name": "FloatSliderModel",
          "state": {
            "_dom_classes": [],
            "_model_module": "@jupyter-widgets/controls",
            "_model_module_version": "1.5.0",
            "_model_name": "FloatSliderModel",
            "_view_count": null,
            "_view_module": "@jupyter-widgets/controls",
            "_view_module_version": "1.5.0",
            "_view_name": "FloatSliderView",
            "continuous_update": true,
            "description": "offset",
            "description_tooltip": null,
            "disabled": false,
            "layout": "IPY_MODEL_50c68fcc51284a4f8f0dd93780b80782",
            "max": 3,
            "min": -3,
            "orientation": "horizontal",
            "readout": true,
            "readout_format": ".2f",
            "step": 0.2,
            "style": "IPY_MODEL_12be824c771242b4a54caa1d12d11922",
            "value": 0
          }
        },
        "32831751c1d243c495deb6c04a79dea8": {
          "model_module": "@jupyter-widgets/controls",
          "model_module_version": "1.5.0",
          "model_name": "FloatSliderModel",
          "state": {
            "_dom_classes": [],
            "_model_module": "@jupyter-widgets/controls",
            "_model_module_version": "1.5.0",
            "_model_name": "FloatSliderModel",
            "_view_count": null,
            "_view_module": "@jupyter-widgets/controls",
            "_view_module_version": "1.5.0",
            "_view_name": "FloatSliderView",
            "continuous_update": true,
            "description": "offset",
            "description_tooltip": null,
            "disabled": false,
            "layout": "IPY_MODEL_93b5ad5bbd284bd2b455c77f56f74228",
            "max": 3,
            "min": -3,
            "orientation": "horizontal",
            "readout": true,
            "readout_format": ".2f",
            "step": 0.2,
            "style": "IPY_MODEL_9c4bc60d41754ee0a98459c567e6b18c",
            "value": 0
          }
        },
        "394f68112e9e4314ad497f40b9720fad": {
          "model_module": "@jupyter-widgets/controls",
          "model_module_version": "1.5.0",
          "model_name": "SliderStyleModel",
          "state": {
            "_model_module": "@jupyter-widgets/controls",
            "_model_module_version": "1.5.0",
            "_model_name": "SliderStyleModel",
            "_view_count": null,
            "_view_module": "@jupyter-widgets/base",
            "_view_module_version": "1.2.0",
            "_view_name": "StyleView",
            "description_width": "",
            "handle_color": null
          }
        },
        "3d4cf4d33a3d48b480ee2e36d44efb92": {
          "model_module": "@jupyter-widgets/base",
          "model_module_version": "1.2.0",
          "model_name": "LayoutModel",
          "state": {
            "_model_module": "@jupyter-widgets/base",
            "_model_module_version": "1.2.0",
            "_model_name": "LayoutModel",
            "_view_count": null,
            "_view_module": "@jupyter-widgets/base",
            "_view_module_version": "1.2.0",
            "_view_name": "LayoutView",
            "align_content": null,
            "align_items": null,
            "align_self": null,
            "border": null,
            "bottom": null,
            "display": null,
            "flex": null,
            "flex_flow": null,
            "grid_area": null,
            "grid_auto_columns": null,
            "grid_auto_flow": null,
            "grid_auto_rows": null,
            "grid_column": null,
            "grid_gap": null,
            "grid_row": null,
            "grid_template_areas": null,
            "grid_template_columns": null,
            "grid_template_rows": null,
            "height": null,
            "justify_content": null,
            "justify_items": null,
            "left": null,
            "margin": null,
            "max_height": null,
            "max_width": null,
            "min_height": null,
            "min_width": null,
            "object_fit": null,
            "object_position": null,
            "order": null,
            "overflow": null,
            "overflow_x": null,
            "overflow_y": null,
            "padding": null,
            "right": null,
            "top": null,
            "visibility": null,
            "width": null
          }
        },
        "3eaba47802b741e8a68e396fb766fa20": {
          "model_module": "@jupyter-widgets/controls",
          "model_module_version": "2.0.0",
          "model_name": "HTMLStyleModel",
          "state": {
            "_model_module": "@jupyter-widgets/controls",
            "_model_module_version": "2.0.0",
            "_model_name": "HTMLStyleModel",
            "_view_count": null,
            "_view_module": "@jupyter-widgets/base",
            "_view_module_version": "2.0.0",
            "_view_name": "StyleView",
            "background": null,
            "description_width": "",
            "font_size": null,
            "text_color": null
          }
        },
        "4011cd0b71484ed2be5f5d6fb329834f": {
          "model_module": "@jupyter-widgets/controls",
          "model_module_version": "1.5.0",
          "model_name": "SliderStyleModel",
          "state": {
            "_model_module": "@jupyter-widgets/controls",
            "_model_module_version": "1.5.0",
            "_model_name": "SliderStyleModel",
            "_view_count": null,
            "_view_module": "@jupyter-widgets/base",
            "_view_module_version": "1.2.0",
            "_view_name": "StyleView",
            "description_width": "",
            "handle_color": null
          }
        },
        "50c68fcc51284a4f8f0dd93780b80782": {
          "model_module": "@jupyter-widgets/base",
          "model_module_version": "1.2.0",
          "model_name": "LayoutModel",
          "state": {
            "_model_module": "@jupyter-widgets/base",
            "_model_module_version": "1.2.0",
            "_model_name": "LayoutModel",
            "_view_count": null,
            "_view_module": "@jupyter-widgets/base",
            "_view_module_version": "1.2.0",
            "_view_name": "LayoutView",
            "align_content": null,
            "align_items": null,
            "align_self": null,
            "border": null,
            "bottom": null,
            "display": null,
            "flex": null,
            "flex_flow": null,
            "grid_area": null,
            "grid_auto_columns": null,
            "grid_auto_flow": null,
            "grid_auto_rows": null,
            "grid_column": null,
            "grid_gap": null,
            "grid_row": null,
            "grid_template_areas": null,
            "grid_template_columns": null,
            "grid_template_rows": null,
            "height": null,
            "justify_content": null,
            "justify_items": null,
            "left": null,
            "margin": null,
            "max_height": null,
            "max_width": null,
            "min_height": null,
            "min_width": null,
            "object_fit": null,
            "object_position": null,
            "order": null,
            "overflow": null,
            "overflow_x": null,
            "overflow_y": null,
            "padding": null,
            "right": null,
            "top": null,
            "visibility": null,
            "width": "450px"
          }
        },
        "647fd0c15f19482694b450480eb0c977": {
          "model_module": "@jupyter-widgets/controls",
          "model_module_version": "1.5.0",
          "model_name": "FloatSliderModel",
          "state": {
            "_dom_classes": [],
            "_model_module": "@jupyter-widgets/controls",
            "_model_module_version": "1.5.0",
            "_model_name": "FloatSliderModel",
            "_view_count": null,
            "_view_module": "@jupyter-widgets/controls",
            "_view_module_version": "1.5.0",
            "_view_name": "FloatSliderView",
            "continuous_update": true,
            "description": "slope",
            "description_tooltip": null,
            "disabled": false,
            "layout": "IPY_MODEL_93b5ad5bbd284bd2b455c77f56f74228",
            "max": 10,
            "min": 0,
            "orientation": "horizontal",
            "readout": true,
            "readout_format": ".2f",
            "step": 0.1,
            "style": "IPY_MODEL_394f68112e9e4314ad497f40b9720fad",
            "value": 1
          }
        },
        "64aba4c3b49f49209c515bd1974cf6f7": {
          "model_module": "@jupyter-widgets/controls",
          "model_module_version": "2.0.0",
          "model_name": "HTMLModel",
          "state": {
            "_dom_classes": [],
            "_model_module": "@jupyter-widgets/controls",
            "_model_module_version": "2.0.0",
            "_model_name": "HTMLModel",
            "_view_count": null,
            "_view_module": "@jupyter-widgets/controls",
            "_view_module_version": "2.0.0",
            "_view_name": "HTMLView",
            "description": "",
            "description_allow_html": false,
            "layout": "IPY_MODEL_b7ea0a26ab8c4eec849436f978b8d2ed",
            "placeholder": "​",
            "style": "IPY_MODEL_3eaba47802b741e8a68e396fb766fa20",
            "tabbable": null,
            "tooltip": null,
            "value": " 233M/233M [00:01&lt;00:00, 179MB/s]"
          }
        },
        "68bfd4f06f03490bb6e5de68c1d7e204": {
          "model_module": "@jupyter-widgets/controls",
          "model_module_version": "1.5.0",
          "model_name": "SliderStyleModel",
          "state": {
            "_model_module": "@jupyter-widgets/controls",
            "_model_module_version": "1.5.0",
            "_model_name": "SliderStyleModel",
            "_view_count": null,
            "_view_module": "@jupyter-widgets/base",
            "_view_module_version": "1.2.0",
            "_view_name": "StyleView",
            "description_width": "",
            "handle_color": null
          }
        },
        "6d89f450f1894aa9a4490c3839028529": {
          "model_module": "@jupyter-widgets/controls",
          "model_module_version": "1.5.0",
          "model_name": "CheckboxModel",
          "state": {
            "_dom_classes": [],
            "_model_module": "@jupyter-widgets/controls",
            "_model_module_version": "1.5.0",
            "_model_name": "CheckboxModel",
            "_view_count": null,
            "_view_module": "@jupyter-widgets/controls",
            "_view_module_version": "1.5.0",
            "_view_name": "CheckboxView",
            "description": "show_test",
            "description_tooltip": null,
            "disabled": false,
            "indent": false,
            "layout": "IPY_MODEL_9a63d4cd68504478af8b9a8ad511b63f",
            "style": "IPY_MODEL_1569de72d3dc449b9afa4e9e9d1dfd88",
            "value": false
          }
        },
        "6f51c8914e3142cba8b0c5e38deb5332": {
          "model_module": "@jupyter-widgets/controls",
          "model_module_version": "2.0.0",
          "model_name": "ProgressStyleModel",
          "state": {
            "_model_module": "@jupyter-widgets/controls",
            "_model_module_version": "2.0.0",
            "_model_name": "ProgressStyleModel",
            "_view_count": null,
            "_view_module": "@jupyter-widgets/base",
            "_view_module_version": "2.0.0",
            "_view_name": "StyleView",
            "bar_color": null,
            "description_width": ""
          }
        },
        "6fa61c05b84c4921a78cf0aa8d86401a": {
          "model_module": "@jupyter-widgets/controls",
          "model_module_version": "2.0.0",
          "model_name": "HBoxModel",
          "state": {
            "_dom_classes": [],
            "_model_module": "@jupyter-widgets/controls",
            "_model_module_version": "2.0.0",
            "_model_name": "HBoxModel",
            "_view_count": null,
            "_view_module": "@jupyter-widgets/controls",
            "_view_module_version": "2.0.0",
            "_view_name": "HBoxView",
            "box_style": "",
            "children": [
              "IPY_MODEL_79cd9e7bebca46739ce1fe7657e9f2da",
              "IPY_MODEL_9c5d1484418846b59eede3b8b4c1dabc",
              "IPY_MODEL_64aba4c3b49f49209c515bd1974cf6f7"
            ],
            "layout": "IPY_MODEL_8987f44daa2f45aeb136e5300bb48cb3",
            "tabbable": null,
            "tooltip": null
          }
        },
        "79cd9e7bebca46739ce1fe7657e9f2da": {
          "model_module": "@jupyter-widgets/controls",
          "model_module_version": "2.0.0",
          "model_name": "HTMLModel",
          "state": {
            "_dom_classes": [],
            "_model_module": "@jupyter-widgets/controls",
            "_model_module_version": "2.0.0",
            "_model_name": "HTMLModel",
            "_view_count": null,
            "_view_module": "@jupyter-widgets/controls",
            "_view_module_version": "2.0.0",
            "_view_name": "HTMLView",
            "description": "",
            "description_allow_html": false,
            "layout": "IPY_MODEL_7a45da4b5ea74ff2bd21732942a3cf33",
            "placeholder": "​",
            "style": "IPY_MODEL_907162bd986f4c7091efe518ba9dbc10",
            "tabbable": null,
            "tooltip": null,
            "value": "100%"
          }
        },
        "7a45da4b5ea74ff2bd21732942a3cf33": {
          "model_module": "@jupyter-widgets/base",
          "model_module_version": "2.0.0",
          "model_name": "LayoutModel",
          "state": {
            "_model_module": "@jupyter-widgets/base",
            "_model_module_version": "2.0.0",
            "_model_name": "LayoutModel",
            "_view_count": null,
            "_view_module": "@jupyter-widgets/base",
            "_view_module_version": "2.0.0",
            "_view_name": "LayoutView",
            "align_content": null,
            "align_items": null,
            "align_self": null,
            "border_bottom": null,
            "border_left": null,
            "border_right": null,
            "border_top": null,
            "bottom": null,
            "display": null,
            "flex": null,
            "flex_flow": null,
            "grid_area": null,
            "grid_auto_columns": null,
            "grid_auto_flow": null,
            "grid_auto_rows": null,
            "grid_column": null,
            "grid_gap": null,
            "grid_row": null,
            "grid_template_areas": null,
            "grid_template_columns": null,
            "grid_template_rows": null,
            "height": null,
            "justify_content": null,
            "justify_items": null,
            "left": null,
            "margin": null,
            "max_height": null,
            "max_width": null,
            "min_height": null,
            "min_width": null,
            "object_fit": null,
            "object_position": null,
            "order": null,
            "overflow": null,
            "padding": null,
            "right": null,
            "top": null,
            "visibility": null,
            "width": null
          }
        },
        "7a91458df4fc4497889a69ebb383c8fe": {
          "model_module": "@jupyter-widgets/base",
          "model_module_version": "1.2.0",
          "model_name": "LayoutModel",
          "state": {
            "_model_module": "@jupyter-widgets/base",
            "_model_module_version": "1.2.0",
            "_model_name": "LayoutModel",
            "_view_count": null,
            "_view_module": "@jupyter-widgets/base",
            "_view_module_version": "1.2.0",
            "_view_name": "LayoutView",
            "align_content": null,
            "align_items": null,
            "align_self": null,
            "border": null,
            "bottom": null,
            "display": null,
            "flex": null,
            "flex_flow": null,
            "grid_area": null,
            "grid_auto_columns": null,
            "grid_auto_flow": null,
            "grid_auto_rows": null,
            "grid_column": null,
            "grid_gap": null,
            "grid_row": null,
            "grid_template_areas": null,
            "grid_template_columns": null,
            "grid_template_rows": null,
            "height": null,
            "justify_content": null,
            "justify_items": null,
            "left": null,
            "margin": null,
            "max_height": null,
            "max_width": null,
            "min_height": null,
            "min_width": null,
            "object_fit": null,
            "object_position": null,
            "order": null,
            "overflow": null,
            "overflow_x": null,
            "overflow_y": null,
            "padding": null,
            "right": null,
            "top": null,
            "visibility": null,
            "width": null
          }
        },
        "7b2caaf283944073960eb7b012de9106": {
          "model_module": "@jupyter-widgets/controls",
          "model_module_version": "1.5.0",
          "model_name": "SliderStyleModel",
          "state": {
            "_model_module": "@jupyter-widgets/controls",
            "_model_module_version": "1.5.0",
            "_model_name": "SliderStyleModel",
            "_view_count": null,
            "_view_module": "@jupyter-widgets/base",
            "_view_module_version": "1.2.0",
            "_view_name": "StyleView",
            "description_width": "",
            "handle_color": null
          }
        },
        "7fe2d5261d794d69b411270aaeabaa8e": {
          "model_module": "@jupyter-widgets/controls",
          "model_module_version": "1.5.0",
          "model_name": "FloatSliderModel",
          "state": {
            "_dom_classes": [],
            "_model_module": "@jupyter-widgets/controls",
            "_model_module_version": "1.5.0",
            "_model_name": "FloatSliderModel",
            "_view_count": null,
            "_view_module": "@jupyter-widgets/controls",
            "_view_module_version": "1.5.0",
            "_view_name": "FloatSliderView",
            "continuous_update": true,
            "description": "beta1",
            "description_tooltip": null,
            "disabled": false,
            "layout": "IPY_MODEL_0f77da9a8c4f43a98aecbf9fc182a35c",
            "max": 4,
            "min": -4,
            "orientation": "horizontal",
            "readout": true,
            "readout_format": ".2f",
            "step": 0.1,
            "style": "IPY_MODEL_68bfd4f06f03490bb6e5de68c1d7e204",
            "value": 0
          }
        },
        "87730ee717b44cb6ac0e7444790f2916": {
          "model_module": "@jupyter-widgets/controls",
          "model_module_version": "1.5.0",
          "model_name": "SliderStyleModel",
          "state": {
            "_model_module": "@jupyter-widgets/controls",
            "_model_module_version": "1.5.0",
            "_model_name": "SliderStyleModel",
            "_view_count": null,
            "_view_module": "@jupyter-widgets/base",
            "_view_module_version": "1.2.0",
            "_view_name": "StyleView",
            "description_width": "",
            "handle_color": null
          }
        },
        "8987f44daa2f45aeb136e5300bb48cb3": {
          "model_module": "@jupyter-widgets/base",
          "model_module_version": "2.0.0",
          "model_name": "LayoutModel",
          "state": {
            "_model_module": "@jupyter-widgets/base",
            "_model_module_version": "2.0.0",
            "_model_name": "LayoutModel",
            "_view_count": null,
            "_view_module": "@jupyter-widgets/base",
            "_view_module_version": "2.0.0",
            "_view_name": "LayoutView",
            "align_content": null,
            "align_items": null,
            "align_self": null,
            "border_bottom": null,
            "border_left": null,
            "border_right": null,
            "border_top": null,
            "bottom": null,
            "display": null,
            "flex": null,
            "flex_flow": null,
            "grid_area": null,
            "grid_auto_columns": null,
            "grid_auto_flow": null,
            "grid_auto_rows": null,
            "grid_column": null,
            "grid_gap": null,
            "grid_row": null,
            "grid_template_areas": null,
            "grid_template_columns": null,
            "grid_template_rows": null,
            "height": null,
            "justify_content": null,
            "justify_items": null,
            "left": null,
            "margin": null,
            "max_height": null,
            "max_width": null,
            "min_height": null,
            "min_width": null,
            "object_fit": null,
            "object_position": null,
            "order": null,
            "overflow": null,
            "padding": null,
            "right": null,
            "top": null,
            "visibility": null,
            "width": null
          }
        },
        "907162bd986f4c7091efe518ba9dbc10": {
          "model_module": "@jupyter-widgets/controls",
          "model_module_version": "2.0.0",
          "model_name": "HTMLStyleModel",
          "state": {
            "_model_module": "@jupyter-widgets/controls",
            "_model_module_version": "2.0.0",
            "_model_name": "HTMLStyleModel",
            "_view_count": null,
            "_view_module": "@jupyter-widgets/base",
            "_view_module_version": "2.0.0",
            "_view_name": "StyleView",
            "background": null,
            "description_width": "",
            "font_size": null,
            "text_color": null
          }
        },
        "93b5ad5bbd284bd2b455c77f56f74228": {
          "model_module": "@jupyter-widgets/base",
          "model_module_version": "1.2.0",
          "model_name": "LayoutModel",
          "state": {
            "_model_module": "@jupyter-widgets/base",
            "_model_module_version": "1.2.0",
            "_model_name": "LayoutModel",
            "_view_count": null,
            "_view_module": "@jupyter-widgets/base",
            "_view_module_version": "1.2.0",
            "_view_name": "LayoutView",
            "align_content": null,
            "align_items": null,
            "align_self": null,
            "border": null,
            "bottom": null,
            "display": null,
            "flex": null,
            "flex_flow": null,
            "grid_area": null,
            "grid_auto_columns": null,
            "grid_auto_flow": null,
            "grid_auto_rows": null,
            "grid_column": null,
            "grid_gap": null,
            "grid_row": null,
            "grid_template_areas": null,
            "grid_template_columns": null,
            "grid_template_rows": null,
            "height": null,
            "justify_content": null,
            "justify_items": null,
            "left": null,
            "margin": null,
            "max_height": null,
            "max_width": null,
            "min_height": null,
            "min_width": null,
            "object_fit": null,
            "object_position": null,
            "order": null,
            "overflow": null,
            "overflow_x": null,
            "overflow_y": null,
            "padding": null,
            "right": null,
            "top": null,
            "visibility": null,
            "width": "450px"
          }
        },
        "9a63d4cd68504478af8b9a8ad511b63f": {
          "model_module": "@jupyter-widgets/base",
          "model_module_version": "1.2.0",
          "model_name": "LayoutModel",
          "state": {
            "_model_module": "@jupyter-widgets/base",
            "_model_module_version": "1.2.0",
            "_model_name": "LayoutModel",
            "_view_count": null,
            "_view_module": "@jupyter-widgets/base",
            "_view_module_version": "1.2.0",
            "_view_name": "LayoutView",
            "align_content": null,
            "align_items": null,
            "align_self": null,
            "border": null,
            "bottom": null,
            "display": null,
            "flex": null,
            "flex_flow": null,
            "grid_area": null,
            "grid_auto_columns": null,
            "grid_auto_flow": null,
            "grid_auto_rows": null,
            "grid_column": null,
            "grid_gap": null,
            "grid_row": null,
            "grid_template_areas": null,
            "grid_template_columns": null,
            "grid_template_rows": null,
            "height": null,
            "justify_content": null,
            "justify_items": null,
            "left": null,
            "margin": null,
            "max_height": null,
            "max_width": null,
            "min_height": null,
            "min_width": null,
            "object_fit": null,
            "object_position": null,
            "order": null,
            "overflow": null,
            "overflow_x": null,
            "overflow_y": null,
            "padding": null,
            "right": null,
            "top": null,
            "visibility": null,
            "width": null
          }
        },
        "9c4bc60d41754ee0a98459c567e6b18c": {
          "model_module": "@jupyter-widgets/controls",
          "model_module_version": "1.5.0",
          "model_name": "SliderStyleModel",
          "state": {
            "_model_module": "@jupyter-widgets/controls",
            "_model_module_version": "1.5.0",
            "_model_name": "SliderStyleModel",
            "_view_count": null,
            "_view_module": "@jupyter-widgets/base",
            "_view_module_version": "1.2.0",
            "_view_name": "StyleView",
            "description_width": "",
            "handle_color": null
          }
        },
        "9c5d1484418846b59eede3b8b4c1dabc": {
          "model_module": "@jupyter-widgets/controls",
          "model_module_version": "2.0.0",
          "model_name": "FloatProgressModel",
          "state": {
            "_dom_classes": [],
            "_model_module": "@jupyter-widgets/controls",
            "_model_module_version": "2.0.0",
            "_model_name": "FloatProgressModel",
            "_view_count": null,
            "_view_module": "@jupyter-widgets/controls",
            "_view_module_version": "2.0.0",
            "_view_name": "ProgressView",
            "bar_style": "success",
            "description": "",
            "description_allow_html": false,
            "layout": "IPY_MODEL_0ce06abcbdf64213922fbd99b82bc1dd",
            "max": 244408911,
            "min": 0,
            "orientation": "horizontal",
            "style": "IPY_MODEL_6f51c8914e3142cba8b0c5e38deb5332",
            "tabbable": null,
            "tooltip": null,
            "value": 244408911
          }
        },
        "a73e46dcbea84070af60fee6e501f95f": {
          "model_module": "@jupyter-widgets/controls",
          "model_module_version": "1.5.0",
          "model_name": "FloatSliderModel",
          "state": {
            "_dom_classes": [],
            "_model_module": "@jupyter-widgets/controls",
            "_model_module_version": "1.5.0",
            "_model_name": "FloatSliderModel",
            "_view_count": null,
            "_view_module": "@jupyter-widgets/controls",
            "_view_module_version": "1.5.0",
            "_view_name": "FloatSliderView",
            "continuous_update": true,
            "description": "beta0",
            "description_tooltip": null,
            "disabled": false,
            "layout": "IPY_MODEL_0f77da9a8c4f43a98aecbf9fc182a35c",
            "max": 4,
            "min": -4,
            "orientation": "horizontal",
            "readout": true,
            "readout_format": ".2f",
            "step": 0.1,
            "style": "IPY_MODEL_c0c2b510a99c4c39aea727e447d54132",
            "value": 0
          }
        },
        "ad5f787ad1d14befada8f0f8c72ce521": {
          "model_module": "@jupyter-widgets/controls",
          "model_module_version": "1.5.0",
          "model_name": "FloatSliderModel",
          "state": {
            "_dom_classes": [],
            "_model_module": "@jupyter-widgets/controls",
            "_model_module_version": "1.5.0",
            "_model_name": "FloatSliderModel",
            "_view_count": null,
            "_view_module": "@jupyter-widgets/controls",
            "_view_module_version": "1.5.0",
            "_view_name": "FloatSliderView",
            "continuous_update": true,
            "description": "beta2",
            "description_tooltip": null,
            "disabled": false,
            "layout": "IPY_MODEL_0f77da9a8c4f43a98aecbf9fc182a35c",
            "max": 4,
            "min": -4,
            "orientation": "horizontal",
            "readout": true,
            "readout_format": ".2f",
            "step": 0.1,
            "style": "IPY_MODEL_e6180e5434074de7a916648f8280e659",
            "value": 0
          }
        },
        "b24ce46bbd724a60bc80abef08eab1ae": {
          "model_module": "@jupyter-widgets/controls",
          "model_module_version": "1.5.0",
          "model_name": "FloatSliderModel",
          "state": {
            "_dom_classes": [],
            "_model_module": "@jupyter-widgets/controls",
            "_model_module_version": "1.5.0",
            "_model_name": "FloatSliderModel",
            "_view_count": null,
            "_view_module": "@jupyter-widgets/controls",
            "_view_module_version": "1.5.0",
            "_view_name": "FloatSliderView",
            "continuous_update": true,
            "description": "beta3",
            "description_tooltip": null,
            "disabled": false,
            "layout": "IPY_MODEL_0f77da9a8c4f43a98aecbf9fc182a35c",
            "max": 4,
            "min": -4,
            "orientation": "horizontal",
            "readout": true,
            "readout_format": ".2f",
            "step": 0.1,
            "style": "IPY_MODEL_4011cd0b71484ed2be5f5d6fb329834f",
            "value": 0
          }
        },
        "b7ea0a26ab8c4eec849436f978b8d2ed": {
          "model_module": "@jupyter-widgets/base",
          "model_module_version": "2.0.0",
          "model_name": "LayoutModel",
          "state": {
            "_model_module": "@jupyter-widgets/base",
            "_model_module_version": "2.0.0",
            "_model_name": "LayoutModel",
            "_view_count": null,
            "_view_module": "@jupyter-widgets/base",
            "_view_module_version": "2.0.0",
            "_view_name": "LayoutView",
            "align_content": null,
            "align_items": null,
            "align_self": null,
            "border_bottom": null,
            "border_left": null,
            "border_right": null,
            "border_top": null,
            "bottom": null,
            "display": null,
            "flex": null,
            "flex_flow": null,
            "grid_area": null,
            "grid_auto_columns": null,
            "grid_auto_flow": null,
            "grid_auto_rows": null,
            "grid_column": null,
            "grid_gap": null,
            "grid_row": null,
            "grid_template_areas": null,
            "grid_template_columns": null,
            "grid_template_rows": null,
            "height": null,
            "justify_content": null,
            "justify_items": null,
            "left": null,
            "margin": null,
            "max_height": null,
            "max_width": null,
            "min_height": null,
            "min_width": null,
            "object_fit": null,
            "object_position": null,
            "order": null,
            "overflow": null,
            "padding": null,
            "right": null,
            "top": null,
            "visibility": null,
            "width": null
          }
        },
        "c0c2b510a99c4c39aea727e447d54132": {
          "model_module": "@jupyter-widgets/controls",
          "model_module_version": "1.5.0",
          "model_name": "SliderStyleModel",
          "state": {
            "_model_module": "@jupyter-widgets/controls",
            "_model_module_version": "1.5.0",
            "_model_name": "SliderStyleModel",
            "_view_count": null,
            "_view_module": "@jupyter-widgets/base",
            "_view_module_version": "1.2.0",
            "_view_name": "StyleView",
            "description_width": "",
            "handle_color": null
          }
        },
        "cb5d434e610c4ac7b5be242d5542b9a0": {
          "model_module": "@jupyter-widgets/controls",
          "model_module_version": "1.5.0",
          "model_name": "VBoxModel",
          "state": {
            "_dom_classes": [
              "widget-interact"
            ],
            "_model_module": "@jupyter-widgets/controls",
            "_model_module_version": "1.5.0",
            "_model_name": "VBoxModel",
            "_view_count": null,
            "_view_module": "@jupyter-widgets/controls",
            "_view_module_version": "1.5.0",
            "_view_name": "VBoxView",
            "box_style": "",
            "children": [
              "IPY_MODEL_647fd0c15f19482694b450480eb0c977",
              "IPY_MODEL_32831751c1d243c495deb6c04a79dea8",
              "IPY_MODEL_0ed8a1cf68f148488a53407d4a9fa375"
            ],
            "layout": "IPY_MODEL_09f57c70ae1645ef82a2ff86548ad940"
          }
        },
        "ccb3a2e0403847f0a6ac0aa5d625dd01": {
          "model_module": "@jupyter-widgets/base",
          "model_module_version": "1.2.0",
          "model_name": "LayoutModel",
          "state": {
            "_model_module": "@jupyter-widgets/base",
            "_model_module_version": "1.2.0",
            "_model_name": "LayoutModel",
            "_view_count": null,
            "_view_module": "@jupyter-widgets/base",
            "_view_module_version": "1.2.0",
            "_view_name": "LayoutView",
            "align_content": null,
            "align_items": null,
            "align_self": null,
            "border": null,
            "bottom": null,
            "display": null,
            "flex": null,
            "flex_flow": null,
            "grid_area": null,
            "grid_auto_columns": null,
            "grid_auto_flow": null,
            "grid_auto_rows": null,
            "grid_column": null,
            "grid_gap": null,
            "grid_row": null,
            "grid_template_areas": null,
            "grid_template_columns": null,
            "grid_template_rows": null,
            "height": null,
            "justify_content": null,
            "justify_items": null,
            "left": null,
            "margin": null,
            "max_height": null,
            "max_width": null,
            "min_height": null,
            "min_width": null,
            "object_fit": null,
            "object_position": null,
            "order": null,
            "overflow": null,
            "overflow_x": null,
            "overflow_y": null,
            "padding": null,
            "right": null,
            "top": null,
            "visibility": null,
            "width": null
          }
        },
        "d11b9a71a3884cf7882374c49afc62e7": {
          "model_module": "@jupyter-widgets/controls",
          "model_module_version": "1.5.0",
          "model_name": "FloatSliderModel",
          "state": {
            "_dom_classes": [],
            "_model_module": "@jupyter-widgets/controls",
            "_model_module_version": "1.5.0",
            "_model_name": "FloatSliderModel",
            "_view_count": null,
            "_view_module": "@jupyter-widgets/controls",
            "_view_module_version": "1.5.0",
            "_view_name": "FloatSliderView",
            "continuous_update": true,
            "description": "slope",
            "description_tooltip": null,
            "disabled": false,
            "layout": "IPY_MODEL_50c68fcc51284a4f8f0dd93780b80782",
            "max": 3,
            "min": -3,
            "orientation": "horizontal",
            "readout": true,
            "readout_format": ".2f",
            "step": 0.1,
            "style": "IPY_MODEL_7b2caaf283944073960eb7b012de9106",
            "value": 0
          }
        },
        "e6180e5434074de7a916648f8280e659": {
          "model_module": "@jupyter-widgets/controls",
          "model_module_version": "1.5.0",
          "model_name": "SliderStyleModel",
          "state": {
            "_model_module": "@jupyter-widgets/controls",
            "_model_module_version": "1.5.0",
            "_model_name": "SliderStyleModel",
            "_view_count": null,
            "_view_module": "@jupyter-widgets/base",
            "_view_module_version": "1.2.0",
            "_view_name": "StyleView",
            "description_width": "",
            "handle_color": null
          }
        },
        "fe7ea90373bc4f27be7eed19c797d88d": {
          "model_module": "@jupyter-widgets/controls",
          "model_module_version": "1.5.0",
          "model_name": "VBoxModel",
          "state": {
            "_dom_classes": [
              "widget-interact"
            ],
            "_model_module": "@jupyter-widgets/controls",
            "_model_module_version": "1.5.0",
            "_model_name": "VBoxModel",
            "_view_count": null,
            "_view_module": "@jupyter-widgets/controls",
            "_view_module_version": "1.5.0",
            "_view_name": "VBoxView",
            "box_style": "",
            "children": [
              "IPY_MODEL_d11b9a71a3884cf7882374c49afc62e7",
              "IPY_MODEL_2c07f0412f2e426bac31cb757016cc8e",
              "IPY_MODEL_058dee54c2a1476ebc400decb934dd13"
            ],
            "layout": "IPY_MODEL_3d4cf4d33a3d48b480ee2e36d44efb92"
          }
        }
      }
    }
  },
  "nbformat": 4,
  "nbformat_minor": 0
}
