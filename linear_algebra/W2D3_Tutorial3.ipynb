{
  "cells": [
    {
      "cell_type": "markdown",
      "metadata": {
        "execution": {},
        "id": "VqPnjNgn5Uhz"
      },
      "source": [
        "# Tutorial 3: Eigen Values and Eigen Vectors\n",
        "**Week 2, Day 3: Linear Algebra**\n",
        "\n",
        "**This Tutorial is taken from Neuromatch Academy**\n",
        "\n",
        "The original code can be found in the following link: https://compneuro.neuromatch.io/tutorials/W0D3_LinearAlgebra/student/W0D3_Tutorial2.html\n",
        "\n",
        "__Content creators:__ Ella Batty\n",
        "\n",
        "\n",
        "__Content reviewers:__ Keith van Antwerp, Aderogba Bayo, Anoop Kulkarni, Pooya Pakarian\n",
        "\n",
        "\n",
        "__Production editors:__ Siddharth Suresh, Ella Batty  "
      ]
    },
    {
      "cell_type": "markdown",
      "metadata": {
        "execution": {},
        "id": "VyZnd24u5Uh3"
      },
      "source": [
        "**Our 2023 Sponsor**\n",
        "\n",
        "<p align=><img src='https://www.ias.edu/sites/default/files/styles/two_column_large/public/simons%20foundation.png?itok=l439OKcp'/></p>"
      ]
    },
    {
      "cell_type": "markdown",
      "metadata": {
        "execution": {},
        "id": "IxbZKTR05Uh4"
      },
      "source": [
        "---\n",
        "# Tutorial Objectives\n",
        "\n",
        "*Estimated timing of tutorial: 1 hour, 35 minutes*\n",
        "\n",
        "During today, we will learn the basics of linear algebra, focusing on the topics that underlie the material on future days in the course. In this tutorial, we focus on matrices: their definition, their properties & operations, and especially on a geometrical intuition of them. \n",
        "\n",
        "By the end of this tutorial, you will be able to :\n",
        "*  Perform matrix multiplication by hand\n",
        "*  Define what eigenvalues/eigenvectors are\n",
        "\n",
        "\n"
      ]
    },
    {
      "cell_type": "markdown",
      "metadata": {
        "execution": {},
        "id": "52tZ3wq25Uh5"
      },
      "source": [
        "**Code Credit:**\n",
        "\n",
        "Some elements of this problem set are from or inspired by https://openedx.seas.gwu.edu/courses/course-v1:GW+EngComp4+2019/about. In particular, we are using their `plot_linear_transformation` and `plot_linear_transformations` functions.\n",
        "\n",
        "**License**:\n",
        "\n",
        "Code under BSD 3-Clause License © 2019 Lorena A. Barba, Tingyu Wang. THIS SOFTWARE IS PROVIDED BY THE COPYRIGHT HOLDERS AND CONTRIBUTORS \"AS IS\" AND ANY EXPRESS OR IMPLIED WARRANTIES, INCLUDING, BUT NOT LIMITED TO, THE IMPLIED WARRANTIES OF MERCHANTABILITY AND FITNESS FOR A PARTICULAR PURPOSE ARE DISCLAIMED. IN NO EVENT SHALL THE COPYRIGHT HOLDER OR CONTRIBUTORS BE LIABLE FOR ANY DIRECT, INDIRECT, INCIDENTAL, SPECIAL, EXEMPLARY, OR CONSEQUENTIAL DAMAGES (INCLUDING, BUT NOT LIMITED TO, PROCUREMENT OF SUBSTITUTE GOODS OR SERVICES; LOSS OF USE, DATA, OR PROFITS; OR BUSINESS INTERRUPTION) HOWEVER CAUSED AND ON ANY THEORY OF LIABILITY, WHETHER IN CONTRACT, STRICT LIABILITY, OR TORT (INCLUDING NEGLIGENCE OR OTHERWISE) ARISING IN ANY WAY OUT OF THE USE OF THIS SOFTWARE, EVEN IF ADVISED OF THE POSSIBILITY OF SUCH DAMAGE."
      ]
    },
    {
      "cell_type": "markdown",
      "metadata": {
        "execution": {},
        "id": "MxvV5Y6J5Uh6"
      },
      "source": [
        "---\n",
        "# Setup"
      ]
    },
    {
      "cell_type": "code",
      "execution_count": 4,
      "metadata": {
        "execution": {},
        "id": "aPFO7-Y05Uh6"
      },
      "outputs": [],
      "source": [
        "# Imports\n",
        "\n",
        "import numpy as np\n",
        "import matplotlib.pyplot as plt"
      ]
    },
    {
      "cell_type": "code",
      "execution_count": 5,
      "metadata": {
        "cellView": "form",
        "execution": {},
        "id": "ORj9QlZf5Uh7"
      },
      "outputs": [],
      "source": [
        "# @title Figure settings\n",
        "import ipywidgets as widgets  # interactive display\n",
        "from ipywidgets import fixed\n",
        "%config InlineBackend.figure_format = 'retina'\n",
        "plt.style.use(\"https://raw.githubusercontent.com/NeuromatchAcademy/content-creation/main/nma.mplstyle\")"
      ]
    },
    {
      "cell_type": "code",
      "execution_count": 6,
      "metadata": {
        "cellView": "form",
        "execution": {},
        "id": "aDJRQQXs5Uh8"
      },
      "outputs": [],
      "source": [
        "# @title Plotting functions\n",
        "import numpy\n",
        "from numpy.linalg import inv, eig\n",
        "from math import ceil\n",
        "from matplotlib import pyplot, ticker, get_backend, rc\n",
        "from mpl_toolkits.mplot3d import Axes3D\n",
        "from itertools import cycle\n",
        "\n",
        "_int_backends = ['GTK3Agg', 'GTK3Cairo', 'MacOSX', 'nbAgg',\n",
        "                 'Qt4Agg', 'Qt4Cairo', 'Qt5Agg', 'Qt5Cairo',\n",
        "                 'TkAgg', 'TkCairo', 'WebAgg', 'WX', 'WXAgg', 'WXCairo']\n",
        "_backend = get_backend()   # get current backend name\n",
        "\n",
        "# shrink figsize and fontsize when using %matplotlib notebook\n",
        "if _backend in _int_backends:\n",
        "  fontsize = 4\n",
        "  fig_scale = 0.75\n",
        "else:\n",
        "  fontsize = 5\n",
        "  fig_scale = 1\n",
        "\n",
        "grey = '#808080'\n",
        "gold = '#cab18c'        # x-axis grid\n",
        "lightblue = '#0096d6'   # y-axis grid\n",
        "green = '#008367'       # x-axis basis vector\n",
        "red = '#E31937'         # y-axis basis vector\n",
        "darkblue = '#004065'\n",
        "\n",
        "pink, yellow, orange, purple, brown = '#ef7b9d', '#fbd349', '#ffa500', '#a35cff', '#731d1d'\n",
        "\n",
        "quiver_params = {'angles': 'xy',\n",
        "                 'scale_units': 'xy',\n",
        "                 'scale': 1,\n",
        "                 'width': 0.012}\n",
        "\n",
        "grid_params = {'linewidth': 0.5,\n",
        "               'alpha': 0.8}\n",
        "\n",
        "def set_rc(func):\n",
        "  def wrapper(*args, **kwargs):\n",
        "    rc('font', family='serif', size=fontsize)\n",
        "    rc('figure', dpi=200)\n",
        "    rc('axes', axisbelow=True, titlesize=5)\n",
        "    rc('lines', linewidth=1)\n",
        "    func(*args, **kwargs)\n",
        "  return wrapper\n",
        "\n",
        "@set_rc\n",
        "def plot_vector(vectors, tails=None):\n",
        "  ''' Draw 2d vectors based on the values of the vectors and the position of their tails.\n",
        "\n",
        "  Parameters\n",
        "  ----------\n",
        "  vectors : list.\n",
        "    List of 2-element array-like structures, each represents a 2d vector.\n",
        "\n",
        "  tails : list, optional.\n",
        "    List of 2-element array-like structures, each represents the coordinates of the tail\n",
        "    of the corresponding vector in vectors. If None (default), all tails are set at the\n",
        "    origin (0,0). If len(tails) is 1, all tails are set at the same position. Otherwise,\n",
        "    vectors and tails must have the same length.\n",
        "\n",
        "  Examples\n",
        "  --------\n",
        "  >>> v = [(1, 3), (3, 3), (4, 6)]\n",
        "  >>> plot_vector(v)      # draw 3 vectors with their tails at origin\n",
        "  >>> t = [numpy.array((2, 2))]\n",
        "  >>> plot_vector(v, t)   # draw 3 vectors with their tails at (2,2)\n",
        "  >>> t = [[3, 2], [-1, -2], [3, 5]]\n",
        "  >>> plot_vector(v, t)   # draw 3 vectors with 3 different tails\n",
        "\n",
        "  '''\n",
        "  vectors = numpy.array(vectors)\n",
        "  assert vectors.shape[1] == 2, \"Each vector should have 2 elements.\"\n",
        "  if tails is not None:\n",
        "    tails = numpy.array(tails)\n",
        "    assert tails.shape[1] == 2, \"Each tail should have 2 elements.\"\n",
        "  else:\n",
        "    tails = numpy.zeros_like(vectors)\n",
        "\n",
        "  # tile vectors or tails array if needed\n",
        "  nvectors = vectors.shape[0]\n",
        "  ntails = tails.shape[0]\n",
        "  if nvectors == 1 and ntails > 1:\n",
        "    vectors = numpy.tile(vectors, (ntails, 1))\n",
        "  elif ntails == 1 and nvectors > 1:\n",
        "    tails = numpy.tile(tails, (nvectors, 1))\n",
        "  else:\n",
        "    assert tails.shape == vectors.shape, \"vectors and tail must have a same shape\"\n",
        "\n",
        "  # calculate xlimit & ylimit\n",
        "  heads = tails + vectors\n",
        "  limit = numpy.max(numpy.abs(numpy.hstack((tails, heads))))\n",
        "  limit = numpy.ceil(limit * 1.2)   # add some margins\n",
        "\n",
        "  figsize = numpy.array([2,2]) * fig_scale\n",
        "  figure, axis = pyplot.subplots(figsize=figsize)\n",
        "  axis.quiver(tails[:,0], tails[:,1], vectors[:,0], vectors[:,1], color=darkblue,\n",
        "                  angles='xy', scale_units='xy', scale=1)\n",
        "  axis.set_xlim([-limit, limit])\n",
        "  axis.set_ylim([-limit, limit])\n",
        "  axis.set_aspect('equal')\n",
        "\n",
        "  # if xticks and yticks of grid do not match, choose the finer one\n",
        "  xticks = axis.get_xticks()\n",
        "  yticks = axis.get_yticks()\n",
        "  dx = xticks[1] - xticks[0]\n",
        "  dy = yticks[1] - yticks[0]\n",
        "  base = max(int(min(dx, dy)), 1)   # grid interval is always an integer\n",
        "  loc = ticker.MultipleLocator(base=base)\n",
        "  axis.xaxis.set_major_locator(loc)\n",
        "  axis.yaxis.set_major_locator(loc)\n",
        "  axis.grid(True, **grid_params)\n",
        "\n",
        "  # show x-y axis in the center, hide frames\n",
        "  axis.spines['left'].set_position('center')\n",
        "  axis.spines['bottom'].set_position('center')\n",
        "  axis.spines['right'].set_color('none')\n",
        "  axis.spines['top'].set_color('none')\n",
        "\n",
        "@set_rc\n",
        "def plot_transformation_helper(axis, matrix, *vectors, unit_vector=True, unit_circle=False, title=None):\n",
        "  \"\"\" A helper function to plot the linear transformation defined by a 2x2 matrix.\n",
        "\n",
        "  Parameters\n",
        "  ----------\n",
        "  axis : class matplotlib.axes.Axes.\n",
        "    The axes to plot on.\n",
        "\n",
        "  matrix : class numpy.ndarray.\n",
        "    The 2x2 matrix to visualize.\n",
        "\n",
        "  *vectors : class numpy.ndarray.\n",
        "    The vector(s) to plot along with the linear transformation. Each array denotes a vector's\n",
        "    coordinates before the transformation and must have a shape of (2,). Accept any number of vectors.\n",
        "\n",
        "  unit_vector : bool, optional.\n",
        "    Whether to plot unit vectors of the standard basis, default to True.\n",
        "\n",
        "  unit_circle: bool, optional.\n",
        "    Whether to plot unit circle, default to False.\n",
        "\n",
        "  title: str, optional.\n",
        "    Title of the plot.\n",
        "\n",
        "  \"\"\"\n",
        "  assert matrix.shape == (2,2), \"the input matrix must have a shape of (2,2)\"\n",
        "  grid_range = 20\n",
        "  x = numpy.arange(-grid_range, grid_range+1)\n",
        "  X_, Y_ = numpy.meshgrid(x,x)\n",
        "  I = matrix[:,0]\n",
        "  J = matrix[:,1]\n",
        "  X = I[0]*X_ + J[0]*Y_\n",
        "  Y = I[1]*X_ + J[1]*Y_\n",
        "  origin = numpy.zeros(1)\n",
        "\n",
        "  # draw grid lines\n",
        "  for i in range(x.size):\n",
        "    axis.plot(X[i,:], Y[i,:], c=gold, **grid_params)\n",
        "    axis.plot(X[:,i], Y[:,i], c=lightblue, **grid_params)\n",
        "\n",
        "  # draw (transformed) unit vectors\n",
        "  if unit_vector:\n",
        "    axis.quiver(origin, origin, [I[0]], [I[1]], color=green, **quiver_params)\n",
        "    axis.quiver(origin, origin, [J[0]], [J[1]], color=red, **quiver_params)\n",
        "\n",
        "  # draw optional vectors\n",
        "  color_cycle = cycle([pink, darkblue, orange, purple, brown])\n",
        "  if vectors:\n",
        "    for vector in vectors:\n",
        "      color = next(color_cycle)\n",
        "      vector_ = matrix @ vector.reshape(-1,1)\n",
        "      axis.quiver(origin, origin, [vector_[0]], [vector_[1]], color=color, **quiver_params)\n",
        "\n",
        "  # draw optional unit circle\n",
        "  if unit_circle:\n",
        "    alpha =  numpy.linspace(0, 2*numpy.pi, 41)\n",
        "    circle = numpy.vstack((numpy.cos(alpha), numpy.sin(alpha)))\n",
        "    circle_trans = matrix @ circle\n",
        "    axis.plot(circle_trans[0], circle_trans[1], color=red, lw=0.8)\n",
        "\n",
        "  # hide frames, set xlimit & ylimit, set title\n",
        "  limit = 4\n",
        "  axis.spines['left'].set_position('center')\n",
        "  axis.spines['bottom'].set_position('center')\n",
        "  axis.spines['left'].set_linewidth(0.3)\n",
        "  axis.spines['bottom'].set_linewidth(0.3)\n",
        "  axis.spines['right'].set_color('none')\n",
        "  axis.spines['top'].set_color('none')\n",
        "  axis.set_xlim([-limit, limit])\n",
        "  axis.set_ylim([-limit, limit])\n",
        "  if title is not None:\n",
        "    axis.set_title(title)\n",
        "\n",
        "@set_rc\n",
        "def plot_linear_transformation(matrix, *vectors, name = None, unit_vector=True, unit_circle=False):\n",
        "  \"\"\" Plot the linear transformation defined by a 2x2 matrix using the helper\n",
        "  function plot_transformation_helper(). It will create 2 subplots to visualize some\n",
        "  vectors before and after the transformation.\n",
        "\n",
        "  Parameters\n",
        "  ----------\n",
        "  matrix : class numpy.ndarray.\n",
        "    The 2x2 matrix to visualize.\n",
        "\n",
        "  *vectors : class numpy.ndarray.\n",
        "    The vector(s) to plot along with the linear transformation. Each array denotes a vector's\n",
        "    coordinates before the transformation and must have a shape of (2,). Accept any number of vectors.\n",
        "\n",
        "  unit_vector : bool, optional.\n",
        "    Whether to plot unit vectors of the standard basis, default to True.\n",
        "\n",
        "  unit_circle: bool, optional.\n",
        "    Whether to plot unit circle, default to False.\n",
        "\n",
        "  \"\"\"\n",
        "  figsize = numpy.array([4,2]) * fig_scale\n",
        "  figure, (axis1, axis2) = pyplot.subplots(1, 2, figsize=figsize)\n",
        "  plot_transformation_helper(axis1, numpy.identity(2), *vectors, unit_vector=unit_vector, unit_circle=unit_circle, title='Before transformation')\n",
        "  plot_transformation_helper(axis2, matrix, *vectors, unit_vector=unit_vector, unit_circle=unit_circle, title='After transformation')\n",
        "  if name is not None:\n",
        "    figure.suptitle(f'Population {name}')\n",
        "\n",
        "\n",
        "def plot_eig_vec_transform(W):\n",
        "  classic = 'k'\n",
        "  vec_names = ['a', 'b','c','d','e','f','g', 'h']\n",
        "\n",
        "  _, vecs = np.linalg.eig(W)\n",
        "  vecs = vecs.T\n",
        "\n",
        "  fig, axes = plt.subplots(1, 2, figsize=(2, 1))\n",
        "  colors = plt.rcParams['axes.prop_cycle'].by_key()['color']\n",
        "\n",
        "  for i in range(2):\n",
        "    axes[i].set(xlim=[-3.5, 3.5], ylim=[-3.5,3.5])\n",
        "    axes[i].axis('Off')\n",
        "    axes[i].plot([0, 0], [-3.5, 3.5], classic, alpha=.4)\n",
        "    axes[i].plot([-3.5, 3.5], [0, 0], classic, alpha=.4)\n",
        "\n",
        "  for i_vec, vec in enumerate(vecs):\n",
        "    axes[0].arrow(0, 0, vec[0], vec[1], head_width=.2, facecolor=colors[i_vec], edgecolor=colors[i_vec], length_includes_head=True)\n",
        "    axes[0].annotate(vec_names[i_vec], xy=(vec[0]+np.sign(vec[0])*.15, vec[1]+np.sign(vec[1])*.15), color=colors[i_vec])\n",
        "\n",
        "    transformed_vec = np.matmul(W, vec)\n",
        "    axes[1].arrow(0, 0, transformed_vec[0], transformed_vec[1], head_width=.2, facecolor=colors[i_vec], edgecolor=colors[i_vec], length_includes_head=True)\n",
        "    axes[1].annotate(vec_names[i_vec], xy=(transformed_vec[0]+np.sign(transformed_vec[0])*.15, transformed_vec[1]+np.sign(transformed_vec[1])*.15), color=colors[i_vec])\n",
        "\n",
        "  axes[0].set_title('Before')\n",
        "  axes[1].set_title('After')"
      ]
    },
    {
      "cell_type": "markdown",
      "metadata": {
        "execution": {},
        "id": "4SyrSaXl5UiF"
      },
      "source": [
        "For further information, this video covers eigenvalues and eigenvectors: https://youtube.com/watch?v=l-c7ptT7znM\n",
        "\n",
        "Eigenvectors, $\\mathbf{v}$ of a matrix $\\mathbf{W}$ are vectors that, when multipled by the matrix, equal a scalar multiple of themselves. That scalar multiple is the corresponding eigenvalue, $\\lambda$.\n",
        "\n",
        "\\begin{equation}\n",
        "\\mathbf{W}\\mathbf{v} = \\lambda\\mathbf{v}\n",
        "\\end{equation}\n",
        "\n",
        "If we have one eigenvector for a matrix, we technically have an infinite amount: every vector along the span of that eigenvector is also an eigenvector. So, we often use the unit vector in that direction to summarize all the eigenvectors along that line. \n",
        "\n",
        "We can find the eigenvalues and eigenvectors of a matrix in numpy using `np.linalg.eig`."
      ]
    },
    {
      "cell_type": "markdown",
      "metadata": {
        "execution": {},
        "id": "F2Q_tqzF5UiF"
      },
      "source": [
        "## Think! 1: Identifying transformations from eigenvectors\n",
        "\n",
        "Earlier, we learned how to think about linear transformations in terms of where the standard basis vectors end up. We can also think about them in terms of eigenvectors. \n",
        "\n",
        "Just by looking at eigenvectors before and after a transformation, can you describe what the transformation is in words? Try for each of the two plots below.\n",
        "\n",
        "Note that I show an eigenvector for every eigenvalue. The x/y limits do not change in before vs after (so eigenvectors are showed scaled by the eigenvalues).\n",
        "\n",
        "Here are some transformation words to jog your memory and guide discussion: contraction, expansion, horizontal vs vertical, projection onto an axis, reflection, and rotation."
      ]
    },
    {
      "cell_type": "code",
      "execution_count": 7,
      "metadata": {
        "cellView": "form",
        "colab": {
          "base_uri": "https://localhost:8080/",
          "height": 70
        },
        "execution": {},
        "id": "XciXXe7e5UiG",
        "outputId": "4b44ff66-5439-489e-f32f-f2528989e79a"
      },
      "outputs": [
        {
          "data": {
            "image/png": "[encoded data removed]",
            "text/plain": [
              "<Figure size 144x72 with 2 Axes>"
            ]
          },
          "metadata": {
            "image/png": {
              "height": 53,
              "width": 129
            },
            "needs_background": "light"
          },
          "output_type": "display_data"
        }
      ],
      "source": [
        "# @title\n",
        "# @markdown Execute this cell to visualize vectors\n",
        "\n",
        "W = np.array([[3, 0], [0, 1]])\n",
        "plot_eig_vec_transform(W)"
      ]
    },
    {
      "cell_type": "code",
      "execution_count": 8,
      "metadata": {
        "cellView": "form",
        "colab": {
          "base_uri": "https://localhost:8080/",
          "height": 70
        },
        "execution": {},
        "id": "cWpaty7J5UiH",
        "outputId": "a8fe8fd1-c575-4abe-b752-268cfa310aa8"
      },
      "outputs": [
        {
          "data": {
            "image/png": "[encoded data removed]",
            "text/plain": [
              "<Figure size 144x72 with 2 Axes>"
            ]
          },
          "metadata": {
            "image/png": {
              "height": 53,
              "width": 129
            },
            "needs_background": "light"
          },
          "output_type": "display_data"
        }
      ],
      "source": [
        "# @title\n",
        "# @markdown Execute this cell to visualize vectors\n",
        "\n",
        "W = np.array([[0, 1], [1, 0]])\n",
        "plot_eig_vec_transform(W)"
      ]
    },
    {
      "cell_type": "markdown",
      "metadata": {
        "execution": {},
        "id": "JqAQ2Inw5UiH"
      },
      "source": [
        "[*Click for solution*](https://github.com/NeuromatchAcademy/precourse/blob/main/tutorials/W0D3_LinearAlgebra/solutions/W0D3_Tutorial2_Solution_f946adb3.py)\n",
        "\n"
      ]
    },
    {
      "cell_type": "markdown",
      "metadata": {
        "execution": {},
        "id": "5w7nt-EF5UiH"
      },
      "source": [
        "As we saw above, looking at how just the eigenvectors change after a transformation can be very informative about what that transformation was. "
      ]
    },
    {
      "cell_type": "markdown",
      "metadata": {
        "execution": {},
        "id": "FHcs4kgF5UiJ"
      },
      "source": [
        "---\n",
        "# Summary\n",
        "\n",
        "\n",
        "In this tutorial, you have learned how to think about matrices from the perspective of solving a system of equations and as a linear transformation of space. You have learned:\n",
        "- What eigenvalues/eigenvectors are and why they might be useful\n",
        "\n",
        "We will be using this knowledge in many of the days in the course."
      ]
    }
  ],
  "metadata": {
    "colab": {
      "collapsed_sections": [],
      "name": "W2D2_Tutorial3",
      "provenance": [],
      "toc_visible": true
    },
    "kernel": {
      "display_name": "Python 3",
      "language": "python",
      "name": "python3"
    },
    "kernelspec": {
      "display_name": "Python 3",
      "name": "python3"
    },
    "language_info": {
      "codemirror_mode": {
        "name": "ipython",
        "version": 3
      },
      "file_extension": ".py",
      "mimetype": "text/x-python",
      "name": "python",
      "nbconvert_exporter": "python",
      "pygments_lexer": "ipython3",
      "version": "3.7.12"
    }
  },
  "nbformat": 4,
  "nbformat_minor": 0
}
